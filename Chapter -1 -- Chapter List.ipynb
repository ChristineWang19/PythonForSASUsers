{
 "cells": [
  {
   "cell_type": "markdown",
   "metadata": {},
   "source": [
    "# Python for SAS Users"
   ]
  },
  {
   "cell_type": "markdown",
   "metadata": {},
   "source": [
    "## Chapter orginization\n",
    "\n",
    "These chapters are meant to be read in order as they start with foundational concepts used to build up more complex ideas.  The chapters are:\n",
    "\n",
    "<a href=\"http://nbviewer.jupyter.org/github/RandyBetancourt/PythonForSASUsers/blob/master/Chapter%200%20--%20Frontispiece.ipynb\">0. Motivation </a> \n",
    "\n",
    "<a href=\"http://nbviewer.jupyter.org/github/RandyBetancourt/PythonForSASUsers/blob/master/Chapter%201%20--%20Introduction.ipynb\">1.  Introduction (This chapter) </a>\n",
    "   \n",
    "<a href=\"http://nbviewer.jupyter.org/github/RandyBetancourt/PythonForSASUsers/blob/master/Chapter%202%20--%20Data%20Structures.ipynb\">2. Data Sctructures </a>\n",
    "\n",
    "&nbsp;&nbsp;&nbsp;&nbsp;&nbsp;<a href=\"http://nbviewer.jupyter.org/github/RandyBetancourt/PythonForSASUsers/blob/master/Chapter%202%20--%20Data%20Structures.ipynb#list\" a>list </a>\n",
    "\n",
    "&nbsp;&nbsp;&nbsp;&nbsp;&nbsp;<a href=\"http://nbviewer.jupyter.org/github/RandyBetancourt/PythonForSASUsers/blob/master/Chapter%202%20--%20Data%20Structures.ipynb#Indexing\" a>indexing </a>\n",
    "\n",
    "&nbsp;&nbsp;&nbsp;&nbsp;&nbsp;<a href=\"http://nbviewer.jupyter.org/github/RandyBetancourt/PythonForSASUsers/blob/master/Chapter%202%20--%20Data%20Structures.ipynb#tuple\" a>tuple </a>\n",
    "\n",
    "&nbsp;&nbsp;&nbsp;&nbsp;&nbsp;<a href=\"http://nbviewer.jupyter.org/github/RandyBetancourt/PythonForSASUsers/blob/master/Chapter%202%20--%20Data%20Structures.ipynb#dictionary\" a>dictionary </a>\n",
    "\n",
    "&nbsp;&nbsp;&nbsp;&nbsp;&nbsp;<a href=\"http://nbviewer.jupyter.org/github/RandyBetancourt/PythonForSASUsers/blob/master/Chapter%202%20--%20Data%20Structures.ipynb#sequences\" a>sequences </a>\n",
    "\n",
    "&nbsp;&nbsp;&nbsp;&nbsp;&nbsp;<a href=\"http://nbviewer.jupyter.org/github/RandyBetancourt/PythonForSASUsers/blob/master/Chapter%202%20--%20Data%20Structures.ipynb#set\" a>set </a>\n",
    "\n",
    "&nbsp;&nbsp;&nbsp;&nbsp;&nbsp;<a href=\"http://nbviewer.jupyter.org/github/RandyBetancourt/PythonForSASUsers/blob/master/Chapter%202%20--%20Data%20Structures.ipynb#Resources\" a>Resources</a>\n",
    "    \n",
    "<a href=\"https://github.com/RandyBetancourt/PythonForSASUsers/blob/master/Chapter%203%20%20--%20Data%20Types%20and%20Formatting.ipynb\">3. Data Types and Formatting </a>\n",
    "\n",
    "<a href=\"https://github.com/RandyBetancourt/PythonForSASUsers/blob/master/Chapter%204%20--%20Pandas%2C%20Part%201.ipynb\">4.  Pandas, Part 1 </a>\n",
    "\n",
    "&nbsp;&nbsp;&nbsp;&nbsp;&nbsp;<a href=\"http://nbviewer.jupyter.org/github/RandyBetancourt/PythonForSASUsers/blob/master/Chapter%204%20--%20Pandas%2C%20Part%201.ipynb#DataFrames\"> DataFrames </a>\n",
    "\n",
    "&nbsp;&nbsp;&nbsp;&nbsp;&nbsp;<a href=\"http://nbviewer.jupyter.org/github/RandyBetancourt/PythonForSASUsers/blob/master/Chapter%204%20--%20Pandas%2C%20Part%201.ipynb#pd.read_csv()\"> Read .csv files </a>\n",
    "\n",
    "&nbsp;&nbsp;&nbsp;&nbsp;&nbsp;<a href=\"http://nbviewer.jupyter.org/github/RandyBetancourt/PythonForSASUsers/blob/master/Chapter%204%20--%20Pandas%2C%20Part%201.ipynb#Insepction\"> Inspection </a>\n",
    "\n",
    "&nbsp;&nbsp;&nbsp;&nbsp;&nbsp;<a href=\"http://nbviewer.jupyter.org/github/RandyBetancourt/PythonForSASUsers/blob/master/Chapter%204%20--%20Pandas%2C%20Part%201.ipynb#Handling-Missing-Data\"> Handling Missing Data </a>\n",
    "\n",
    "&nbsp;&nbsp;&nbsp;&nbsp;&nbsp;<a href=\"http://nbviewer.jupyter.org/github/RandyBetancourt/PythonForSASUsers/blob/master/Chapter%204%20--%20Pandas%2C%20Part%201.ipynb#Missing-Value-Identification\"> Missing Data Detection</a>\n",
    "\n",
    "&nbsp;&nbsp;&nbsp;&nbsp;&nbsp;<a href=\"http://nbviewer.jupyter.org/github/RandyBetancourt/PythonForSASUsers/blob/master/Chapter%204%20--%20Pandas%2C%20Part%201.ipynb#Missing-Value-Replacement\"> Missing Value Replacement </a>\n",
    "\n",
    "&nbsp;&nbsp;&nbsp;&nbsp;&nbsp;<a href=\"http://nbviewer.jupyter.org/github/RandyBetancourt/PythonForSASUsers/blob/master/Chapter%204%20--%20Pandas%2C%20Part%201.ipynb#Resources\"> Resources </a>\n",
    "   \n",
    "<a href=\"https://github.com/RandyBetancourt/PythonForSASUsers/blob/master/Chapter%204%20--%20Pandas%2C%20Part%201.ipynb\">5. Pandas, Part 2 </a>\n",
    "\n",
    "        a. Slicing \n",
    "        b. Dicing\n",
    "        c. Subsetting\n",
    "        \n",
    "<a href=\"http://nbviewer.jupyter.org/github/RandyBetancourt/PythonForSASUsers/blob/master/Chapter%206%20--%20Understanding%20Indexes.ipyn\">6.  Understanding Indexes, Part 1 </a>\n",
    "    \n",
    "&nbsp;&nbsp;&nbsp;&nbsp;&nbsp;<a href=\"http://nbviewer.jupyter.org/github/RandyBetancourt/PythonForSASUsers/blob/master/Chapter%206%20--%20Understanding%20Indexes.ipynb#Indicies\"> Indicies </a>\n",
    "\n",
    "&nbsp;&nbsp;&nbsp;&nbsp;&nbsp;<a href=\"http://nbviewer.jupyter.org/github/RandyBetancourt/PythonForSASUsers/blob/master/Chapter%206%20--%20Understanding%20Indexes.ipynb#.iloc-Indexer\"> .iloc indexer </a>\n",
    "\n",
    "&nbsp;&nbsp;&nbsp;&nbsp;&nbsp;<a href=\"http://nbviewer.jupyter.org/github/RandyBetancourt/PythonForSASUsers/blob/master/Chapter%206%20--%20Understanding%20Indexes.ipynb#.loc-Indexer\"> .loc indexer </a>\n",
    "\n",
    "&nbsp;&nbsp;&nbsp;&nbsp;&nbsp;<a href=\"http://nbviewer.jupyter.org/github/RandyBetancourt/PythonForSASUsers/blob/master/Chapter%206%20--%20Understanding%20Indexes.ipynb#Mixing-.loc-Indexer-with-Boolean-Operators\"> Mixing .loc indexer with Boolean Operations </a>\n",
    "\n",
    "&nbsp;&nbsp;&nbsp;&nbsp;&nbsp;<a href=\"http://nbviewer.jupyter.org/github/RandyBetancourt/PythonForSASUsers/blob/master/Chapter%206%20--%20Understanding%20Indexes.ipynb#Altering-DataFrame-values-using-the-.loc-indexer\"> Altering DataFrame values using the .loc indexer </a>\n",
    "\n",
    "&nbsp;&nbsp;&nbsp;&nbsp;&nbsp;<a href=\"http://nbviewer.jupyter.org/github/RandyBetancourt/PythonForSASUsers/blob/master/Chapter%206%20--%20Understanding%20Indexes.ipynb#.ix-Indexer\"> .ix indexer </a>\n",
    "\n",
    "&nbsp;&nbsp;&nbsp;&nbsp;&nbsp;<a href=\"http://nbviewer.jupyter.org/github/RandyBetancourt/PythonForSASUsers/blob/master/Chapter%206%20--%20Understanding%20Indexes.ipynb#Indexing-Issues\"> Indexing Issues </a>\n",
    "\n",
    "&nbsp;&nbsp;&nbsp;&nbsp;&nbsp;<a href=\"http://nbviewer.jupyter.org/github/RandyBetancourt/PythonForSASUsers/blob/master/Chapter%206%20--%20Understanding%20Indexes.ipynb#Resources\"> Resources </a>\n",
    " \n",
    "    7.  Understanding Indexes, Part 2\n",
    "        a. Hierarchical Indexing\n",
    "        b. 'Flattening, 'Roll-ups', and Pivots\n",
    "    8.  Date, Time, and Timedelta Objects\n",
    "    9.  Panda Time Series and Date Handling\n",
    "    10. Flow Control\n",
    "    12. Panda Readers for Data Input\n",
    "    12. Data Analysis"
   ]
  },
  {
   "cell_type": "code",
   "execution_count": null,
   "metadata": {
    "collapsed": true
   },
   "outputs": [],
   "source": []
  }
 ],
 "metadata": {
  "anaconda-cloud": {},
  "kernelspec": {
   "display_name": "Python [Root]",
   "language": "python",
   "name": "Python [Root]"
  },
  "language_info": {
   "codemirror_mode": {
    "name": "ipython",
    "version": 3
   },
   "file_extension": ".py",
   "mimetype": "text/x-python",
   "name": "python",
   "nbconvert_exporter": "python",
   "pygments_lexer": "ipython3",
   "version": "3.5.2"
  }
 },
 "nbformat": 4,
 "nbformat_minor": 0
}
