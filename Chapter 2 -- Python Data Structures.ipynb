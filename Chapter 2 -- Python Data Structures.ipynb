{
 "cells": [
  {
   "cell_type": "markdown",
   "metadata": {},
   "source": [
    "# Chapter 2 -- Python Data Structures"
   ]
  },
  {
   "cell_type": "markdown",
   "metadata": {},
   "source": [
    "In this chapter, we will touch briefly on Python's data structures.  As the name suggests, data structures are containers for data and other objects.  We introduce these objects since they form the building-blocks for other structures discussed in subsequent chapters."
   ]
  },
  {
   "cell_type": "markdown",
   "metadata": {},
   "source": [
    "Python has four main data structures.  There are:\n",
    "    \n",
    "    1. list\n",
    "    2. tuple\n",
    "    3. set\n",
    "    4. dictionary"
   ]
  },
  {
   "cell_type": "markdown",
   "metadata": {},
   "source": [
    "### List\n",
    "\n",
    "A list contains an ordered collection of items.  You determine the order.  In Python, items in a list are separarated by commas and enclosed in square brackets.  Lists are mutable, meaning you can add,  remove, or alter items.  "
   ]
  },
  {
   "cell_type": "code",
   "execution_count": 2,
   "metadata": {
    "collapsed": false
   },
   "outputs": [
    {
     "name": "stdout",
     "output_type": "stream",
     "text": [
      "There are 5 items in \"a_list\"\n"
     ]
    }
   ],
   "source": [
    "# defining a list\n",
    "\n",
    "a_list = ['ale', 'lager', 'stout', 'hefeweizen', 'stout']\n",
    "print('There are', len(a_list), 'items in \"a_list\"')"
   ]
  },
  {
   "cell_type": "markdown",
   "metadata": {},
   "source": [
    "In the example below, the parameter:\n",
    "\n",
    "    end=' '\n",
    "\n",
    "for the print() method suppresses the default new-line character (CR/LF)."
   ]
  },
  {
   "cell_type": "code",
   "execution_count": 3,
   "metadata": {
    "collapsed": false
   },
   "outputs": [
    {
     "name": "stdout",
     "output_type": "stream",
     "text": [
      "A list of beers include:\n",
      "ale lager stout hefeweizen stout "
     ]
    }
   ],
   "source": [
    "# print the list\n",
    "\n",
    "print(\"A list of beers include:\")\n",
    "for i in a_list:\n",
    "    print(i, end=' ')"
   ]
  },
  {
   "cell_type": "markdown",
   "metadata": {},
   "source": [
    "### Indexing\n",
    "\n",
    "Python provides indexing methods for a number of objects, including lists.  SAS has a similiar construct \\_n\\_ for the Data Step.  Both indexing methods act as keys providing access to an individual item (or set of items).  In Python's case, the default start index position is 0, and for SAS it is 1.\n",
    "\n",
    "The SAS code example in the cell below is an imperfect analogy for a Python list, since the SAS logic uses a variable to hold the beer_type values.  Nonetheless, each program illustrates access to an 'item' value by an indexing method.\n",
    "\n",
    "We will encounter additional Python indexing methods in subsequent chapters."
   ]
  },
  {
   "cell_type": "code",
   "execution_count": 4,
   "metadata": {
    "collapsed": false
   },
   "outputs": [
    {
     "name": "stdout",
     "output_type": "stream",
     "text": [
      "Value for beer type is: ale\n"
     ]
    }
   ],
   "source": [
    "# Retrieve list item by index position.\n",
    "\n",
    "print('Value for beer type is:', a_list[0])"
   ]
  },
  {
   "cell_type": "markdown",
   "metadata": {},
   "source": [
    "````\n",
    "    4         data beers;\n",
    "    5         length beer_type $ 10;\n",
    "    6         input beer_type $ @@;\n",
    "    7         \n",
    "    8         if _n_ = 1 then\n",
    "    9            put 'Value for beer type is: ' beer_type;\n",
    "    10        \n",
    "    11        list;\n",
    "    12        datalines;\n",
    "\n",
    "    Value for beer type is: ale\n",
    "    RULE:     ----+----1----+----2----+----3----+----4----+----5----+----6----+----7----+----8----+-\n",
    "    13        ale lager stout hefeweizen stout \n",
    "````    "
   ]
  },
  {
   "cell_type": "markdown",
   "metadata": {},
   "source": [
    "The next two examples illustrate the append() and sort() methods for a list.  They produce no visible output, so we use the print() method to view the results."
   ]
  },
  {
   "cell_type": "code",
   "execution_count": 5,
   "metadata": {
    "collapsed": false
   },
   "outputs": [],
   "source": [
    "# List append method()\n",
    "\n",
    "a_list.append('malt')"
   ]
  },
  {
   "cell_type": "code",
   "execution_count": 6,
   "metadata": {
    "collapsed": false
   },
   "outputs": [],
   "source": [
    "# list sort method()\n",
    "\n",
    "a_list.sort(reverse=True)"
   ]
  },
  {
   "cell_type": "code",
   "execution_count": 7,
   "metadata": {
    "collapsed": false
   },
   "outputs": [
    {
     "name": "stdout",
     "output_type": "stream",
     "text": [
      "A list of beers include:\n",
      "stout stout malt lager hefeweizen ale "
     ]
    }
   ],
   "source": [
    "# print the amended list\n",
    "\n",
    "print(\"A list of beers include:\")\n",
    "for i in a_list:\n",
    "    print(i, end=' ')"
   ]
  },
  {
   "cell_type": "code",
   "execution_count": 8,
   "metadata": {
    "collapsed": false
   },
   "outputs": [
    {
     "name": "stdout",
     "output_type": "stream",
     "text": [
      "a_list count for stout is: 2\n"
     ]
    }
   ],
   "source": [
    "# list count method\n",
    "\n",
    "print('a_list count for stout is:', a_list.count('stout'))"
   ]
  },
  {
   "cell_type": "markdown",
   "metadata": {},
   "source": [
    "The example below illustrates Python's flexibility.  Since everything is an object, you can have a list containing other lists.  The built-in len() method is introduced to provide a method to count the number of items in the list."
   ]
  },
  {
   "cell_type": "code",
   "execution_count": 9,
   "metadata": {
    "collapsed": false
   },
   "outputs": [
    {
     "name": "stdout",
     "output_type": "stream",
     "text": [
      "['ales', 23, ['stout', 'stout', 'malt', 'lager', 'hefeweizen', 'ale']]\n",
      "Item count for b_list is: 3\n"
     ]
    }
   ],
   "source": [
    "# lists can contain different objects, including other lists\n",
    "\n",
    "b_list = ['ales', 23, a_list]\n",
    "print(b_list)\n",
    "print('Item count for b_list is:', len(b_list))"
   ]
  },
  {
   "cell_type": "markdown",
   "metadata": {},
   "source": [
    "### Tuple\n",
    "\n",
    "A tuple is similar to a list, but unlike lists, are immutable.   Tuples are defined by a list of comma-separated items inside a set of optional parentheses.  Ledgility of code demands their use, however!  \n",
    "\n",
    "A common use case for tuples is where Python statements or user-defined functions can assume that the items will not change, for example the names of the months."
   ]
  },
  {
   "cell_type": "code",
   "execution_count": 10,
   "metadata": {
    "collapsed": false
   },
   "outputs": [
    {
     "name": "stdout",
     "output_type": "stream",
     "text": [
      "The breakfast menu has: 5 items\n"
     ]
    }
   ],
   "source": [
    "# defining a tuple\n",
    "\n",
    "dishes = ('eggs', 'green ham', 'biscuits', 'grits', 'steak')\n",
    "print('The breakfast menu has:', len(dishes), 'items')"
   ]
  },
  {
   "cell_type": "code",
   "execution_count": 11,
   "metadata": {
    "collapsed": false
   },
   "outputs": [
    {
     "name": "stdout",
     "output_type": "stream",
     "text": [
      "pancakes cupcakes twinkies ('eggs', 'green ham', 'biscuits', 'grits', 'steak') "
     ]
    }
   ],
   "source": [
    "# defining another tuple\n",
    "\n",
    "more_dishes = ('pancakes', 'cupcakes', 'twinkies', dishes)\n",
    "for i in more_dishes:\n",
    "    print(i, end=' ')"
   ]
  },
  {
   "cell_type": "code",
   "execution_count": 12,
   "metadata": {
    "collapsed": false
   },
   "outputs": [
    {
     "data": {
      "text/plain": [
       "4"
      ]
     },
     "execution_count": 12,
     "metadata": {},
     "output_type": "execute_result"
    }
   ],
   "source": [
    "# the tuple within a tuple remains a tuple that is indexed\n",
    "\n",
    "len(more_dishes)"
   ]
  },
  {
   "cell_type": "markdown",
   "metadata": {},
   "source": [
    "The index operators behave similiarly for tuples and lists.  In the example below, you access the 4th item in the tuple specifying more_dishes[3].  For the second item in the fourth item, you specify more_dishes[3][1]."
   ]
  },
  {
   "cell_type": "code",
   "execution_count": 13,
   "metadata": {
    "collapsed": false
   },
   "outputs": [
    {
     "name": "stdout",
     "output_type": "stream",
     "text": [
      "green ham\n"
     ]
    }
   ],
   "source": [
    "# what is the 2nd item in the original tuple of dishes?  Python indexing starts at 0.\n",
    "\n",
    "print(more_dishes[3][1])"
   ]
  },
  {
   "cell_type": "code",
   "execution_count": 14,
   "metadata": {
    "collapsed": false
   },
   "outputs": [
    {
     "name": "stdout",
     "output_type": "stream",
     "text": [
      "The number of items in more_dishes is: 8\n"
     ]
    }
   ],
   "source": [
    "# get the number of items in the tuple: more_dishes. \n",
    "# Subtract 1 since the 'tuple-within-a-tuple' item is not counted.  more_dishes[3] is the start \n",
    "# position of the 'tuple-within-a-tuple'. \n",
    "\n",
    "print('The number of items in more_dishes is:', len(more_dishes)-1+len(more_dishes[3]))"
   ]
  },
  {
   "cell_type": "markdown",
   "metadata": {},
   "source": [
    "### Dictionary\n",
    "\n",
    "A dictionary provides a look-up method through key/value pairs.  Keys must be unique.  Keys must be immutable objects such as lists, however, values can be either mutable or unmutable objects.\n",
    "\n",
    "Key/value pairs are specified as:\n",
    "\n",
    "x = {key1: value1, key2: value2, key_n: value_n}\n",
    "\n",
    "\n",
    "            "
   ]
  },
  {
   "cell_type": "code",
   "execution_count": 15,
   "metadata": {
    "collapsed": false
   },
   "outputs": [
    {
     "name": "stdout",
     "output_type": "stream",
     "text": [
      "<class 'dict'>\n"
     ]
    }
   ],
   "source": [
    "# create a dictionary\n",
    "\n",
    "capital = {'Oregon' : 'Salem',\n",
    "           'Washington' : 'Olympia',\n",
    "           'California' : 'Sacrament',\n",
    "           'Nevada' : 'Carson City'\n",
    "          }\n",
    "print(type(capital))            "
   ]
  },
  {
   "cell_type": "code",
   "execution_count": 16,
   "metadata": {
    "collapsed": false
   },
   "outputs": [
    {
     "name": "stdout",
     "output_type": "stream",
     "text": [
      "The capital of Nevada is Carson City\n"
     ]
    }
   ],
   "source": [
    "# Print a value by key\n",
    "\n",
    "print('The capital of Nevada is', capital['Nevada'])"
   ]
  },
  {
   "cell_type": "code",
   "execution_count": 17,
   "metadata": {
    "collapsed": false
   },
   "outputs": [],
   "source": [
    "# adding a key/value pair\n",
    "\n",
    "capital['Colorado'] = 'Denver'"
   ]
  },
  {
   "cell_type": "code",
   "execution_count": 18,
   "metadata": {
    "collapsed": false
   },
   "outputs": [
    {
     "name": "stdout",
     "output_type": "stream",
     "text": [
      "Number of value/pairs in the dictionary capital is 5:\n"
     ]
    }
   ],
   "source": [
    "# printing key/value pairs.  String formatting is described further in Chapter 3.\n",
    "\n",
    "print('Number of value/pairs in the dictionary capital is {}:'.format(len(capital)))"
   ]
  },
  {
   "cell_type": "code",
   "execution_count": 19,
   "metadata": {
    "collapsed": true
   },
   "outputs": [],
   "source": [
    "# Delete a key/value pair by key \n",
    "del capital['California']"
   ]
  },
  {
   "cell_type": "markdown",
   "metadata": {},
   "source": [
    "## Sequences\n",
    "\n",
    "There are three basic sequence types; list, tuple, and range. Range is covered in Chapter 4. A nice feature for sequences is membership testing.  Using operators such as in, not in, and concatenation, we test for the presence or absences of values.  \n",
    "\n",
    "Implict in these examples are boolean values(True False) being returned.  Boolean operators are discussed in more detail in Chapter 3.\n",
    "\n",
    "The precedence order for sequence operations is found <a href=\"https://docs.python.org/3/library/stdtypes.html#sequence-types-list-tuple-range\">here.</a>"
   ]
  },
  {
   "cell_type": "code",
   "execution_count": 20,
   "metadata": {
    "collapsed": false
   },
   "outputs": [
    {
     "name": "stdout",
     "output_type": "stream",
     "text": [
      "found\n"
     ]
    }
   ],
   "source": [
    "# item membership in a list\n",
    "\n",
    "item = 'ale'\n",
    "if (item in a_list):\n",
    "    print('found')\n",
    "else:\n",
    "    print('not found')"
   ]
  },
  {
   "cell_type": "code",
   "execution_count": 21,
   "metadata": {
    "collapsed": false
   },
   "outputs": [
    {
     "name": "stdout",
     "output_type": "stream",
     "text": [
      "found\n"
     ]
    }
   ],
   "source": [
    "# item membership in a tuple using the and operator\n",
    "\n",
    "item1 = 'eggs' \n",
    "item2 = 'cupcakes'\n",
    "if (item1 and item2 in more_dishes):\n",
    "    print('found')\n",
    "else:\n",
    "    print('not found')"
   ]
  },
  {
   "cell_type": "code",
   "execution_count": 22,
   "metadata": {
    "collapsed": false
   },
   "outputs": [
    {
     "name": "stdout",
     "output_type": "stream",
     "text": [
      "The capital of Colorado is Denver\n",
      "The capital of Oregon is Salem\n",
      "The capital of Washington is Olympia\n",
      "The capital of Nevada is Carson City\n"
     ]
    }
   ],
   "source": [
    "# for loop to iterate over the key/value pairs\n",
    "\n",
    "for state, capital in capital.items():\n",
    "    print('The capital of {} is {}'.format(state, capital))"
   ]
  },
  {
   "cell_type": "code",
   "execution_count": 24,
   "metadata": {
    "collapsed": false
   },
   "outputs": [],
   "source": [
    "# membership test using in for dictionary\n",
    "\n",
    "if 'Nevada' in capital:\n",
    "    print(\"Nevada's capital:\", capital['Nevada'])"
   ]
  },
  {
   "cell_type": "code",
   "execution_count": 25,
   "metadata": {
    "collapsed": false
   },
   "outputs": [
    {
     "data": {
      "text/plain": [
       "True"
      ]
     },
     "execution_count": 25,
     "metadata": {},
     "output_type": "execute_result"
    }
   ],
   "source": [
    "# using not in for membership test\n",
    "\n",
    "'California' not in capital"
   ]
  },
  {
   "cell_type": "markdown",
   "metadata": {},
   "source": [
    "## Set\n",
    "\n",
    "A set object is an unordered collection of distinct objects. They are used for membership testing, removing duplicates from a sequence, and computing mathematical operations such as intersection, union, difference, and symmetric difference.  \n",
    "\n",
    "Another common use case is when the existence of an object is more important than order or obtaining a count of occurences of items. "
   ]
  },
  {
   "cell_type": "code",
   "execution_count": 26,
   "metadata": {
    "collapsed": false
   },
   "outputs": [
    {
     "data": {
      "text/plain": [
       "False"
      ]
     },
     "execution_count": 26,
     "metadata": {},
     "output_type": "execute_result"
    }
   ],
   "source": [
    "# membership test using in for set \n",
    "months1 = set(['January', 'February', 'March', 'April', 'May', 'June'])\n",
    "\n",
    "'Jan' in months1"
   ]
  },
  {
   "cell_type": "code",
   "execution_count": 27,
   "metadata": {
    "collapsed": false
   },
   "outputs": [],
   "source": [
    "# copy() method for sets\n",
    "\n",
    "months2 = months1.copy()"
   ]
  },
  {
   "cell_type": "code",
   "execution_count": 28,
   "metadata": {
    "collapsed": false
   },
   "outputs": [],
   "source": [
    "# remove() method for sets\n",
    "\n",
    "months1.remove('February')"
   ]
  },
  {
   "cell_type": "code",
   "execution_count": 29,
   "metadata": {
    "collapsed": false
   },
   "outputs": [],
   "source": [
    "# add() method for set\n",
    "\n",
    "months2.add('July')"
   ]
  },
  {
   "cell_type": "markdown",
   "metadata": {},
   "source": [
    "The three examples above do not produce any visible output.  The sets Month1 and Month2 are displayed below."
   ]
  },
  {
   "cell_type": "code",
   "execution_count": 30,
   "metadata": {
    "collapsed": false
   },
   "outputs": [
    {
     "name": "stdout",
     "output_type": "stream",
     "text": [
      "The set months1 contains: {'June', 'March', 'January', 'May', 'April'}\n",
      "The set months2 contains: {'July', 'June', 'March', 'February', 'January', 'May', 'April'}\n"
     ]
    }
   ],
   "source": [
    "# print() method for sets Month1 and Month2\n",
    "\n",
    "print('The set months1 contains:', months1)\n",
    "print('The set months2 contains:', months2)"
   ]
  },
  {
   "cell_type": "raw",
   "metadata": {},
   "source": [
    "Now we can find the intersection of the two sets..."
   ]
  },
  {
   "cell_type": "code",
   "execution_count": 31,
   "metadata": {
    "collapsed": false
   },
   "outputs": [
    {
     "data": {
      "text/plain": [
       "{'April', 'January', 'June', 'March', 'May'}"
      ]
     },
     "execution_count": 31,
     "metadata": {},
     "output_type": "execute_result"
    }
   ],
   "source": [
    "# find intersection of two sets\n",
    "\n",
    "months1 & months2"
   ]
  },
  {
   "cell_type": "markdown",
   "metadata": {},
   "source": [
    "...and test if the set months2 is a super-set of the set months1. "
   ]
  },
  {
   "cell_type": "code",
   "execution_count": 32,
   "metadata": {
    "collapsed": false
   },
   "outputs": [
    {
     "data": {
      "text/plain": [
       "True"
      ]
     },
     "execution_count": 32,
     "metadata": {},
     "output_type": "execute_result"
    }
   ],
   "source": [
    "# test if one set is a superset of another\n",
    "\n",
    "months2.issuperset(months1)"
   ]
  },
  {
   "cell_type": "code",
   "execution_count": null,
   "metadata": {
    "collapsed": true
   },
   "outputs": [],
   "source": []
  }
 ],
 "metadata": {
  "kernelspec": {
   "display_name": "Python [Root]",
   "language": "python",
   "name": "Python [Root]"
  },
  "language_info": {
   "codemirror_mode": {
    "name": "ipython",
    "version": 3
   },
   "file_extension": ".py",
   "mimetype": "text/x-python",
   "name": "python",
   "nbconvert_exporter": "python",
   "pygments_lexer": "ipython3",
   "version": "3.5.2"
  }
 },
 "nbformat": 4,
 "nbformat_minor": 0
}
