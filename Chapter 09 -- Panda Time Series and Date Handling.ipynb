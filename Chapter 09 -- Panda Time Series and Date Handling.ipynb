{
 "cells": [
  {
   "cell_type": "markdown",
   "metadata": {},
   "source": [
    "# Chapter 09 -- Panda Time Series and Date Handling--DRAFT"
   ]
  },
  {
   "cell_type": "markdown",
   "metadata": {},
   "source": [
    "## Topics Covered:\n",
    "\n",
    "<a href=\"http://nbviewer.jupyter.org/github/RandyBetancourt/PythonForSASUsers/blob/master/Chapter%2009%20--%20Panda%20Time%20Series%20and%20Date%20Handling\"> Creating and manipulating a fixed-frequency of datetime spans </a>\n",
    "\n",
    "Convert time series from one frequency to another\n",
    "\n",
    "Increment 'non-standard' datetimes intervals (e.g. business week)\n",
    "\n",
    "Time Series Walk-Through"
   ]
  },
  {
   "cell_type": "markdown",
   "metadata": {},
   "source": [
    "Chapter 8, <a href=\"http://nbviewer.jupyter.org/github/RandyBetancourt/PythonForSASUsers/blob/master/Chapter%2008%20--%20Python%20Date%2C%20Time%2C%20and%20%20Timedelta%20Objects.ipynb\"> Understanding Date Time and TimeDelta objects </a> provided a short introduction to Python's built-in datetime capabilities.  In this chapter we illustrate pandas time series and date handling.  \n",
    "\n"
   ]
  },
  {
   "cell_type": "code",
   "execution_count": 55,
   "metadata": {
    "collapsed": false
   },
   "outputs": [],
   "source": [
    "from datetime import date, time, datetime, timedelta\n",
    "import numpy as np\n",
    "import pandas as pd\n",
    "from pandas import Series, DataFrame, Index\n",
    "from IPython.display import Image"
   ]
  },
  {
   "cell_type": "markdown",
   "metadata": {},
   "source": [
    "  "
   ]
  },
  {
   "cell_type": "markdown",
   "metadata": {},
   "source": [
    " "
   ]
  },
  {
   "cell_type": "markdown",
   "metadata": {},
   "source": [
    " "
   ]
  },
  {
   "cell_type": "markdown",
   "metadata": {},
   "source": [
    "  "
   ]
  },
  {
   "cell_type": "markdown",
   "metadata": {},
   "source": [
    "## Creating and manipulating a fixed-frequency of date and time spans"
   ]
  },
  {
   "cell_type": "markdown",
   "metadata": {},
   "source": [
    "The pd.date_range() method generates a DateTime Index which is applied to a panda Series or DataFrame to provide datetime interval indexing.  We will see examples of its construction methods.  And later we will utilize indexers taking advange of the Date TimeIndex.  "
   ]
  },
  {
   "cell_type": "code",
   "execution_count": 11,
   "metadata": {
    "collapsed": false
   },
   "outputs": [],
   "source": [
    "rng = pd.date_range('1/1/2016', periods=90, freq='D')"
   ]
  },
  {
   "cell_type": "markdown",
   "metadata": {},
   "source": [
    "Print the first 10 dates in the DateTimeIndex"
   ]
  },
  {
   "cell_type": "code",
   "execution_count": 12,
   "metadata": {
    "collapsed": false
   },
   "outputs": [
    {
     "data": {
      "text/plain": [
       "DatetimeIndex(['2016-01-01', '2016-01-02', '2016-01-03', '2016-01-04',\n",
       "               '2016-01-05', '2016-01-06', '2016-01-07', '2016-01-08',\n",
       "               '2016-01-09', '2016-01-10'],\n",
       "              dtype='datetime64[ns]', freq='D')"
      ]
     },
     "execution_count": 12,
     "metadata": {},
     "output_type": "execute_result"
    }
   ],
   "source": [
    "rng[:10]"
   ]
  },
  {
   "cell_type": "markdown",
   "metadata": {},
   "source": [
    "  "
   ]
  },
  {
   "cell_type": "code",
   "execution_count": 13,
   "metadata": {
    "collapsed": false
   },
   "outputs": [],
   "source": [
    "ts = pd.Series(np.random.randn(len(rng)), index=rng)"
   ]
  },
  {
   "cell_type": "markdown",
   "metadata": {},
   "source": [
    "  "
   ]
  },
  {
   "cell_type": "code",
   "execution_count": 14,
   "metadata": {
    "collapsed": false
   },
   "outputs": [
    {
     "data": {
      "text/plain": [
       "pandas.core.series.Series"
      ]
     },
     "execution_count": 14,
     "metadata": {},
     "output_type": "execute_result"
    }
   ],
   "source": [
    "type(ts)"
   ]
  },
  {
   "cell_type": "code",
   "execution_count": null,
   "metadata": {
    "collapsed": true
   },
   "outputs": [],
   "source": [
    "  "
   ]
  },
  {
   "cell_type": "markdown",
   "metadata": {},
   "source": [
    "Time-stamped data for pandas represent a point in time."
   ]
  },
  {
   "cell_type": "markdown",
   "metadata": {},
   "source": [
    "Period being inferred from the datetime string."
   ]
  },
  {
   "cell_type": "code",
   "execution_count": 15,
   "metadata": {
    "collapsed": false
   },
   "outputs": [
    {
     "data": {
      "text/plain": [
       "Period('2016-01-01', 'D')"
      ]
     },
     "execution_count": 15,
     "metadata": {},
     "output_type": "execute_result"
    }
   ],
   "source": [
    "pd.Period('2016-01-01')"
   ]
  },
  {
   "cell_type": "markdown",
   "metadata": {},
   "source": [
    "Get type"
   ]
  },
  {
   "cell_type": "code",
   "execution_count": 16,
   "metadata": {
    "collapsed": false
   },
   "outputs": [
    {
     "data": {
      "text/plain": [
       "pandas._period.Period"
      ]
     },
     "execution_count": 16,
     "metadata": {},
     "output_type": "execute_result"
    }
   ],
   "source": [
    "type(pd.Period('2016-01-01'))"
   ]
  },
  {
   "cell_type": "markdown",
   "metadata": {},
   "source": [
    "Period being set explicitly"
   ]
  },
  {
   "cell_type": "code",
   "execution_count": 17,
   "metadata": {
    "collapsed": false
   },
   "outputs": [
    {
     "data": {
      "text/plain": [
       "Period('2016-05-01', 'D')"
      ]
     },
     "execution_count": 17,
     "metadata": {},
     "output_type": "execute_result"
    }
   ],
   "source": [
    "pd.Period('2016-05', freq='D')"
   ]
  },
  {
   "cell_type": "markdown",
   "metadata": {},
   "source": [
    "Timestamp and Period can be an index.  Coerced into PeriodIndex and DateTimeIndex"
   ]
  },
  {
   "cell_type": "code",
   "execution_count": 18,
   "metadata": {
    "collapsed": true
   },
   "outputs": [],
   "source": [
    "dates = [pd.Timestamp('2012-05-01'), pd.Timestamp('2012-05-02'), pd.Timestamp('2012-05-03')]"
   ]
  },
  {
   "cell_type": "markdown",
   "metadata": {},
   "source": [
    "  "
   ]
  },
  {
   "cell_type": "code",
   "execution_count": 19,
   "metadata": {
    "collapsed": false
   },
   "outputs": [
    {
     "data": {
      "text/plain": [
       "[Timestamp('2012-05-01 00:00:00'),\n",
       " Timestamp('2012-05-02 00:00:00'),\n",
       " Timestamp('2012-05-03 00:00:00')]"
      ]
     },
     "execution_count": 19,
     "metadata": {},
     "output_type": "execute_result"
    }
   ],
   "source": [
    "dates"
   ]
  },
  {
   "cell_type": "markdown",
   "metadata": {},
   "source": [
    "  "
   ]
  },
  {
   "cell_type": "code",
   "execution_count": 20,
   "metadata": {
    "collapsed": true
   },
   "outputs": [],
   "source": [
    " ts = pd.Series(np.random.randn(3), dates)"
   ]
  },
  {
   "cell_type": "markdown",
   "metadata": {},
   "source": [
    "  "
   ]
  },
  {
   "cell_type": "code",
   "execution_count": 21,
   "metadata": {
    "collapsed": false
   },
   "outputs": [
    {
     "data": {
      "text/plain": [
       "2012-05-01   -0.589761\n",
       "2012-05-02   -0.158049\n",
       "2012-05-03    0.638963\n",
       "dtype: float64"
      ]
     },
     "execution_count": 21,
     "metadata": {},
     "output_type": "execute_result"
    }
   ],
   "source": [
    "ts"
   ]
  },
  {
   "cell_type": "markdown",
   "metadata": {},
   "source": [
    "  "
   ]
  },
  {
   "cell_type": "code",
   "execution_count": 22,
   "metadata": {
    "collapsed": false
   },
   "outputs": [
    {
     "data": {
      "text/plain": [
       "pandas.tseries.index.DatetimeIndex"
      ]
     },
     "execution_count": 22,
     "metadata": {},
     "output_type": "execute_result"
    }
   ],
   "source": [
    "type(ts.index)"
   ]
  },
  {
   "cell_type": "markdown",
   "metadata": {},
   "source": [
    "  "
   ]
  },
  {
   "cell_type": "code",
   "execution_count": 23,
   "metadata": {
    "collapsed": false
   },
   "outputs": [
    {
     "data": {
      "text/plain": [
       "DatetimeIndex(['2012-05-01', '2012-05-02', '2012-05-03'], dtype='datetime64[ns]', freq=None)"
      ]
     },
     "execution_count": 23,
     "metadata": {},
     "output_type": "execute_result"
    }
   ],
   "source": [
    "ts.index"
   ]
  },
  {
   "cell_type": "markdown",
   "metadata": {},
   "source": [
    "  "
   ]
  },
  {
   "cell_type": "markdown",
   "metadata": {},
   "source": [
    "Convert date string to datetime"
   ]
  },
  {
   "cell_type": "code",
   "execution_count": 24,
   "metadata": {
    "collapsed": false
   },
   "outputs": [
    {
     "data": {
      "text/plain": [
       "Timestamp('2016-11-30 00:00:00')"
      ]
     },
     "execution_count": 24,
     "metadata": {},
     "output_type": "execute_result"
    }
   ],
   "source": [
    "pd.to_datetime('2016/11/30')"
   ]
  },
  {
   "cell_type": "markdown",
   "metadata": {},
   "source": [
    "  "
   ]
  },
  {
   "cell_type": "code",
   "execution_count": 25,
   "metadata": {
    "collapsed": false
   },
   "outputs": [
    {
     "data": {
      "text/plain": [
       "pandas.tslib.Timestamp"
      ]
     },
     "execution_count": 25,
     "metadata": {},
     "output_type": "execute_result"
    }
   ],
   "source": [
    "type(pd.to_datetime('2016/11/30'))"
   ]
  },
  {
   "cell_type": "markdown",
   "metadata": {
    "collapsed": true
   },
   "source": [
    "Convert date string to Timestamp"
   ]
  },
  {
   "cell_type": "code",
   "execution_count": 26,
   "metadata": {
    "collapsed": false
   },
   "outputs": [
    {
     "data": {
      "text/plain": [
       "Timestamp('2016-11-30 00:00:00')"
      ]
     },
     "execution_count": 26,
     "metadata": {},
     "output_type": "execute_result"
    }
   ],
   "source": [
    "pd.Timestamp('2016/11/30')"
   ]
  },
  {
   "cell_type": "code",
   "execution_count": 27,
   "metadata": {
    "collapsed": false
   },
   "outputs": [
    {
     "data": {
      "text/plain": [
       "pandas.tslib.Timestamp"
      ]
     },
     "execution_count": 27,
     "metadata": {},
     "output_type": "execute_result"
    }
   ],
   "source": [
    "type(pd.Timestamp('2016/11/30'))"
   ]
  },
  {
   "cell_type": "markdown",
   "metadata": {
    "collapsed": true
   },
   "source": [
    "You can assemble a DataFrame by using strings and integers for columns."
   ]
  },
  {
   "cell_type": "code",
   "execution_count": 28,
   "metadata": {
    "collapsed": false
   },
   "outputs": [],
   "source": [
    "df = pd.DataFrame({'year': [2014, 2015, 2016],\n",
    "                   'month': [1, 2, 3],\n",
    "                   'day': [1,2,3,]})\n",
    "df1 = pd.to_datetime(df)"
   ]
  },
  {
   "cell_type": "code",
   "execution_count": 29,
   "metadata": {
    "collapsed": false
   },
   "outputs": [],
   "source": [
    "from datetime import datetime, date, time\n",
    "start = datetime(2016, 1, 1)\n",
    "end = datetime(2016, 12, 31)\n",
    "rng = pd.date_range(start,end)"
   ]
  },
  {
   "cell_type": "code",
   "execution_count": 30,
   "metadata": {
    "collapsed": false
   },
   "outputs": [
    {
     "data": {
      "text/plain": [
       "DatetimeIndex(['2016-01-01', '2016-01-02', '2016-01-03', '2016-01-04',\n",
       "               '2016-01-05', '2016-01-06', '2016-01-07', '2016-01-08',\n",
       "               '2016-01-09', '2016-01-10',\n",
       "               ...\n",
       "               '2016-12-22', '2016-12-23', '2016-12-24', '2016-12-25',\n",
       "               '2016-12-26', '2016-12-27', '2016-12-28', '2016-12-29',\n",
       "               '2016-12-30', '2016-12-31'],\n",
       "              dtype='datetime64[ns]', length=366, freq='D')"
      ]
     },
     "execution_count": 30,
     "metadata": {},
     "output_type": "execute_result"
    }
   ],
   "source": [
    "rng"
   ]
  },
  {
   "cell_type": "code",
   "execution_count": 31,
   "metadata": {
    "collapsed": true
   },
   "outputs": [],
   "source": [
    "start = datetime(2016, 1, 1)\n",
    "end = datetime(2016, 12, 31)\n",
    "b_rng = pd.bdate_range(start,end)"
   ]
  },
  {
   "cell_type": "code",
   "execution_count": 32,
   "metadata": {
    "collapsed": false
   },
   "outputs": [
    {
     "data": {
      "text/plain": [
       "DatetimeIndex(['2016-01-01', '2016-01-04', '2016-01-05', '2016-01-06',\n",
       "               '2016-01-07', '2016-01-08', '2016-01-11', '2016-01-12',\n",
       "               '2016-01-13', '2016-01-14',\n",
       "               ...\n",
       "               '2016-12-19', '2016-12-20', '2016-12-21', '2016-12-22',\n",
       "               '2016-12-23', '2016-12-26', '2016-12-27', '2016-12-28',\n",
       "               '2016-12-29', '2016-12-30'],\n",
       "              dtype='datetime64[ns]', length=261, freq='B')"
      ]
     },
     "execution_count": 32,
     "metadata": {},
     "output_type": "execute_result"
    }
   ],
   "source": [
    "b_rng"
   ]
  },
  {
   "cell_type": "code",
   "execution_count": 33,
   "metadata": {
    "collapsed": false
   },
   "outputs": [
    {
     "data": {
      "text/plain": [
       "DatetimeIndex(['2016-01-29', '2016-02-29', '2016-03-31', '2016-04-29',\n",
       "               '2016-05-31', '2016-06-30', '2016-07-29', '2016-08-31',\n",
       "               '2016-09-30', '2016-10-31', '2016-11-30', '2016-12-30'],\n",
       "              dtype='datetime64[ns]', freq='BM')"
      ]
     },
     "execution_count": 33,
     "metadata": {},
     "output_type": "execute_result"
    }
   ],
   "source": [
    "rng = pd.date_range(start, end, freq='BM')\n",
    "ts = pd.Series(np.random.randn(len(rng)), index=rng)\n",
    "ts.index"
   ]
  },
  {
   "cell_type": "markdown",
   "metadata": {},
   "source": [
    "Returns the first 5"
   ]
  },
  {
   "cell_type": "code",
   "execution_count": 34,
   "metadata": {
    "collapsed": false
   },
   "outputs": [
    {
     "data": {
      "text/plain": [
       "DatetimeIndex(['2016-01-29', '2016-02-29', '2016-03-31', '2016-04-29',\n",
       "               '2016-05-31'],\n",
       "              dtype='datetime64[ns]', freq='BM')"
      ]
     },
     "execution_count": 34,
     "metadata": {},
     "output_type": "execute_result"
    }
   ],
   "source": [
    "ts[:5].index"
   ]
  },
  {
   "cell_type": "markdown",
   "metadata": {},
   "source": [
    " Returns the nth, i.e. 2 = every other one"
   ]
  },
  {
   "cell_type": "code",
   "execution_count": 35,
   "metadata": {
    "collapsed": false
   },
   "outputs": [
    {
     "data": {
      "text/plain": [
       "2016-01-29    1.055194\n",
       "2016-03-31   -0.049875\n",
       "2016-05-31   -1.305961\n",
       "2016-07-29    1.163317\n",
       "2016-09-30   -0.181580\n",
       "2016-11-30   -1.049180\n",
       "Freq: 2BM, dtype: float64"
      ]
     },
     "execution_count": 35,
     "metadata": {},
     "output_type": "execute_result"
    }
   ],
   "source": [
    "ts[::2]"
   ]
  },
  {
   "cell_type": "code",
   "execution_count": 36,
   "metadata": {
    "collapsed": false
   },
   "outputs": [
    {
     "data": {
      "text/plain": [
       "2016-01-29    1.055194\n",
       "2016-07-29    1.163317\n",
       "Freq: 6BM, dtype: float64"
      ]
     },
     "execution_count": 36,
     "metadata": {},
     "output_type": "execute_result"
    }
   ],
   "source": [
    "ts[::6]"
   ]
  },
  {
   "cell_type": "markdown",
   "metadata": {},
   "source": [
    "## Time Series Walk-Through\n",
    "\n",
    "We can begin combining features covered in previous chapters to conduct a walk-through of an actual time-series analysis.  The data is the FHFA House Price Index (HPI) \n",
    "\n",
    "It is a broad measure of the movement of single-family house prices. The HPI is a weighted, repeat-sales index, meaning that it measures average price changes in repeat sales or refinancings on the same properties. This information is obtained by reviewing repeat mortgage transactions on single-family properties whose mortgages have been purchased or securitized by Fannie Mae or Freddie Mac.  \n",
    "\n",
    "Details about the data and how it is organized can be found <a href=\"https://catalog.data.gov/dataset/fhfa-house-price-indexes-hpis\"> here </a>. \n",
    "\n",
    "This time series begins January 1991 and end August 2016.  Both the seasonally adjusted index 'index_sa' and the non-seaonally adjusted index 'index_nsa' set the index value at 100 for January 1991.  "
   ]
  },
  {
   "cell_type": "markdown",
   "metadata": {},
   "source": [
    "The .csv file is two parts.  Part 1, rows 2 to 3079 are records for the aggregate market groups at the Census Division level.  The frequency interval is monthly.\n",
    "\n",
    "Part 2, rows 3080 to 96,243 are more granular with 4 values for level, 'MSA', 'State', 'USA or Census Division', and 'Puerto Rico'.  The frequency interval is quarterly. \n",
    "\n",
    "Start with the U.S. portion by reading part 1 of the file.  The pd.read_csv method uses the one required arguement, the input file name to create the DataFrame 'df_all'."
   ]
  },
  {
   "cell_type": "code",
   "execution_count": 37,
   "metadata": {
    "collapsed": true
   },
   "outputs": [],
   "source": [
    "df_all = pd.read_csv(\"C:\\Data\\\\HPI_master.csv\")"
   ]
  },
  {
   "cell_type": "markdown",
   "metadata": {},
   "source": [
    "Check the first 5 rows to determine if the read_csv() method is giving the expected results."
   ]
  },
  {
   "cell_type": "code",
   "execution_count": 38,
   "metadata": {
    "collapsed": false
   },
   "outputs": [
    {
     "data": {
      "text/html": [
       "<div>\n",
       "<table border=\"1\" class=\"dataframe\">\n",
       "  <thead>\n",
       "    <tr style=\"text-align: right;\">\n",
       "      <th></th>\n",
       "      <th>hpi_type</th>\n",
       "      <th>hpi_flavor</th>\n",
       "      <th>frequency</th>\n",
       "      <th>level</th>\n",
       "      <th>place_name</th>\n",
       "      <th>place_id</th>\n",
       "      <th>yr</th>\n",
       "      <th>period</th>\n",
       "      <th>index_nsa</th>\n",
       "      <th>index_sa</th>\n",
       "    </tr>\n",
       "  </thead>\n",
       "  <tbody>\n",
       "    <tr>\n",
       "      <th>99320</th>\n",
       "      <td>developmental</td>\n",
       "      <td>purchase-only</td>\n",
       "      <td>quarterly</td>\n",
       "      <td>Puerto Rico</td>\n",
       "      <td>Puerto Rico</td>\n",
       "      <td>PR</td>\n",
       "      <td>2015</td>\n",
       "      <td>2</td>\n",
       "      <td>160.23</td>\n",
       "      <td>158.62</td>\n",
       "    </tr>\n",
       "    <tr>\n",
       "      <th>99321</th>\n",
       "      <td>developmental</td>\n",
       "      <td>purchase-only</td>\n",
       "      <td>quarterly</td>\n",
       "      <td>Puerto Rico</td>\n",
       "      <td>Puerto Rico</td>\n",
       "      <td>PR</td>\n",
       "      <td>2015</td>\n",
       "      <td>3</td>\n",
       "      <td>159.54</td>\n",
       "      <td>161.27</td>\n",
       "    </tr>\n",
       "    <tr>\n",
       "      <th>99322</th>\n",
       "      <td>developmental</td>\n",
       "      <td>purchase-only</td>\n",
       "      <td>quarterly</td>\n",
       "      <td>Puerto Rico</td>\n",
       "      <td>Puerto Rico</td>\n",
       "      <td>PR</td>\n",
       "      <td>2015</td>\n",
       "      <td>4</td>\n",
       "      <td>155.14</td>\n",
       "      <td>152.81</td>\n",
       "    </tr>\n",
       "    <tr>\n",
       "      <th>99323</th>\n",
       "      <td>developmental</td>\n",
       "      <td>purchase-only</td>\n",
       "      <td>quarterly</td>\n",
       "      <td>Puerto Rico</td>\n",
       "      <td>Puerto Rico</td>\n",
       "      <td>PR</td>\n",
       "      <td>2016</td>\n",
       "      <td>1</td>\n",
       "      <td>150.61</td>\n",
       "      <td>154.71</td>\n",
       "    </tr>\n",
       "    <tr>\n",
       "      <th>99324</th>\n",
       "      <td>developmental</td>\n",
       "      <td>purchase-only</td>\n",
       "      <td>quarterly</td>\n",
       "      <td>Puerto Rico</td>\n",
       "      <td>Puerto Rico</td>\n",
       "      <td>PR</td>\n",
       "      <td>2016</td>\n",
       "      <td>2</td>\n",
       "      <td>165.45</td>\n",
       "      <td>163.82</td>\n",
       "    </tr>\n",
       "  </tbody>\n",
       "</table>\n",
       "</div>"
      ],
      "text/plain": [
       "            hpi_type     hpi_flavor  frequency        level   place_name  \\\n",
       "99320  developmental  purchase-only  quarterly  Puerto Rico  Puerto Rico   \n",
       "99321  developmental  purchase-only  quarterly  Puerto Rico  Puerto Rico   \n",
       "99322  developmental  purchase-only  quarterly  Puerto Rico  Puerto Rico   \n",
       "99323  developmental  purchase-only  quarterly  Puerto Rico  Puerto Rico   \n",
       "99324  developmental  purchase-only  quarterly  Puerto Rico  Puerto Rico   \n",
       "\n",
       "      place_id    yr  period  index_nsa  index_sa  \n",
       "99320       PR  2015       2     160.23    158.62  \n",
       "99321       PR  2015       3     159.54    161.27  \n",
       "99322       PR  2015       4     155.14    152.81  \n",
       "99323       PR  2016       1     150.61    154.71  \n",
       "99324       PR  2016       2     165.45    163.82  "
      ]
     },
     "execution_count": 38,
     "metadata": {},
     "output_type": "execute_result"
    }
   ],
   "source": [
    "df_all.tail()"
   ]
  },
  {
   "cell_type": "markdown",
   "metadata": {},
   "source": [
    "We need to combine the year and period fields into a DataTime Stamp.  The .csv file in cell #xx above is read without any datetime parsing for the fields, 'yr' and 'period'.  We could post-process these fields to construct the appropriate date timestamp values.  \n",
    "\n",
    "A better approach is below.  The parse_dates= argument allows a <a href=\"http://nbviewer.jupyter.org/github/RandyBetancourt/PythonForSASUsers/blob/master/Chapter%2002%20--%20Data%20Structures.ipynb#dictionary\"> dictionary </a> object with the key being the arbitrary name of the new column created and the key values indicating which fields are to be read in the .csv file.  Recall that Python indexes have a start position of 0.  In the .csv file, these fields are the 7th and 8th.\n",
    "\n",
    "Sometimes, you may need to create your own date-parser, analogous to building a user-defined SAS INFORMAT to map field values into a datetime object.  This is particularly true in cases where the date value is stored as component values in multiple fields.   \n",
    "\n",
    "## url for custom date_parser here"
   ]
  },
  {
   "cell_type": "code",
   "execution_count": 39,
   "metadata": {
    "collapsed": false
   },
   "outputs": [],
   "source": [
    "df = pd.read_csv(\"C:\\Data\\\\HPI_master.csv\",\n",
    "                 parse_dates={'date_idx': [6,7]},\n",
    "                 nrows=3080)"
   ]
  },
  {
   "cell_type": "markdown",
   "metadata": {},
   "source": [
    "  "
   ]
  },
  {
   "cell_type": "code",
   "execution_count": 40,
   "metadata": {
    "collapsed": false
   },
   "outputs": [
    {
     "data": {
      "text/plain": [
       "(3080, 9)"
      ]
     },
     "execution_count": 40,
     "metadata": {},
     "output_type": "execute_result"
    }
   ],
   "source": [
    "df.shape"
   ]
  },
  {
   "cell_type": "markdown",
   "metadata": {},
   "source": [
    "  "
   ]
  },
  {
   "cell_type": "markdown",
   "metadata": {},
   "source": [
    "Check for missing values."
   ]
  },
  {
   "cell_type": "code",
   "execution_count": 41,
   "metadata": {
    "collapsed": false
   },
   "outputs": [
    {
     "data": {
      "text/plain": [
       "date_idx      False\n",
       "hpi_type      False\n",
       "hpi_flavor    False\n",
       "frequency     False\n",
       "level         False\n",
       "place_name    False\n",
       "place_id      False\n",
       "index_nsa     False\n",
       "index_sa      False\n",
       "dtype: bool"
      ]
     },
     "execution_count": 41,
     "metadata": {},
     "output_type": "execute_result"
    }
   ],
   "source": [
    "df.isnull().any()"
   ]
  },
  {
   "cell_type": "markdown",
   "metadata": {},
   "source": [
    "Map the string 'date_idx' column constructed through the date_parser to a datetime value.  Set the 'date' column as the index on the DataFrame."
   ]
  },
  {
   "cell_type": "code",
   "execution_count": 42,
   "metadata": {
    "collapsed": false
   },
   "outputs": [],
   "source": [
    "df['date'] = pd.to_datetime(df['date_idx'])\n",
    "df.set_index(\"date\", inplace=True, drop=False)"
   ]
  },
  {
   "cell_type": "markdown",
   "metadata": {},
   "source": [
    "Indexing on the datetime column 'date' creates a 'time-aware' DateTimeIndex.  "
   ]
  },
  {
   "cell_type": "code",
   "execution_count": 43,
   "metadata": {
    "collapsed": false
   },
   "outputs": [
    {
     "data": {
      "text/plain": [
       "DatetimeIndex(['1991-01-01', '1991-02-01', '1991-03-01', '1991-04-01',\n",
       "               '1991-05-01', '1991-06-01', '1991-07-01', '1991-08-01',\n",
       "               '1991-09-01', '1991-10-01',\n",
       "               ...\n",
       "               '2015-11-01', '2015-12-01', '2016-01-01', '2016-02-01',\n",
       "               '2016-03-01', '2016-04-01', '2016-05-01', '2016-06-01',\n",
       "               '2016-07-01', '2016-08-01'],\n",
       "              dtype='datetime64[ns]', name='date', length=3080, freq=None)"
      ]
     },
     "execution_count": 43,
     "metadata": {},
     "output_type": "execute_result"
    }
   ],
   "source": [
    "df.index"
   ]
  },
  {
   "cell_type": "markdown",
   "metadata": {},
   "source": [
    "Get the first and last date values."
   ]
  },
  {
   "cell_type": "code",
   "execution_count": 44,
   "metadata": {
    "collapsed": false
   },
   "outputs": [
    {
     "name": "stdout",
     "output_type": "stream",
     "text": [
      "Earliest date is: 1991-01-01 00:00:00\n",
      "Latest date is: 2016-08-01 00:00:00\n"
     ]
    }
   ],
   "source": [
    "print('Earliest date is:', df.date.min())\n",
    "print('Latest date is:', df.date.max())"
   ]
  },
  {
   "cell_type": "markdown",
   "metadata": {},
   "source": [
    "We see from cell #xx above, that we have several categorical columns.  So we need to understand their levels.  Earlier, we saw the .describe() method used for numerical columns.  In this example, specifying the 'include=' argument provides a description of string columns.  "
   ]
  },
  {
   "cell_type": "code",
   "execution_count": 45,
   "metadata": {
    "collapsed": false
   },
   "outputs": [
    {
     "data": {
      "text/html": [
       "<div>\n",
       "<table border=\"1\" class=\"dataframe\">\n",
       "  <thead>\n",
       "    <tr style=\"text-align: right;\">\n",
       "      <th></th>\n",
       "      <th>hpi_type</th>\n",
       "      <th>hpi_flavor</th>\n",
       "      <th>frequency</th>\n",
       "      <th>level</th>\n",
       "      <th>place_name</th>\n",
       "      <th>place_id</th>\n",
       "    </tr>\n",
       "  </thead>\n",
       "  <tbody>\n",
       "    <tr>\n",
       "      <th>count</th>\n",
       "      <td>3080</td>\n",
       "      <td>3080</td>\n",
       "      <td>3080</td>\n",
       "      <td>3080</td>\n",
       "      <td>3080</td>\n",
       "      <td>3080</td>\n",
       "    </tr>\n",
       "    <tr>\n",
       "      <th>unique</th>\n",
       "      <td>1</td>\n",
       "      <td>1</td>\n",
       "      <td>1</td>\n",
       "      <td>1</td>\n",
       "      <td>10</td>\n",
       "      <td>10</td>\n",
       "    </tr>\n",
       "    <tr>\n",
       "      <th>top</th>\n",
       "      <td>traditional</td>\n",
       "      <td>purchase-only</td>\n",
       "      <td>monthly</td>\n",
       "      <td>USA or Census Division</td>\n",
       "      <td>Middle Atlantic Division</td>\n",
       "      <td>DV_NE</td>\n",
       "    </tr>\n",
       "    <tr>\n",
       "      <th>freq</th>\n",
       "      <td>3080</td>\n",
       "      <td>3080</td>\n",
       "      <td>3080</td>\n",
       "      <td>3080</td>\n",
       "      <td>308</td>\n",
       "      <td>308</td>\n",
       "    </tr>\n",
       "  </tbody>\n",
       "</table>\n",
       "</div>"
      ],
      "text/plain": [
       "           hpi_type     hpi_flavor frequency                   level  \\\n",
       "count          3080           3080      3080                    3080   \n",
       "unique            1              1         1                       1   \n",
       "top     traditional  purchase-only   monthly  USA or Census Division   \n",
       "freq           3080           3080      3080                    3080   \n",
       "\n",
       "                      place_name place_id  \n",
       "count                       3080     3080  \n",
       "unique                        10       10  \n",
       "top     Middle Atlantic Division    DV_NE  \n",
       "freq                         308      308  "
      ]
     },
     "execution_count": 45,
     "metadata": {},
     "output_type": "execute_result"
    }
   ],
   "source": [
    "df.describe(include=['O'])"
   ]
  },
  {
   "cell_type": "markdown",
   "metadata": {},
   "source": [
    "The 'place_name' column has 10 unique levels or values.  We can examine these values with the .unique() attribute."
   ]
  },
  {
   "cell_type": "markdown",
   "metadata": {},
   "source": [
    "   "
   ]
  },
  {
   "cell_type": "code",
   "execution_count": 46,
   "metadata": {
    "collapsed": false
   },
   "outputs": [
    {
     "data": {
      "text/plain": [
       "array(['East North Central Division', 'East South Central Division',\n",
       "       'Middle Atlantic Division', 'Mountain Division',\n",
       "       'New England Division', 'Pacific Division',\n",
       "       'South Atlantic Division', 'West North Central Division',\n",
       "       'West South Central Division', 'United States'], dtype=object)"
      ]
     },
     "execution_count": 46,
     "metadata": {},
     "output_type": "execute_result"
    }
   ],
   "source": [
    "df.place_name.unique()"
   ]
  },
  {
   "cell_type": "markdown",
   "metadata": {},
   "source": [
    "  "
   ]
  },
  {
   "cell_type": "markdown",
   "metadata": {},
   "source": [
    "By setting an index on the column 'place_name', create a sub-set of the DataFrame 'df_all' to include just those rows for the U.S.  The .loc indexer allows row slicing which is covered in detail <a href=\"http://nbviewer.jupyter.org/github/RandyBetancourt/PythonForSASUsers/blob/master/Chapter%2005%20--%20Understanding%20Indexes.ipynb#.loc-Indexer\"> here </a>."
   ]
  },
  {
   "cell_type": "code",
   "execution_count": 47,
   "metadata": {
    "collapsed": true
   },
   "outputs": [],
   "source": [
    "df.set_index('place_name', inplace=True, drop=False)\n",
    "df_us = df.loc['United States']"
   ]
  },
  {
   "cell_type": "markdown",
   "metadata": {},
   "source": [
    "  "
   ]
  },
  {
   "cell_type": "markdown",
   "metadata": {},
   "source": [
    "Time series data lends itself well to plotting.  Here we use the bokeh package to plot the non-seasonal home price index for three regions.  \n",
    "\n",
    "Start by plotting the series for the entire U.S.  For this, we use the 'df_us' DataFrame created above."
   ]
  },
  {
   "cell_type": "code",
   "execution_count": 48,
   "metadata": {
    "collapsed": false
   },
   "outputs": [
    {
     "data": {
      "text/html": [
       "\n",
       "    <div class=\"bk-root\">\n",
       "        <a href=\"http://bokeh.pydata.org\" target=\"_blank\" class=\"bk-logo bk-logo-small bk-logo-notebook\"></a>\n",
       "        <span id=\"2757bdf5-30c8-4787-8eea-fcb00b956b69\">Loading BokehJS ...</span>\n",
       "    </div>"
      ]
     },
     "metadata": {},
     "output_type": "display_data"
    },
    {
     "data": {
      "application/javascript": [
       "\n",
       "(function(global) {\n",
       "  function now() {\n",
       "    return new Date();\n",
       "  }\n",
       "\n",
       "  var force = \"1\";\n",
       "\n",
       "  if (typeof (window._bokeh_onload_callbacks) === \"undefined\" || force !== \"\") {\n",
       "    window._bokeh_onload_callbacks = [];\n",
       "    window._bokeh_is_loading = undefined;\n",
       "  }\n",
       "\n",
       "\n",
       "  \n",
       "  if (typeof (window._bokeh_timeout) === \"undefined\" || force !== \"\") {\n",
       "    window._bokeh_timeout = Date.now() + 5000;\n",
       "    window._bokeh_failed_load = false;\n",
       "  }\n",
       "\n",
       "  var NB_LOAD_WARNING = {'data': {'text/html':\n",
       "     \"<div style='background-color: #fdd'>\\n\"+\n",
       "     \"<p>\\n\"+\n",
       "     \"BokehJS does not appear to have successfully loaded. If loading BokehJS from CDN, this \\n\"+\n",
       "     \"may be due to a slow or bad network connection. Possible fixes:\\n\"+\n",
       "     \"</p>\\n\"+\n",
       "     \"<ul>\\n\"+\n",
       "     \"<li>re-rerun `output_notebook()` to attempt to load from CDN again, or</li>\\n\"+\n",
       "     \"<li>use INLINE resources instead, as so:</li>\\n\"+\n",
       "     \"</ul>\\n\"+\n",
       "     \"<code>\\n\"+\n",
       "     \"from bokeh.resources import INLINE\\n\"+\n",
       "     \"output_notebook(resources=INLINE)\\n\"+\n",
       "     \"</code>\\n\"+\n",
       "     \"</div>\"}};\n",
       "\n",
       "  function display_loaded() {\n",
       "    if (window.Bokeh !== undefined) {\n",
       "      Bokeh.$(\"#2757bdf5-30c8-4787-8eea-fcb00b956b69\").text(\"BokehJS successfully loaded.\");\n",
       "    } else if (Date.now() < window._bokeh_timeout) {\n",
       "      setTimeout(display_loaded, 100)\n",
       "    }\n",
       "  }\n",
       "\n",
       "  function run_callbacks() {\n",
       "    window._bokeh_onload_callbacks.forEach(function(callback) { callback() });\n",
       "    delete window._bokeh_onload_callbacks\n",
       "    console.info(\"Bokeh: all callbacks have finished\");\n",
       "  }\n",
       "\n",
       "  function load_libs(js_urls, callback) {\n",
       "    window._bokeh_onload_callbacks.push(callback);\n",
       "    if (window._bokeh_is_loading > 0) {\n",
       "      console.log(\"Bokeh: BokehJS is being loaded, scheduling callback at\", now());\n",
       "      return null;\n",
       "    }\n",
       "    if (js_urls == null || js_urls.length === 0) {\n",
       "      run_callbacks();\n",
       "      return null;\n",
       "    }\n",
       "    console.log(\"Bokeh: BokehJS not loaded, scheduling load and callback at\", now());\n",
       "    window._bokeh_is_loading = js_urls.length;\n",
       "    for (var i = 0; i < js_urls.length; i++) {\n",
       "      var url = js_urls[i];\n",
       "      var s = document.createElement('script');\n",
       "      s.src = url;\n",
       "      s.async = false;\n",
       "      s.onreadystatechange = s.onload = function() {\n",
       "        window._bokeh_is_loading--;\n",
       "        if (window._bokeh_is_loading === 0) {\n",
       "          console.log(\"Bokeh: all BokehJS libraries loaded\");\n",
       "          run_callbacks()\n",
       "        }\n",
       "      };\n",
       "      s.onerror = function() {\n",
       "        console.warn(\"failed to load library \" + url);\n",
       "      };\n",
       "      console.log(\"Bokeh: injecting script tag for BokehJS library: \", url);\n",
       "      document.getElementsByTagName(\"head\")[0].appendChild(s);\n",
       "    }\n",
       "  };var element = document.getElementById(\"2757bdf5-30c8-4787-8eea-fcb00b956b69\");\n",
       "  if (element == null) {\n",
       "    console.log(\"Bokeh: ERROR: autoload.js configured with elementid '2757bdf5-30c8-4787-8eea-fcb00b956b69' but no matching script tag was found. \")\n",
       "    return false;\n",
       "  }\n",
       "\n",
       "  var js_urls = ['https://cdn.pydata.org/bokeh/release/bokeh-0.12.2.min.js', 'https://cdn.pydata.org/bokeh/release/bokeh-widgets-0.12.2.min.js', 'https://cdn.pydata.org/bokeh/release/bokeh-compiler-0.12.2.min.js'];\n",
       "\n",
       "  var inline_js = [\n",
       "    function(Bokeh) {\n",
       "      Bokeh.set_log_level(\"info\");\n",
       "    },\n",
       "    \n",
       "    function(Bokeh) {\n",
       "      \n",
       "      Bokeh.$(\"#2757bdf5-30c8-4787-8eea-fcb00b956b69\").text(\"BokehJS is loading...\");\n",
       "    },\n",
       "    function(Bokeh) {\n",
       "      console.log(\"Bokeh: injecting CSS: https://cdn.pydata.org/bokeh/release/bokeh-0.12.2.min.css\");\n",
       "      Bokeh.embed.inject_css(\"https://cdn.pydata.org/bokeh/release/bokeh-0.12.2.min.css\");\n",
       "      console.log(\"Bokeh: injecting CSS: https://cdn.pydata.org/bokeh/release/bokeh-widgets-0.12.2.min.css\");\n",
       "      Bokeh.embed.inject_css(\"https://cdn.pydata.org/bokeh/release/bokeh-widgets-0.12.2.min.css\");\n",
       "    }\n",
       "  ];\n",
       "\n",
       "  function run_inline_js() {\n",
       "    \n",
       "    if ((window.Bokeh !== undefined) || (force === \"1\")) {\n",
       "      for (var i = 0; i < inline_js.length; i++) {\n",
       "        inline_js[i](window.Bokeh);\n",
       "      }if (force === \"1\") {\n",
       "        display_loaded();\n",
       "      }} else if (Date.now() < window._bokeh_timeout) {\n",
       "      setTimeout(run_inline_js, 100);\n",
       "    } else if (!window._bokeh_failed_load) {\n",
       "      console.log(\"Bokeh: BokehJS failed to load within specified timeout.\");\n",
       "      window._bokeh_failed_load = true;\n",
       "    } else if (!force) {\n",
       "      var cell = $(\"#2757bdf5-30c8-4787-8eea-fcb00b956b69\").parents('.cell').data().cell;\n",
       "      cell.output_area.append_execute_result(NB_LOAD_WARNING)\n",
       "    }\n",
       "\n",
       "  }\n",
       "\n",
       "  if (window._bokeh_is_loading === 0) {\n",
       "    console.log(\"Bokeh: BokehJS loaded, going straight to plotting\");\n",
       "    run_inline_js();\n",
       "  } else {\n",
       "    load_libs(js_urls, function() {\n",
       "      console.log(\"Bokeh: BokehJS plotting callback run at\", now());\n",
       "      run_inline_js();\n",
       "    });\n",
       "  }\n",
       "}(this));"
      ]
     },
     "metadata": {},
     "output_type": "display_data"
    }
   ],
   "source": [
    "import bokeh.charts\n",
    "import bokeh.charts.utils\n",
    "import bokeh.io\n",
    "import bokeh.models\n",
    "import bokeh.palettes\n",
    "import bokeh.plotting\n",
    "\n",
    "# Display graphics in this notebook\n",
    "bokeh.io.output_notebook()"
   ]
  },
  {
   "cell_type": "code",
   "execution_count": 49,
   "metadata": {
    "collapsed": false
   },
   "outputs": [
    {
     "data": {
      "text/html": [
       "\n",
       "\n",
       "    <div class=\"bk-root\">\n",
       "        <div class=\"plotdiv\" id=\"42698f7d-807c-4632-9b36-bdabf4555d9c\"></div>\n",
       "    </div>\n",
       "<script type=\"text/javascript\">\n",
       "  \n",
       "  (function(global) {\n",
       "    function now() {\n",
       "      return new Date();\n",
       "    }\n",
       "  \n",
       "    var force = \"\";\n",
       "  \n",
       "    if (typeof (window._bokeh_onload_callbacks) === \"undefined\" || force !== \"\") {\n",
       "      window._bokeh_onload_callbacks = [];\n",
       "      window._bokeh_is_loading = undefined;\n",
       "    }\n",
       "  \n",
       "  \n",
       "    \n",
       "    if (typeof (window._bokeh_timeout) === \"undefined\" || force !== \"\") {\n",
       "      window._bokeh_timeout = Date.now() + 0;\n",
       "      window._bokeh_failed_load = false;\n",
       "    }\n",
       "  \n",
       "    var NB_LOAD_WARNING = {'data': {'text/html':\n",
       "       \"<div style='background-color: #fdd'>\\n\"+\n",
       "       \"<p>\\n\"+\n",
       "       \"BokehJS does not appear to have successfully loaded. If loading BokehJS from CDN, this \\n\"+\n",
       "       \"may be due to a slow or bad network connection. Possible fixes:\\n\"+\n",
       "       \"</p>\\n\"+\n",
       "       \"<ul>\\n\"+\n",
       "       \"<li>re-rerun `output_notebook()` to attempt to load from CDN again, or</li>\\n\"+\n",
       "       \"<li>use INLINE resources instead, as so:</li>\\n\"+\n",
       "       \"</ul>\\n\"+\n",
       "       \"<code>\\n\"+\n",
       "       \"from bokeh.resources import INLINE\\n\"+\n",
       "       \"output_notebook(resources=INLINE)\\n\"+\n",
       "       \"</code>\\n\"+\n",
       "       \"</div>\"}};\n",
       "  \n",
       "    function display_loaded() {\n",
       "      if (window.Bokeh !== undefined) {\n",
       "        Bokeh.$(\"#42698f7d-807c-4632-9b36-bdabf4555d9c\").text(\"BokehJS successfully loaded.\");\n",
       "      } else if (Date.now() < window._bokeh_timeout) {\n",
       "        setTimeout(display_loaded, 100)\n",
       "      }\n",
       "    }\n",
       "  \n",
       "    function run_callbacks() {\n",
       "      window._bokeh_onload_callbacks.forEach(function(callback) { callback() });\n",
       "      delete window._bokeh_onload_callbacks\n",
       "      console.info(\"Bokeh: all callbacks have finished\");\n",
       "    }\n",
       "  \n",
       "    function load_libs(js_urls, callback) {\n",
       "      window._bokeh_onload_callbacks.push(callback);\n",
       "      if (window._bokeh_is_loading > 0) {\n",
       "        console.log(\"Bokeh: BokehJS is being loaded, scheduling callback at\", now());\n",
       "        return null;\n",
       "      }\n",
       "      if (js_urls == null || js_urls.length === 0) {\n",
       "        run_callbacks();\n",
       "        return null;\n",
       "      }\n",
       "      console.log(\"Bokeh: BokehJS not loaded, scheduling load and callback at\", now());\n",
       "      window._bokeh_is_loading = js_urls.length;\n",
       "      for (var i = 0; i < js_urls.length; i++) {\n",
       "        var url = js_urls[i];\n",
       "        var s = document.createElement('script');\n",
       "        s.src = url;\n",
       "        s.async = false;\n",
       "        s.onreadystatechange = s.onload = function() {\n",
       "          window._bokeh_is_loading--;\n",
       "          if (window._bokeh_is_loading === 0) {\n",
       "            console.log(\"Bokeh: all BokehJS libraries loaded\");\n",
       "            run_callbacks()\n",
       "          }\n",
       "        };\n",
       "        s.onerror = function() {\n",
       "          console.warn(\"failed to load library \" + url);\n",
       "        };\n",
       "        console.log(\"Bokeh: injecting script tag for BokehJS library: \", url);\n",
       "        document.getElementsByTagName(\"head\")[0].appendChild(s);\n",
       "      }\n",
       "    };var element = document.getElementById(\"42698f7d-807c-4632-9b36-bdabf4555d9c\");\n",
       "    if (element == null) {\n",
       "      console.log(\"Bokeh: ERROR: autoload.js configured with elementid '42698f7d-807c-4632-9b36-bdabf4555d9c' but no matching script tag was found. \")\n",
       "      return false;\n",
       "    }\n",
       "  \n",
       "    var js_urls = [];\n",
       "  \n",
       "    var inline_js = [\n",
       "      function(Bokeh) {\n",
       "        Bokeh.$(function() {\n",
       "            var docs_json = {\"350dda9b-d9d2-47e0-a810-d5350f1939e0\":{\"roots\":{\"references\":[{\"attributes\":{\"line_color\":{\"value\":\"firebrick\"},\"line_width\":{\"value\":2},\"x\":{\"field\":\"x_values\"},\"y\":{\"field\":\"y_values\"}},\"id\":\"5f16dda1-8148-4903-8f5d-82d60751ee58\",\"type\":\"Line\"},{\"attributes\":{\"active_drag\":\"auto\",\"active_scroll\":\"auto\",\"active_tap\":\"auto\",\"tools\":[{\"id\":\"24d95e55-bebd-4900-9423-867f9cb8ccb1\",\"type\":\"PanTool\"},{\"id\":\"92a8752d-28b6-49d1-805d-10a99b356303\",\"type\":\"WheelZoomTool\"},{\"id\":\"5d7a702d-b641-432a-bcc6-b3ce27d19c8f\",\"type\":\"BoxZoomTool\"},{\"id\":\"b3b328d7-d48c-4a52-8b6f-2dc3d1beb2e2\",\"type\":\"SaveTool\"},{\"id\":\"a3563b40-413f-4282-bf04-020b79fdd29e\",\"type\":\"ResetTool\"},{\"id\":\"f32dbc76-67dd-44ab-97ff-f1eef1d3b75c\",\"type\":\"HelpTool\"}]},\"id\":\"701ff5d5-2e53-461f-a909-5240b2c6d6f9\",\"type\":\"Toolbar\"},{\"attributes\":{\"days\":[1,4,7,10,13,16,19,22,25,28]},\"id\":\"dcf434c6-8077-4b97-8712-9cc6a826f6f8\",\"type\":\"DaysTicker\"},{\"attributes\":{\"months\":[0,2,4,6,8,10]},\"id\":\"bf9c19b4-d42d-480d-8deb-b9080ec07e06\",\"type\":\"MonthsTicker\"},{\"attributes\":{},\"id\":\"0d755c73-c7ec-44a8-9f5b-5a09bce3f4e5\",\"type\":\"ToolEvents\"},{\"attributes\":{\"base\":24,\"mantissas\":[1,2,4,6,8,12],\"max_interval\":43200000.0,\"min_interval\":3600000.0,\"num_minor_ticks\":0},\"id\":\"84d36a06-992f-4da2-8606-64d5ccdd0040\",\"type\":\"AdaptiveTicker\"},{\"attributes\":{\"below\":[{\"id\":\"c2935156-07a5-4b21-ae9f-a92c67b932c9\",\"type\":\"DatetimeAxis\"}],\"left\":[{\"id\":\"693d3662-9ace-4184-93cf-7f102de93f5e\",\"type\":\"LinearAxis\"}],\"renderers\":[{\"id\":\"95bd4080-46f9-45f3-95af-61b8085ccd92\",\"type\":\"BoxAnnotation\"},{\"id\":\"a88bd39e-4fc8-4099-8e3b-5d01197307e1\",\"type\":\"GlyphRenderer\"},{\"id\":\"d0d3fe9a-e761-40bc-8b33-2b3bec7d4759\",\"type\":\"Legend\"},{\"id\":\"c2935156-07a5-4b21-ae9f-a92c67b932c9\",\"type\":\"DatetimeAxis\"},{\"id\":\"693d3662-9ace-4184-93cf-7f102de93f5e\",\"type\":\"LinearAxis\"},{\"id\":\"af9e4dca-07fc-4e3b-9288-3ac34b65f589\",\"type\":\"Grid\"},{\"id\":\"7f8c25f5-f64a-43ca-a85a-0ea728a3a3e7\",\"type\":\"Grid\"}],\"title\":{\"id\":\"c33fc4b8-9213-4d4a-bcb5-6b24f8422c81\",\"type\":\"Title\"},\"tool_events\":{\"id\":\"0d755c73-c7ec-44a8-9f5b-5a09bce3f4e5\",\"type\":\"ToolEvents\"},\"toolbar\":{\"id\":\"701ff5d5-2e53-461f-a909-5240b2c6d6f9\",\"type\":\"Toolbar\"},\"x_mapper_type\":\"auto\",\"x_range\":{\"id\":\"dd8ece9a-4dbd-439b-87bf-fed249414ab2\",\"type\":\"Range1d\"},\"y_mapper_type\":\"auto\",\"y_range\":{\"id\":\"38fc6a00-13cd-4279-be97-9a12448affb9\",\"type\":\"Range1d\"}},\"id\":\"650cf706-5591-4e45-97bb-411bb428b7b6\",\"subtype\":\"Chart\",\"type\":\"Plot\"},{\"attributes\":{\"days\":[1,2,3,4,5,6,7,8,9,10,11,12,13,14,15,16,17,18,19,20,21,22,23,24,25,26,27,28,29,30,31]},\"id\":\"152ae7ad-6dbd-433a-bd36-eec5b94aac93\",\"type\":\"DaysTicker\"},{\"attributes\":{\"data_source\":{\"id\":\"09fa1eef-9ef8-49f4-b6be-33a464d320ad\",\"type\":\"ColumnDataSource\"},\"glyph\":{\"id\":\"5f16dda1-8148-4903-8f5d-82d60751ee58\",\"type\":\"Line\"},\"hover_glyph\":null,\"nonselection_glyph\":null,\"selection_glyph\":null},\"id\":\"a88bd39e-4fc8-4099-8e3b-5d01197307e1\",\"type\":\"GlyphRenderer\"},{\"attributes\":{},\"id\":\"29cdf597-799a-4b83-9269-e97240a66334\",\"type\":\"DatetimeTicker\"},{\"attributes\":{\"days\":[1,15]},\"id\":\"fe721630-09ce-401b-ab08-70f0eca6462d\",\"type\":\"DaysTicker\"},{\"attributes\":{\"axis_label\":\"date\",\"formatter\":{\"id\":\"b140481f-1086-42d5-9cdc-f42ca68a125b\",\"type\":\"DatetimeTickFormatter\"},\"plot\":{\"id\":\"650cf706-5591-4e45-97bb-411bb428b7b6\",\"subtype\":\"Chart\",\"type\":\"Plot\"},\"ticker\":{\"id\":\"29cdf597-799a-4b83-9269-e97240a66334\",\"type\":\"DatetimeTicker\"}},\"id\":\"c2935156-07a5-4b21-ae9f-a92c67b932c9\",\"type\":\"DatetimeAxis\"},{\"attributes\":{\"base\":60,\"mantissas\":[1,2,5,10,15,20,30],\"max_interval\":1800000.0,\"min_interval\":1000.0,\"num_minor_ticks\":0},\"id\":\"5fe7e8da-b9a2-4fc0-954d-6a005df4c9b9\",\"type\":\"AdaptiveTicker\"},{\"attributes\":{},\"id\":\"6abb65a6-daaa-4be2-b5d8-c6c79e0b13e7\",\"type\":\"BasicTicker\"},{\"attributes\":{\"callback\":null,\"end\":1470009600000.0,\"start\":662688000000.0},\"id\":\"dd8ece9a-4dbd-439b-87bf-fed249414ab2\",\"type\":\"Range1d\"},{\"attributes\":{\"location\":\"top_left\",\"plot\":{\"id\":\"650cf706-5591-4e45-97bb-411bb428b7b6\",\"subtype\":\"Chart\",\"type\":\"Plot\"}},\"id\":\"d0d3fe9a-e761-40bc-8b33-2b3bec7d4759\",\"type\":\"Legend\"},{\"attributes\":{\"max_interval\":500.0,\"num_minor_ticks\":0},\"id\":\"9838bdd7-7e91-4fba-9b6c-bcd41810bdb3\",\"type\":\"AdaptiveTicker\"},{\"attributes\":{\"plot\":{\"id\":\"650cf706-5591-4e45-97bb-411bb428b7b6\",\"subtype\":\"Chart\",\"type\":\"Plot\"},\"ticker\":{\"id\":\"29cdf597-799a-4b83-9269-e97240a66334\",\"type\":\"DatetimeTicker\"}},\"id\":\"af9e4dca-07fc-4e3b-9288-3ac34b65f589\",\"type\":\"Grid\"},{\"attributes\":{\"months\":[0,4,8]},\"id\":\"d42777e8-863a-4757-8942-e3d30fd060f9\",\"type\":\"MonthsTicker\"},{\"attributes\":{\"axis_label\":\"index_nsa\",\"formatter\":{\"id\":\"32072ac3-2e3d-40f0-b80a-ef2ee522b213\",\"type\":\"BasicTickFormatter\"},\"plot\":{\"id\":\"650cf706-5591-4e45-97bb-411bb428b7b6\",\"subtype\":\"Chart\",\"type\":\"Plot\"},\"ticker\":{\"id\":\"6abb65a6-daaa-4be2-b5d8-c6c79e0b13e7\",\"type\":\"BasicTicker\"}},\"id\":\"693d3662-9ace-4184-93cf-7f102de93f5e\",\"type\":\"LinearAxis\"},{\"attributes\":{},\"id\":\"b140481f-1086-42d5-9cdc-f42ca68a125b\",\"type\":\"DatetimeTickFormatter\"},{\"attributes\":{},\"id\":\"32072ac3-2e3d-40f0-b80a-ef2ee522b213\",\"type\":\"BasicTickFormatter\"},{\"attributes\":{\"plot\":{\"id\":\"650cf706-5591-4e45-97bb-411bb428b7b6\",\"subtype\":\"Chart\",\"type\":\"Plot\"}},\"id\":\"92a8752d-28b6-49d1-805d-10a99b356303\",\"type\":\"WheelZoomTool\"},{\"attributes\":{\"bottom_units\":\"screen\",\"fill_alpha\":{\"value\":0.5},\"fill_color\":{\"value\":\"lightgrey\"},\"left_units\":\"screen\",\"level\":\"overlay\",\"line_alpha\":{\"value\":1.0},\"line_color\":{\"value\":\"black\"},\"line_dash\":[4,4],\"line_width\":{\"value\":2},\"plot\":null,\"render_mode\":\"css\",\"right_units\":\"screen\",\"top_units\":\"screen\"},\"id\":\"95bd4080-46f9-45f3-95af-61b8085ccd92\",\"type\":\"BoxAnnotation\"},{\"attributes\":{},\"id\":\"577dae2a-7ba5-4d20-8024-c203dd4e52ce\",\"type\":\"YearsTicker\"},{\"attributes\":{\"months\":[0,1,2,3,4,5,6,7,8,9,10,11]},\"id\":\"366aff89-4d74-4100-ad90-bf377c5449db\",\"type\":\"MonthsTicker\"},{\"attributes\":{\"callback\":null,\"column_names\":[\"y_values\",\"x_values\"],\"data\":{\"chart_index\":[null,null,null,null,null,null,null,null,null,null,null,null,null,null,null,null,null,null,null,null,null,null,null,null,null,null,null,null,null,null,null,null,null,null,null,null,null,null,null,null,null,null,null,null,null,null,null,null,null,null,null,null,null,null,null,null,null,null,null,null,null,null,null,null,null,null,null,null,null,null,null,null,null,null,null,null,null,null,null,null,null,null,null,null,null,null,null,null,null,null,null,null,null,null,null,null,null,null,null,null,null,null,null,null,null,null,null,null,null,null,null,null,null,null,null,null,null,null,null,null,null,null,null,null,null,null,null,null,null,null,null,null,null,null,null,null,null,null,null,null,null,null,null,null,null,null,null,null,null,null,null,null,null,null,null,null,null,null,null,null,null,null,null,null,null,null,null,null,null,null,null,null,null,null,null,null,null,null,null,null,null,null,null,null,null,null,null,null,null,null,null,null,null,null,null,null,null,null,null,null,null,null,null,null,null,null,null,null,null,null,null,null,null,null,null,null,null,null,null,null,null,null,null,null,null,null,null,null,null,null,null,null,null,null,null,null,null,null,null,null,null,null,null,null,null,null,null,null,null,null,null,null,null,null,null,null,null,null,null,null,null,null,null,null,null,null,null,null,null,null,null,null,null,null,null,null,null,null,null,null,null,null,null,null,null,null,null,null,null,null,null,null,null,null,null,null,null,null,null,null,null,null,null,null,null,null,null,null],\"x_values\":[662688000000.0,665366400000.0,667785600000.0,670464000000.0,673056000000.0,675734400000.0,678326400000.0,681004800000.0,683683200000.0,686275200000.0,688953600000.0,691545600000.0,694224000000.0,696902400000.0,699408000000.0,702086400000.0,704678400000.0,707356800000.0,709948800000.0,712627200000.0,715305600000.0,717897600000.0,720576000000.0,723168000000.0,725846400000.0,728524800000.0,730944000000.0,733622400000.0,736214400000.0,738892800000.0,741484800000.0,744163200000.0,746841600000.0,749433600000.0,752112000000.0,754704000000.0,757382400000.0,760060800000.0,762480000000.0,765158400000.0,767750400000.0,770428800000.0,773020800000.0,775699200000.0,778377600000.0,780969600000.0,783648000000.0,786240000000.0,788918400000.0,791596800000.0,794016000000.0,796694400000.0,799286400000.0,801964800000.0,804556800000.0,807235200000.0,809913600000.0,812505600000.0,815184000000.0,817776000000.0,820454400000.0,823132800000.0,825638400000.0,828316800000.0,830908800000.0,833587200000.0,836179200000.0,838857600000.0,841536000000.0,844128000000.0,846806400000.0,849398400000.0,852076800000.0,854755200000.0,857174400000.0,859852800000.0,862444800000.0,865123200000.0,867715200000.0,870393600000.0,873072000000.0,875664000000.0,878342400000.0,880934400000.0,883612800000.0,886291200000.0,888710400000.0,891388800000.0,893980800000.0,896659200000.0,899251200000.0,901929600000.0,904608000000.0,907200000000.0,909878400000.0,912470400000.0,915148800000.0,917827200000.0,920246400000.0,922924800000.0,925516800000.0,928195200000.0,930787200000.0,933465600000.0,936144000000.0,938736000000.0,941414400000.0,944006400000.0,946684800000.0,949363200000.0,951868800000.0,954547200000.0,957139200000.0,959817600000.0,962409600000.0,965088000000.0,967766400000.0,970358400000.0,973036800000.0,975628800000.0,978307200000.0,980985600000.0,983404800000.0,986083200000.0,988675200000.0,991353600000.0,993945600000.0,996624000000.0,999302400000.0,1001894400000.0,1004572800000.0,1007164800000.0,1009843200000.0,1012521600000.0,1014940800000.0,1017619200000.0,1020211200000.0,1022889600000.0,1025481600000.0,1028160000000.0,1030838400000.0,1033430400000.0,1036108800000.0,1038700800000.0,1041379200000.0,1044057600000.0,1046476800000.0,1049155200000.0,1051747200000.0,1054425600000.0,1057017600000.0,1059696000000.0,1062374400000.0,1064966400000.0,1067644800000.0,1070236800000.0,1072915200000.0,1075593600000.0,1078099200000.0,1080777600000.0,1083369600000.0,1086048000000.0,1088640000000.0,1091318400000.0,1093996800000.0,1096588800000.0,1099267200000.0,1101859200000.0,1104537600000.0,1107216000000.0,1109635200000.0,1112313600000.0,1114905600000.0,1117584000000.0,1120176000000.0,1122854400000.0,1125532800000.0,1128124800000.0,1130803200000.0,1133395200000.0,1136073600000.0,1138752000000.0,1141171200000.0,1143849600000.0,1146441600000.0,1149120000000.0,1151712000000.0,1154390400000.0,1157068800000.0,1159660800000.0,1162339200000.0,1164931200000.0,1167609600000.0,1170288000000.0,1172707200000.0,1175385600000.0,1177977600000.0,1180656000000.0,1183248000000.0,1185926400000.0,1188604800000.0,1191196800000.0,1193875200000.0,1196467200000.0,1199145600000.0,1201824000000.0,1204329600000.0,1207008000000.0,1209600000000.0,1212278400000.0,1214870400000.0,1217548800000.0,1220227200000.0,1222819200000.0,1225497600000.0,1228089600000.0,1230768000000.0,1233446400000.0,1235865600000.0,1238544000000.0,1241136000000.0,1243814400000.0,1246406400000.0,1249084800000.0,1251763200000.0,1254355200000.0,1257033600000.0,1259625600000.0,1262304000000.0,1264982400000.0,1267401600000.0,1270080000000.0,1272672000000.0,1275350400000.0,1277942400000.0,1280620800000.0,1283299200000.0,1285891200000.0,1288569600000.0,1291161600000.0,1293840000000.0,1296518400000.0,1298937600000.0,1301616000000.0,1304208000000.0,1306886400000.0,1309478400000.0,1312156800000.0,1314835200000.0,1317427200000.0,1320105600000.0,1322697600000.0,1325376000000.0,1328054400000.0,1330560000000.0,1333238400000.0,1335830400000.0,1338508800000.0,1341100800000.0,1343779200000.0,1346457600000.0,1349049600000.0,1351728000000.0,1354320000000.0,1356998400000.0,1359676800000.0,1362096000000.0,1364774400000.0,1367366400000.0,1370044800000.0,1372636800000.0,1375315200000.0,1377993600000.0,1380585600000.0,1383264000000.0,1385856000000.0,1388534400000.0,1391212800000.0,1393632000000.0,1396310400000.0,1398902400000.0,1401580800000.0,1404172800000.0,1406851200000.0,1409529600000.0,1412121600000.0,1414800000000.0,1417392000000.0,1420070400000.0,1422748800000.0,1425168000000.0,1427846400000.0,1430438400000.0,1433116800000.0,1435708800000.0,1438387200000.0,1441065600000.0,1443657600000.0,1446336000000.0,1448928000000.0,1451606400000.0,1454284800000.0,1456790400000.0,1459468800000.0,1462060800000.0,1464739200000.0,1467331200000.0,1470009600000.0],\"y_values\":[100.0,100.47,100.73,100.75,100.91,101.4,101.34,101.29,101.42,101.62,102.16,102.19,102.29,102.98,103.08,102.99,103.17,103.53,103.78,104.37,104.62,104.8,105.07,104.65,104.41,104.08,104.7,105.58,105.93,106.71,106.73,107.18,107.41,107.55,107.72,107.91,107.86,108.02,108.74,109.32,109.86,110.48,110.58,110.94,110.8,110.87,111.01,110.67,110.76,111.16,111.45,111.92,112.29,113.11,113.6,113.95,113.86,113.78,113.81,113.95,114.06,114.23,115.0,115.6,116.23,116.72,117.14,117.11,117.12,116.97,117.09,117.1,116.93,117.23,118.18,118.69,119.5,119.97,120.26,120.66,120.42,120.86,120.99,121.07,121.19,122.07,122.95,123.85,124.78,125.96,126.22,126.73,127.19,127.46,127.99,128.21,128.73,129.22,130.26,131.26,132.51,133.55,134.21,134.95,135.03,135.65,135.81,136.06,137.43,137.22,138.8,140.08,141.23,142.65,143.36,143.79,144.43,144.96,145.4,145.8,146.47,147.43,148.79,150.0,151.23,152.48,153.33,153.93,154.5,155.08,155.05,155.58,156.14,157.03,158.6,159.92,161.62,163.17,164.25,165.17,165.94,166.68,167.06,167.71,168.3,169.38,170.61,172.16,173.84,175.23,176.56,177.72,178.9,179.44,180.2,181.09,181.78,183.27,185.23,187.37,190.04,192.6,194.21,195.45,196.59,197.43,198.61,199.56,200.29,201.99,204.88,207.44,210.18,212.63,214.62,216.15,217.57,218.12,218.67,219.14,219.75,220.69,222.4,223.85,225.6,226.29,226.18,226.58,225.88,225.53,225.27,224.48,224.3,224.89,226.81,227.89,228.23,228.21,226.87,225.7,223.96,221.69,219.37,217.2,214.14,213.72,212.38,211.39,210.49,210.01,207.88,205.62,203.07,200.69,196.39,194.77,195.68,196.52,194.63,195.03,196.13,196.93,196.18,195.41,194.42,194.51,194.17,190.78,189.91,189.47,190.04,191.78,193.64,192.49,191.11,190.3,187.71,187.48,186.14,183.42,181.48,179.8,178.91,180.92,182.27,183.96,184.39,183.12,183.29,181.72,181.91,181.15,179.31,179.95,182.71,185.47,188.52,190.43,190.65,190.84,190.71,191.05,191.27,190.93,190.8,192.33,195.93,198.66,202.27,204.83,206.05,205.96,205.62,205.79,205.09,204.86,204.36,205.49,208.14,210.39,213.01,215.14,216.01,215.86,214.98,215.35,215.54,215.93,214.56,216.59,219.17,222.12,225.31,227.36,228.44,227.87,228.19,228.31,228.76,228.62,227.64,229.28,233.36,235.68,238.54,240.67,241.87,242.48]}},\"id\":\"09fa1eef-9ef8-49f4-b6be-33a464d320ad\",\"type\":\"ColumnDataSource\"},{\"attributes\":{\"callback\":null,\"end\":256.728,\"start\":85.752},\"id\":\"38fc6a00-13cd-4279-be97-9a12448affb9\",\"type\":\"Range1d\"},{\"attributes\":{\"plot\":{\"id\":\"650cf706-5591-4e45-97bb-411bb428b7b6\",\"subtype\":\"Chart\",\"type\":\"Plot\"}},\"id\":\"b3b328d7-d48c-4a52-8b6f-2dc3d1beb2e2\",\"type\":\"SaveTool\"},{\"attributes\":{\"dimension\":1,\"plot\":{\"id\":\"650cf706-5591-4e45-97bb-411bb428b7b6\",\"subtype\":\"Chart\",\"type\":\"Plot\"},\"ticker\":{\"id\":\"6abb65a6-daaa-4be2-b5d8-c6c79e0b13e7\",\"type\":\"BasicTicker\"}},\"id\":\"7f8c25f5-f64a-43ca-a85a-0ea728a3a3e7\",\"type\":\"Grid\"},{\"attributes\":{\"plot\":{\"id\":\"650cf706-5591-4e45-97bb-411bb428b7b6\",\"subtype\":\"Chart\",\"type\":\"Plot\"}},\"id\":\"24d95e55-bebd-4900-9423-867f9cb8ccb1\",\"type\":\"PanTool\"},{\"attributes\":{\"days\":[1,8,15,22]},\"id\":\"b6f15b8f-dbba-496a-b42c-1b4475f1958d\",\"type\":\"DaysTicker\"},{\"attributes\":{\"plot\":{\"id\":\"650cf706-5591-4e45-97bb-411bb428b7b6\",\"subtype\":\"Chart\",\"type\":\"Plot\"}},\"id\":\"f32dbc76-67dd-44ab-97ff-f1eef1d3b75c\",\"type\":\"HelpTool\"},{\"attributes\":{\"plot\":{\"id\":\"650cf706-5591-4e45-97bb-411bb428b7b6\",\"subtype\":\"Chart\",\"type\":\"Plot\"}},\"id\":\"a3563b40-413f-4282-bf04-020b79fdd29e\",\"type\":\"ResetTool\"},{\"attributes\":{\"plot\":null,\"text\":\"Home Price Values in the U.S.\"},\"id\":\"c33fc4b8-9213-4d4a-bcb5-6b24f8422c81\",\"type\":\"Title\"},{\"attributes\":{\"overlay\":{\"id\":\"95bd4080-46f9-45f3-95af-61b8085ccd92\",\"type\":\"BoxAnnotation\"},\"plot\":{\"id\":\"650cf706-5591-4e45-97bb-411bb428b7b6\",\"subtype\":\"Chart\",\"type\":\"Plot\"}},\"id\":\"5d7a702d-b641-432a-bcc6-b3ce27d19c8f\",\"type\":\"BoxZoomTool\"},{\"attributes\":{\"months\":[0,6]},\"id\":\"00de4acd-a9ef-4453-8cb0-b1ba646a3998\",\"type\":\"MonthsTicker\"}],\"root_ids\":[\"650cf706-5591-4e45-97bb-411bb428b7b6\"]},\"title\":\"Bokeh Application\",\"version\":\"0.12.2\"}};\n",
       "            var render_items = [{\"docid\":\"350dda9b-d9d2-47e0-a810-d5350f1939e0\",\"elementid\":\"42698f7d-807c-4632-9b36-bdabf4555d9c\",\"modelid\":\"650cf706-5591-4e45-97bb-411bb428b7b6\"}];\n",
       "            \n",
       "            Bokeh.embed.embed_items(docs_json, render_items);\n",
       "        });\n",
       "      },\n",
       "      function(Bokeh) {\n",
       "      }\n",
       "    ];\n",
       "  \n",
       "    function run_inline_js() {\n",
       "      \n",
       "      if ((window.Bokeh !== undefined) || (force === \"1\")) {\n",
       "        for (var i = 0; i < inline_js.length; i++) {\n",
       "          inline_js[i](window.Bokeh);\n",
       "        }if (force === \"1\") {\n",
       "          display_loaded();\n",
       "        }} else if (Date.now() < window._bokeh_timeout) {\n",
       "        setTimeout(run_inline_js, 100);\n",
       "      } else if (!window._bokeh_failed_load) {\n",
       "        console.log(\"Bokeh: BokehJS failed to load within specified timeout.\");\n",
       "        window._bokeh_failed_load = true;\n",
       "      } else if (!force) {\n",
       "        var cell = $(\"#42698f7d-807c-4632-9b36-bdabf4555d9c\").parents('.cell').data().cell;\n",
       "        cell.output_area.append_execute_result(NB_LOAD_WARNING)\n",
       "      }\n",
       "  \n",
       "    }\n",
       "  \n",
       "    if (window._bokeh_is_loading === 0) {\n",
       "      console.log(\"Bokeh: BokehJS loaded, going straight to plotting\");\n",
       "      run_inline_js();\n",
       "    } else {\n",
       "      load_libs(js_urls, function() {\n",
       "        console.log(\"Bokeh: BokehJS plotting callback run at\", now());\n",
       "        run_inline_js();\n",
       "      });\n",
       "    }\n",
       "  }(this));\n",
       "</script>"
      ]
     },
     "metadata": {},
     "output_type": "display_data"
    }
   ],
   "source": [
    "p = bokeh.charts.Line(df_us, x='date', y='index_nsa', color='firebrick',  title=\"Home Price Values in the U.S.\")\n",
    "\n",
    "# Display it\n",
    "bokeh.io.show(p)"
   ]
  },
  {
   "cell_type": "markdown",
   "metadata": {},
   "source": [
    "  "
   ]
  },
  {
   "cell_type": "code",
   "execution_count": 50,
   "metadata": {
    "collapsed": false
   },
   "outputs": [],
   "source": [
    "df_us_3 = df.loc[['West South Central Division', 'United States', 'Pacific Division']]"
   ]
  },
  {
   "cell_type": "markdown",
   "metadata": {},
   "source": [
    "  "
   ]
  },
  {
   "cell_type": "markdown",
   "metadata": {},
   "source": [
    "  "
   ]
  },
  {
   "cell_type": "code",
   "execution_count": 51,
   "metadata": {
    "collapsed": false
   },
   "outputs": [
    {
     "data": {
      "text/html": [
       "\n",
       "\n",
       "    <div class=\"bk-root\">\n",
       "        <div class=\"plotdiv\" id=\"b0247fb1-52e8-461f-98a7-705663c38981\"></div>\n",
       "    </div>\n",
       "<script type=\"text/javascript\">\n",
       "  \n",
       "  (function(global) {\n",
       "    function now() {\n",
       "      return new Date();\n",
       "    }\n",
       "  \n",
       "    var force = \"\";\n",
       "  \n",
       "    if (typeof (window._bokeh_onload_callbacks) === \"undefined\" || force !== \"\") {\n",
       "      window._bokeh_onload_callbacks = [];\n",
       "      window._bokeh_is_loading = undefined;\n",
       "    }\n",
       "  \n",
       "  \n",
       "    \n",
       "    if (typeof (window._bokeh_timeout) === \"undefined\" || force !== \"\") {\n",
       "      window._bokeh_timeout = Date.now() + 0;\n",
       "      window._bokeh_failed_load = false;\n",
       "    }\n",
       "  \n",
       "    var NB_LOAD_WARNING = {'data': {'text/html':\n",
       "       \"<div style='background-color: #fdd'>\\n\"+\n",
       "       \"<p>\\n\"+\n",
       "       \"BokehJS does not appear to have successfully loaded. If loading BokehJS from CDN, this \\n\"+\n",
       "       \"may be due to a slow or bad network connection. Possible fixes:\\n\"+\n",
       "       \"</p>\\n\"+\n",
       "       \"<ul>\\n\"+\n",
       "       \"<li>re-rerun `output_notebook()` to attempt to load from CDN again, or</li>\\n\"+\n",
       "       \"<li>use INLINE resources instead, as so:</li>\\n\"+\n",
       "       \"</ul>\\n\"+\n",
       "       \"<code>\\n\"+\n",
       "       \"from bokeh.resources import INLINE\\n\"+\n",
       "       \"output_notebook(resources=INLINE)\\n\"+\n",
       "       \"</code>\\n\"+\n",
       "       \"</div>\"}};\n",
       "  \n",
       "    function display_loaded() {\n",
       "      if (window.Bokeh !== undefined) {\n",
       "        Bokeh.$(\"#b0247fb1-52e8-461f-98a7-705663c38981\").text(\"BokehJS successfully loaded.\");\n",
       "      } else if (Date.now() < window._bokeh_timeout) {\n",
       "        setTimeout(display_loaded, 100)\n",
       "      }\n",
       "    }\n",
       "  \n",
       "    function run_callbacks() {\n",
       "      window._bokeh_onload_callbacks.forEach(function(callback) { callback() });\n",
       "      delete window._bokeh_onload_callbacks\n",
       "      console.info(\"Bokeh: all callbacks have finished\");\n",
       "    }\n",
       "  \n",
       "    function load_libs(js_urls, callback) {\n",
       "      window._bokeh_onload_callbacks.push(callback);\n",
       "      if (window._bokeh_is_loading > 0) {\n",
       "        console.log(\"Bokeh: BokehJS is being loaded, scheduling callback at\", now());\n",
       "        return null;\n",
       "      }\n",
       "      if (js_urls == null || js_urls.length === 0) {\n",
       "        run_callbacks();\n",
       "        return null;\n",
       "      }\n",
       "      console.log(\"Bokeh: BokehJS not loaded, scheduling load and callback at\", now());\n",
       "      window._bokeh_is_loading = js_urls.length;\n",
       "      for (var i = 0; i < js_urls.length; i++) {\n",
       "        var url = js_urls[i];\n",
       "        var s = document.createElement('script');\n",
       "        s.src = url;\n",
       "        s.async = false;\n",
       "        s.onreadystatechange = s.onload = function() {\n",
       "          window._bokeh_is_loading--;\n",
       "          if (window._bokeh_is_loading === 0) {\n",
       "            console.log(\"Bokeh: all BokehJS libraries loaded\");\n",
       "            run_callbacks()\n",
       "          }\n",
       "        };\n",
       "        s.onerror = function() {\n",
       "          console.warn(\"failed to load library \" + url);\n",
       "        };\n",
       "        console.log(\"Bokeh: injecting script tag for BokehJS library: \", url);\n",
       "        document.getElementsByTagName(\"head\")[0].appendChild(s);\n",
       "      }\n",
       "    };var element = document.getElementById(\"b0247fb1-52e8-461f-98a7-705663c38981\");\n",
       "    if (element == null) {\n",
       "      console.log(\"Bokeh: ERROR: autoload.js configured with elementid 'b0247fb1-52e8-461f-98a7-705663c38981' but no matching script tag was found. \")\n",
       "      return false;\n",
       "    }\n",
       "  \n",
       "    var js_urls = [];\n",
       "  \n",
       "    var inline_js = [\n",
       "      function(Bokeh) {\n",
       "        Bokeh.$(function() {\n",
       "            var docs_json = {\"fa558ff4-632b-4fa6-aa6d-75822ca8ad21\":{\"roots\":{\"references\":[{\"attributes\":{},\"id\":\"c38201fe-ef9d-40eb-8412-189dec975dc3\",\"type\":\"DatetimeTicker\"},{\"attributes\":{\"plot\":{\"id\":\"349f9bc6-7471-46d0-967a-f5131c1c3349\",\"subtype\":\"Chart\",\"type\":\"Plot\"}},\"id\":\"6346128a-9893-4724-90ad-887c810c1c0a\",\"type\":\"ResetTool\"},{\"attributes\":{\"dimension\":1,\"plot\":{\"id\":\"349f9bc6-7471-46d0-967a-f5131c1c3349\",\"subtype\":\"Chart\",\"type\":\"Plot\"},\"ticker\":{\"id\":\"6e7b8d5b-bfc4-46b1-a41d-67d6397eaca0\",\"type\":\"BasicTicker\"}},\"id\":\"eb2045c2-8341-4e4b-87c3-ca349e7f11c3\",\"type\":\"Grid\"},{\"attributes\":{\"base\":24,\"mantissas\":[1,2,4,6,8,12],\"max_interval\":43200000.0,\"min_interval\":3600000.0,\"num_minor_ticks\":0},\"id\":\"13bbbdb9-661a-4591-bb07-5cfe17102af3\",\"type\":\"AdaptiveTicker\"},{\"attributes\":{\"line_color\":{\"value\":\"#f22c40\"},\"line_width\":{\"value\":2},\"x\":{\"field\":\"x_values\"},\"y\":{\"field\":\"y_values\"}},\"id\":\"3338f38b-9847-438b-8384-47fb97b6536c\",\"type\":\"Line\"},{\"attributes\":{\"callback\":null,\"end\":303.973,\"start\":76.297},\"id\":\"6398644d-ebd4-4f56-8620-7bdd34140272\",\"type\":\"Range1d\"},{\"attributes\":{\"base\":60,\"mantissas\":[1,2,5,10,15,20,30],\"max_interval\":1800000.0,\"min_interval\":1000.0,\"num_minor_ticks\":0},\"id\":\"f5c27d44-b2c2-42cf-9d56-eac2d76566e2\",\"type\":\"AdaptiveTicker\"},{\"attributes\":{\"line_color\":{\"value\":\"#407ee7\"},\"line_width\":{\"value\":2},\"x\":{\"field\":\"x_values\"},\"y\":{\"field\":\"y_values\"}},\"id\":\"094a1c87-100d-4063-9fca-3b3c2b475e9e\",\"type\":\"Line\"},{\"attributes\":{\"bottom_units\":\"screen\",\"fill_alpha\":{\"value\":0.5},\"fill_color\":{\"value\":\"lightgrey\"},\"left_units\":\"screen\",\"level\":\"overlay\",\"line_alpha\":{\"value\":1.0},\"line_color\":{\"value\":\"black\"},\"line_dash\":[4,4],\"line_width\":{\"value\":2},\"plot\":null,\"render_mode\":\"css\",\"right_units\":\"screen\",\"top_units\":\"screen\"},\"id\":\"95fbfe7b-9ee4-420f-bb7c-ad0d32d7d11f\",\"type\":\"BoxAnnotation\"},{\"attributes\":{\"days\":[1,4,7,10,13,16,19,22,25,28]},\"id\":\"e26acf91-638b-417f-9789-3d12edfe6650\",\"type\":\"DaysTicker\"},{\"attributes\":{},\"id\":\"82417133-cd1d-4c46-a5de-df9386f4e572\",\"type\":\"ToolEvents\"},{\"attributes\":{\"active_drag\":\"auto\",\"active_scroll\":\"auto\",\"active_tap\":\"auto\",\"tools\":[{\"id\":\"1b0ed6ee-2ec6-43fb-a8f0-a6e3c08bf4c1\",\"type\":\"PanTool\"},{\"id\":\"312a0da7-57fe-492b-bf52-79582cef763b\",\"type\":\"WheelZoomTool\"},{\"id\":\"1ea715fe-ad3a-4cab-9c59-d3d7222c011b\",\"type\":\"BoxZoomTool\"},{\"id\":\"ea8a9238-be41-40af-a7e0-0c7d78df96ea\",\"type\":\"SaveTool\"},{\"id\":\"6346128a-9893-4724-90ad-887c810c1c0a\",\"type\":\"ResetTool\"},{\"id\":\"50ed3201-a8c1-4abb-bdbc-c28d81ed44c0\",\"type\":\"HelpTool\"}]},\"id\":\"72e5aa59-5ad2-4519-9b17-c2debbdb5b18\",\"type\":\"Toolbar\"},{\"attributes\":{},\"id\":\"5974da23-68f4-4965-b85f-efd41eabda18\",\"type\":\"DatetimeTickFormatter\"},{\"attributes\":{\"plot\":{\"id\":\"349f9bc6-7471-46d0-967a-f5131c1c3349\",\"subtype\":\"Chart\",\"type\":\"Plot\"}},\"id\":\"ea8a9238-be41-40af-a7e0-0c7d78df96ea\",\"type\":\"SaveTool\"},{\"attributes\":{\"axis_label\":\"date\",\"formatter\":{\"id\":\"5974da23-68f4-4965-b85f-efd41eabda18\",\"type\":\"DatetimeTickFormatter\"},\"plot\":{\"id\":\"349f9bc6-7471-46d0-967a-f5131c1c3349\",\"subtype\":\"Chart\",\"type\":\"Plot\"},\"ticker\":{\"id\":\"c38201fe-ef9d-40eb-8412-189dec975dc3\",\"type\":\"DatetimeTicker\"}},\"id\":\"dfeb4658-49d2-4b63-ae28-c6ccd0bf2c21\",\"type\":\"DatetimeAxis\"},{\"attributes\":{},\"id\":\"96a0e6c9-2427-4bc1-97f0-8ca3e99358b9\",\"type\":\"BasicTickFormatter\"},{\"attributes\":{\"axis_label\":\"index_nsa\",\"formatter\":{\"id\":\"96a0e6c9-2427-4bc1-97f0-8ca3e99358b9\",\"type\":\"BasicTickFormatter\"},\"plot\":{\"id\":\"349f9bc6-7471-46d0-967a-f5131c1c3349\",\"subtype\":\"Chart\",\"type\":\"Plot\"},\"ticker\":{\"id\":\"6e7b8d5b-bfc4-46b1-a41d-67d6397eaca0\",\"type\":\"BasicTicker\"}},\"id\":\"5f497759-100b-4030-8c02-91c04a2bf226\",\"type\":\"LinearAxis\"},{\"attributes\":{\"days\":[1,8,15,22]},\"id\":\"4013f3cc-69b8-46dc-84e1-a535491562f7\",\"type\":\"DaysTicker\"},{\"attributes\":{\"days\":[1,15]},\"id\":\"3bf9fcf3-33ae-4039-9591-c44dc3546e34\",\"type\":\"DaysTicker\"},{\"attributes\":{\"data_source\":{\"id\":\"154ee09f-5c1f-4cdc-85f1-9b8ad21d6737\",\"type\":\"ColumnDataSource\"},\"glyph\":{\"id\":\"094a1c87-100d-4063-9fca-3b3c2b475e9e\",\"type\":\"Line\"},\"hover_glyph\":null,\"nonselection_glyph\":null,\"selection_glyph\":null},\"id\":\"b5ea80f5-2169-4fb0-81b8-e1730122dd1b\",\"type\":\"GlyphRenderer\"},{\"attributes\":{\"data_source\":{\"id\":\"52422c0f-3cc5-4e75-b02c-f0cbec4157ab\",\"type\":\"ColumnDataSource\"},\"glyph\":{\"id\":\"a3a5b7ee-115e-441f-85c6-962626ab3f1f\",\"type\":\"Line\"},\"hover_glyph\":null,\"nonselection_glyph\":null,\"selection_glyph\":null},\"id\":\"37615e3b-f8d1-4424-8f1a-b6ecc13b5e81\",\"type\":\"GlyphRenderer\"},{\"attributes\":{},\"id\":\"255e8b5c-6795-4117-b7cc-8732422bd416\",\"type\":\"YearsTicker\"},{\"attributes\":{\"callback\":null,\"column_names\":[\"y_values\",\"x_values\"],\"data\":{\"chart_index\":[{\"place_name\":\"West South Central Division\"},{\"place_name\":\"West South Central Division\"},{\"place_name\":\"West South Central Division\"},{\"place_name\":\"West South Central Division\"},{\"place_name\":\"West South Central Division\"},{\"place_name\":\"West South Central Division\"},{\"place_name\":\"West South Central Division\"},{\"place_name\":\"West South Central Division\"},{\"place_name\":\"West South Central Division\"},{\"place_name\":\"West South Central Division\"},{\"place_name\":\"West South Central Division\"},{\"place_name\":\"West South Central Division\"},{\"place_name\":\"West South Central Division\"},{\"place_name\":\"West South Central Division\"},{\"place_name\":\"West South Central Division\"},{\"place_name\":\"West South Central Division\"},{\"place_name\":\"West South Central Division\"},{\"place_name\":\"West South Central Division\"},{\"place_name\":\"West South Central Division\"},{\"place_name\":\"West South Central Division\"},{\"place_name\":\"West South Central Division\"},{\"place_name\":\"West South Central Division\"},{\"place_name\":\"West South Central Division\"},{\"place_name\":\"West South Central Division\"},{\"place_name\":\"West South Central Division\"},{\"place_name\":\"West South Central Division\"},{\"place_name\":\"West South Central Division\"},{\"place_name\":\"West South Central Division\"},{\"place_name\":\"West South Central Division\"},{\"place_name\":\"West South Central Division\"},{\"place_name\":\"West South Central Division\"},{\"place_name\":\"West South Central Division\"},{\"place_name\":\"West South Central Division\"},{\"place_name\":\"West South Central Division\"},{\"place_name\":\"West South Central Division\"},{\"place_name\":\"West South Central Division\"},{\"place_name\":\"West South Central Division\"},{\"place_name\":\"West South Central Division\"},{\"place_name\":\"West South Central Division\"},{\"place_name\":\"West South Central Division\"},{\"place_name\":\"West South Central Division\"},{\"place_name\":\"West South Central Division\"},{\"place_name\":\"West South Central Division\"},{\"place_name\":\"West South Central Division\"},{\"place_name\":\"West South Central Division\"},{\"place_name\":\"West South Central Division\"},{\"place_name\":\"West South Central Division\"},{\"place_name\":\"West South Central Division\"},{\"place_name\":\"West South Central Division\"},{\"place_name\":\"West South Central Division\"},{\"place_name\":\"West South Central Division\"},{\"place_name\":\"West South Central Division\"},{\"place_name\":\"West South Central Division\"},{\"place_name\":\"West South Central Division\"},{\"place_name\":\"West South Central Division\"},{\"place_name\":\"West South Central Division\"},{\"place_name\":\"West South Central Division\"},{\"place_name\":\"West South Central Division\"},{\"place_name\":\"West South Central Division\"},{\"place_name\":\"West South Central Division\"},{\"place_name\":\"West South Central Division\"},{\"place_name\":\"West South Central Division\"},{\"place_name\":\"West South Central Division\"},{\"place_name\":\"West South Central Division\"},{\"place_name\":\"West South Central Division\"},{\"place_name\":\"West South Central Division\"},{\"place_name\":\"West South Central Division\"},{\"place_name\":\"West South Central Division\"},{\"place_name\":\"West South Central Division\"},{\"place_name\":\"West South Central Division\"},{\"place_name\":\"West South Central Division\"},{\"place_name\":\"West South Central Division\"},{\"place_name\":\"West South Central Division\"},{\"place_name\":\"West South Central Division\"},{\"place_name\":\"West South Central Division\"},{\"place_name\":\"West South Central Division\"},{\"place_name\":\"West South Central Division\"},{\"place_name\":\"West South Central Division\"},{\"place_name\":\"West South Central Division\"},{\"place_name\":\"West South Central Division\"},{\"place_name\":\"West South Central Division\"},{\"place_name\":\"West South Central Division\"},{\"place_name\":\"West South Central Division\"},{\"place_name\":\"West South Central Division\"},{\"place_name\":\"West South Central Division\"},{\"place_name\":\"West South Central Division\"},{\"place_name\":\"West South Central Division\"},{\"place_name\":\"West South Central Division\"},{\"place_name\":\"West South Central Division\"},{\"place_name\":\"West South Central Division\"},{\"place_name\":\"West South Central Division\"},{\"place_name\":\"West South Central Division\"},{\"place_name\":\"West South Central Division\"},{\"place_name\":\"West South Central Division\"},{\"place_name\":\"West South Central Division\"},{\"place_name\":\"West South Central Division\"},{\"place_name\":\"West South Central Division\"},{\"place_name\":\"West South Central Division\"},{\"place_name\":\"West South Central Division\"},{\"place_name\":\"West South Central Division\"},{\"place_name\":\"West South Central Division\"},{\"place_name\":\"West South Central Division\"},{\"place_name\":\"West South Central Division\"},{\"place_name\":\"West South Central Division\"},{\"place_name\":\"West South Central Division\"},{\"place_name\":\"West South Central Division\"},{\"place_name\":\"West South Central Division\"},{\"place_name\":\"West South Central Division\"},{\"place_name\":\"West South Central Division\"},{\"place_name\":\"West South Central Division\"},{\"place_name\":\"West South Central Division\"},{\"place_name\":\"West South Central Division\"},{\"place_name\":\"West South Central Division\"},{\"place_name\":\"West South Central Division\"},{\"place_name\":\"West South Central Division\"},{\"place_name\":\"West South Central Division\"},{\"place_name\":\"West South Central Division\"},{\"place_name\":\"West South Central Division\"},{\"place_name\":\"West South Central Division\"},{\"place_name\":\"West South Central Division\"},{\"place_name\":\"West South Central Division\"},{\"place_name\":\"West South Central Division\"},{\"place_name\":\"West South Central Division\"},{\"place_name\":\"West South Central Division\"},{\"place_name\":\"West South Central Division\"},{\"place_name\":\"West South Central Division\"},{\"place_name\":\"West South Central Division\"},{\"place_name\":\"West South Central Division\"},{\"place_name\":\"West South Central Division\"},{\"place_name\":\"West South Central Division\"},{\"place_name\":\"West South Central Division\"},{\"place_name\":\"West South Central Division\"},{\"place_name\":\"West South Central Division\"},{\"place_name\":\"West South Central Division\"},{\"place_name\":\"West South Central Division\"},{\"place_name\":\"West South Central Division\"},{\"place_name\":\"West South Central Division\"},{\"place_name\":\"West South Central Division\"},{\"place_name\":\"West South Central Division\"},{\"place_name\":\"West South Central Division\"},{\"place_name\":\"West South Central Division\"},{\"place_name\":\"West South Central Division\"},{\"place_name\":\"West South Central Division\"},{\"place_name\":\"West South Central Division\"},{\"place_name\":\"West South Central Division\"},{\"place_name\":\"West South Central Division\"},{\"place_name\":\"West South Central Division\"},{\"place_name\":\"West South Central Division\"},{\"place_name\":\"West South Central Division\"},{\"place_name\":\"West South Central Division\"},{\"place_name\":\"West South Central Division\"},{\"place_name\":\"West South Central Division\"},{\"place_name\":\"West South Central Division\"},{\"place_name\":\"West South Central Division\"},{\"place_name\":\"West South Central Division\"},{\"place_name\":\"West South Central Division\"},{\"place_name\":\"West South Central Division\"},{\"place_name\":\"West South Central Division\"},{\"place_name\":\"West South Central Division\"},{\"place_name\":\"West South Central Division\"},{\"place_name\":\"West South Central Division\"},{\"place_name\":\"West South Central Division\"},{\"place_name\":\"West South Central Division\"},{\"place_name\":\"West South Central Division\"},{\"place_name\":\"West South Central Division\"},{\"place_name\":\"West South Central Division\"},{\"place_name\":\"West South Central Division\"},{\"place_name\":\"West South Central Division\"},{\"place_name\":\"West South Central Division\"},{\"place_name\":\"West South Central Division\"},{\"place_name\":\"West South Central Division\"},{\"place_name\":\"West South Central Division\"},{\"place_name\":\"West South Central Division\"},{\"place_name\":\"West South Central Division\"},{\"place_name\":\"West South Central Division\"},{\"place_name\":\"West South Central Division\"},{\"place_name\":\"West South Central Division\"},{\"place_name\":\"West South Central Division\"},{\"place_name\":\"West South Central Division\"},{\"place_name\":\"West South Central Division\"},{\"place_name\":\"West South Central Division\"},{\"place_name\":\"West South Central Division\"},{\"place_name\":\"West South Central Division\"},{\"place_name\":\"West South Central Division\"},{\"place_name\":\"West South Central Division\"},{\"place_name\":\"West South Central Division\"},{\"place_name\":\"West South Central Division\"},{\"place_name\":\"West South Central Division\"},{\"place_name\":\"West South Central Division\"},{\"place_name\":\"West South Central Division\"},{\"place_name\":\"West South Central Division\"},{\"place_name\":\"West South Central Division\"},{\"place_name\":\"West South Central Division\"},{\"place_name\":\"West South Central Division\"},{\"place_name\":\"West South Central Division\"},{\"place_name\":\"West South Central Division\"},{\"place_name\":\"West South Central Division\"},{\"place_name\":\"West South Central Division\"},{\"place_name\":\"West South Central Division\"},{\"place_name\":\"West South Central Division\"},{\"place_name\":\"West South Central Division\"},{\"place_name\":\"West South Central Division\"},{\"place_name\":\"West South Central Division\"},{\"place_name\":\"West South Central Division\"},{\"place_name\":\"West South Central Division\"},{\"place_name\":\"West South Central Division\"},{\"place_name\":\"West South Central Division\"},{\"place_name\":\"West South Central Division\"},{\"place_name\":\"West South Central Division\"},{\"place_name\":\"West South Central Division\"},{\"place_name\":\"West South Central Division\"},{\"place_name\":\"West South Central Division\"},{\"place_name\":\"West South Central Division\"},{\"place_name\":\"West South Central Division\"},{\"place_name\":\"West South Central Division\"},{\"place_name\":\"West South Central Division\"},{\"place_name\":\"West South Central Division\"},{\"place_name\":\"West South Central Division\"},{\"place_name\":\"West South Central Division\"},{\"place_name\":\"West South Central Division\"},{\"place_name\":\"West South Central Division\"},{\"place_name\":\"West South Central Division\"},{\"place_name\":\"West South Central Division\"},{\"place_name\":\"West South Central Division\"},{\"place_name\":\"West South Central Division\"},{\"place_name\":\"West South Central Division\"},{\"place_name\":\"West South Central Division\"},{\"place_name\":\"West South Central Division\"},{\"place_name\":\"West South Central Division\"},{\"place_name\":\"West South Central Division\"},{\"place_name\":\"West South Central Division\"},{\"place_name\":\"West South Central Division\"},{\"place_name\":\"West South Central Division\"},{\"place_name\":\"West South Central Division\"},{\"place_name\":\"West South Central Division\"},{\"place_name\":\"West South Central Division\"},{\"place_name\":\"West South Central Division\"},{\"place_name\":\"West South Central Division\"},{\"place_name\":\"West South Central Division\"},{\"place_name\":\"West South Central Division\"},{\"place_name\":\"West South Central Division\"},{\"place_name\":\"West South Central Division\"},{\"place_name\":\"West South Central Division\"},{\"place_name\":\"West South Central Division\"},{\"place_name\":\"West South Central Division\"},{\"place_name\":\"West South Central Division\"},{\"place_name\":\"West South Central Division\"},{\"place_name\":\"West South Central Division\"},{\"place_name\":\"West South Central Division\"},{\"place_name\":\"West South Central Division\"},{\"place_name\":\"West South Central Division\"},{\"place_name\":\"West South Central Division\"},{\"place_name\":\"West South Central Division\"},{\"place_name\":\"West South Central Division\"},{\"place_name\":\"West South Central Division\"},{\"place_name\":\"West South Central Division\"},{\"place_name\":\"West South Central Division\"},{\"place_name\":\"West South Central Division\"},{\"place_name\":\"West South Central Division\"},{\"place_name\":\"West South Central Division\"},{\"place_name\":\"West South Central Division\"},{\"place_name\":\"West South Central Division\"},{\"place_name\":\"West South Central Division\"},{\"place_name\":\"West South Central Division\"},{\"place_name\":\"West South Central Division\"},{\"place_name\":\"West South Central Division\"},{\"place_name\":\"West South Central Division\"},{\"place_name\":\"West South Central Division\"},{\"place_name\":\"West South Central Division\"},{\"place_name\":\"West South Central Division\"},{\"place_name\":\"West South Central Division\"},{\"place_name\":\"West South Central Division\"},{\"place_name\":\"West South Central Division\"},{\"place_name\":\"West South Central Division\"},{\"place_name\":\"West South Central Division\"},{\"place_name\":\"West South Central Division\"},{\"place_name\":\"West South Central Division\"},{\"place_name\":\"West South Central Division\"},{\"place_name\":\"West South Central Division\"},{\"place_name\":\"West South Central Division\"},{\"place_name\":\"West South Central Division\"},{\"place_name\":\"West South Central Division\"},{\"place_name\":\"West South Central Division\"},{\"place_name\":\"West South Central Division\"},{\"place_name\":\"West South Central Division\"},{\"place_name\":\"West South Central Division\"},{\"place_name\":\"West South Central Division\"},{\"place_name\":\"West South Central Division\"},{\"place_name\":\"West South Central Division\"},{\"place_name\":\"West South Central Division\"},{\"place_name\":\"West South Central Division\"},{\"place_name\":\"West South Central Division\"},{\"place_name\":\"West South Central Division\"},{\"place_name\":\"West South Central Division\"},{\"place_name\":\"West South Central Division\"},{\"place_name\":\"West South Central Division\"},{\"place_name\":\"West South Central Division\"},{\"place_name\":\"West South Central Division\"},{\"place_name\":\"West South Central Division\"},{\"place_name\":\"West South Central Division\"},{\"place_name\":\"West South Central Division\"},{\"place_name\":\"West South Central Division\"},{\"place_name\":\"West South Central Division\"},{\"place_name\":\"West South Central Division\"},{\"place_name\":\"West South Central Division\"},{\"place_name\":\"West South Central Division\"},{\"place_name\":\"West South Central Division\"},{\"place_name\":\"West South Central Division\"}],\"place_name\":[\"West South Central Division\",\"West South Central Division\",\"West South Central Division\",\"West South Central Division\",\"West South Central Division\",\"West South Central Division\",\"West South Central Division\",\"West South Central Division\",\"West South Central Division\",\"West South Central Division\",\"West South Central Division\",\"West South Central Division\",\"West South Central Division\",\"West South Central Division\",\"West South Central Division\",\"West South Central Division\",\"West South Central Division\",\"West South Central Division\",\"West South Central Division\",\"West South Central Division\",\"West South Central Division\",\"West South Central Division\",\"West South Central Division\",\"West South Central Division\",\"West South Central Division\",\"West South Central Division\",\"West South Central Division\",\"West South Central Division\",\"West South Central Division\",\"West South Central Division\",\"West South Central Division\",\"West South Central Division\",\"West South Central Division\",\"West South Central Division\",\"West South Central Division\",\"West South Central Division\",\"West South Central Division\",\"West South Central Division\",\"West South Central Division\",\"West South Central Division\",\"West South Central Division\",\"West South Central Division\",\"West South Central Division\",\"West South Central Division\",\"West South Central Division\",\"West South Central Division\",\"West South Central Division\",\"West South Central Division\",\"West South Central Division\",\"West South Central Division\",\"West South Central Division\",\"West South Central Division\",\"West South Central Division\",\"West South Central Division\",\"West South Central Division\",\"West South Central Division\",\"West South Central Division\",\"West South Central Division\",\"West South Central Division\",\"West South Central Division\",\"West South Central Division\",\"West South Central Division\",\"West South Central Division\",\"West South Central Division\",\"West South Central Division\",\"West South Central Division\",\"West South Central Division\",\"West South Central Division\",\"West South Central Division\",\"West South Central Division\",\"West South Central Division\",\"West South Central Division\",\"West South Central Division\",\"West South Central Division\",\"West South Central Division\",\"West South Central Division\",\"West South Central Division\",\"West South Central Division\",\"West South Central Division\",\"West South Central Division\",\"West South Central Division\",\"West South Central Division\",\"West South Central Division\",\"West South Central Division\",\"West South Central Division\",\"West South Central Division\",\"West South Central Division\",\"West South Central Division\",\"West South Central Division\",\"West South Central Division\",\"West South Central Division\",\"West South Central Division\",\"West South Central Division\",\"West South Central Division\",\"West South Central Division\",\"West South Central Division\",\"West South Central Division\",\"West South Central Division\",\"West South Central Division\",\"West South Central Division\",\"West South Central Division\",\"West South Central Division\",\"West South Central Division\",\"West South Central Division\",\"West South Central Division\",\"West South Central Division\",\"West South Central Division\",\"West South Central Division\",\"West South Central Division\",\"West South Central Division\",\"West South Central Division\",\"West South Central Division\",\"West South Central Division\",\"West South Central Division\",\"West South Central Division\",\"West South Central Division\",\"West South Central Division\",\"West South Central Division\",\"West South Central Division\",\"West South Central Division\",\"West South Central Division\",\"West South Central Division\",\"West South Central Division\",\"West South Central Division\",\"West South Central Division\",\"West South Central Division\",\"West South Central Division\",\"West South Central Division\",\"West South Central Division\",\"West South Central Division\",\"West South Central Division\",\"West South Central Division\",\"West South Central Division\",\"West South Central Division\",\"West South Central Division\",\"West South Central Division\",\"West South Central Division\",\"West South Central Division\",\"West South Central Division\",\"West South Central Division\",\"West South Central Division\",\"West South Central Division\",\"West South Central Division\",\"West South Central Division\",\"West South Central Division\",\"West South Central Division\",\"West South Central Division\",\"West South Central Division\",\"West South Central Division\",\"West South Central Division\",\"West South Central Division\",\"West South Central Division\",\"West South Central Division\",\"West South Central Division\",\"West South Central Division\",\"West South Central Division\",\"West South Central Division\",\"West South Central Division\",\"West South Central Division\",\"West South Central Division\",\"West South Central Division\",\"West South Central Division\",\"West South Central Division\",\"West South Central Division\",\"West South Central Division\",\"West South Central Division\",\"West South Central Division\",\"West South Central Division\",\"West South Central Division\",\"West South Central Division\",\"West South Central Division\",\"West South Central Division\",\"West South Central Division\",\"West South Central Division\",\"West South Central Division\",\"West South Central Division\",\"West South Central Division\",\"West South Central Division\",\"West South Central Division\",\"West South Central Division\",\"West South Central Division\",\"West South Central Division\",\"West South Central Division\",\"West South Central Division\",\"West South Central Division\",\"West South Central Division\",\"West South Central Division\",\"West South Central Division\",\"West South Central Division\",\"West South Central Division\",\"West South Central Division\",\"West South Central Division\",\"West South Central Division\",\"West South Central Division\",\"West South Central Division\",\"West South Central Division\",\"West South Central Division\",\"West South Central Division\",\"West South Central Division\",\"West South Central Division\",\"West South Central Division\",\"West South Central Division\",\"West South Central Division\",\"West South Central Division\",\"West South Central Division\",\"West South Central Division\",\"West South Central Division\",\"West South Central Division\",\"West South Central Division\",\"West South Central Division\",\"West South Central Division\",\"West South Central Division\",\"West South Central Division\",\"West South Central Division\",\"West South Central Division\",\"West South Central Division\",\"West South Central Division\",\"West South Central Division\",\"West South Central Division\",\"West South Central Division\",\"West South Central Division\",\"West South Central Division\",\"West South Central Division\",\"West South Central Division\",\"West South Central Division\",\"West South Central Division\",\"West South Central Division\",\"West South Central Division\",\"West South Central Division\",\"West South Central Division\",\"West South Central Division\",\"West South Central Division\",\"West South Central Division\",\"West South Central Division\",\"West South Central Division\",\"West South Central Division\",\"West South Central Division\",\"West South Central Division\",\"West South Central Division\",\"West South Central Division\",\"West South Central Division\",\"West South Central Division\",\"West South Central Division\",\"West South Central Division\",\"West South Central Division\",\"West South Central Division\",\"West South Central Division\",\"West South Central Division\",\"West South Central Division\",\"West South Central Division\",\"West South Central Division\",\"West South Central Division\",\"West South Central Division\",\"West South Central Division\",\"West South Central Division\",\"West South Central Division\",\"West South Central Division\",\"West South Central Division\",\"West South Central Division\",\"West South Central Division\",\"West South Central Division\",\"West South Central Division\",\"West South Central Division\",\"West South Central Division\",\"West South Central Division\",\"West South Central Division\",\"West South Central Division\",\"West South Central Division\",\"West South Central Division\",\"West South Central Division\",\"West South Central Division\",\"West South Central Division\",\"West South Central Division\",\"West South Central Division\",\"West South Central Division\",\"West South Central Division\",\"West South Central Division\",\"West South Central Division\",\"West South Central Division\",\"West South Central Division\",\"West South Central Division\",\"West South Central Division\",\"West South Central Division\",\"West South Central Division\",\"West South Central Division\",\"West South Central Division\",\"West South Central Division\",\"West South Central Division\",\"West South Central Division\",\"West South Central Division\",\"West South Central Division\",\"West South Central Division\",\"West South Central Division\",\"West South Central Division\",\"West South Central Division\",\"West South Central Division\",\"West South Central Division\",\"West South Central Division\",\"West South Central Division\",\"West South Central Division\",\"West South Central Division\",\"West South Central Division\",\"West South Central Division\",\"West South Central Division\",\"West South Central Division\",\"West South Central Division\",\"West South Central Division\",\"West South Central Division\"],\"x_values\":[662688000000.0,665366400000.0,667785600000.0,670464000000.0,673056000000.0,675734400000.0,678326400000.0,681004800000.0,683683200000.0,686275200000.0,688953600000.0,691545600000.0,694224000000.0,696902400000.0,699408000000.0,702086400000.0,704678400000.0,707356800000.0,709948800000.0,712627200000.0,715305600000.0,717897600000.0,720576000000.0,723168000000.0,725846400000.0,728524800000.0,730944000000.0,733622400000.0,736214400000.0,738892800000.0,741484800000.0,744163200000.0,746841600000.0,749433600000.0,752112000000.0,754704000000.0,757382400000.0,760060800000.0,762480000000.0,765158400000.0,767750400000.0,770428800000.0,773020800000.0,775699200000.0,778377600000.0,780969600000.0,783648000000.0,786240000000.0,788918400000.0,791596800000.0,794016000000.0,796694400000.0,799286400000.0,801964800000.0,804556800000.0,807235200000.0,809913600000.0,812505600000.0,815184000000.0,817776000000.0,820454400000.0,823132800000.0,825638400000.0,828316800000.0,830908800000.0,833587200000.0,836179200000.0,838857600000.0,841536000000.0,844128000000.0,846806400000.0,849398400000.0,852076800000.0,854755200000.0,857174400000.0,859852800000.0,862444800000.0,865123200000.0,867715200000.0,870393600000.0,873072000000.0,875664000000.0,878342400000.0,880934400000.0,883612800000.0,886291200000.0,888710400000.0,891388800000.0,893980800000.0,896659200000.0,899251200000.0,901929600000.0,904608000000.0,907200000000.0,909878400000.0,912470400000.0,915148800000.0,917827200000.0,920246400000.0,922924800000.0,925516800000.0,928195200000.0,930787200000.0,933465600000.0,936144000000.0,938736000000.0,941414400000.0,944006400000.0,946684800000.0,949363200000.0,951868800000.0,954547200000.0,957139200000.0,959817600000.0,962409600000.0,965088000000.0,967766400000.0,970358400000.0,973036800000.0,975628800000.0,978307200000.0,980985600000.0,983404800000.0,986083200000.0,988675200000.0,991353600000.0,993945600000.0,996624000000.0,999302400000.0,1001894400000.0,1004572800000.0,1007164800000.0,1009843200000.0,1012521600000.0,1014940800000.0,1017619200000.0,1020211200000.0,1022889600000.0,1025481600000.0,1028160000000.0,1030838400000.0,1033430400000.0,1036108800000.0,1038700800000.0,1041379200000.0,1044057600000.0,1046476800000.0,1049155200000.0,1051747200000.0,1054425600000.0,1057017600000.0,1059696000000.0,1062374400000.0,1064966400000.0,1067644800000.0,1070236800000.0,1072915200000.0,1075593600000.0,1078099200000.0,1080777600000.0,1083369600000.0,1086048000000.0,1088640000000.0,1091318400000.0,1093996800000.0,1096588800000.0,1099267200000.0,1101859200000.0,1104537600000.0,1107216000000.0,1109635200000.0,1112313600000.0,1114905600000.0,1117584000000.0,1120176000000.0,1122854400000.0,1125532800000.0,1128124800000.0,1130803200000.0,1133395200000.0,1136073600000.0,1138752000000.0,1141171200000.0,1143849600000.0,1146441600000.0,1149120000000.0,1151712000000.0,1154390400000.0,1157068800000.0,1159660800000.0,1162339200000.0,1164931200000.0,1167609600000.0,1170288000000.0,1172707200000.0,1175385600000.0,1177977600000.0,1180656000000.0,1183248000000.0,1185926400000.0,1188604800000.0,1191196800000.0,1193875200000.0,1196467200000.0,1199145600000.0,1201824000000.0,1204329600000.0,1207008000000.0,1209600000000.0,1212278400000.0,1214870400000.0,1217548800000.0,1220227200000.0,1222819200000.0,1225497600000.0,1228089600000.0,1230768000000.0,1233446400000.0,1235865600000.0,1238544000000.0,1241136000000.0,1243814400000.0,1246406400000.0,1249084800000.0,1251763200000.0,1254355200000.0,1257033600000.0,1259625600000.0,1262304000000.0,1264982400000.0,1267401600000.0,1270080000000.0,1272672000000.0,1275350400000.0,1277942400000.0,1280620800000.0,1283299200000.0,1285891200000.0,1288569600000.0,1291161600000.0,1293840000000.0,1296518400000.0,1298937600000.0,1301616000000.0,1304208000000.0,1306886400000.0,1309478400000.0,1312156800000.0,1314835200000.0,1317427200000.0,1320105600000.0,1322697600000.0,1325376000000.0,1328054400000.0,1330560000000.0,1333238400000.0,1335830400000.0,1338508800000.0,1341100800000.0,1343779200000.0,1346457600000.0,1349049600000.0,1351728000000.0,1354320000000.0,1356998400000.0,1359676800000.0,1362096000000.0,1364774400000.0,1367366400000.0,1370044800000.0,1372636800000.0,1375315200000.0,1377993600000.0,1380585600000.0,1383264000000.0,1385856000000.0,1388534400000.0,1391212800000.0,1393632000000.0,1396310400000.0,1398902400000.0,1401580800000.0,1404172800000.0,1406851200000.0,1409529600000.0,1412121600000.0,1414800000000.0,1417392000000.0,1420070400000.0,1422748800000.0,1425168000000.0,1427846400000.0,1430438400000.0,1433116800000.0,1435708800000.0,1438387200000.0,1441065600000.0,1443657600000.0,1446336000000.0,1448928000000.0,1451606400000.0,1454284800000.0,1456790400000.0,1459468800000.0,1462060800000.0,1464739200000.0,1467331200000.0,1470009600000.0],\"y_values\":[100.0,100.03,100.89,100.53,100.98,102.17,101.85,101.61,102.28,101.44,102.09,102.19,102.47,103.53,102.85,103.19,103.3,104.25,104.37,105.1,104.99,105.72,106.45,105.44,105.5,105.81,106.6,107.08,107.89,108.82,109.34,109.62,109.65,110.54,110.72,111.02,110.77,111.48,112.51,112.5,113.72,113.94,113.75,114.29,114.08,114.42,114.37,114.35,114.31,114.62,114.62,115.9,116.32,116.4,117.17,117.48,117.77,117.61,117.89,118.4,117.83,118.48,118.87,119.22,120.05,120.76,120.52,120.87,120.79,120.52,120.82,120.98,120.41,121.19,121.64,122.16,123.27,123.46,123.59,123.68,123.67,124.07,124.7,124.63,125.22,125.86,126.44,127.02,128.15,128.98,129.93,130.36,130.47,130.8,131.15,132.01,131.93,132.51,133.17,134.65,135.4,136.2,137.19,137.73,137.4,138.25,138.6,138.77,139.63,139.77,141.4,142.7,143.38,144.21,145.01,145.4,145.61,145.99,146.54,146.12,146.16,148.02,148.34,150.04,149.99,150.85,151.81,151.47,152.05,152.33,151.85,152.14,151.36,152.59,154.25,155.0,155.77,156.31,156.56,156.82,157.13,157.54,157.49,157.94,157.7,158.35,159.15,159.99,160.88,161.14,161.58,162.51,162.89,162.24,162.36,163.03,162.32,163.47,165.51,166.31,167.04,168.25,168.03,168.9,169.17,169.08,170.15,169.92,170.13,171.05,172.77,173.89,175.73,177.11,178.09,178.42,179.1,180.84,180.99,181.76,182.34,183.73,185.24,185.77,188.66,189.47,190.11,191.29,191.54,192.2,192.47,192.41,193.57,194.25,196.02,196.9,198.53,199.3,199.73,200.51,199.24,199.27,198.4,198.42,196.77,197.1,197.04,198.21,198.73,200.68,200.03,198.17,199.31,196.99,192.94,193.5,192.74,195.1,195.53,195.77,197.51,200.41,198.17,197.71,196.18,198.38,196.21,195.24,194.98,194.21,195.51,197.71,200.23,198.59,198.06,197.7,194.4,193.5,192.84,190.56,191.08,189.81,190.69,193.02,193.56,197.02,194.47,193.5,193.66,193.29,194.86,193.91,191.16,193.94,197.62,199.96,201.02,202.52,203.79,203.29,203.24,203.8,204.67,202.57,204.57,205.78,209.12,211.17,213.86,215.78,215.31,214.74,214.78,215.12,215.08,216.99,216.2,217.78,222.29,222.37,224.68,225.38,227.5,227.75,227.73,227.04,229.22,229.3,229.81,231.67,233.5,236.28,240.76,241.46,242.97,242.75,242.78,243.15,243.22,243.39,242.38,244.93,250.05,251.23,254.51,255.81,257.53,257.26]}},\"id\":\"154ee09f-5c1f-4cdc-85f1-9b8ad21d6737\",\"type\":\"ColumnDataSource\"},{\"attributes\":{\"months\":[0,1,2,3,4,5,6,7,8,9,10,11]},\"id\":\"d354f237-5e7a-4adc-8650-8adbdd2e47dd\",\"type\":\"MonthsTicker\"},{\"attributes\":{\"plot\":{\"id\":\"349f9bc6-7471-46d0-967a-f5131c1c3349\",\"subtype\":\"Chart\",\"type\":\"Plot\"}},\"id\":\"50ed3201-a8c1-4abb-bdbc-c28d81ed44c0\",\"type\":\"HelpTool\"},{\"attributes\":{\"below\":[{\"id\":\"dfeb4658-49d2-4b63-ae28-c6ccd0bf2c21\",\"type\":\"DatetimeAxis\"}],\"left\":[{\"id\":\"5f497759-100b-4030-8c02-91c04a2bf226\",\"type\":\"LinearAxis\"}],\"renderers\":[{\"id\":\"95fbfe7b-9ee4-420f-bb7c-ad0d32d7d11f\",\"type\":\"BoxAnnotation\"},{\"id\":\"b5ea80f5-2169-4fb0-81b8-e1730122dd1b\",\"type\":\"GlyphRenderer\"},{\"id\":\"37615e3b-f8d1-4424-8f1a-b6ecc13b5e81\",\"type\":\"GlyphRenderer\"},{\"id\":\"9d841ee0-9c63-4cc9-a043-362d297a03d1\",\"type\":\"GlyphRenderer\"},{\"id\":\"c322f780-ab86-4df9-b116-c6a3cd3176fd\",\"type\":\"Legend\"},{\"id\":\"dfeb4658-49d2-4b63-ae28-c6ccd0bf2c21\",\"type\":\"DatetimeAxis\"},{\"id\":\"5f497759-100b-4030-8c02-91c04a2bf226\",\"type\":\"LinearAxis\"},{\"id\":\"d957bdcd-f82b-441a-95d6-e60102017993\",\"type\":\"Grid\"},{\"id\":\"eb2045c2-8341-4e4b-87c3-ca349e7f11c3\",\"type\":\"Grid\"}],\"title\":{\"id\":\"1a9563a9-9426-4966-8956-3c8fd8314227\",\"type\":\"Title\"},\"tool_events\":{\"id\":\"82417133-cd1d-4c46-a5de-df9386f4e572\",\"type\":\"ToolEvents\"},\"toolbar\":{\"id\":\"72e5aa59-5ad2-4519-9b17-c2debbdb5b18\",\"type\":\"Toolbar\"},\"x_mapper_type\":\"auto\",\"x_range\":{\"id\":\"48b32cb7-f36a-41ab-8ecf-88aacedbdc72\",\"type\":\"Range1d\"},\"y_mapper_type\":\"auto\",\"y_range\":{\"id\":\"6398644d-ebd4-4f56-8620-7bdd34140272\",\"type\":\"Range1d\"}},\"id\":\"349f9bc6-7471-46d0-967a-f5131c1c3349\",\"subtype\":\"Chart\",\"type\":\"Plot\"},{\"attributes\":{\"data_source\":{\"id\":\"569d970e-6318-4413-83bc-8b647589432f\",\"type\":\"ColumnDataSource\"},\"glyph\":{\"id\":\"3338f38b-9847-438b-8384-47fb97b6536c\",\"type\":\"Line\"},\"hover_glyph\":null,\"nonselection_glyph\":null,\"selection_glyph\":null},\"id\":\"9d841ee0-9c63-4cc9-a043-362d297a03d1\",\"type\":\"GlyphRenderer\"},{\"attributes\":{\"months\":[0,4,8]},\"id\":\"12783b14-7c03-484a-9676-fab1541916ce\",\"type\":\"MonthsTicker\"},{\"attributes\":{\"plot\":{\"id\":\"349f9bc6-7471-46d0-967a-f5131c1c3349\",\"subtype\":\"Chart\",\"type\":\"Plot\"},\"ticker\":{\"id\":\"c38201fe-ef9d-40eb-8412-189dec975dc3\",\"type\":\"DatetimeTicker\"}},\"id\":\"d957bdcd-f82b-441a-95d6-e60102017993\",\"type\":\"Grid\"},{\"attributes\":{\"plot\":null,\"text\":null},\"id\":\"1a9563a9-9426-4966-8956-3c8fd8314227\",\"type\":\"Title\"},{\"attributes\":{\"plot\":{\"id\":\"349f9bc6-7471-46d0-967a-f5131c1c3349\",\"subtype\":\"Chart\",\"type\":\"Plot\"}},\"id\":\"312a0da7-57fe-492b-bf52-79582cef763b\",\"type\":\"WheelZoomTool\"},{\"attributes\":{\"callback\":null,\"column_names\":[\"y_values\",\"x_values\"],\"data\":{\"chart_index\":[{\"place_name\":\"United States\"},{\"place_name\":\"United States\"},{\"place_name\":\"United States\"},{\"place_name\":\"United States\"},{\"place_name\":\"United States\"},{\"place_name\":\"United States\"},{\"place_name\":\"United States\"},{\"place_name\":\"United States\"},{\"place_name\":\"United States\"},{\"place_name\":\"United States\"},{\"place_name\":\"United States\"},{\"place_name\":\"United States\"},{\"place_name\":\"United States\"},{\"place_name\":\"United States\"},{\"place_name\":\"United States\"},{\"place_name\":\"United States\"},{\"place_name\":\"United States\"},{\"place_name\":\"United States\"},{\"place_name\":\"United States\"},{\"place_name\":\"United States\"},{\"place_name\":\"United States\"},{\"place_name\":\"United States\"},{\"place_name\":\"United States\"},{\"place_name\":\"United States\"},{\"place_name\":\"United States\"},{\"place_name\":\"United States\"},{\"place_name\":\"United States\"},{\"place_name\":\"United States\"},{\"place_name\":\"United States\"},{\"place_name\":\"United States\"},{\"place_name\":\"United States\"},{\"place_name\":\"United States\"},{\"place_name\":\"United States\"},{\"place_name\":\"United States\"},{\"place_name\":\"United States\"},{\"place_name\":\"United States\"},{\"place_name\":\"United States\"},{\"place_name\":\"United States\"},{\"place_name\":\"United States\"},{\"place_name\":\"United States\"},{\"place_name\":\"United States\"},{\"place_name\":\"United States\"},{\"place_name\":\"United States\"},{\"place_name\":\"United States\"},{\"place_name\":\"United States\"},{\"place_name\":\"United States\"},{\"place_name\":\"United States\"},{\"place_name\":\"United States\"},{\"place_name\":\"United States\"},{\"place_name\":\"United States\"},{\"place_name\":\"United States\"},{\"place_name\":\"United States\"},{\"place_name\":\"United States\"},{\"place_name\":\"United States\"},{\"place_name\":\"United States\"},{\"place_name\":\"United States\"},{\"place_name\":\"United States\"},{\"place_name\":\"United States\"},{\"place_name\":\"United States\"},{\"place_name\":\"United States\"},{\"place_name\":\"United States\"},{\"place_name\":\"United States\"},{\"place_name\":\"United States\"},{\"place_name\":\"United States\"},{\"place_name\":\"United States\"},{\"place_name\":\"United States\"},{\"place_name\":\"United States\"},{\"place_name\":\"United States\"},{\"place_name\":\"United States\"},{\"place_name\":\"United States\"},{\"place_name\":\"United States\"},{\"place_name\":\"United States\"},{\"place_name\":\"United States\"},{\"place_name\":\"United States\"},{\"place_name\":\"United States\"},{\"place_name\":\"United States\"},{\"place_name\":\"United States\"},{\"place_name\":\"United States\"},{\"place_name\":\"United States\"},{\"place_name\":\"United States\"},{\"place_name\":\"United States\"},{\"place_name\":\"United States\"},{\"place_name\":\"United States\"},{\"place_name\":\"United States\"},{\"place_name\":\"United States\"},{\"place_name\":\"United States\"},{\"place_name\":\"United States\"},{\"place_name\":\"United States\"},{\"place_name\":\"United States\"},{\"place_name\":\"United States\"},{\"place_name\":\"United States\"},{\"place_name\":\"United States\"},{\"place_name\":\"United States\"},{\"place_name\":\"United States\"},{\"place_name\":\"United States\"},{\"place_name\":\"United States\"},{\"place_name\":\"United States\"},{\"place_name\":\"United States\"},{\"place_name\":\"United States\"},{\"place_name\":\"United States\"},{\"place_name\":\"United States\"},{\"place_name\":\"United States\"},{\"place_name\":\"United States\"},{\"place_name\":\"United States\"},{\"place_name\":\"United States\"},{\"place_name\":\"United States\"},{\"place_name\":\"United States\"},{\"place_name\":\"United States\"},{\"place_name\":\"United States\"},{\"place_name\":\"United States\"},{\"place_name\":\"United States\"},{\"place_name\":\"United States\"},{\"place_name\":\"United States\"},{\"place_name\":\"United States\"},{\"place_name\":\"United States\"},{\"place_name\":\"United States\"},{\"place_name\":\"United States\"},{\"place_name\":\"United States\"},{\"place_name\":\"United States\"},{\"place_name\":\"United States\"},{\"place_name\":\"United States\"},{\"place_name\":\"United States\"},{\"place_name\":\"United States\"},{\"place_name\":\"United States\"},{\"place_name\":\"United States\"},{\"place_name\":\"United States\"},{\"place_name\":\"United States\"},{\"place_name\":\"United States\"},{\"place_name\":\"United States\"},{\"place_name\":\"United States\"},{\"place_name\":\"United States\"},{\"place_name\":\"United States\"},{\"place_name\":\"United States\"},{\"place_name\":\"United States\"},{\"place_name\":\"United States\"},{\"place_name\":\"United States\"},{\"place_name\":\"United States\"},{\"place_name\":\"United States\"},{\"place_name\":\"United States\"},{\"place_name\":\"United States\"},{\"place_name\":\"United States\"},{\"place_name\":\"United States\"},{\"place_name\":\"United States\"},{\"place_name\":\"United States\"},{\"place_name\":\"United States\"},{\"place_name\":\"United States\"},{\"place_name\":\"United States\"},{\"place_name\":\"United States\"},{\"place_name\":\"United States\"},{\"place_name\":\"United States\"},{\"place_name\":\"United States\"},{\"place_name\":\"United States\"},{\"place_name\":\"United States\"},{\"place_name\":\"United States\"},{\"place_name\":\"United States\"},{\"place_name\":\"United States\"},{\"place_name\":\"United States\"},{\"place_name\":\"United States\"},{\"place_name\":\"United States\"},{\"place_name\":\"United States\"},{\"place_name\":\"United States\"},{\"place_name\":\"United States\"},{\"place_name\":\"United States\"},{\"place_name\":\"United States\"},{\"place_name\":\"United States\"},{\"place_name\":\"United States\"},{\"place_name\":\"United States\"},{\"place_name\":\"United States\"},{\"place_name\":\"United States\"},{\"place_name\":\"United States\"},{\"place_name\":\"United States\"},{\"place_name\":\"United States\"},{\"place_name\":\"United States\"},{\"place_name\":\"United States\"},{\"place_name\":\"United States\"},{\"place_name\":\"United States\"},{\"place_name\":\"United States\"},{\"place_name\":\"United States\"},{\"place_name\":\"United States\"},{\"place_name\":\"United States\"},{\"place_name\":\"United States\"},{\"place_name\":\"United States\"},{\"place_name\":\"United States\"},{\"place_name\":\"United States\"},{\"place_name\":\"United States\"},{\"place_name\":\"United States\"},{\"place_name\":\"United States\"},{\"place_name\":\"United States\"},{\"place_name\":\"United States\"},{\"place_name\":\"United States\"},{\"place_name\":\"United States\"},{\"place_name\":\"United States\"},{\"place_name\":\"United States\"},{\"place_name\":\"United States\"},{\"place_name\":\"United States\"},{\"place_name\":\"United States\"},{\"place_name\":\"United States\"},{\"place_name\":\"United States\"},{\"place_name\":\"United States\"},{\"place_name\":\"United States\"},{\"place_name\":\"United States\"},{\"place_name\":\"United States\"},{\"place_name\":\"United States\"},{\"place_name\":\"United States\"},{\"place_name\":\"United States\"},{\"place_name\":\"United States\"},{\"place_name\":\"United States\"},{\"place_name\":\"United States\"},{\"place_name\":\"United States\"},{\"place_name\":\"United States\"},{\"place_name\":\"United States\"},{\"place_name\":\"United States\"},{\"place_name\":\"United States\"},{\"place_name\":\"United States\"},{\"place_name\":\"United States\"},{\"place_name\":\"United States\"},{\"place_name\":\"United States\"},{\"place_name\":\"United States\"},{\"place_name\":\"United States\"},{\"place_name\":\"United States\"},{\"place_name\":\"United States\"},{\"place_name\":\"United States\"},{\"place_name\":\"United States\"},{\"place_name\":\"United States\"},{\"place_name\":\"United States\"},{\"place_name\":\"United States\"},{\"place_name\":\"United States\"},{\"place_name\":\"United States\"},{\"place_name\":\"United States\"},{\"place_name\":\"United States\"},{\"place_name\":\"United States\"},{\"place_name\":\"United States\"},{\"place_name\":\"United States\"},{\"place_name\":\"United States\"},{\"place_name\":\"United States\"},{\"place_name\":\"United States\"},{\"place_name\":\"United States\"},{\"place_name\":\"United States\"},{\"place_name\":\"United States\"},{\"place_name\":\"United States\"},{\"place_name\":\"United States\"},{\"place_name\":\"United States\"},{\"place_name\":\"United States\"},{\"place_name\":\"United States\"},{\"place_name\":\"United States\"},{\"place_name\":\"United States\"},{\"place_name\":\"United States\"},{\"place_name\":\"United States\"},{\"place_name\":\"United States\"},{\"place_name\":\"United States\"},{\"place_name\":\"United States\"},{\"place_name\":\"United States\"},{\"place_name\":\"United States\"},{\"place_name\":\"United States\"},{\"place_name\":\"United States\"},{\"place_name\":\"United States\"},{\"place_name\":\"United States\"},{\"place_name\":\"United States\"},{\"place_name\":\"United States\"},{\"place_name\":\"United States\"},{\"place_name\":\"United States\"},{\"place_name\":\"United States\"},{\"place_name\":\"United States\"},{\"place_name\":\"United States\"},{\"place_name\":\"United States\"},{\"place_name\":\"United States\"},{\"place_name\":\"United States\"},{\"place_name\":\"United States\"},{\"place_name\":\"United States\"},{\"place_name\":\"United States\"},{\"place_name\":\"United States\"},{\"place_name\":\"United States\"},{\"place_name\":\"United States\"},{\"place_name\":\"United States\"},{\"place_name\":\"United States\"},{\"place_name\":\"United States\"},{\"place_name\":\"United States\"},{\"place_name\":\"United States\"},{\"place_name\":\"United States\"},{\"place_name\":\"United States\"},{\"place_name\":\"United States\"},{\"place_name\":\"United States\"},{\"place_name\":\"United States\"},{\"place_name\":\"United States\"},{\"place_name\":\"United States\"},{\"place_name\":\"United States\"},{\"place_name\":\"United States\"},{\"place_name\":\"United States\"},{\"place_name\":\"United States\"},{\"place_name\":\"United States\"},{\"place_name\":\"United States\"},{\"place_name\":\"United States\"},{\"place_name\":\"United States\"},{\"place_name\":\"United States\"},{\"place_name\":\"United States\"},{\"place_name\":\"United States\"},{\"place_name\":\"United States\"},{\"place_name\":\"United States\"},{\"place_name\":\"United States\"},{\"place_name\":\"United States\"},{\"place_name\":\"United States\"},{\"place_name\":\"United States\"},{\"place_name\":\"United States\"},{\"place_name\":\"United States\"},{\"place_name\":\"United States\"},{\"place_name\":\"United States\"},{\"place_name\":\"United States\"},{\"place_name\":\"United States\"}],\"place_name\":[\"United States\",\"United States\",\"United States\",\"United States\",\"United States\",\"United States\",\"United States\",\"United States\",\"United States\",\"United States\",\"United States\",\"United States\",\"United States\",\"United States\",\"United States\",\"United States\",\"United States\",\"United States\",\"United States\",\"United States\",\"United States\",\"United States\",\"United States\",\"United States\",\"United States\",\"United States\",\"United States\",\"United States\",\"United States\",\"United States\",\"United States\",\"United States\",\"United States\",\"United States\",\"United States\",\"United States\",\"United States\",\"United States\",\"United States\",\"United States\",\"United States\",\"United States\",\"United States\",\"United States\",\"United States\",\"United States\",\"United States\",\"United States\",\"United States\",\"United States\",\"United States\",\"United States\",\"United States\",\"United States\",\"United States\",\"United States\",\"United States\",\"United States\",\"United States\",\"United States\",\"United States\",\"United States\",\"United States\",\"United States\",\"United States\",\"United States\",\"United States\",\"United States\",\"United States\",\"United States\",\"United States\",\"United States\",\"United States\",\"United States\",\"United States\",\"United States\",\"United States\",\"United States\",\"United States\",\"United States\",\"United States\",\"United States\",\"United States\",\"United States\",\"United States\",\"United States\",\"United States\",\"United States\",\"United States\",\"United States\",\"United States\",\"United States\",\"United States\",\"United States\",\"United States\",\"United States\",\"United States\",\"United States\",\"United States\",\"United States\",\"United States\",\"United States\",\"United States\",\"United States\",\"United States\",\"United States\",\"United States\",\"United States\",\"United States\",\"United States\",\"United States\",\"United States\",\"United States\",\"United States\",\"United States\",\"United States\",\"United States\",\"United States\",\"United States\",\"United States\",\"United States\",\"United States\",\"United States\",\"United States\",\"United States\",\"United States\",\"United States\",\"United States\",\"United States\",\"United States\",\"United States\",\"United States\",\"United States\",\"United States\",\"United States\",\"United States\",\"United States\",\"United States\",\"United States\",\"United States\",\"United States\",\"United States\",\"United States\",\"United States\",\"United States\",\"United States\",\"United States\",\"United States\",\"United States\",\"United States\",\"United States\",\"United States\",\"United States\",\"United States\",\"United States\",\"United States\",\"United States\",\"United States\",\"United States\",\"United States\",\"United States\",\"United States\",\"United States\",\"United States\",\"United States\",\"United States\",\"United States\",\"United States\",\"United States\",\"United States\",\"United States\",\"United States\",\"United States\",\"United States\",\"United States\",\"United States\",\"United States\",\"United States\",\"United States\",\"United States\",\"United States\",\"United States\",\"United States\",\"United States\",\"United States\",\"United States\",\"United States\",\"United States\",\"United States\",\"United States\",\"United States\",\"United States\",\"United States\",\"United States\",\"United States\",\"United States\",\"United States\",\"United States\",\"United States\",\"United States\",\"United States\",\"United States\",\"United States\",\"United States\",\"United States\",\"United States\",\"United States\",\"United States\",\"United States\",\"United States\",\"United States\",\"United States\",\"United States\",\"United States\",\"United States\",\"United States\",\"United States\",\"United States\",\"United States\",\"United States\",\"United States\",\"United States\",\"United States\",\"United States\",\"United States\",\"United States\",\"United States\",\"United States\",\"United States\",\"United States\",\"United States\",\"United States\",\"United States\",\"United States\",\"United States\",\"United States\",\"United States\",\"United States\",\"United States\",\"United States\",\"United States\",\"United States\",\"United States\",\"United States\",\"United States\",\"United States\",\"United States\",\"United States\",\"United States\",\"United States\",\"United States\",\"United States\",\"United States\",\"United States\",\"United States\",\"United States\",\"United States\",\"United States\",\"United States\",\"United States\",\"United States\",\"United States\",\"United States\",\"United States\",\"United States\",\"United States\",\"United States\",\"United States\",\"United States\",\"United States\",\"United States\",\"United States\",\"United States\",\"United States\",\"United States\",\"United States\",\"United States\",\"United States\",\"United States\",\"United States\",\"United States\",\"United States\",\"United States\",\"United States\",\"United States\",\"United States\",\"United States\",\"United States\",\"United States\",\"United States\",\"United States\",\"United States\",\"United States\",\"United States\",\"United States\",\"United States\",\"United States\",\"United States\",\"United States\",\"United States\",\"United States\",\"United States\",\"United States\",\"United States\",\"United States\",\"United States\",\"United States\",\"United States\"],\"x_values\":[662688000000.0,665366400000.0,667785600000.0,670464000000.0,673056000000.0,675734400000.0,678326400000.0,681004800000.0,683683200000.0,686275200000.0,688953600000.0,691545600000.0,694224000000.0,696902400000.0,699408000000.0,702086400000.0,704678400000.0,707356800000.0,709948800000.0,712627200000.0,715305600000.0,717897600000.0,720576000000.0,723168000000.0,725846400000.0,728524800000.0,730944000000.0,733622400000.0,736214400000.0,738892800000.0,741484800000.0,744163200000.0,746841600000.0,749433600000.0,752112000000.0,754704000000.0,757382400000.0,760060800000.0,762480000000.0,765158400000.0,767750400000.0,770428800000.0,773020800000.0,775699200000.0,778377600000.0,780969600000.0,783648000000.0,786240000000.0,788918400000.0,791596800000.0,794016000000.0,796694400000.0,799286400000.0,801964800000.0,804556800000.0,807235200000.0,809913600000.0,812505600000.0,815184000000.0,817776000000.0,820454400000.0,823132800000.0,825638400000.0,828316800000.0,830908800000.0,833587200000.0,836179200000.0,838857600000.0,841536000000.0,844128000000.0,846806400000.0,849398400000.0,852076800000.0,854755200000.0,857174400000.0,859852800000.0,862444800000.0,865123200000.0,867715200000.0,870393600000.0,873072000000.0,875664000000.0,878342400000.0,880934400000.0,883612800000.0,886291200000.0,888710400000.0,891388800000.0,893980800000.0,896659200000.0,899251200000.0,901929600000.0,904608000000.0,907200000000.0,909878400000.0,912470400000.0,915148800000.0,917827200000.0,920246400000.0,922924800000.0,925516800000.0,928195200000.0,930787200000.0,933465600000.0,936144000000.0,938736000000.0,941414400000.0,944006400000.0,946684800000.0,949363200000.0,951868800000.0,954547200000.0,957139200000.0,959817600000.0,962409600000.0,965088000000.0,967766400000.0,970358400000.0,973036800000.0,975628800000.0,978307200000.0,980985600000.0,983404800000.0,986083200000.0,988675200000.0,991353600000.0,993945600000.0,996624000000.0,999302400000.0,1001894400000.0,1004572800000.0,1007164800000.0,1009843200000.0,1012521600000.0,1014940800000.0,1017619200000.0,1020211200000.0,1022889600000.0,1025481600000.0,1028160000000.0,1030838400000.0,1033430400000.0,1036108800000.0,1038700800000.0,1041379200000.0,1044057600000.0,1046476800000.0,1049155200000.0,1051747200000.0,1054425600000.0,1057017600000.0,1059696000000.0,1062374400000.0,1064966400000.0,1067644800000.0,1070236800000.0,1072915200000.0,1075593600000.0,1078099200000.0,1080777600000.0,1083369600000.0,1086048000000.0,1088640000000.0,1091318400000.0,1093996800000.0,1096588800000.0,1099267200000.0,1101859200000.0,1104537600000.0,1107216000000.0,1109635200000.0,1112313600000.0,1114905600000.0,1117584000000.0,1120176000000.0,1122854400000.0,1125532800000.0,1128124800000.0,1130803200000.0,1133395200000.0,1136073600000.0,1138752000000.0,1141171200000.0,1143849600000.0,1146441600000.0,1149120000000.0,1151712000000.0,1154390400000.0,1157068800000.0,1159660800000.0,1162339200000.0,1164931200000.0,1167609600000.0,1170288000000.0,1172707200000.0,1175385600000.0,1177977600000.0,1180656000000.0,1183248000000.0,1185926400000.0,1188604800000.0,1191196800000.0,1193875200000.0,1196467200000.0,1199145600000.0,1201824000000.0,1204329600000.0,1207008000000.0,1209600000000.0,1212278400000.0,1214870400000.0,1217548800000.0,1220227200000.0,1222819200000.0,1225497600000.0,1228089600000.0,1230768000000.0,1233446400000.0,1235865600000.0,1238544000000.0,1241136000000.0,1243814400000.0,1246406400000.0,1249084800000.0,1251763200000.0,1254355200000.0,1257033600000.0,1259625600000.0,1262304000000.0,1264982400000.0,1267401600000.0,1270080000000.0,1272672000000.0,1275350400000.0,1277942400000.0,1280620800000.0,1283299200000.0,1285891200000.0,1288569600000.0,1291161600000.0,1293840000000.0,1296518400000.0,1298937600000.0,1301616000000.0,1304208000000.0,1306886400000.0,1309478400000.0,1312156800000.0,1314835200000.0,1317427200000.0,1320105600000.0,1322697600000.0,1325376000000.0,1328054400000.0,1330560000000.0,1333238400000.0,1335830400000.0,1338508800000.0,1341100800000.0,1343779200000.0,1346457600000.0,1349049600000.0,1351728000000.0,1354320000000.0,1356998400000.0,1359676800000.0,1362096000000.0,1364774400000.0,1367366400000.0,1370044800000.0,1372636800000.0,1375315200000.0,1377993600000.0,1380585600000.0,1383264000000.0,1385856000000.0,1388534400000.0,1391212800000.0,1393632000000.0,1396310400000.0,1398902400000.0,1401580800000.0,1404172800000.0,1406851200000.0,1409529600000.0,1412121600000.0,1414800000000.0,1417392000000.0,1420070400000.0,1422748800000.0,1425168000000.0,1427846400000.0,1430438400000.0,1433116800000.0,1435708800000.0,1438387200000.0,1441065600000.0,1443657600000.0,1446336000000.0,1448928000000.0,1451606400000.0,1454284800000.0,1456790400000.0,1459468800000.0,1462060800000.0,1464739200000.0,1467331200000.0,1470009600000.0],\"y_values\":[100.0,100.47,100.73,100.75,100.91,101.4,101.34,101.29,101.42,101.62,102.16,102.19,102.29,102.98,103.08,102.99,103.17,103.53,103.78,104.37,104.62,104.8,105.07,104.65,104.41,104.08,104.7,105.58,105.93,106.71,106.73,107.18,107.41,107.55,107.72,107.91,107.86,108.02,108.74,109.32,109.86,110.48,110.58,110.94,110.8,110.87,111.01,110.67,110.76,111.16,111.45,111.92,112.29,113.11,113.6,113.95,113.86,113.78,113.81,113.95,114.06,114.23,115.0,115.6,116.23,116.72,117.14,117.11,117.12,116.97,117.09,117.1,116.93,117.23,118.18,118.69,119.5,119.97,120.26,120.66,120.42,120.86,120.99,121.07,121.19,122.07,122.95,123.85,124.78,125.96,126.22,126.73,127.19,127.46,127.99,128.21,128.73,129.22,130.26,131.26,132.51,133.55,134.21,134.95,135.03,135.65,135.81,136.06,137.43,137.22,138.8,140.08,141.23,142.65,143.36,143.79,144.43,144.96,145.4,145.8,146.47,147.43,148.79,150.0,151.23,152.48,153.33,153.93,154.5,155.08,155.05,155.58,156.14,157.03,158.6,159.92,161.62,163.17,164.25,165.17,165.94,166.68,167.06,167.71,168.3,169.38,170.61,172.16,173.84,175.23,176.56,177.72,178.9,179.44,180.2,181.09,181.78,183.27,185.23,187.37,190.04,192.6,194.21,195.45,196.59,197.43,198.61,199.56,200.29,201.99,204.88,207.44,210.18,212.63,214.62,216.15,217.57,218.12,218.67,219.14,219.75,220.69,222.4,223.85,225.6,226.29,226.18,226.58,225.88,225.53,225.27,224.48,224.3,224.89,226.81,227.89,228.23,228.21,226.87,225.7,223.96,221.69,219.37,217.2,214.14,213.72,212.38,211.39,210.49,210.01,207.88,205.62,203.07,200.69,196.39,194.77,195.68,196.52,194.63,195.03,196.13,196.93,196.18,195.41,194.42,194.51,194.17,190.78,189.91,189.47,190.04,191.78,193.64,192.49,191.11,190.3,187.71,187.48,186.14,183.42,181.48,179.8,178.91,180.92,182.27,183.96,184.39,183.12,183.29,181.72,181.91,181.15,179.31,179.95,182.71,185.47,188.52,190.43,190.65,190.84,190.71,191.05,191.27,190.93,190.8,192.33,195.93,198.66,202.27,204.83,206.05,205.96,205.62,205.79,205.09,204.86,204.36,205.49,208.14,210.39,213.01,215.14,216.01,215.86,214.98,215.35,215.54,215.93,214.56,216.59,219.17,222.12,225.31,227.36,228.44,227.87,228.19,228.31,228.76,228.62,227.64,229.28,233.36,235.68,238.54,240.67,241.87,242.48]}},\"id\":\"52422c0f-3cc5-4e75-b02c-f0cbec4157ab\",\"type\":\"ColumnDataSource\"},{\"attributes\":{\"months\":[0,2,4,6,8,10]},\"id\":\"fd1bfd64-0da8-4a34-b1e5-d63dda8e3ad1\",\"type\":\"MonthsTicker\"},{\"attributes\":{\"callback\":null,\"column_names\":[\"y_values\",\"x_values\"],\"data\":{\"chart_index\":[{\"place_name\":\"Pacific Division\"},{\"place_name\":\"Pacific Division\"},{\"place_name\":\"Pacific Division\"},{\"place_name\":\"Pacific Division\"},{\"place_name\":\"Pacific Division\"},{\"place_name\":\"Pacific Division\"},{\"place_name\":\"Pacific Division\"},{\"place_name\":\"Pacific Division\"},{\"place_name\":\"Pacific Division\"},{\"place_name\":\"Pacific Division\"},{\"place_name\":\"Pacific Division\"},{\"place_name\":\"Pacific Division\"},{\"place_name\":\"Pacific Division\"},{\"place_name\":\"Pacific Division\"},{\"place_name\":\"Pacific Division\"},{\"place_name\":\"Pacific Division\"},{\"place_name\":\"Pacific Division\"},{\"place_name\":\"Pacific Division\"},{\"place_name\":\"Pacific Division\"},{\"place_name\":\"Pacific Division\"},{\"place_name\":\"Pacific Division\"},{\"place_name\":\"Pacific Division\"},{\"place_name\":\"Pacific Division\"},{\"place_name\":\"Pacific Division\"},{\"place_name\":\"Pacific Division\"},{\"place_name\":\"Pacific Division\"},{\"place_name\":\"Pacific Division\"},{\"place_name\":\"Pacific Division\"},{\"place_name\":\"Pacific Division\"},{\"place_name\":\"Pacific Division\"},{\"place_name\":\"Pacific Division\"},{\"place_name\":\"Pacific Division\"},{\"place_name\":\"Pacific Division\"},{\"place_name\":\"Pacific Division\"},{\"place_name\":\"Pacific Division\"},{\"place_name\":\"Pacific Division\"},{\"place_name\":\"Pacific Division\"},{\"place_name\":\"Pacific Division\"},{\"place_name\":\"Pacific Division\"},{\"place_name\":\"Pacific Division\"},{\"place_name\":\"Pacific Division\"},{\"place_name\":\"Pacific Division\"},{\"place_name\":\"Pacific Division\"},{\"place_name\":\"Pacific Division\"},{\"place_name\":\"Pacific Division\"},{\"place_name\":\"Pacific Division\"},{\"place_name\":\"Pacific Division\"},{\"place_name\":\"Pacific Division\"},{\"place_name\":\"Pacific Division\"},{\"place_name\":\"Pacific Division\"},{\"place_name\":\"Pacific Division\"},{\"place_name\":\"Pacific Division\"},{\"place_name\":\"Pacific Division\"},{\"place_name\":\"Pacific Division\"},{\"place_name\":\"Pacific Division\"},{\"place_name\":\"Pacific Division\"},{\"place_name\":\"Pacific Division\"},{\"place_name\":\"Pacific Division\"},{\"place_name\":\"Pacific Division\"},{\"place_name\":\"Pacific Division\"},{\"place_name\":\"Pacific Division\"},{\"place_name\":\"Pacific Division\"},{\"place_name\":\"Pacific Division\"},{\"place_name\":\"Pacific Division\"},{\"place_name\":\"Pacific Division\"},{\"place_name\":\"Pacific Division\"},{\"place_name\":\"Pacific Division\"},{\"place_name\":\"Pacific Division\"},{\"place_name\":\"Pacific Division\"},{\"place_name\":\"Pacific Division\"},{\"place_name\":\"Pacific Division\"},{\"place_name\":\"Pacific Division\"},{\"place_name\":\"Pacific Division\"},{\"place_name\":\"Pacific Division\"},{\"place_name\":\"Pacific Division\"},{\"place_name\":\"Pacific Division\"},{\"place_name\":\"Pacific Division\"},{\"place_name\":\"Pacific Division\"},{\"place_name\":\"Pacific Division\"},{\"place_name\":\"Pacific Division\"},{\"place_name\":\"Pacific Division\"},{\"place_name\":\"Pacific Division\"},{\"place_name\":\"Pacific Division\"},{\"place_name\":\"Pacific Division\"},{\"place_name\":\"Pacific Division\"},{\"place_name\":\"Pacific Division\"},{\"place_name\":\"Pacific Division\"},{\"place_name\":\"Pacific Division\"},{\"place_name\":\"Pacific Division\"},{\"place_name\":\"Pacific Division\"},{\"place_name\":\"Pacific Division\"},{\"place_name\":\"Pacific Division\"},{\"place_name\":\"Pacific Division\"},{\"place_name\":\"Pacific Division\"},{\"place_name\":\"Pacific Division\"},{\"place_name\":\"Pacific Division\"},{\"place_name\":\"Pacific Division\"},{\"place_name\":\"Pacific Division\"},{\"place_name\":\"Pacific Division\"},{\"place_name\":\"Pacific Division\"},{\"place_name\":\"Pacific Division\"},{\"place_name\":\"Pacific Division\"},{\"place_name\":\"Pacific Division\"},{\"place_name\":\"Pacific Division\"},{\"place_name\":\"Pacific Division\"},{\"place_name\":\"Pacific Division\"},{\"place_name\":\"Pacific Division\"},{\"place_name\":\"Pacific Division\"},{\"place_name\":\"Pacific Division\"},{\"place_name\":\"Pacific Division\"},{\"place_name\":\"Pacific Division\"},{\"place_name\":\"Pacific Division\"},{\"place_name\":\"Pacific Division\"},{\"place_name\":\"Pacific Division\"},{\"place_name\":\"Pacific Division\"},{\"place_name\":\"Pacific Division\"},{\"place_name\":\"Pacific Division\"},{\"place_name\":\"Pacific Division\"},{\"place_name\":\"Pacific Division\"},{\"place_name\":\"Pacific Division\"},{\"place_name\":\"Pacific Division\"},{\"place_name\":\"Pacific Division\"},{\"place_name\":\"Pacific Division\"},{\"place_name\":\"Pacific Division\"},{\"place_name\":\"Pacific Division\"},{\"place_name\":\"Pacific Division\"},{\"place_name\":\"Pacific Division\"},{\"place_name\":\"Pacific Division\"},{\"place_name\":\"Pacific Division\"},{\"place_name\":\"Pacific Division\"},{\"place_name\":\"Pacific Division\"},{\"place_name\":\"Pacific Division\"},{\"place_name\":\"Pacific Division\"},{\"place_name\":\"Pacific Division\"},{\"place_name\":\"Pacific Division\"},{\"place_name\":\"Pacific Division\"},{\"place_name\":\"Pacific Division\"},{\"place_name\":\"Pacific Division\"},{\"place_name\":\"Pacific Division\"},{\"place_name\":\"Pacific Division\"},{\"place_name\":\"Pacific Division\"},{\"place_name\":\"Pacific Division\"},{\"place_name\":\"Pacific Division\"},{\"place_name\":\"Pacific Division\"},{\"place_name\":\"Pacific Division\"},{\"place_name\":\"Pacific Division\"},{\"place_name\":\"Pacific Division\"},{\"place_name\":\"Pacific Division\"},{\"place_name\":\"Pacific Division\"},{\"place_name\":\"Pacific Division\"},{\"place_name\":\"Pacific Division\"},{\"place_name\":\"Pacific Division\"},{\"place_name\":\"Pacific Division\"},{\"place_name\":\"Pacific Division\"},{\"place_name\":\"Pacific Division\"},{\"place_name\":\"Pacific Division\"},{\"place_name\":\"Pacific Division\"},{\"place_name\":\"Pacific Division\"},{\"place_name\":\"Pacific Division\"},{\"place_name\":\"Pacific Division\"},{\"place_name\":\"Pacific Division\"},{\"place_name\":\"Pacific Division\"},{\"place_name\":\"Pacific Division\"},{\"place_name\":\"Pacific Division\"},{\"place_name\":\"Pacific Division\"},{\"place_name\":\"Pacific Division\"},{\"place_name\":\"Pacific Division\"},{\"place_name\":\"Pacific Division\"},{\"place_name\":\"Pacific Division\"},{\"place_name\":\"Pacific Division\"},{\"place_name\":\"Pacific Division\"},{\"place_name\":\"Pacific Division\"},{\"place_name\":\"Pacific Division\"},{\"place_name\":\"Pacific Division\"},{\"place_name\":\"Pacific Division\"},{\"place_name\":\"Pacific Division\"},{\"place_name\":\"Pacific Division\"},{\"place_name\":\"Pacific Division\"},{\"place_name\":\"Pacific Division\"},{\"place_name\":\"Pacific Division\"},{\"place_name\":\"Pacific Division\"},{\"place_name\":\"Pacific Division\"},{\"place_name\":\"Pacific Division\"},{\"place_name\":\"Pacific Division\"},{\"place_name\":\"Pacific Division\"},{\"place_name\":\"Pacific Division\"},{\"place_name\":\"Pacific Division\"},{\"place_name\":\"Pacific Division\"},{\"place_name\":\"Pacific Division\"},{\"place_name\":\"Pacific Division\"},{\"place_name\":\"Pacific Division\"},{\"place_name\":\"Pacific Division\"},{\"place_name\":\"Pacific Division\"},{\"place_name\":\"Pacific Division\"},{\"place_name\":\"Pacific Division\"},{\"place_name\":\"Pacific Division\"},{\"place_name\":\"Pacific Division\"},{\"place_name\":\"Pacific Division\"},{\"place_name\":\"Pacific Division\"},{\"place_name\":\"Pacific Division\"},{\"place_name\":\"Pacific Division\"},{\"place_name\":\"Pacific Division\"},{\"place_name\":\"Pacific Division\"},{\"place_name\":\"Pacific Division\"},{\"place_name\":\"Pacific Division\"},{\"place_name\":\"Pacific Division\"},{\"place_name\":\"Pacific Division\"},{\"place_name\":\"Pacific Division\"},{\"place_name\":\"Pacific Division\"},{\"place_name\":\"Pacific Division\"},{\"place_name\":\"Pacific Division\"},{\"place_name\":\"Pacific Division\"},{\"place_name\":\"Pacific Division\"},{\"place_name\":\"Pacific Division\"},{\"place_name\":\"Pacific Division\"},{\"place_name\":\"Pacific Division\"},{\"place_name\":\"Pacific Division\"},{\"place_name\":\"Pacific Division\"},{\"place_name\":\"Pacific Division\"},{\"place_name\":\"Pacific Division\"},{\"place_name\":\"Pacific Division\"},{\"place_name\":\"Pacific Division\"},{\"place_name\":\"Pacific Division\"},{\"place_name\":\"Pacific Division\"},{\"place_name\":\"Pacific Division\"},{\"place_name\":\"Pacific Division\"},{\"place_name\":\"Pacific Division\"},{\"place_name\":\"Pacific Division\"},{\"place_name\":\"Pacific Division\"},{\"place_name\":\"Pacific Division\"},{\"place_name\":\"Pacific Division\"},{\"place_name\":\"Pacific Division\"},{\"place_name\":\"Pacific Division\"},{\"place_name\":\"Pacific Division\"},{\"place_name\":\"Pacific Division\"},{\"place_name\":\"Pacific Division\"},{\"place_name\":\"Pacific Division\"},{\"place_name\":\"Pacific Division\"},{\"place_name\":\"Pacific Division\"},{\"place_name\":\"Pacific Division\"},{\"place_name\":\"Pacific Division\"},{\"place_name\":\"Pacific Division\"},{\"place_name\":\"Pacific Division\"},{\"place_name\":\"Pacific Division\"},{\"place_name\":\"Pacific Division\"},{\"place_name\":\"Pacific Division\"},{\"place_name\":\"Pacific Division\"},{\"place_name\":\"Pacific Division\"},{\"place_name\":\"Pacific Division\"},{\"place_name\":\"Pacific Division\"},{\"place_name\":\"Pacific Division\"},{\"place_name\":\"Pacific Division\"},{\"place_name\":\"Pacific Division\"},{\"place_name\":\"Pacific Division\"},{\"place_name\":\"Pacific Division\"},{\"place_name\":\"Pacific Division\"},{\"place_name\":\"Pacific Division\"},{\"place_name\":\"Pacific Division\"},{\"place_name\":\"Pacific Division\"},{\"place_name\":\"Pacific Division\"},{\"place_name\":\"Pacific Division\"},{\"place_name\":\"Pacific Division\"},{\"place_name\":\"Pacific Division\"},{\"place_name\":\"Pacific Division\"},{\"place_name\":\"Pacific Division\"},{\"place_name\":\"Pacific Division\"},{\"place_name\":\"Pacific Division\"},{\"place_name\":\"Pacific Division\"},{\"place_name\":\"Pacific Division\"},{\"place_name\":\"Pacific Division\"},{\"place_name\":\"Pacific Division\"},{\"place_name\":\"Pacific Division\"},{\"place_name\":\"Pacific Division\"},{\"place_name\":\"Pacific Division\"},{\"place_name\":\"Pacific Division\"},{\"place_name\":\"Pacific Division\"},{\"place_name\":\"Pacific Division\"},{\"place_name\":\"Pacific Division\"},{\"place_name\":\"Pacific Division\"},{\"place_name\":\"Pacific Division\"},{\"place_name\":\"Pacific Division\"},{\"place_name\":\"Pacific Division\"},{\"place_name\":\"Pacific Division\"},{\"place_name\":\"Pacific Division\"},{\"place_name\":\"Pacific Division\"},{\"place_name\":\"Pacific Division\"},{\"place_name\":\"Pacific Division\"},{\"place_name\":\"Pacific Division\"},{\"place_name\":\"Pacific Division\"},{\"place_name\":\"Pacific Division\"},{\"place_name\":\"Pacific Division\"},{\"place_name\":\"Pacific Division\"},{\"place_name\":\"Pacific Division\"},{\"place_name\":\"Pacific Division\"},{\"place_name\":\"Pacific Division\"},{\"place_name\":\"Pacific Division\"},{\"place_name\":\"Pacific Division\"},{\"place_name\":\"Pacific Division\"},{\"place_name\":\"Pacific Division\"},{\"place_name\":\"Pacific Division\"},{\"place_name\":\"Pacific Division\"},{\"place_name\":\"Pacific Division\"},{\"place_name\":\"Pacific Division\"},{\"place_name\":\"Pacific Division\"},{\"place_name\":\"Pacific Division\"},{\"place_name\":\"Pacific Division\"},{\"place_name\":\"Pacific Division\"},{\"place_name\":\"Pacific Division\"}],\"place_name\":[\"Pacific Division\",\"Pacific Division\",\"Pacific Division\",\"Pacific Division\",\"Pacific Division\",\"Pacific Division\",\"Pacific Division\",\"Pacific Division\",\"Pacific Division\",\"Pacific Division\",\"Pacific Division\",\"Pacific Division\",\"Pacific Division\",\"Pacific Division\",\"Pacific Division\",\"Pacific Division\",\"Pacific Division\",\"Pacific Division\",\"Pacific Division\",\"Pacific Division\",\"Pacific Division\",\"Pacific Division\",\"Pacific Division\",\"Pacific Division\",\"Pacific Division\",\"Pacific Division\",\"Pacific Division\",\"Pacific Division\",\"Pacific Division\",\"Pacific Division\",\"Pacific Division\",\"Pacific Division\",\"Pacific Division\",\"Pacific Division\",\"Pacific Division\",\"Pacific Division\",\"Pacific Division\",\"Pacific Division\",\"Pacific Division\",\"Pacific Division\",\"Pacific Division\",\"Pacific Division\",\"Pacific Division\",\"Pacific Division\",\"Pacific Division\",\"Pacific Division\",\"Pacific Division\",\"Pacific Division\",\"Pacific Division\",\"Pacific Division\",\"Pacific Division\",\"Pacific Division\",\"Pacific Division\",\"Pacific Division\",\"Pacific Division\",\"Pacific Division\",\"Pacific Division\",\"Pacific Division\",\"Pacific Division\",\"Pacific Division\",\"Pacific Division\",\"Pacific Division\",\"Pacific Division\",\"Pacific Division\",\"Pacific Division\",\"Pacific Division\",\"Pacific Division\",\"Pacific Division\",\"Pacific Division\",\"Pacific Division\",\"Pacific Division\",\"Pacific Division\",\"Pacific Division\",\"Pacific Division\",\"Pacific Division\",\"Pacific Division\",\"Pacific Division\",\"Pacific Division\",\"Pacific Division\",\"Pacific Division\",\"Pacific Division\",\"Pacific Division\",\"Pacific Division\",\"Pacific Division\",\"Pacific Division\",\"Pacific Division\",\"Pacific Division\",\"Pacific Division\",\"Pacific Division\",\"Pacific Division\",\"Pacific Division\",\"Pacific Division\",\"Pacific Division\",\"Pacific Division\",\"Pacific Division\",\"Pacific Division\",\"Pacific Division\",\"Pacific Division\",\"Pacific Division\",\"Pacific Division\",\"Pacific Division\",\"Pacific Division\",\"Pacific Division\",\"Pacific Division\",\"Pacific Division\",\"Pacific Division\",\"Pacific Division\",\"Pacific Division\",\"Pacific Division\",\"Pacific Division\",\"Pacific Division\",\"Pacific Division\",\"Pacific Division\",\"Pacific Division\",\"Pacific Division\",\"Pacific Division\",\"Pacific Division\",\"Pacific Division\",\"Pacific Division\",\"Pacific Division\",\"Pacific Division\",\"Pacific Division\",\"Pacific Division\",\"Pacific Division\",\"Pacific Division\",\"Pacific Division\",\"Pacific Division\",\"Pacific Division\",\"Pacific Division\",\"Pacific Division\",\"Pacific Division\",\"Pacific Division\",\"Pacific Division\",\"Pacific Division\",\"Pacific Division\",\"Pacific Division\",\"Pacific Division\",\"Pacific Division\",\"Pacific Division\",\"Pacific Division\",\"Pacific Division\",\"Pacific Division\",\"Pacific Division\",\"Pacific Division\",\"Pacific Division\",\"Pacific Division\",\"Pacific Division\",\"Pacific Division\",\"Pacific Division\",\"Pacific Division\",\"Pacific Division\",\"Pacific Division\",\"Pacific Division\",\"Pacific Division\",\"Pacific Division\",\"Pacific Division\",\"Pacific Division\",\"Pacific Division\",\"Pacific Division\",\"Pacific Division\",\"Pacific Division\",\"Pacific Division\",\"Pacific Division\",\"Pacific Division\",\"Pacific Division\",\"Pacific Division\",\"Pacific Division\",\"Pacific Division\",\"Pacific Division\",\"Pacific Division\",\"Pacific Division\",\"Pacific Division\",\"Pacific Division\",\"Pacific Division\",\"Pacific Division\",\"Pacific Division\",\"Pacific Division\",\"Pacific Division\",\"Pacific Division\",\"Pacific Division\",\"Pacific Division\",\"Pacific Division\",\"Pacific Division\",\"Pacific Division\",\"Pacific Division\",\"Pacific Division\",\"Pacific Division\",\"Pacific Division\",\"Pacific Division\",\"Pacific Division\",\"Pacific Division\",\"Pacific Division\",\"Pacific Division\",\"Pacific Division\",\"Pacific Division\",\"Pacific Division\",\"Pacific Division\",\"Pacific Division\",\"Pacific Division\",\"Pacific Division\",\"Pacific Division\",\"Pacific Division\",\"Pacific Division\",\"Pacific Division\",\"Pacific Division\",\"Pacific Division\",\"Pacific Division\",\"Pacific Division\",\"Pacific Division\",\"Pacific Division\",\"Pacific Division\",\"Pacific Division\",\"Pacific Division\",\"Pacific Division\",\"Pacific Division\",\"Pacific Division\",\"Pacific Division\",\"Pacific Division\",\"Pacific Division\",\"Pacific Division\",\"Pacific Division\",\"Pacific Division\",\"Pacific Division\",\"Pacific Division\",\"Pacific Division\",\"Pacific Division\",\"Pacific Division\",\"Pacific Division\",\"Pacific Division\",\"Pacific Division\",\"Pacific Division\",\"Pacific Division\",\"Pacific Division\",\"Pacific Division\",\"Pacific Division\",\"Pacific Division\",\"Pacific Division\",\"Pacific Division\",\"Pacific Division\",\"Pacific Division\",\"Pacific Division\",\"Pacific Division\",\"Pacific Division\",\"Pacific Division\",\"Pacific Division\",\"Pacific Division\",\"Pacific Division\",\"Pacific Division\",\"Pacific Division\",\"Pacific Division\",\"Pacific Division\",\"Pacific Division\",\"Pacific Division\",\"Pacific Division\",\"Pacific Division\",\"Pacific Division\",\"Pacific Division\",\"Pacific Division\",\"Pacific Division\",\"Pacific Division\",\"Pacific Division\",\"Pacific Division\",\"Pacific Division\",\"Pacific Division\",\"Pacific Division\",\"Pacific Division\",\"Pacific Division\",\"Pacific Division\",\"Pacific Division\",\"Pacific Division\",\"Pacific Division\",\"Pacific Division\",\"Pacific Division\",\"Pacific Division\",\"Pacific Division\",\"Pacific Division\",\"Pacific Division\",\"Pacific Division\",\"Pacific Division\",\"Pacific Division\",\"Pacific Division\",\"Pacific Division\",\"Pacific Division\",\"Pacific Division\",\"Pacific Division\",\"Pacific Division\",\"Pacific Division\",\"Pacific Division\",\"Pacific Division\",\"Pacific Division\",\"Pacific Division\",\"Pacific Division\",\"Pacific Division\",\"Pacific Division\",\"Pacific Division\",\"Pacific Division\",\"Pacific Division\",\"Pacific Division\",\"Pacific Division\",\"Pacific Division\",\"Pacific Division\",\"Pacific Division\",\"Pacific Division\",\"Pacific Division\",\"Pacific Division\",\"Pacific Division\",\"Pacific Division\",\"Pacific Division\"],\"x_values\":[662688000000.0,665366400000.0,667785600000.0,670464000000.0,673056000000.0,675734400000.0,678326400000.0,681004800000.0,683683200000.0,686275200000.0,688953600000.0,691545600000.0,694224000000.0,696902400000.0,699408000000.0,702086400000.0,704678400000.0,707356800000.0,709948800000.0,712627200000.0,715305600000.0,717897600000.0,720576000000.0,723168000000.0,725846400000.0,728524800000.0,730944000000.0,733622400000.0,736214400000.0,738892800000.0,741484800000.0,744163200000.0,746841600000.0,749433600000.0,752112000000.0,754704000000.0,757382400000.0,760060800000.0,762480000000.0,765158400000.0,767750400000.0,770428800000.0,773020800000.0,775699200000.0,778377600000.0,780969600000.0,783648000000.0,786240000000.0,788918400000.0,791596800000.0,794016000000.0,796694400000.0,799286400000.0,801964800000.0,804556800000.0,807235200000.0,809913600000.0,812505600000.0,815184000000.0,817776000000.0,820454400000.0,823132800000.0,825638400000.0,828316800000.0,830908800000.0,833587200000.0,836179200000.0,838857600000.0,841536000000.0,844128000000.0,846806400000.0,849398400000.0,852076800000.0,854755200000.0,857174400000.0,859852800000.0,862444800000.0,865123200000.0,867715200000.0,870393600000.0,873072000000.0,875664000000.0,878342400000.0,880934400000.0,883612800000.0,886291200000.0,888710400000.0,891388800000.0,893980800000.0,896659200000.0,899251200000.0,901929600000.0,904608000000.0,907200000000.0,909878400000.0,912470400000.0,915148800000.0,917827200000.0,920246400000.0,922924800000.0,925516800000.0,928195200000.0,930787200000.0,933465600000.0,936144000000.0,938736000000.0,941414400000.0,944006400000.0,946684800000.0,949363200000.0,951868800000.0,954547200000.0,957139200000.0,959817600000.0,962409600000.0,965088000000.0,967766400000.0,970358400000.0,973036800000.0,975628800000.0,978307200000.0,980985600000.0,983404800000.0,986083200000.0,988675200000.0,991353600000.0,993945600000.0,996624000000.0,999302400000.0,1001894400000.0,1004572800000.0,1007164800000.0,1009843200000.0,1012521600000.0,1014940800000.0,1017619200000.0,1020211200000.0,1022889600000.0,1025481600000.0,1028160000000.0,1030838400000.0,1033430400000.0,1036108800000.0,1038700800000.0,1041379200000.0,1044057600000.0,1046476800000.0,1049155200000.0,1051747200000.0,1054425600000.0,1057017600000.0,1059696000000.0,1062374400000.0,1064966400000.0,1067644800000.0,1070236800000.0,1072915200000.0,1075593600000.0,1078099200000.0,1080777600000.0,1083369600000.0,1086048000000.0,1088640000000.0,1091318400000.0,1093996800000.0,1096588800000.0,1099267200000.0,1101859200000.0,1104537600000.0,1107216000000.0,1109635200000.0,1112313600000.0,1114905600000.0,1117584000000.0,1120176000000.0,1122854400000.0,1125532800000.0,1128124800000.0,1130803200000.0,1133395200000.0,1136073600000.0,1138752000000.0,1141171200000.0,1143849600000.0,1146441600000.0,1149120000000.0,1151712000000.0,1154390400000.0,1157068800000.0,1159660800000.0,1162339200000.0,1164931200000.0,1167609600000.0,1170288000000.0,1172707200000.0,1175385600000.0,1177977600000.0,1180656000000.0,1183248000000.0,1185926400000.0,1188604800000.0,1191196800000.0,1193875200000.0,1196467200000.0,1199145600000.0,1201824000000.0,1204329600000.0,1207008000000.0,1209600000000.0,1212278400000.0,1214870400000.0,1217548800000.0,1220227200000.0,1222819200000.0,1225497600000.0,1228089600000.0,1230768000000.0,1233446400000.0,1235865600000.0,1238544000000.0,1241136000000.0,1243814400000.0,1246406400000.0,1249084800000.0,1251763200000.0,1254355200000.0,1257033600000.0,1259625600000.0,1262304000000.0,1264982400000.0,1267401600000.0,1270080000000.0,1272672000000.0,1275350400000.0,1277942400000.0,1280620800000.0,1283299200000.0,1285891200000.0,1288569600000.0,1291161600000.0,1293840000000.0,1296518400000.0,1298937600000.0,1301616000000.0,1304208000000.0,1306886400000.0,1309478400000.0,1312156800000.0,1314835200000.0,1317427200000.0,1320105600000.0,1322697600000.0,1325376000000.0,1328054400000.0,1330560000000.0,1333238400000.0,1335830400000.0,1338508800000.0,1341100800000.0,1343779200000.0,1346457600000.0,1349049600000.0,1351728000000.0,1354320000000.0,1356998400000.0,1359676800000.0,1362096000000.0,1364774400000.0,1367366400000.0,1370044800000.0,1372636800000.0,1375315200000.0,1377993600000.0,1380585600000.0,1383264000000.0,1385856000000.0,1388534400000.0,1391212800000.0,1393632000000.0,1396310400000.0,1398902400000.0,1401580800000.0,1404172800000.0,1406851200000.0,1409529600000.0,1412121600000.0,1414800000000.0,1417392000000.0,1420070400000.0,1422748800000.0,1425168000000.0,1427846400000.0,1430438400000.0,1433116800000.0,1435708800000.0,1438387200000.0,1441065600000.0,1443657600000.0,1446336000000.0,1448928000000.0,1451606400000.0,1454284800000.0,1456790400000.0,1459468800000.0,1462060800000.0,1464739200000.0,1467331200000.0,1470009600000.0],\"y_values\":[100.0,100.26,100.05,100.21,100.42,100.48,100.52,100.84,100.43,100.99,100.93,101.11,100.99,101.13,100.71,100.49,100.65,100.33,100.77,101.07,101.1,100.13,99.98,99.64,98.83,97.81,98.24,98.52,98.29,98.61,97.6,98.04,97.7,97.81,96.95,97.09,96.67,96.21,96.46,97.04,96.85,97.2,97.19,97.18,97.28,96.49,96.14,96.15,96.15,96.15,95.73,95.38,96.09,96.21,96.54,96.58,96.06,95.82,95.7,95.42,95.59,95.27,95.72,95.99,96.32,96.65,96.99,96.63,96.43,96.45,96.52,96.46,95.91,95.92,96.94,97.94,98.69,98.88,99.82,100.03,99.91,100.03,101.05,100.82,101.23,102.43,103.57,105.2,106.28,107.3,107.6,108.32,108.48,109.23,109.73,109.57,110.89,111.36,112.98,113.98,115.24,116.17,116.54,117.35,117.82,118.67,119.05,119.57,122.13,121.19,123.54,124.52,126.35,127.56,128.43,129.54,130.46,131.72,132.91,133.83,134.61,136.38,138.24,139.43,141.0,141.92,142.69,143.66,144.85,145.06,145.22,146.75,147.66,149.19,151.52,153.25,156.34,158.7,160.83,162.54,163.55,165.19,165.93,167.25,168.74,171.01,172.84,175.42,177.94,179.55,182.29,184.88,187.18,189.67,191.98,194.62,196.66,199.17,203.63,206.99,213.41,218.87,223.05,225.5,228.76,230.09,234.2,237.61,238.31,243.6,248.21,253.18,259.42,263.28,267.76,271.87,275.91,274.9,275.04,277.76,276.86,280.82,281.03,282.93,284.26,285.0,283.71,282.49,281.12,277.25,277.26,275.72,275.73,274.51,279.15,278.29,276.3,274.3,272.01,265.28,261.91,255.74,249.38,243.61,237.55,233.63,225.67,222.32,218.42,216.43,212.2,207.45,203.95,199.63,194.21,191.76,187.99,189.91,187.89,186.91,187.13,189.47,189.9,190.75,189.74,190.08,191.34,187.34,184.93,187.91,187.66,188.73,191.16,187.43,187.45,185.02,184.41,181.27,179.81,177.68,174.13,173.88,172.75,173.38,173.55,173.61,175.01,172.58,173.11,172.21,171.32,170.3,169.95,170.55,173.49,176.93,180.46,182.67,182.33,185.33,184.95,187.77,189.73,190.54,191.88,194.2,199.83,204.43,209.05,212.51,217.14,217.44,218.23,218.9,218.38,217.52,218.18,221.79,224.23,226.88,229.68,232.01,234.09,234.25,233.48,234.63,234.4,236.16,235.9,237.6,241.03,244.65,248.23,249.4,252.08,251.52,253.18,252.98,256.19,256.05,253.8,258.27,263.62,266.91,268.98,268.64,271.62,271.51]}},\"id\":\"569d970e-6318-4413-83bc-8b647589432f\",\"type\":\"ColumnDataSource\"},{\"attributes\":{\"days\":[1,2,3,4,5,6,7,8,9,10,11,12,13,14,15,16,17,18,19,20,21,22,23,24,25,26,27,28,29,30,31]},\"id\":\"da157ead-3245-4cb7-b559-842d88c960b1\",\"type\":\"DaysTicker\"},{\"attributes\":{\"line_color\":{\"value\":\"#5ab738\"},\"line_width\":{\"value\":2},\"x\":{\"field\":\"x_values\"},\"y\":{\"field\":\"y_values\"}},\"id\":\"a3a5b7ee-115e-441f-85c6-962626ab3f1f\",\"type\":\"Line\"},{\"attributes\":{},\"id\":\"6e7b8d5b-bfc4-46b1-a41d-67d6397eaca0\",\"type\":\"BasicTicker\"},{\"attributes\":{\"legends\":[[\"West South Central Division\",[{\"id\":\"b5ea80f5-2169-4fb0-81b8-e1730122dd1b\",\"type\":\"GlyphRenderer\"}]],[\"United States\",[{\"id\":\"37615e3b-f8d1-4424-8f1a-b6ecc13b5e81\",\"type\":\"GlyphRenderer\"}]],[\"Pacific Division\",[{\"id\":\"9d841ee0-9c63-4cc9-a043-362d297a03d1\",\"type\":\"GlyphRenderer\"}]]],\"location\":\"top_left\",\"plot\":{\"id\":\"349f9bc6-7471-46d0-967a-f5131c1c3349\",\"subtype\":\"Chart\",\"type\":\"Plot\"}},\"id\":\"c322f780-ab86-4df9-b116-c6a3cd3176fd\",\"type\":\"Legend\"},{\"attributes\":{\"overlay\":{\"id\":\"95fbfe7b-9ee4-420f-bb7c-ad0d32d7d11f\",\"type\":\"BoxAnnotation\"},\"plot\":{\"id\":\"349f9bc6-7471-46d0-967a-f5131c1c3349\",\"subtype\":\"Chart\",\"type\":\"Plot\"}},\"id\":\"1ea715fe-ad3a-4cab-9c59-d3d7222c011b\",\"type\":\"BoxZoomTool\"},{\"attributes\":{\"callback\":null,\"end\":1470009600000.0,\"start\":662688000000.0},\"id\":\"48b32cb7-f36a-41ab-8ecf-88aacedbdc72\",\"type\":\"Range1d\"},{\"attributes\":{\"months\":[0,6]},\"id\":\"a26d087a-5c25-4c47-897a-d336a36b46e1\",\"type\":\"MonthsTicker\"},{\"attributes\":{\"max_interval\":500.0,\"num_minor_ticks\":0},\"id\":\"7ad59bfe-0447-4d18-a52f-f60d4522a549\",\"type\":\"AdaptiveTicker\"},{\"attributes\":{\"plot\":{\"id\":\"349f9bc6-7471-46d0-967a-f5131c1c3349\",\"subtype\":\"Chart\",\"type\":\"Plot\"}},\"id\":\"1b0ed6ee-2ec6-43fb-a8f0-a6e3c08bf4c1\",\"type\":\"PanTool\"}],\"root_ids\":[\"349f9bc6-7471-46d0-967a-f5131c1c3349\"]},\"title\":\"Bokeh Application\",\"version\":\"0.12.2\"}};\n",
       "            var render_items = [{\"docid\":\"fa558ff4-632b-4fa6-aa6d-75822ca8ad21\",\"elementid\":\"b0247fb1-52e8-461f-98a7-705663c38981\",\"modelid\":\"349f9bc6-7471-46d0-967a-f5131c1c3349\"}];\n",
       "            \n",
       "            Bokeh.embed.embed_items(docs_json, render_items);\n",
       "        });\n",
       "      },\n",
       "      function(Bokeh) {\n",
       "      }\n",
       "    ];\n",
       "  \n",
       "    function run_inline_js() {\n",
       "      \n",
       "      if ((window.Bokeh !== undefined) || (force === \"1\")) {\n",
       "        for (var i = 0; i < inline_js.length; i++) {\n",
       "          inline_js[i](window.Bokeh);\n",
       "        }if (force === \"1\") {\n",
       "          display_loaded();\n",
       "        }} else if (Date.now() < window._bokeh_timeout) {\n",
       "        setTimeout(run_inline_js, 100);\n",
       "      } else if (!window._bokeh_failed_load) {\n",
       "        console.log(\"Bokeh: BokehJS failed to load within specified timeout.\");\n",
       "        window._bokeh_failed_load = true;\n",
       "      } else if (!force) {\n",
       "        var cell = $(\"#b0247fb1-52e8-461f-98a7-705663c38981\").parents('.cell').data().cell;\n",
       "        cell.output_area.append_execute_result(NB_LOAD_WARNING)\n",
       "      }\n",
       "  \n",
       "    }\n",
       "  \n",
       "    if (window._bokeh_is_loading === 0) {\n",
       "      console.log(\"Bokeh: BokehJS loaded, going straight to plotting\");\n",
       "      run_inline_js();\n",
       "    } else {\n",
       "      load_libs(js_urls, function() {\n",
       "        console.log(\"Bokeh: BokehJS plotting callback run at\", now());\n",
       "        run_inline_js();\n",
       "      });\n",
       "    }\n",
       "  }(this));\n",
       "</script>"
      ]
     },
     "metadata": {},
     "output_type": "display_data"
    }
   ],
   "source": [
    "p = bokeh.charts.Line(df_us_3, x='date', y='index_nsa', color='place_name',\n",
    "                      legend=\"top_left\")\n",
    "\n",
    "bokeh.io.show(p)"
   ]
  },
  {
   "cell_type": "markdown",
   "metadata": {},
   "source": [
    "During the Great Recession of 2008-2010, home prices across the U.S. declined dramatically.  Home prices in the Pacific region, which includes California, grew significantly more than the U.S. as a whole.  Aggregate U.S. home prices have regained all of their price losses since then and the Pacific and West South Central regions are not too far behind. "
   ]
  },
  {
   "cell_type": "markdown",
   "metadata": {},
   "source": [
    "To continue this analysis, we need to read the remainder of the .csv containing state-level data.  In this instance, we use to 'skiprows=' argument to begin reading on row 3084.  We specify the columns "
   ]
  },
  {
   "cell_type": "markdown",
   "metadata": {},
   "source": [
    "Beginning on row 3081, there are no values for the field 'index_sa'.  We re-read starting with row 3081 to the end of the file.  And since the default is to key off the column names, we will need to supply the column mappings.  And because we are reading from an arbirary start point, we supply a  <a href= \"http://nbviewer.jupyter.org/github/RandyBetancourt/PythonForSASUsers/blob/master/Chapter%2002%20--%20Data%20Structures.ipynb#tuple\"> tuple </a> of names.  Header=None is needed in order to prevent the reader from attempting to build column names at row position nrows-1, which in our case contains data values.\n",
    "\n",
    "There are no values for seasonally adjusted prices beyond rows 3081."
   ]
  },
  {
   "cell_type": "code",
   "execution_count": 52,
   "metadata": {
    "collapsed": false
   },
   "outputs": [],
   "source": [
    "df_states = pd.read_csv(\"C:\\Data\\\\HPI_master.csv\",\n",
    "            parse_dates={'date_idx': [6,7]},\n",
    "            skiprows=3083,\n",
    "            usecols=(0, 1, 2, 3, 4, 5, 6, 7, 8),\n",
    "            names=('hpi_type', 'hpi_flavor', 'frequency', 'level', 'place_name', 'place_id', 'yr', 'period', 'index_nsa'),\n",
    "            header=None)"
   ]
  },
  {
   "cell_type": "markdown",
   "metadata": {},
   "source": [
    "The following SAS Data Step reads the same .csv file."
   ]
  },
  {
   "cell_type": "markdown",
   "metadata": {},
   "source": [
    "````\n",
    "    data df_states;\n",
    "          infile 'C:\\Data\\HPI_master.csv' delimiter=',' missover dsd firstobs=3083; \n",
    "          informat hpi_type $12.\n",
    "                   hpi_flavor $16.\n",
    "                   frequency $9.\n",
    "                   level $28.\n",
    "                   place_name $33.\n",
    "                   place_id $8.\n",
    "                   yr $5.\n",
    "                   period $6.\n",
    "                   index_nsa 8.;\n",
    "             input hpi_type $\n",
    "                   hpi_flavor $\n",
    "                   frequency $\n",
    "                   level $\n",
    "                   place_name $\n",
    "                   place_id $\n",
    "                   yr $\n",
    "                   period $\n",
    "                   index_nsa ;\n",
    "````"
   ]
  },
  {
   "cell_type": "code",
   "execution_count": 53,
   "metadata": {
    "collapsed": false
   },
   "outputs": [
    {
     "data": {
      "text/html": [
       "<div>\n",
       "<table border=\"1\" class=\"dataframe\">\n",
       "  <thead>\n",
       "    <tr style=\"text-align: right;\">\n",
       "      <th></th>\n",
       "      <th>date_idx</th>\n",
       "      <th>hpi_type</th>\n",
       "      <th>hpi_flavor</th>\n",
       "      <th>frequency</th>\n",
       "      <th>level</th>\n",
       "      <th>place_name</th>\n",
       "      <th>place_id</th>\n",
       "      <th>index_nsa</th>\n",
       "    </tr>\n",
       "  </thead>\n",
       "  <tbody>\n",
       "    <tr>\n",
       "      <th>0</th>\n",
       "      <td>1987-01-01</td>\n",
       "      <td>traditional</td>\n",
       "      <td>all-transactions</td>\n",
       "      <td>quarterly</td>\n",
       "      <td>MSA</td>\n",
       "      <td>Abilene, TX</td>\n",
       "      <td>10180</td>\n",
       "      <td>100.91</td>\n",
       "    </tr>\n",
       "    <tr>\n",
       "      <th>1</th>\n",
       "      <td>1987-02-01</td>\n",
       "      <td>traditional</td>\n",
       "      <td>all-transactions</td>\n",
       "      <td>quarterly</td>\n",
       "      <td>MSA</td>\n",
       "      <td>Abilene, TX</td>\n",
       "      <td>10180</td>\n",
       "      <td>100.76</td>\n",
       "    </tr>\n",
       "    <tr>\n",
       "      <th>2</th>\n",
       "      <td>1987-03-01</td>\n",
       "      <td>traditional</td>\n",
       "      <td>all-transactions</td>\n",
       "      <td>quarterly</td>\n",
       "      <td>MSA</td>\n",
       "      <td>Abilene, TX</td>\n",
       "      <td>10180</td>\n",
       "      <td>94.02</td>\n",
       "    </tr>\n",
       "    <tr>\n",
       "      <th>3</th>\n",
       "      <td>1987-04-01</td>\n",
       "      <td>traditional</td>\n",
       "      <td>all-transactions</td>\n",
       "      <td>quarterly</td>\n",
       "      <td>MSA</td>\n",
       "      <td>Abilene, TX</td>\n",
       "      <td>10180</td>\n",
       "      <td>91.43</td>\n",
       "    </tr>\n",
       "    <tr>\n",
       "      <th>4</th>\n",
       "      <td>1988-01-01</td>\n",
       "      <td>traditional</td>\n",
       "      <td>all-transactions</td>\n",
       "      <td>quarterly</td>\n",
       "      <td>MSA</td>\n",
       "      <td>Abilene, TX</td>\n",
       "      <td>10180</td>\n",
       "      <td>81.65</td>\n",
       "    </tr>\n",
       "  </tbody>\n",
       "</table>\n",
       "</div>"
      ],
      "text/plain": [
       "    date_idx     hpi_type        hpi_flavor  frequency level   place_name  \\\n",
       "0 1987-01-01  traditional  all-transactions  quarterly   MSA  Abilene, TX   \n",
       "1 1987-02-01  traditional  all-transactions  quarterly   MSA  Abilene, TX   \n",
       "2 1987-03-01  traditional  all-transactions  quarterly   MSA  Abilene, TX   \n",
       "3 1987-04-01  traditional  all-transactions  quarterly   MSA  Abilene, TX   \n",
       "4 1988-01-01  traditional  all-transactions  quarterly   MSA  Abilene, TX   \n",
       "\n",
       "  place_id  index_nsa  \n",
       "0    10180     100.91  \n",
       "1    10180     100.76  \n",
       "2    10180      94.02  \n",
       "3    10180      91.43  \n",
       "4    10180      81.65  "
      ]
     },
     "execution_count": 53,
     "metadata": {},
     "output_type": "execute_result"
    }
   ],
   "source": [
    "df_states.head()"
   ]
  },
  {
   "cell_type": "markdown",
   "metadata": {},
   "source": [
    "First 5 rows of the SAS data set df_states."
   ]
  },
  {
   "cell_type": "code",
   "execution_count": 56,
   "metadata": {
    "collapsed": false
   },
   "outputs": [
    {
     "data": {
      "image/jpeg": "[encoded data removed]",
      "text/plain": [
       "<IPython.core.display.Image object>"
      ]
     },
     "execution_count": 56,
     "metadata": {},
     "output_type": "execute_result"
    }
   ],
   "source": [
    "Image(filename='Anaconda3\\\\output\\\\df_states_output.JPG')  "
   ]
  },
  {
   "cell_type": "code",
   "execution_count": 57,
   "metadata": {
    "collapsed": false
   },
   "outputs": [
    {
     "data": {
      "text/plain": [
       "array(['MSA', 'State', 'USA or Census Division', 'Puerto Rico'], dtype=object)"
      ]
     },
     "execution_count": 57,
     "metadata": {},
     "output_type": "execute_result"
    }
   ],
   "source": [
    "df_states.level.unique()"
   ]
  },
  {
   "cell_type": "markdown",
   "metadata": {},
   "source": [
    "PROC SQL used to select unique values from the variable 'level'."
   ]
  },
  {
   "cell_type": "markdown",
   "metadata": {},
   "source": [
    "````\n",
    "    56       proc sql;\n",
    "    57          select unique level\n",
    "    58          from df_states;\n",
    "    59       quit;\n",
    "````"
   ]
  },
  {
   "cell_type": "code",
   "execution_count": 58,
   "metadata": {
    "collapsed": false
   },
   "outputs": [
    {
     "data": {
      "image/jpeg": "[encoded data removed]",
      "text/plain": [
       "<IPython.core.display.Image object>"
      ]
     },
     "execution_count": 58,
     "metadata": {},
     "output_type": "execute_result"
    }
   ],
   "source": [
    "Image(filename='Anaconda3\\\\output\\\\level_unique_values.JPG')  "
   ]
  },
  {
   "cell_type": "markdown",
   "metadata": {},
   "source": [
    "  "
   ]
  },
  {
   "cell_type": "code",
   "execution_count": 59,
   "metadata": {
    "collapsed": false
   },
   "outputs": [
    {
     "data": {
      "text/plain": [
       "(96243, 8)"
      ]
     },
     "execution_count": 59,
     "metadata": {},
     "output_type": "execute_result"
    }
   ],
   "source": [
    "df_states.shape"
   ]
  },
  {
   "cell_type": "markdown",
   "metadata": {},
   "source": [
    "  "
   ]
  },
  {
   "cell_type": "markdown",
   "metadata": {},
   "source": [
    "Check for missing values."
   ]
  },
  {
   "cell_type": "code",
   "execution_count": 60,
   "metadata": {
    "collapsed": false
   },
   "outputs": [
    {
     "data": {
      "text/plain": [
       "date_idx      0\n",
       "hpi_type      0\n",
       "hpi_flavor    0\n",
       "frequency     0\n",
       "level         0\n",
       "place_name    0\n",
       "place_id      0\n",
       "index_nsa     2\n",
       "dtype: int64"
      ]
     },
     "execution_count": 60,
     "metadata": {},
     "output_type": "execute_result"
    }
   ],
   "source": [
    "df_states.isnull().sum()"
   ]
  },
  {
   "cell_type": "markdown",
   "metadata": {},
   "source": [
    "What imputation method should be used to treat missing data?.  We can start by finding the range of values.  Like most languages, there are multiple methods for accomplishing a given task.  \n",
    "\n",
    "We can set an index on the 'index_nsa' values and find the maximum and minimum."
   ]
  },
  {
   "cell_type": "code",
   "execution_count": 61,
   "metadata": {
    "collapsed": false
   },
   "outputs": [],
   "source": [
    "df_states.set_index('index_nsa', inplace=True, drop=False)"
   ]
  },
  {
   "cell_type": "markdown",
   "metadata": {},
   "source": [
    "  "
   ]
  },
  {
   "cell_type": "code",
   "execution_count": 62,
   "metadata": {
    "collapsed": false
   },
   "outputs": [
    {
     "name": "stdout",
     "output_type": "stream",
     "text": [
      "Max value for index_nsa: 791.71\n",
      "Min value for index_nsa: 18.31\n"
     ]
    }
   ],
   "source": [
    "print('Max value for index_nsa:', df_states['index_nsa'].max())\n",
    "print('Min value for index_nsa:', df_states['index_nsa'].min())"
   ]
  },
  {
   "cell_type": "markdown",
   "metadata": {},
   "source": [
    "PROC SQL for finding min and max."
   ]
  },
  {
   "cell_type": "markdown",
   "metadata": {},
   "source": [
    "````\n",
    "    85       proc sql;\n",
    "    86          select max (index_nsa) as max_index_nsa,\n",
    "    87                 min (index_nsa) as min_index_nsa\n",
    "    88          from df_states;\n",
    "    89       quit;\n",
    "````"
   ]
  },
  {
   "cell_type": "code",
   "execution_count": 63,
   "metadata": {
    "collapsed": false
   },
   "outputs": [
    {
     "data": {
      "image/jpeg": "[encoded data removed]",
      "text/plain": [
       "<IPython.core.display.Image object>"
      ]
     },
     "execution_count": 63,
     "metadata": {},
     "output_type": "execute_result"
    }
   ],
   "source": [
    "Image(filename='Anaconda3\\\\output\\\\max_min_index_nsa.JPG')  "
   ]
  },
  {
   "cell_type": "markdown",
   "metadata": {},
   "source": [
    "Alternatively, we can sort the values and use the <a href=\"http://nbviewer.jupyter.org/github/RandyBetancourt/PythonForSASUsers/blob/master/Chapter%2005%20--%20Understanding%20Indexes.ipynb#.iloc-Indexer\"> iloc </a> indexer.  \n",
    "\n",
    "Recall that the .iloc indexer returns slices by index position similiar to the way \\_n\\_ in SAS behaves."
   ]
  },
  {
   "cell_type": "markdown",
   "metadata": {},
   "source": [
    "## Sort and Sort Sequences"
   ]
  },
  {
   "cell_type": "markdown",
   "metadata": {},
   "source": [
    "This is a good opportunity to understand the sort behaviors for DataFrames.  We begin by examing what I refer to as the default sort.  We have provided the minimum argument to the .sort_values attribute, the sort key in the example below."
   ]
  },
  {
   "cell_type": "markdown",
   "metadata": {},
   "source": [
    "  "
   ]
  },
  {
   "cell_type": "code",
   "execution_count": 64,
   "metadata": {
    "collapsed": false
   },
   "outputs": [],
   "source": [
    "default_srt = df_states.sort_values('index_nsa')"
   ]
  },
  {
   "cell_type": "markdown",
   "metadata": {},
   "source": [
    "By examing the first the first two rows of the sorted DataFrame, 'states_srt', we can see the default sort sequence is ascending.  Of course, by reading the doc for <a href=\"http://pandas.pydata.org/pandas-docs/stable/generated/pandas.DataFrame.sort_values.html\"> pandas.DataFrame.sort_values </a> we could see this as well. "
   ]
  },
  {
   "cell_type": "markdown",
   "metadata": {},
   "source": [
    "  "
   ]
  },
  {
   "cell_type": "code",
   "execution_count": 65,
   "metadata": {
    "collapsed": false
   },
   "outputs": [
    {
     "data": {
      "text/html": [
       "<div>\n",
       "<table border=\"1\" class=\"dataframe\">\n",
       "  <thead>\n",
       "    <tr style=\"text-align: right;\">\n",
       "      <th></th>\n",
       "      <th>date_idx</th>\n",
       "      <th>hpi_type</th>\n",
       "      <th>hpi_flavor</th>\n",
       "      <th>frequency</th>\n",
       "      <th>level</th>\n",
       "      <th>place_name</th>\n",
       "      <th>place_id</th>\n",
       "      <th>index_nsa</th>\n",
       "    </tr>\n",
       "    <tr>\n",
       "      <th>index_nsa</th>\n",
       "      <th></th>\n",
       "      <th></th>\n",
       "      <th></th>\n",
       "      <th></th>\n",
       "      <th></th>\n",
       "      <th></th>\n",
       "      <th></th>\n",
       "      <th></th>\n",
       "    </tr>\n",
       "  </thead>\n",
       "  <tbody>\n",
       "    <tr>\n",
       "      <th>18.31</th>\n",
       "      <td>1975-03-01</td>\n",
       "      <td>traditional</td>\n",
       "      <td>all-transactions</td>\n",
       "      <td>quarterly</td>\n",
       "      <td>MSA</td>\n",
       "      <td>San Francisco-Redwood City-South San Francisco...</td>\n",
       "      <td>41884</td>\n",
       "      <td>18.31</td>\n",
       "    </tr>\n",
       "    <tr>\n",
       "      <th>18.82</th>\n",
       "      <td>1975-04-01</td>\n",
       "      <td>traditional</td>\n",
       "      <td>all-transactions</td>\n",
       "      <td>quarterly</td>\n",
       "      <td>MSA</td>\n",
       "      <td>San Jose-Sunnyvale-Santa Clara, CA</td>\n",
       "      <td>41940</td>\n",
       "      <td>18.82</td>\n",
       "    </tr>\n",
       "  </tbody>\n",
       "</table>\n",
       "</div>"
      ],
      "text/plain": [
       "            date_idx     hpi_type        hpi_flavor  frequency level  \\\n",
       "index_nsa                                                              \n",
       "18.31     1975-03-01  traditional  all-transactions  quarterly   MSA   \n",
       "18.82     1975-04-01  traditional  all-transactions  quarterly   MSA   \n",
       "\n",
       "                                                  place_name place_id  \\\n",
       "index_nsa                                                               \n",
       "18.31      San Francisco-Redwood City-South San Francisco...    41884   \n",
       "18.82                     San Jose-Sunnyvale-Santa Clara, CA    41940   \n",
       "\n",
       "           index_nsa  \n",
       "index_nsa             \n",
       "18.31          18.31  \n",
       "18.82          18.82  "
      ]
     },
     "execution_count": 65,
     "metadata": {},
     "output_type": "execute_result"
    }
   ],
   "source": [
    "default_srt.iloc[[0, 1], :]"
   ]
  },
  {
   "cell_type": "markdown",
   "metadata": {},
   "source": [
    "  "
   ]
  },
  {
   "cell_type": "markdown",
   "metadata": {},
   "source": [
    "The default SAS sort syntax is:"
   ]
  },
  {
   "cell_type": "markdown",
   "metadata": {},
   "source": [
    "````\n",
    "    30        proc sort data=df_states;\n",
    "    31           by index_nsa;\n",
    "    NOTE: 96244 observations were read from \"WORK.df_states\"\n",
    "    NOTE: Data set \"WORK.df_states\" has 96244 observation(s) and 9 variable(s)\n",
    "    32        \n",
    "    33         data first2;\n",
    "    34            set df_states (obs=2);\n",
    "    35            by index_nsa;\n",
    "````"
   ]
  },
  {
   "cell_type": "markdown",
   "metadata": {},
   "source": [
    "We can also see that the panda default sort sequence places NaN's last in the sort sequence by default.  So this can be an alternative to using boolean operators and the .loc() method to detect missing values."
   ]
  },
  {
   "cell_type": "markdown",
   "metadata": {},
   "source": [
    "  "
   ]
  },
  {
   "cell_type": "code",
   "execution_count": 66,
   "metadata": {
    "collapsed": false
   },
   "outputs": [
    {
     "data": {
      "text/html": [
       "<div>\n",
       "<table border=\"1\" class=\"dataframe\">\n",
       "  <thead>\n",
       "    <tr style=\"text-align: right;\">\n",
       "      <th></th>\n",
       "      <th>date_idx</th>\n",
       "      <th>hpi_type</th>\n",
       "      <th>hpi_flavor</th>\n",
       "      <th>frequency</th>\n",
       "      <th>level</th>\n",
       "      <th>place_name</th>\n",
       "      <th>place_id</th>\n",
       "      <th>index_nsa</th>\n",
       "    </tr>\n",
       "    <tr>\n",
       "      <th>index_nsa</th>\n",
       "      <th></th>\n",
       "      <th></th>\n",
       "      <th></th>\n",
       "      <th></th>\n",
       "      <th></th>\n",
       "      <th></th>\n",
       "      <th></th>\n",
       "      <th></th>\n",
       "    </tr>\n",
       "  </thead>\n",
       "  <tbody>\n",
       "    <tr>\n",
       "      <th>NaN</th>\n",
       "      <td>1982-01-01</td>\n",
       "      <td>traditional</td>\n",
       "      <td>all-transactions</td>\n",
       "      <td>quarterly</td>\n",
       "      <td>State</td>\n",
       "      <td>West Virginia</td>\n",
       "      <td>WV</td>\n",
       "      <td>NaN</td>\n",
       "    </tr>\n",
       "    <tr>\n",
       "      <th>NaN</th>\n",
       "      <td>1976-01-01</td>\n",
       "      <td>traditional</td>\n",
       "      <td>all-transactions</td>\n",
       "      <td>quarterly</td>\n",
       "      <td>State</td>\n",
       "      <td>Vermont</td>\n",
       "      <td>VT</td>\n",
       "      <td>NaN</td>\n",
       "    </tr>\n",
       "  </tbody>\n",
       "</table>\n",
       "</div>"
      ],
      "text/plain": [
       "            date_idx     hpi_type        hpi_flavor  frequency  level  \\\n",
       "index_nsa                                                               \n",
       "NaN       1982-01-01  traditional  all-transactions  quarterly  State   \n",
       "NaN       1976-01-01  traditional  all-transactions  quarterly  State   \n",
       "\n",
       "              place_name place_id  index_nsa  \n",
       "index_nsa                                     \n",
       "NaN        West Virginia       WV        NaN  \n",
       "NaN              Vermont       VT        NaN  "
      ]
     },
     "execution_count": 66,
     "metadata": {},
     "output_type": "execute_result"
    }
   ],
   "source": [
    "default_srt.iloc[[-1, -2],:]"
   ]
  },
  {
   "cell_type": "markdown",
   "metadata": {},
   "source": [
    "In contrast, the default SAS sort sequence places missing values first in the data set."
   ]
  },
  {
   "cell_type": "markdown",
   "metadata": {},
   "source": [
    "````   \n",
    "    30        proc sort data=df_states;\n",
    "    31           by index_nsa;\n",
    "    NOTE: 96244 observations were read from \"WORK.df_states\"\n",
    "    NOTE: Data set \"WORK.df_states\" has 96244 observation(s) and 9 variable(s)\n",
    "    32        \n",
    "    33         data first2;\n",
    "    34            set df_states (obs=2);\n",
    "    35            by index_ns;\n",
    "````"
   ]
  },
  {
   "cell_type": "code",
   "execution_count": 67,
   "metadata": {
    "collapsed": false
   },
   "outputs": [
    {
     "data": {
      "image/jpeg": "[encoded data removed]",
      "text/plain": [
       "<IPython.core.display.Image object>"
      ]
     },
     "execution_count": 67,
     "metadata": {},
     "output_type": "execute_result"
    }
   ],
   "source": [
    "Image(filename='Anaconda3\\\\output\\\\sas_default_sort.JPG')  "
   ]
  },
  {
   "cell_type": "markdown",
   "metadata": {},
   "source": [
    "Since there were 2 NaN's found at the 'bottom' of the DataFrame, use the .iloc indexer to return the 3rd and 4th rows displaying the 2 highest values for the column 'index_nsa'."
   ]
  },
  {
   "cell_type": "markdown",
   "metadata": {},
   "source": [
    "  "
   ]
  },
  {
   "cell_type": "code",
   "execution_count": 68,
   "metadata": {
    "collapsed": false
   },
   "outputs": [
    {
     "data": {
      "text/html": [
       "<div>\n",
       "<table border=\"1\" class=\"dataframe\">\n",
       "  <thead>\n",
       "    <tr style=\"text-align: right;\">\n",
       "      <th></th>\n",
       "      <th>date_idx</th>\n",
       "      <th>hpi_type</th>\n",
       "      <th>hpi_flavor</th>\n",
       "      <th>frequency</th>\n",
       "      <th>level</th>\n",
       "      <th>place_name</th>\n",
       "      <th>place_id</th>\n",
       "      <th>index_nsa</th>\n",
       "    </tr>\n",
       "    <tr>\n",
       "      <th>index_nsa</th>\n",
       "      <th></th>\n",
       "      <th></th>\n",
       "      <th></th>\n",
       "      <th></th>\n",
       "      <th></th>\n",
       "      <th></th>\n",
       "      <th></th>\n",
       "      <th></th>\n",
       "    </tr>\n",
       "  </thead>\n",
       "  <tbody>\n",
       "    <tr>\n",
       "      <th>791.71</th>\n",
       "      <td>2016-02-01</td>\n",
       "      <td>traditional</td>\n",
       "      <td>all-transactions</td>\n",
       "      <td>quarterly</td>\n",
       "      <td>State</td>\n",
       "      <td>District of Columbia</td>\n",
       "      <td>DC</td>\n",
       "      <td>791.71</td>\n",
       "    </tr>\n",
       "    <tr>\n",
       "      <th>780.98</th>\n",
       "      <td>2016-01-01</td>\n",
       "      <td>traditional</td>\n",
       "      <td>all-transactions</td>\n",
       "      <td>quarterly</td>\n",
       "      <td>State</td>\n",
       "      <td>District of Columbia</td>\n",
       "      <td>DC</td>\n",
       "      <td>780.98</td>\n",
       "    </tr>\n",
       "  </tbody>\n",
       "</table>\n",
       "</div>"
      ],
      "text/plain": [
       "            date_idx     hpi_type        hpi_flavor  frequency  level  \\\n",
       "index_nsa                                                               \n",
       "791.71    2016-02-01  traditional  all-transactions  quarterly  State   \n",
       "780.98    2016-01-01  traditional  all-transactions  quarterly  State   \n",
       "\n",
       "                     place_name place_id  index_nsa  \n",
       "index_nsa                                            \n",
       "791.71     District of Columbia       DC     791.71  \n",
       "780.98     District of Columbia       DC     780.98  "
      ]
     },
     "execution_count": 68,
     "metadata": {},
     "output_type": "execute_result"
    }
   ],
   "source": [
    "default_srt.iloc[[-3, -4], :]"
   ]
  },
  {
   "cell_type": "markdown",
   "metadata": {},
   "source": [
    "  "
   ]
  },
  {
   "cell_type": "markdown",
   "metadata": {},
   "source": [
    "The SAS program to access the last two observations in the data set is:"
   ]
  },
  {
   "cell_type": "markdown",
   "metadata": {},
   "source": [
    "````\n",
    "    79         data last2;  \n",
    "    80           set df_states (firstobs=96243);\n",
    "    81           by index_nsa;\n",
    "\n",
    "    NOTE: 2 observations were read from \"WORK.last2\"\n",
    "````    "
   ]
  },
  {
   "cell_type": "code",
   "execution_count": 69,
   "metadata": {
    "collapsed": false
   },
   "outputs": [
    {
     "data": {
      "image/jpeg": "[encoded data removed]",
      "text/plain": [
       "<IPython.core.display.Image object>"
      ]
     },
     "execution_count": 69,
     "metadata": {},
     "output_type": "execute_result"
    }
   ],
   "source": [
    "Image(filename='Anaconda3\\\\output\\\\get_last2_obs.JPG')  "
   ]
  },
  {
   "cell_type": "markdown",
   "metadata": {},
   "source": [
    "Like pandas, the default SAS sort sequence is ascending.  And this is confirmed by the SAS doc located <a href=\"https://support.sas.com/documentation/cdl/en/proc/61895/HTML/default/viewer.htm#sort-overview.htm\"> here </a>."
   ]
  },
  {
   "cell_type": "markdown",
   "metadata": {},
   "source": [
    "  "
   ]
  },
  {
   "cell_type": "markdown",
   "metadata": {},
   "source": [
    "So naturally, we can alter the organization of the data_frame by supplying arguments and values to the sort_values attribute.  The example below sorts using a descending sort sequence and places missing values at the beginning."
   ]
  },
  {
   "cell_type": "markdown",
   "metadata": {},
   "source": [
    "  "
   ]
  },
  {
   "cell_type": "code",
   "execution_count": 70,
   "metadata": {
    "collapsed": false
   },
   "outputs": [],
   "source": [
    "states_srt2 = df_states.sort_values('index_nsa', ascending=False, na_position='first')"
   ]
  },
  {
   "cell_type": "markdown",
   "metadata": {},
   "source": [
    "Setting the na_position= argument to 'first' places NaN's at the beginning of the sort sequence.  This is the same beavhior for SAS' sort sequence.  Details are described <a href=\"http://support.sas.com/documentation/cdl/en/lrcon/68089/HTML/default/viewer.htm#p0tmoipp0ci6wkn0z27ev47sv0ov.htm\"> here </a>.\n",
    "\n",
    "The first two rows in the DataFrame 'states_srt2' contain the NaN's values for the 'index_nsa' column, while the next 2 rows contain the highest values."
   ]
  },
  {
   "cell_type": "markdown",
   "metadata": {},
   "source": [
    "  "
   ]
  },
  {
   "cell_type": "code",
   "execution_count": 71,
   "metadata": {
    "collapsed": false
   },
   "outputs": [
    {
     "data": {
      "text/html": [
       "<div>\n",
       "<table border=\"1\" class=\"dataframe\">\n",
       "  <thead>\n",
       "    <tr style=\"text-align: right;\">\n",
       "      <th></th>\n",
       "      <th>date_idx</th>\n",
       "      <th>hpi_type</th>\n",
       "      <th>hpi_flavor</th>\n",
       "      <th>frequency</th>\n",
       "      <th>level</th>\n",
       "      <th>place_name</th>\n",
       "      <th>place_id</th>\n",
       "      <th>index_nsa</th>\n",
       "    </tr>\n",
       "    <tr>\n",
       "      <th>index_nsa</th>\n",
       "      <th></th>\n",
       "      <th></th>\n",
       "      <th></th>\n",
       "      <th></th>\n",
       "      <th></th>\n",
       "      <th></th>\n",
       "      <th></th>\n",
       "      <th></th>\n",
       "    </tr>\n",
       "  </thead>\n",
       "  <tbody>\n",
       "    <tr>\n",
       "      <th>NaN</th>\n",
       "      <td>1976-01-01</td>\n",
       "      <td>traditional</td>\n",
       "      <td>all-transactions</td>\n",
       "      <td>quarterly</td>\n",
       "      <td>State</td>\n",
       "      <td>Vermont</td>\n",
       "      <td>VT</td>\n",
       "      <td>NaN</td>\n",
       "    </tr>\n",
       "    <tr>\n",
       "      <th>NaN</th>\n",
       "      <td>1982-01-01</td>\n",
       "      <td>traditional</td>\n",
       "      <td>all-transactions</td>\n",
       "      <td>quarterly</td>\n",
       "      <td>State</td>\n",
       "      <td>West Virginia</td>\n",
       "      <td>WV</td>\n",
       "      <td>NaN</td>\n",
       "    </tr>\n",
       "    <tr>\n",
       "      <th>791.71</th>\n",
       "      <td>2016-02-01</td>\n",
       "      <td>traditional</td>\n",
       "      <td>all-transactions</td>\n",
       "      <td>quarterly</td>\n",
       "      <td>State</td>\n",
       "      <td>District of Columbia</td>\n",
       "      <td>DC</td>\n",
       "      <td>791.71</td>\n",
       "    </tr>\n",
       "    <tr>\n",
       "      <th>780.98</th>\n",
       "      <td>2016-01-01</td>\n",
       "      <td>traditional</td>\n",
       "      <td>all-transactions</td>\n",
       "      <td>quarterly</td>\n",
       "      <td>State</td>\n",
       "      <td>District of Columbia</td>\n",
       "      <td>DC</td>\n",
       "      <td>780.98</td>\n",
       "    </tr>\n",
       "  </tbody>\n",
       "</table>\n",
       "</div>"
      ],
      "text/plain": [
       "            date_idx     hpi_type        hpi_flavor  frequency  level  \\\n",
       "index_nsa                                                               \n",
       "NaN       1976-01-01  traditional  all-transactions  quarterly  State   \n",
       "NaN       1982-01-01  traditional  all-transactions  quarterly  State   \n",
       " 791.71   2016-02-01  traditional  all-transactions  quarterly  State   \n",
       " 780.98   2016-01-01  traditional  all-transactions  quarterly  State   \n",
       "\n",
       "                     place_name place_id  index_nsa  \n",
       "index_nsa                                            \n",
       "NaN                     Vermont       VT        NaN  \n",
       "NaN               West Virginia       WV        NaN  \n",
       " 791.71    District of Columbia       DC     791.71  \n",
       " 780.98    District of Columbia       DC     780.98  "
      ]
     },
     "execution_count": 71,
     "metadata": {},
     "output_type": "execute_result"
    }
   ],
   "source": [
    "states_srt2.iloc[0:4,]"
   ]
  },
  {
   "cell_type": "markdown",
   "metadata": {},
   "source": [
    "SAS has missing 28 missing value indicators for numerics described <a href=\"http://support.sas.com/documentation/cdl/en/lrcon/68089/HTML/default/viewer.htm#p175x77t7k6kggn1io94yedqagl3.htm\"> here </a>.  However, if you want missing values to be 'first' in a data set using a descending sort sequence, then the missing value indicator must be an actual numeric value larger than the largest non-missing value.  In other words, the SAS missing value indicator for numerics is always the smallest numeric value."
   ]
  },
  {
   "cell_type": "markdown",
   "metadata": {},
   "source": [
    "The SAS example below sorts the df_states data set in descending order by the 'index_nsa' variable.  Like the panda example above, the \n",
    "\n",
    "    out=states_srt2\n",
    "    \n",
    "syntax creates the new SAS data set 'states_srt2'. "
   ]
  },
  {
   "cell_type": "markdown",
   "metadata": {},
   "source": [
    "````\n",
    "    44        proc sort data=df_states\n",
    "    45           out=states_srt2;\n",
    "    46           by descending index_nsa;\n",
    "    NOTE: 96244 observations were read from \"WORK.df_states\"\n",
    "    NOTE: Data set \"WORK.states_srt2\" has 96244 observation(s) and 9 variable(s)\n",
    "    47        \n",
    "    48         data first4;\n",
    "    49           set states_srt2 (obs=4);\n",
    "    50           by descending index_nsa;\n",
    "````"
   ]
  },
  {
   "cell_type": "markdown",
   "metadata": {},
   "source": [
    "#### Start a new dataframe here for the frequency shifting example"
   ]
  },
  {
   "cell_type": "markdown",
   "metadata": {},
   "source": [
    "In the case of the aggregate U.S. housing index (DataFrame 'df_us') created above, the value for the 'frequency' column is monthly. So we need to find what the frequency value is for the 'states_srt2' DataFrame.    "
   ]
  },
  {
   "cell_type": "code",
   "execution_count": null,
   "metadata": {
    "collapsed": false
   },
   "outputs": [],
   "source": [
    "states_srt2.describe(include=['O'])"
   ]
  },
  {
   "cell_type": "code",
   "execution_count": null,
   "metadata": {
    "collapsed": false
   },
   "outputs": [],
   "source": [
    "states_srt2['level'].unique()"
   ]
  },
  {
   "cell_type": "markdown",
   "metadata": {},
   "source": [
    "### have not introduced groupby and most of the examples are in chapter 13"
   ]
  },
  {
   "cell_type": "code",
   "execution_count": null,
   "metadata": {
    "collapsed": false
   },
   "outputs": [],
   "source": [
    "states_srt2.groupby('level').count() "
   ]
  },
  {
   "cell_type": "raw",
   "metadata": {},
   "source": [
    "Looking at the data for the latest month in the Time Series, we want to find the highest and lowest values for a given place and plot these values over time and use the aggregate U.S. "
   ]
  },
  {
   "cell_type": "code",
   "execution_count": null,
   "metadata": {
    "collapsed": false
   },
   "outputs": [],
   "source": [
    "df_states.sort_values('place_name')\n"
   ]
  },
  {
   "cell_type": "code",
   "execution_count": null,
   "metadata": {
    "collapsed": false
   },
   "outputs": [],
   "source": [
    "df_states.set_index('place_name', inplace=True)"
   ]
  },
  {
   "cell_type": "code",
   "execution_count": null,
   "metadata": {
    "collapsed": false
   },
   "outputs": [],
   "source": [
    "df_states.columns"
   ]
  },
  {
   "cell_type": "code",
   "execution_count": null,
   "metadata": {
    "collapsed": true
   },
   "outputs": [],
   "source": [
    "la = df_states.loc['Los Angeles-Long Beach-Glendale, CA (MSAD)']"
   ]
  },
  {
   "cell_type": "code",
   "execution_count": null,
   "metadata": {
    "collapsed": false
   },
   "outputs": [],
   "source": [
    "la"
   ]
  },
  {
   "cell_type": "markdown",
   "metadata": {
    "collapsed": true
   },
   "source": [
    "## Navigation\n",
    "\n",
    "<a href=\"http://nbviewer.jupyter.org/github/RandyBetancourt/PythonForSASUsers/tree/master/\"> Return to Chapter List </a>    "
   ]
  }
 ],
 "metadata": {
  "anaconda-cloud": {},
  "kernelspec": {
   "display_name": "Python [Root]",
   "language": "python",
   "name": "Python [Root]"
  },
  "language_info": {
   "codemirror_mode": {
    "name": "ipython",
    "version": 3
   },
   "file_extension": ".py",
   "mimetype": "text/x-python",
   "name": "python",
   "nbconvert_exporter": "python",
   "pygments_lexer": "ipython3",
   "version": "3.5.2"
  }
 },
 "nbformat": 4,
 "nbformat_minor": 0
}
