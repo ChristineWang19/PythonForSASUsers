{
 "cells": [
  {
   "cell_type": "markdown",
   "metadata": {},
   "source": [
    "# Chapter 09 -- Panda Time Series and Date Handling--DRAFT"
   ]
  },
  {
   "cell_type": "markdown",
   "metadata": {},
   "source": [
    "## Topics Covered:\n",
    "\n",
    "<a href=\"http://nbviewer.jupyter.org/github/RandyBetancourt/PythonForSASUsers/blob/master/Chapter%2009%20--%20Panda%20Time%20Series%20and%20Date%20Handling\"> Creating and manipulating a fixed-frequency of datetime spans </a>\n",
    "\n",
    "Convert time series from one frequency to another\n",
    "\n",
    "Increment 'non-standard' datetimes intervals (e.g. business week)\n",
    "\n",
    "Time Series Walk-Through"
   ]
  },
  {
   "cell_type": "markdown",
   "metadata": {},
   "source": [
    "Chapter 8, <a href=\"http://nbviewer.jupyter.org/github/RandyBetancourt/PythonForSASUsers/blob/master/Chapter%2008%20--%20Python%20Date%2C%20Time%2C%20and%20%20Timedelta%20Objects.ipynb\"> Understanding Date Time and TimeDelta objects </a> provided a short introduction to Python's built-in datetime capabilities.  In this chapter we illustrate pandas time series and date handling.  \n",
    "\n"
   ]
  },
  {
   "cell_type": "code",
   "execution_count": 34,
   "metadata": {
    "collapsed": false
   },
   "outputs": [],
   "source": [
    "from datetime import date, time, datetime, timedelta\n",
    "import numpy as np\n",
    "import pandas as pd\n",
    "from pandas import Series, DataFrame, Index\n",
    "from IPython.display import Image\n",
    "from IPython.core.interactiveshell import InteractiveShell\n",
    "InteractiveShell.ast_node_interactivity = \"all\""
   ]
  },
  {
   "cell_type": "markdown",
   "metadata": {},
   "source": [
    "  "
   ]
  },
  {
   "cell_type": "markdown",
   "metadata": {},
   "source": [
    " "
   ]
  },
  {
   "cell_type": "markdown",
   "metadata": {},
   "source": [
    "## Creating and manipulating a fixed-frequency of date and time spans"
   ]
  },
  {
   "cell_type": "markdown",
   "metadata": {},
   "source": [
    "The pd.date_range() method generates a DateTime Index which is applied to a panda Series or DataFrame to provide datetime interval indexing.  We will see examples of its construction methods.  And later we will utilize indexers taking advange of the Date TimeIndex.  "
   ]
  },
  {
   "cell_type": "code",
   "execution_count": 35,
   "metadata": {
    "collapsed": false
   },
   "outputs": [],
   "source": [
    "rng = pd.date_range('1/1/2016', periods=90, freq='D')"
   ]
  },
  {
   "cell_type": "markdown",
   "metadata": {},
   "source": [
    "Print the first 10 dates in the DateTimeIndex"
   ]
  },
  {
   "cell_type": "code",
   "execution_count": 36,
   "metadata": {
    "collapsed": false
   },
   "outputs": [
    {
     "data": {
      "text/plain": [
       "DatetimeIndex(['2016-01-01', '2016-01-02', '2016-01-03', '2016-01-04',\n",
       "               '2016-01-05', '2016-01-06', '2016-01-07', '2016-01-08',\n",
       "               '2016-01-09', '2016-01-10'],\n",
       "              dtype='datetime64[ns]', freq='D')"
      ]
     },
     "execution_count": 36,
     "metadata": {},
     "output_type": "execute_result"
    }
   ],
   "source": [
    "rng[:10]"
   ]
  },
  {
   "cell_type": "markdown",
   "metadata": {},
   "source": [
    "  "
   ]
  },
  {
   "cell_type": "code",
   "execution_count": 37,
   "metadata": {
    "collapsed": false
   },
   "outputs": [],
   "source": [
    "ts = pd.Series(np.random.randn(len(rng)), index=rng)"
   ]
  },
  {
   "cell_type": "markdown",
   "metadata": {},
   "source": [
    "  "
   ]
  },
  {
   "cell_type": "code",
   "execution_count": 38,
   "metadata": {
    "collapsed": false
   },
   "outputs": [
    {
     "data": {
      "text/plain": [
       "pandas.core.series.Series"
      ]
     },
     "execution_count": 38,
     "metadata": {},
     "output_type": "execute_result"
    }
   ],
   "source": [
    "type(ts)"
   ]
  },
  {
   "cell_type": "code",
   "execution_count": null,
   "metadata": {
    "collapsed": true
   },
   "outputs": [],
   "source": [
    "  "
   ]
  },
  {
   "cell_type": "code",
   "execution_count": 39,
   "metadata": {
    "collapsed": false
   },
   "outputs": [
    {
     "data": {
      "text/plain": [
       "Period('2016-05-01', 'D')"
      ]
     },
     "execution_count": 39,
     "metadata": {},
     "output_type": "execute_result"
    }
   ],
   "source": [
    "pd.Period('2016-05', freq='D')"
   ]
  },
  {
   "cell_type": "markdown",
   "metadata": {},
   "source": [
    "Timestamp and Period can be an index.  Coerced into PeriodIndex and DateTimeIndex"
   ]
  },
  {
   "cell_type": "code",
   "execution_count": 40,
   "metadata": {
    "collapsed": true
   },
   "outputs": [],
   "source": [
    "dates = [pd.Timestamp('2012-05-01'), pd.Timestamp('2012-05-02'), pd.Timestamp('2012-05-03')]"
   ]
  },
  {
   "cell_type": "markdown",
   "metadata": {},
   "source": [
    "  "
   ]
  },
  {
   "cell_type": "code",
   "execution_count": 41,
   "metadata": {
    "collapsed": false
   },
   "outputs": [
    {
     "data": {
      "text/plain": [
       "[Timestamp('2012-05-01 00:00:00'),\n",
       " Timestamp('2012-05-02 00:00:00'),\n",
       " Timestamp('2012-05-03 00:00:00')]"
      ]
     },
     "execution_count": 41,
     "metadata": {},
     "output_type": "execute_result"
    }
   ],
   "source": [
    "dates"
   ]
  },
  {
   "cell_type": "markdown",
   "metadata": {},
   "source": [
    "  "
   ]
  },
  {
   "cell_type": "code",
   "execution_count": 42,
   "metadata": {
    "collapsed": true
   },
   "outputs": [],
   "source": [
    " ts = pd.Series(np.random.randn(3), dates)"
   ]
  },
  {
   "cell_type": "markdown",
   "metadata": {},
   "source": [
    "  "
   ]
  },
  {
   "cell_type": "code",
   "execution_count": 43,
   "metadata": {
    "collapsed": false
   },
   "outputs": [
    {
     "data": {
      "text/plain": [
       "2012-05-01   -0.953297\n",
       "2012-05-02   -0.008937\n",
       "2012-05-03   -1.084139\n",
       "dtype: float64"
      ]
     },
     "execution_count": 43,
     "metadata": {},
     "output_type": "execute_result"
    }
   ],
   "source": [
    "ts"
   ]
  },
  {
   "cell_type": "markdown",
   "metadata": {},
   "source": [
    "  "
   ]
  },
  {
   "cell_type": "code",
   "execution_count": 44,
   "metadata": {
    "collapsed": false
   },
   "outputs": [
    {
     "data": {
      "text/plain": [
       "pandas.tseries.index.DatetimeIndex"
      ]
     },
     "execution_count": 44,
     "metadata": {},
     "output_type": "execute_result"
    }
   ],
   "source": [
    "type(ts.index)"
   ]
  },
  {
   "cell_type": "markdown",
   "metadata": {},
   "source": [
    "  "
   ]
  },
  {
   "cell_type": "code",
   "execution_count": 45,
   "metadata": {
    "collapsed": false
   },
   "outputs": [
    {
     "data": {
      "text/plain": [
       "DatetimeIndex(['2012-05-01', '2012-05-02', '2012-05-03'], dtype='datetime64[ns]', freq=None)"
      ]
     },
     "execution_count": 45,
     "metadata": {},
     "output_type": "execute_result"
    }
   ],
   "source": [
    "ts.index"
   ]
  },
  {
   "cell_type": "markdown",
   "metadata": {},
   "source": [
    "  "
   ]
  },
  {
   "cell_type": "markdown",
   "metadata": {
    "collapsed": true
   },
   "source": [
    "You can assemble a DataFrame by using strings and integers for columns."
   ]
  },
  {
   "cell_type": "code",
   "execution_count": 46,
   "metadata": {
    "collapsed": false
   },
   "outputs": [],
   "source": [
    "df = pd.DataFrame({'year': [2014, 2015, 2016],\n",
    "                   'month': [1, 2, 3],\n",
    "                   'day': [1,2,3,]})\n",
    "df1 = pd.to_datetime(df)"
   ]
  },
  {
   "cell_type": "code",
   "execution_count": 47,
   "metadata": {
    "collapsed": false
   },
   "outputs": [],
   "source": [
    "from datetime import datetime, date, time\n",
    "start = datetime(2016, 1, 1)\n",
    "end = datetime(2016, 12, 31)\n",
    "rng = pd.date_range(start,end)"
   ]
  },
  {
   "cell_type": "code",
   "execution_count": 48,
   "metadata": {
    "collapsed": false
   },
   "outputs": [
    {
     "data": {
      "text/plain": [
       "DatetimeIndex(['2016-01-01', '2016-01-02', '2016-01-03', '2016-01-04',\n",
       "               '2016-01-05', '2016-01-06', '2016-01-07', '2016-01-08',\n",
       "               '2016-01-09', '2016-01-10',\n",
       "               ...\n",
       "               '2016-12-22', '2016-12-23', '2016-12-24', '2016-12-25',\n",
       "               '2016-12-26', '2016-12-27', '2016-12-28', '2016-12-29',\n",
       "               '2016-12-30', '2016-12-31'],\n",
       "              dtype='datetime64[ns]', length=366, freq='D')"
      ]
     },
     "execution_count": 48,
     "metadata": {},
     "output_type": "execute_result"
    }
   ],
   "source": [
    "rng"
   ]
  },
  {
   "cell_type": "code",
   "execution_count": 49,
   "metadata": {
    "collapsed": true
   },
   "outputs": [],
   "source": [
    "start = datetime(2016, 1, 1)\n",
    "end = datetime(2016, 12, 31)\n",
    "b_rng = pd.bdate_range(start,end)"
   ]
  },
  {
   "cell_type": "markdown",
   "metadata": {},
   "source": [
    "  "
   ]
  },
  {
   "cell_type": "code",
   "execution_count": 50,
   "metadata": {
    "collapsed": false
   },
   "outputs": [
    {
     "data": {
      "text/plain": [
       "DatetimeIndex(['2016-01-01', '2016-01-04', '2016-01-05', '2016-01-06',\n",
       "               '2016-01-07', '2016-01-08', '2016-01-11', '2016-01-12',\n",
       "               '2016-01-13', '2016-01-14',\n",
       "               ...\n",
       "               '2016-12-19', '2016-12-20', '2016-12-21', '2016-12-22',\n",
       "               '2016-12-23', '2016-12-26', '2016-12-27', '2016-12-28',\n",
       "               '2016-12-29', '2016-12-30'],\n",
       "              dtype='datetime64[ns]', length=261, freq='B')"
      ]
     },
     "execution_count": 50,
     "metadata": {},
     "output_type": "execute_result"
    }
   ],
   "source": [
    "b_rng"
   ]
  },
  {
   "cell_type": "markdown",
   "metadata": {},
   "source": [
    " "
   ]
  },
  {
   "cell_type": "code",
   "execution_count": 51,
   "metadata": {
    "collapsed": false
   },
   "outputs": [
    {
     "data": {
      "text/plain": [
       "DatetimeIndex(['2016-01-29', '2016-02-29', '2016-03-31', '2016-04-29',\n",
       "               '2016-05-31', '2016-06-30', '2016-07-29', '2016-08-31',\n",
       "               '2016-09-30', '2016-10-31', '2016-11-30', '2016-12-30'],\n",
       "              dtype='datetime64[ns]', freq='BM')"
      ]
     },
     "execution_count": 51,
     "metadata": {},
     "output_type": "execute_result"
    }
   ],
   "source": [
    "rng = pd.date_range(start, end, freq='BM')\n",
    "ts = pd.Series(np.random.randn(len(rng)), index=rng)\n",
    "ts.index"
   ]
  },
  {
   "cell_type": "markdown",
   "metadata": {},
   "source": [
    "Returns the first 5"
   ]
  },
  {
   "cell_type": "code",
   "execution_count": 52,
   "metadata": {
    "collapsed": false
   },
   "outputs": [
    {
     "data": {
      "text/plain": [
       "DatetimeIndex(['2016-01-29', '2016-02-29', '2016-03-31', '2016-04-29',\n",
       "               '2016-05-31'],\n",
       "              dtype='datetime64[ns]', freq='BM')"
      ]
     },
     "execution_count": 52,
     "metadata": {},
     "output_type": "execute_result"
    }
   ],
   "source": [
    "ts[:5].index"
   ]
  },
  {
   "cell_type": "markdown",
   "metadata": {},
   "source": [
    " Returns the nth, i.e. 2 = every other one"
   ]
  },
  {
   "cell_type": "code",
   "execution_count": 53,
   "metadata": {
    "collapsed": false
   },
   "outputs": [
    {
     "data": {
      "text/plain": [
       "2016-01-29    0.430344\n",
       "2016-03-31    1.179259\n",
       "2016-05-31   -0.561654\n",
       "2016-07-29    1.243785\n",
       "2016-09-30   -2.040529\n",
       "2016-11-30    0.354481\n",
       "Freq: 2BM, dtype: float64"
      ]
     },
     "execution_count": 53,
     "metadata": {},
     "output_type": "execute_result"
    }
   ],
   "source": [
    "ts[::2]"
   ]
  },
  {
   "cell_type": "code",
   "execution_count": 54,
   "metadata": {
    "collapsed": false
   },
   "outputs": [
    {
     "data": {
      "text/plain": [
       "2016-01-29    0.430344\n",
       "2016-07-29    1.243785\n",
       "Freq: 6BM, dtype: float64"
      ]
     },
     "execution_count": 54,
     "metadata": {},
     "output_type": "execute_result"
    }
   ],
   "source": [
    "ts[::6]"
   ]
  },
  {
   "cell_type": "markdown",
   "metadata": {},
   "source": [
    "## Time Series Walk-Through\n",
    "\n",
    "We can begin combining features covered in previous chapters to conduct a walk-through of an actual time-series analysis.  \n",
    "\n",
    "#### The Data\n",
    "\n",
    "The data is the FHFA House Price Index (HPI) which is a broad measure of the movement of single-family house prices. It is a weighted, repeat-sales index, meaning that it measures average price changes in repeat sales or refinancings on the same properties. This information is obtained by reviewing repeat mortgage transactions on single-family properties whose mortgages have been purchased or securitized by Fannie Mae or Freddie Mac.  \n",
    "\n",
    "Details about the data and how it is organized can be found <a href=\"https://catalog.data.gov/dataset/fhfa-house-price-indexes-hpis\"> here </a>. This time series begins January 1991 and end August 2016.  Both the seasonally adjusted index 'index_sa' and the non-seaonally adjusted index 'index_nsa' set the index value at 100 for January 1991.  \n",
    "\n",
    "#### The Inquiry\n",
    "\n",
    "The three salient questions to be answered are:\n",
    "\n",
    "    1. Have U.S. aggregate home prices recovered their value since the Great Recession of 2008-2010?\n",
    "    2. Where are the highest and lowest home values in the U.S. today?\n",
    "    3. How do the highest and lowest home values market segments compare to the aggregate U.S. home prices?\n",
    "    \n",
    "#### The Approach\n",
    "\n",
    "The input .csv file located <a href=\"some_URL\"> here </a>.  \n",
    "\n",
    "The file is composed of two parts.  Part 1, rows 2 to 3081 are records for the aggregate market groups at the Census Division level.  The frequency interval is monthly.  \n",
    "\n",
    "This portion of the file has 10 columns containing values for major market segments and the U.S. aggregate prices.  The price indicies are both seasonally adjusted and non-seasonally adjusted values.  The end-result DataFrame will be called 'df_us'.\n",
    "\n",
    "Part 2, rows 3082 to 96,243 are more granular with a quarterly frequency interval. The major U.S. market segments are broken into smaller geographics areas with just the non-seasonaly adjusted home index value. Accordingly, the 10th column 'index_sa' contains no values at this location to the end of the file. The end-result DataFrame will be called 'df_states'.\n"
   ]
  },
  {
   "cell_type": "raw",
   "metadata": {},
   "source": [
    "Having established a monthly frequency for 'df_us' DataFrame and a quarterly frequency for the 'df_states', the following operations are needed to answer the question above.\n",
    "\n",
    "    In the 'df_states' DataFrame\n",
    "        * filter rows for values 'traditional' for column 'hpi_type' *and* 'all-transactions' for column 'hpi_flavor' *and*\n",
    "        * column 'place_name.str.contains(\"Washington\")\n",
    "    \n",
    "    In the 'df_us' DataFrame\n",
    "        *filter rows whose values are 'traditional' for column 'hpi_type' *and* 'all-transactions' for column 'hpi_flavor'\n",
    "        *set the index to 'date_idx'\n",
    "        *shift the 'frequency' column values from monthly to quarterly, or downsample\n",
    "        "
   ]
  },
  {
   "cell_type": "markdown",
   "metadata": {},
   "source": [
    "#### Part 1 of .csv File to Construct the 'df_us' DataFrame"
   ]
  },
  {
   "cell_type": "markdown",
   "metadata": {},
   "source": [
    "Start with a test read of the entire .csv file.  The pd.read_csv method has the one required arguement, the input file name to create the DataFrame 'df_all'."
   ]
  },
  {
   "cell_type": "code",
   "execution_count": 55,
   "metadata": {
    "collapsed": true
   },
   "outputs": [],
   "source": [
    "df_all = pd.read_csv(\"C:\\Data\\\\HPI_master.csv\")"
   ]
  },
  {
   "cell_type": "markdown",
   "metadata": {},
   "source": [
    "Check the first 5 rows to determine if the read_csv() method is giving the expected results."
   ]
  },
  {
   "cell_type": "code",
   "execution_count": 56,
   "metadata": {
    "collapsed": false
   },
   "outputs": [
    {
     "data": {
      "text/html": [
       "<div>\n",
       "<table border=\"1\" class=\"dataframe\">\n",
       "  <thead>\n",
       "    <tr style=\"text-align: right;\">\n",
       "      <th></th>\n",
       "      <th>hpi_type</th>\n",
       "      <th>hpi_flavor</th>\n",
       "      <th>frequency</th>\n",
       "      <th>level</th>\n",
       "      <th>place_name</th>\n",
       "      <th>place_id</th>\n",
       "      <th>yr</th>\n",
       "      <th>period</th>\n",
       "      <th>index_nsa</th>\n",
       "      <th>index_sa</th>\n",
       "    </tr>\n",
       "  </thead>\n",
       "  <tbody>\n",
       "    <tr>\n",
       "      <th>0</th>\n",
       "      <td>traditional</td>\n",
       "      <td>purchase-only</td>\n",
       "      <td>monthly</td>\n",
       "      <td>USA or Census Division</td>\n",
       "      <td>East North Central Division</td>\n",
       "      <td>DV_ENC</td>\n",
       "      <td>1991</td>\n",
       "      <td>1</td>\n",
       "      <td>100.00</td>\n",
       "      <td>100.00</td>\n",
       "    </tr>\n",
       "    <tr>\n",
       "      <th>1</th>\n",
       "      <td>traditional</td>\n",
       "      <td>purchase-only</td>\n",
       "      <td>monthly</td>\n",
       "      <td>USA or Census Division</td>\n",
       "      <td>East North Central Division</td>\n",
       "      <td>DV_ENC</td>\n",
       "      <td>1991</td>\n",
       "      <td>2</td>\n",
       "      <td>101.03</td>\n",
       "      <td>101.11</td>\n",
       "    </tr>\n",
       "    <tr>\n",
       "      <th>2</th>\n",
       "      <td>traditional</td>\n",
       "      <td>purchase-only</td>\n",
       "      <td>monthly</td>\n",
       "      <td>USA or Census Division</td>\n",
       "      <td>East North Central Division</td>\n",
       "      <td>DV_ENC</td>\n",
       "      <td>1991</td>\n",
       "      <td>3</td>\n",
       "      <td>101.40</td>\n",
       "      <td>101.08</td>\n",
       "    </tr>\n",
       "    <tr>\n",
       "      <th>3</th>\n",
       "      <td>traditional</td>\n",
       "      <td>purchase-only</td>\n",
       "      <td>monthly</td>\n",
       "      <td>USA or Census Division</td>\n",
       "      <td>East North Central Division</td>\n",
       "      <td>DV_ENC</td>\n",
       "      <td>1991</td>\n",
       "      <td>4</td>\n",
       "      <td>101.79</td>\n",
       "      <td>101.10</td>\n",
       "    </tr>\n",
       "    <tr>\n",
       "      <th>4</th>\n",
       "      <td>traditional</td>\n",
       "      <td>purchase-only</td>\n",
       "      <td>monthly</td>\n",
       "      <td>USA or Census Division</td>\n",
       "      <td>East North Central Division</td>\n",
       "      <td>DV_ENC</td>\n",
       "      <td>1991</td>\n",
       "      <td>5</td>\n",
       "      <td>102.44</td>\n",
       "      <td>101.50</td>\n",
       "    </tr>\n",
       "  </tbody>\n",
       "</table>\n",
       "</div>"
      ],
      "text/plain": [
       "      hpi_type     hpi_flavor frequency                   level  \\\n",
       "0  traditional  purchase-only   monthly  USA or Census Division   \n",
       "1  traditional  purchase-only   monthly  USA or Census Division   \n",
       "2  traditional  purchase-only   monthly  USA or Census Division   \n",
       "3  traditional  purchase-only   monthly  USA or Census Division   \n",
       "4  traditional  purchase-only   monthly  USA or Census Division   \n",
       "\n",
       "                    place_name place_id    yr  period  index_nsa  index_sa  \n",
       "0  East North Central Division   DV_ENC  1991       1     100.00    100.00  \n",
       "1  East North Central Division   DV_ENC  1991       2     101.03    101.11  \n",
       "2  East North Central Division   DV_ENC  1991       3     101.40    101.08  \n",
       "3  East North Central Division   DV_ENC  1991       4     101.79    101.10  \n",
       "4  East North Central Division   DV_ENC  1991       5     102.44    101.50  "
      ]
     },
     "execution_count": 56,
     "metadata": {},
     "output_type": "execute_result"
    }
   ],
   "source": [
    "df_all.head()"
   ]
  },
  {
   "cell_type": "markdown",
   "metadata": {},
   "source": [
    "We need to combine the year and period fields into a <a href=\"http://nbviewer.jupyter.org/github/RandyBetancourt/PythonForSASUsers/blob/master/Chapter%2008%20--%20Date%2C%20Time%2C%20and%20%20Timedelta%20Objects.ipynb#String-Literal-Mapped-to-datetime-timestamp\"> datetime timetamp </a>.  The .csv file in the cell above is read without any datetime parsing for the fields, 'yr' and 'period'.  We could post-process these fields to construct the appropriate date timestamp values.  \n",
    "\n",
    "A better approach is below.  The parse_dates= argument allows a <a href=\"http://nbviewer.jupyter.org/github/RandyBetancourt/PythonForSASUsers/blob/master/Chapter%2002%20--%20Data%20Structures.ipynb#dictionary\"> dictionary </a> object with the key being the arbitrary name of the new column created and the key values indicating which fields are to be read in the .csv file.  Recall that Python indexes have a start position of 0.  In the .csv file, these fields are the 7th and 8th column position.\n",
    "\n",
    "Sometimes, you may need to create your own date-parser, analogous to building a user-defined SAS INFORMAT to map field values into a datetime object.  This is particularly true in cases where the date value is stored as component values in multiple fields.   \n",
    "\n",
    "The nrows= argument value is set to 3080.  "
   ]
  },
  {
   "cell_type": "code",
   "execution_count": 57,
   "metadata": {
    "collapsed": false
   },
   "outputs": [],
   "source": [
    "df_us = pd.read_csv(\"C:\\Data\\\\HPI_master.csv\",\n",
    "                 parse_dates={'date_idx': [6,7]},\n",
    "                 nrows=3080)"
   ]
  },
  {
   "cell_type": "markdown",
   "metadata": {},
   "source": [
    "  "
   ]
  },
  {
   "cell_type": "code",
   "execution_count": 58,
   "metadata": {
    "collapsed": false
   },
   "outputs": [
    {
     "data": {
      "text/plain": [
       "(3080, 9)"
      ]
     },
     "execution_count": 58,
     "metadata": {},
     "output_type": "execute_result"
    }
   ],
   "source": [
    "df_us.shape"
   ]
  },
  {
   "cell_type": "markdown",
   "metadata": {},
   "source": [
    "Validate column names and their data types."
   ]
  },
  {
   "cell_type": "code",
   "execution_count": 59,
   "metadata": {
    "collapsed": false
   },
   "outputs": [
    {
     "name": "stdout",
     "output_type": "stream",
     "text": [
      "<class 'pandas.core.frame.DataFrame'>\n",
      "RangeIndex: 3080 entries, 0 to 3079\n",
      "Data columns (total 9 columns):\n",
      "date_idx      3080 non-null datetime64[ns]\n",
      "hpi_type      3080 non-null object\n",
      "hpi_flavor    3080 non-null object\n",
      "frequency     3080 non-null object\n",
      "level         3080 non-null object\n",
      "place_name    3080 non-null object\n",
      "place_id      3080 non-null object\n",
      "index_nsa     3080 non-null float64\n",
      "index_sa      3080 non-null float64\n",
      "dtypes: datetime64[ns](1), float64(2), object(6)\n",
      "memory usage: 216.6+ KB\n"
     ]
    }
   ],
   "source": [
    "df_us.info()"
   ]
  },
  {
   "cell_type": "markdown",
   "metadata": {},
   "source": [
    "  "
   ]
  },
  {
   "cell_type": "markdown",
   "metadata": {},
   "source": [
    "Check for missing values."
   ]
  },
  {
   "cell_type": "code",
   "execution_count": 60,
   "metadata": {
    "collapsed": false
   },
   "outputs": [
    {
     "data": {
      "text/plain": [
       "date_idx      False\n",
       "hpi_type      False\n",
       "hpi_flavor    False\n",
       "frequency     False\n",
       "level         False\n",
       "place_name    False\n",
       "place_id      False\n",
       "index_nsa     False\n",
       "index_sa      False\n",
       "dtype: bool"
      ]
     },
     "execution_count": 60,
     "metadata": {},
     "output_type": "execute_result"
    }
   ],
   "source": [
    "df_us.isnull().any()"
   ]
  },
  {
   "cell_type": "markdown",
   "metadata": {},
   "source": [
    "Set the 'date_idx' column as the <a href=\"http://nbviewer.jupyter.org/github/RandyBetancourt/PythonForSASUsers/blob/master/Chapter%2005%20--%20Understanding%20Indexes.ipynb#Setting-and-resetting-Indicies\">index</a> on the DataFrame."
   ]
  },
  {
   "cell_type": "code",
   "execution_count": 61,
   "metadata": {
    "collapsed": false
   },
   "outputs": [],
   "source": [
    "df_us.set_index(\"date_idx\", inplace=True, drop=False)"
   ]
  },
  {
   "cell_type": "markdown",
   "metadata": {},
   "source": [
    "Indexing on the datetime column 'date' creates a 'datetime-aware' DateTimeIndex.  "
   ]
  },
  {
   "cell_type": "code",
   "execution_count": 62,
   "metadata": {
    "collapsed": false
   },
   "outputs": [
    {
     "data": {
      "text/plain": [
       "DatetimeIndex(['1991-01-01', '1991-02-01', '1991-03-01', '1991-04-01',\n",
       "               '1991-05-01', '1991-06-01', '1991-07-01', '1991-08-01',\n",
       "               '1991-09-01', '1991-10-01',\n",
       "               ...\n",
       "               '2015-11-01', '2015-12-01', '2016-01-01', '2016-02-01',\n",
       "               '2016-03-01', '2016-04-01', '2016-05-01', '2016-06-01',\n",
       "               '2016-07-01', '2016-08-01'],\n",
       "              dtype='datetime64[ns]', name='date_idx', length=3080, freq=None)"
      ]
     },
     "execution_count": 62,
     "metadata": {},
     "output_type": "execute_result"
    }
   ],
   "source": [
    "df_us.index"
   ]
  },
  {
   "cell_type": "markdown",
   "metadata": {},
   "source": [
    "Get the earlies and lastest date values in the 'df_us' DataFrame."
   ]
  },
  {
   "cell_type": "code",
   "execution_count": 63,
   "metadata": {
    "collapsed": false
   },
   "outputs": [
    {
     "name": "stdout",
     "output_type": "stream",
     "text": [
      "Earliest date is: 1991-01-01 00:00:00\n",
      "Latest date is: 2016-08-01 00:00:00\n"
     ]
    }
   ],
   "source": [
    "print('Earliest date is:', df_us.date_idx.min())\n",
    "print('Latest date is:', df_us.date_idx.max())"
   ]
  },
  {
   "cell_type": "markdown",
   "metadata": {},
   "source": [
    "We see from list of columns returned from the .info() attribute above we have several categorical columns.  So we need to understand their levels.  Earlier, we saw the .describe() method used for numerical columns.  In the example below, by specifying the 'include=' argument returns a description of string columns.  \n",
    "\n",
    "Recall that dtype 'O' (not zero) indiactes string values for a Series or DataFrame column."
   ]
  },
  {
   "cell_type": "code",
   "execution_count": 64,
   "metadata": {
    "collapsed": false
   },
   "outputs": [
    {
     "data": {
      "text/html": [
       "<div>\n",
       "<table border=\"1\" class=\"dataframe\">\n",
       "  <thead>\n",
       "    <tr style=\"text-align: right;\">\n",
       "      <th></th>\n",
       "      <th>hpi_type</th>\n",
       "      <th>hpi_flavor</th>\n",
       "      <th>frequency</th>\n",
       "      <th>level</th>\n",
       "      <th>place_name</th>\n",
       "      <th>place_id</th>\n",
       "    </tr>\n",
       "  </thead>\n",
       "  <tbody>\n",
       "    <tr>\n",
       "      <th>count</th>\n",
       "      <td>3080</td>\n",
       "      <td>3080</td>\n",
       "      <td>3080</td>\n",
       "      <td>3080</td>\n",
       "      <td>3080</td>\n",
       "      <td>3080</td>\n",
       "    </tr>\n",
       "    <tr>\n",
       "      <th>unique</th>\n",
       "      <td>1</td>\n",
       "      <td>1</td>\n",
       "      <td>1</td>\n",
       "      <td>1</td>\n",
       "      <td>10</td>\n",
       "      <td>10</td>\n",
       "    </tr>\n",
       "    <tr>\n",
       "      <th>top</th>\n",
       "      <td>traditional</td>\n",
       "      <td>purchase-only</td>\n",
       "      <td>monthly</td>\n",
       "      <td>USA or Census Division</td>\n",
       "      <td>Mountain Division</td>\n",
       "      <td>DV_WNC</td>\n",
       "    </tr>\n",
       "    <tr>\n",
       "      <th>freq</th>\n",
       "      <td>3080</td>\n",
       "      <td>3080</td>\n",
       "      <td>3080</td>\n",
       "      <td>3080</td>\n",
       "      <td>308</td>\n",
       "      <td>308</td>\n",
       "    </tr>\n",
       "  </tbody>\n",
       "</table>\n",
       "</div>"
      ],
      "text/plain": [
       "           hpi_type     hpi_flavor frequency                   level  \\\n",
       "count          3080           3080      3080                    3080   \n",
       "unique            1              1         1                       1   \n",
       "top     traditional  purchase-only   monthly  USA or Census Division   \n",
       "freq           3080           3080      3080                    3080   \n",
       "\n",
       "               place_name place_id  \n",
       "count                3080     3080  \n",
       "unique                 10       10  \n",
       "top     Mountain Division   DV_WNC  \n",
       "freq                  308      308  "
      ]
     },
     "execution_count": 64,
     "metadata": {},
     "output_type": "execute_result"
    }
   ],
   "source": [
    "df_us.describe(include=['O'])"
   ]
  },
  {
   "cell_type": "markdown",
   "metadata": {},
   "source": [
    " "
   ]
  },
  {
   "cell_type": "markdown",
   "metadata": {},
   "source": [
    "The 'place_name' column has 10 unique levels or values.  We can examine these values with the .unique() attribute."
   ]
  },
  {
   "cell_type": "code",
   "execution_count": 65,
   "metadata": {
    "collapsed": false
   },
   "outputs": [
    {
     "data": {
      "text/plain": [
       "array(['East North Central Division', 'East South Central Division',\n",
       "       'Middle Atlantic Division', 'Mountain Division',\n",
       "       'New England Division', 'Pacific Division',\n",
       "       'South Atlantic Division', 'West North Central Division',\n",
       "       'West South Central Division', 'United States'], dtype=object)"
      ]
     },
     "execution_count": 65,
     "metadata": {},
     "output_type": "execute_result"
    }
   ],
   "source": [
    "df_us.place_name.unique()"
   ]
  },
  {
   "cell_type": "markdown",
   "metadata": {},
   "source": [
    "  "
   ]
  },
  {
   "cell_type": "markdown",
   "metadata": {},
   "source": [
    "By setting an <a href=\"http://nbviewer.jupyter.org/github/RandyBetancourt/PythonForSASUsers/blob/master/Chapter%2005%20--%20Understanding%20Indexes.ipynb#Setting-and-resetting-Indicies\"> index </a> on the column 'place_name', replace the 'df_us' DataFrame with rows for 'place_name' equal to 'United States'.  The .loc indexer allows row slicing which is covered in detail <a href=\"http://nbviewer.jupyter.org/github/RandyBetancourt/PythonForSASUsers/blob/master/Chapter%2005%20--%20Understanding%20Indexes.ipynb#.loc-Indexer\">here</a>.\n",
    "\n",
    "Also notice how the .loc indexer slicing the column 'place_names' for 'United States' assigns the subset of rows to the 'df_us' DataFrame.  In other words, the original 'df_us' DataFrame read above containing 3,080 rows now contains 308 rows.  The replacement of the DataFrame by this operation is slient.  The .shape attribute returns the row and column count."
   ]
  },
  {
   "cell_type": "code",
   "execution_count": 67,
   "metadata": {
    "collapsed": false
   },
   "outputs": [],
   "source": [
    "df_us.set_index('place_name', inplace=True, drop=False)\n",
    "df_us = df_us.loc['United States']"
   ]
  },
  {
   "cell_type": "code",
   "execution_count": 68,
   "metadata": {
    "collapsed": false
   },
   "outputs": [
    {
     "data": {
      "text/plain": [
       "(308, 9)"
      ]
     },
     "execution_count": 68,
     "metadata": {},
     "output_type": "execute_result"
    }
   ],
   "source": [
    "df_us.shape"
   ]
  },
  {
   "cell_type": "markdown",
   "metadata": {},
   "source": [
    "  "
   ]
  },
  {
   "cell_type": "markdown",
   "metadata": {},
   "source": [
    "Time series data lends itself well to plotting.  Here we use the bokeh package to plot the non-seasonal home price index for the entire U.S. using the 'df_us' DataFrame created above"
   ]
  },
  {
   "cell_type": "code",
   "execution_count": 69,
   "metadata": {
    "collapsed": false
   },
   "outputs": [
    {
     "data": {
      "text/html": [
       "\n",
       "    <div class=\"bk-root\">\n",
       "        <a href=\"http://bokeh.pydata.org\" target=\"_blank\" class=\"bk-logo bk-logo-small bk-logo-notebook\"></a>\n",
       "        <span id=\"0d3d4b0a-9dfe-4c84-8973-b63eefc7d920\">Loading BokehJS ...</span>\n",
       "    </div>"
      ]
     },
     "metadata": {},
     "output_type": "display_data"
    },
    {
     "data": {
      "application/javascript": [
       "\n",
       "(function(global) {\n",
       "  function now() {\n",
       "    return new Date();\n",
       "  }\n",
       "\n",
       "  var force = \"1\";\n",
       "\n",
       "  if (typeof (window._bokeh_onload_callbacks) === \"undefined\" || force !== \"\") {\n",
       "    window._bokeh_onload_callbacks = [];\n",
       "    window._bokeh_is_loading = undefined;\n",
       "  }\n",
       "\n",
       "\n",
       "  \n",
       "  if (typeof (window._bokeh_timeout) === \"undefined\" || force !== \"\") {\n",
       "    window._bokeh_timeout = Date.now() + 5000;\n",
       "    window._bokeh_failed_load = false;\n",
       "  }\n",
       "\n",
       "  var NB_LOAD_WARNING = {'data': {'text/html':\n",
       "     \"<div style='background-color: #fdd'>\\n\"+\n",
       "     \"<p>\\n\"+\n",
       "     \"BokehJS does not appear to have successfully loaded. If loading BokehJS from CDN, this \\n\"+\n",
       "     \"may be due to a slow or bad network connection. Possible fixes:\\n\"+\n",
       "     \"</p>\\n\"+\n",
       "     \"<ul>\\n\"+\n",
       "     \"<li>re-rerun `output_notebook()` to attempt to load from CDN again, or</li>\\n\"+\n",
       "     \"<li>use INLINE resources instead, as so:</li>\\n\"+\n",
       "     \"</ul>\\n\"+\n",
       "     \"<code>\\n\"+\n",
       "     \"from bokeh.resources import INLINE\\n\"+\n",
       "     \"output_notebook(resources=INLINE)\\n\"+\n",
       "     \"</code>\\n\"+\n",
       "     \"</div>\"}};\n",
       "\n",
       "  function display_loaded() {\n",
       "    if (window.Bokeh !== undefined) {\n",
       "      Bokeh.$(\"#0d3d4b0a-9dfe-4c84-8973-b63eefc7d920\").text(\"BokehJS successfully loaded.\");\n",
       "    } else if (Date.now() < window._bokeh_timeout) {\n",
       "      setTimeout(display_loaded, 100)\n",
       "    }\n",
       "  }\n",
       "\n",
       "  function run_callbacks() {\n",
       "    window._bokeh_onload_callbacks.forEach(function(callback) { callback() });\n",
       "    delete window._bokeh_onload_callbacks\n",
       "    console.info(\"Bokeh: all callbacks have finished\");\n",
       "  }\n",
       "\n",
       "  function load_libs(js_urls, callback) {\n",
       "    window._bokeh_onload_callbacks.push(callback);\n",
       "    if (window._bokeh_is_loading > 0) {\n",
       "      console.log(\"Bokeh: BokehJS is being loaded, scheduling callback at\", now());\n",
       "      return null;\n",
       "    }\n",
       "    if (js_urls == null || js_urls.length === 0) {\n",
       "      run_callbacks();\n",
       "      return null;\n",
       "    }\n",
       "    console.log(\"Bokeh: BokehJS not loaded, scheduling load and callback at\", now());\n",
       "    window._bokeh_is_loading = js_urls.length;\n",
       "    for (var i = 0; i < js_urls.length; i++) {\n",
       "      var url = js_urls[i];\n",
       "      var s = document.createElement('script');\n",
       "      s.src = url;\n",
       "      s.async = false;\n",
       "      s.onreadystatechange = s.onload = function() {\n",
       "        window._bokeh_is_loading--;\n",
       "        if (window._bokeh_is_loading === 0) {\n",
       "          console.log(\"Bokeh: all BokehJS libraries loaded\");\n",
       "          run_callbacks()\n",
       "        }\n",
       "      };\n",
       "      s.onerror = function() {\n",
       "        console.warn(\"failed to load library \" + url);\n",
       "      };\n",
       "      console.log(\"Bokeh: injecting script tag for BokehJS library: \", url);\n",
       "      document.getElementsByTagName(\"head\")[0].appendChild(s);\n",
       "    }\n",
       "  };var element = document.getElementById(\"0d3d4b0a-9dfe-4c84-8973-b63eefc7d920\");\n",
       "  if (element == null) {\n",
       "    console.log(\"Bokeh: ERROR: autoload.js configured with elementid '0d3d4b0a-9dfe-4c84-8973-b63eefc7d920' but no matching script tag was found. \")\n",
       "    return false;\n",
       "  }\n",
       "\n",
       "  var js_urls = ['https://cdn.pydata.org/bokeh/release/bokeh-0.12.2.min.js', 'https://cdn.pydata.org/bokeh/release/bokeh-widgets-0.12.2.min.js', 'https://cdn.pydata.org/bokeh/release/bokeh-compiler-0.12.2.min.js'];\n",
       "\n",
       "  var inline_js = [\n",
       "    function(Bokeh) {\n",
       "      Bokeh.set_log_level(\"info\");\n",
       "    },\n",
       "    \n",
       "    function(Bokeh) {\n",
       "      \n",
       "      Bokeh.$(\"#0d3d4b0a-9dfe-4c84-8973-b63eefc7d920\").text(\"BokehJS is loading...\");\n",
       "    },\n",
       "    function(Bokeh) {\n",
       "      console.log(\"Bokeh: injecting CSS: https://cdn.pydata.org/bokeh/release/bokeh-0.12.2.min.css\");\n",
       "      Bokeh.embed.inject_css(\"https://cdn.pydata.org/bokeh/release/bokeh-0.12.2.min.css\");\n",
       "      console.log(\"Bokeh: injecting CSS: https://cdn.pydata.org/bokeh/release/bokeh-widgets-0.12.2.min.css\");\n",
       "      Bokeh.embed.inject_css(\"https://cdn.pydata.org/bokeh/release/bokeh-widgets-0.12.2.min.css\");\n",
       "    }\n",
       "  ];\n",
       "\n",
       "  function run_inline_js() {\n",
       "    \n",
       "    if ((window.Bokeh !== undefined) || (force === \"1\")) {\n",
       "      for (var i = 0; i < inline_js.length; i++) {\n",
       "        inline_js[i](window.Bokeh);\n",
       "      }if (force === \"1\") {\n",
       "        display_loaded();\n",
       "      }} else if (Date.now() < window._bokeh_timeout) {\n",
       "      setTimeout(run_inline_js, 100);\n",
       "    } else if (!window._bokeh_failed_load) {\n",
       "      console.log(\"Bokeh: BokehJS failed to load within specified timeout.\");\n",
       "      window._bokeh_failed_load = true;\n",
       "    } else if (!force) {\n",
       "      var cell = $(\"#0d3d4b0a-9dfe-4c84-8973-b63eefc7d920\").parents('.cell').data().cell;\n",
       "      cell.output_area.append_execute_result(NB_LOAD_WARNING)\n",
       "    }\n",
       "\n",
       "  }\n",
       "\n",
       "  if (window._bokeh_is_loading === 0) {\n",
       "    console.log(\"Bokeh: BokehJS loaded, going straight to plotting\");\n",
       "    run_inline_js();\n",
       "  } else {\n",
       "    load_libs(js_urls, function() {\n",
       "      console.log(\"Bokeh: BokehJS plotting callback run at\", now());\n",
       "      run_inline_js();\n",
       "    });\n",
       "  }\n",
       "}(this));"
      ]
     },
     "metadata": {},
     "output_type": "display_data"
    }
   ],
   "source": [
    "import bokeh.charts\n",
    "import bokeh.charts.utils\n",
    "import bokeh.io\n",
    "import bokeh.models\n",
    "import bokeh.palettes\n",
    "import bokeh.plotting\n",
    "\n",
    "# Display graphics in this notebook\n",
    "bokeh.io.output_notebook()"
   ]
  },
  {
   "cell_type": "markdown",
   "metadata": {},
   "source": [
    "   "
   ]
  },
  {
   "cell_type": "code",
   "execution_count": 70,
   "metadata": {
    "collapsed": false
   },
   "outputs": [
    {
     "data": {
      "text/html": [
       "\n",
       "\n",
       "    <div class=\"bk-root\">\n",
       "        <div class=\"plotdiv\" id=\"b3c47fbc-8ac3-44e8-8ae3-559b507b2485\"></div>\n",
       "    </div>\n",
       "<script type=\"text/javascript\">\n",
       "  \n",
       "  (function(global) {\n",
       "    function now() {\n",
       "      return new Date();\n",
       "    }\n",
       "  \n",
       "    var force = \"\";\n",
       "  \n",
       "    if (typeof (window._bokeh_onload_callbacks) === \"undefined\" || force !== \"\") {\n",
       "      window._bokeh_onload_callbacks = [];\n",
       "      window._bokeh_is_loading = undefined;\n",
       "    }\n",
       "  \n",
       "  \n",
       "    \n",
       "    if (typeof (window._bokeh_timeout) === \"undefined\" || force !== \"\") {\n",
       "      window._bokeh_timeout = Date.now() + 0;\n",
       "      window._bokeh_failed_load = false;\n",
       "    }\n",
       "  \n",
       "    var NB_LOAD_WARNING = {'data': {'text/html':\n",
       "       \"<div style='background-color: #fdd'>\\n\"+\n",
       "       \"<p>\\n\"+\n",
       "       \"BokehJS does not appear to have successfully loaded. If loading BokehJS from CDN, this \\n\"+\n",
       "       \"may be due to a slow or bad network connection. Possible fixes:\\n\"+\n",
       "       \"</p>\\n\"+\n",
       "       \"<ul>\\n\"+\n",
       "       \"<li>re-rerun `output_notebook()` to attempt to load from CDN again, or</li>\\n\"+\n",
       "       \"<li>use INLINE resources instead, as so:</li>\\n\"+\n",
       "       \"</ul>\\n\"+\n",
       "       \"<code>\\n\"+\n",
       "       \"from bokeh.resources import INLINE\\n\"+\n",
       "       \"output_notebook(resources=INLINE)\\n\"+\n",
       "       \"</code>\\n\"+\n",
       "       \"</div>\"}};\n",
       "  \n",
       "    function display_loaded() {\n",
       "      if (window.Bokeh !== undefined) {\n",
       "        Bokeh.$(\"#b3c47fbc-8ac3-44e8-8ae3-559b507b2485\").text(\"BokehJS successfully loaded.\");\n",
       "      } else if (Date.now() < window._bokeh_timeout) {\n",
       "        setTimeout(display_loaded, 100)\n",
       "      }\n",
       "    }\n",
       "  \n",
       "    function run_callbacks() {\n",
       "      window._bokeh_onload_callbacks.forEach(function(callback) { callback() });\n",
       "      delete window._bokeh_onload_callbacks\n",
       "      console.info(\"Bokeh: all callbacks have finished\");\n",
       "    }\n",
       "  \n",
       "    function load_libs(js_urls, callback) {\n",
       "      window._bokeh_onload_callbacks.push(callback);\n",
       "      if (window._bokeh_is_loading > 0) {\n",
       "        console.log(\"Bokeh: BokehJS is being loaded, scheduling callback at\", now());\n",
       "        return null;\n",
       "      }\n",
       "      if (js_urls == null || js_urls.length === 0) {\n",
       "        run_callbacks();\n",
       "        return null;\n",
       "      }\n",
       "      console.log(\"Bokeh: BokehJS not loaded, scheduling load and callback at\", now());\n",
       "      window._bokeh_is_loading = js_urls.length;\n",
       "      for (var i = 0; i < js_urls.length; i++) {\n",
       "        var url = js_urls[i];\n",
       "        var s = document.createElement('script');\n",
       "        s.src = url;\n",
       "        s.async = false;\n",
       "        s.onreadystatechange = s.onload = function() {\n",
       "          window._bokeh_is_loading--;\n",
       "          if (window._bokeh_is_loading === 0) {\n",
       "            console.log(\"Bokeh: all BokehJS libraries loaded\");\n",
       "            run_callbacks()\n",
       "          }\n",
       "        };\n",
       "        s.onerror = function() {\n",
       "          console.warn(\"failed to load library \" + url);\n",
       "        };\n",
       "        console.log(\"Bokeh: injecting script tag for BokehJS library: \", url);\n",
       "        document.getElementsByTagName(\"head\")[0].appendChild(s);\n",
       "      }\n",
       "    };var element = document.getElementById(\"b3c47fbc-8ac3-44e8-8ae3-559b507b2485\");\n",
       "    if (element == null) {\n",
       "      console.log(\"Bokeh: ERROR: autoload.js configured with elementid 'b3c47fbc-8ac3-44e8-8ae3-559b507b2485' but no matching script tag was found. \")\n",
       "      return false;\n",
       "    }\n",
       "  \n",
       "    var js_urls = [];\n",
       "  \n",
       "    var inline_js = [\n",
       "      function(Bokeh) {\n",
       "        Bokeh.$(function() {\n",
       "            var docs_json = {\"1fd37b80-db58-4779-b38e-12003e17a816\":{\"roots\":{\"references\":[{\"attributes\":{\"axis_label\":\"date_idx\",\"formatter\":{\"id\":\"1fe18d32-4d3c-4eff-bda6-ecc35b42522f\",\"type\":\"DatetimeTickFormatter\"},\"plot\":{\"id\":\"55a2ab50-c080-4b53-a219-66f5ac1b2bdc\",\"subtype\":\"Chart\",\"type\":\"Plot\"},\"ticker\":{\"id\":\"9c44f007-70d4-46d4-960b-249a10643108\",\"type\":\"DatetimeTicker\"}},\"id\":\"2e231d00-0264-4bb0-b046-2dac1e98b2c5\",\"type\":\"DatetimeAxis\"},{\"attributes\":{\"days\":[1,2,3,4,5,6,7,8,9,10,11,12,13,14,15,16,17,18,19,20,21,22,23,24,25,26,27,28,29,30,31]},\"id\":\"456b73ea-328f-4b2e-93ca-f71f01566e26\",\"type\":\"DaysTicker\"},{\"attributes\":{\"months\":[0,1,2,3,4,5,6,7,8,9,10,11]},\"id\":\"95a75b0e-440e-4700-81a0-a47daf70ac49\",\"type\":\"MonthsTicker\"},{\"attributes\":{\"plot\":null,\"text\":\"Monthly Aggregate Home Price Values in the U.S.\"},\"id\":\"8ae26360-410a-4985-8494-8c641378fdb0\",\"type\":\"Title\"},{\"attributes\":{\"dimension\":1,\"plot\":{\"id\":\"55a2ab50-c080-4b53-a219-66f5ac1b2bdc\",\"subtype\":\"Chart\",\"type\":\"Plot\"},\"ticker\":{\"id\":\"b059255c-4cab-4201-ac16-fc43c8cf4750\",\"type\":\"BasicTicker\"}},\"id\":\"1ecb5a79-c9b2-40bd-b5f2-57f2972d9a17\",\"type\":\"Grid\"},{\"attributes\":{\"callback\":null,\"end\":256.728,\"start\":85.752},\"id\":\"6a071262-8141-4eea-b900-01680fc6a4eb\",\"type\":\"Range1d\"},{\"attributes\":{\"days\":[1,15]},\"id\":\"5daab5d9-45b2-49de-b6cf-f12b43d9d82e\",\"type\":\"DaysTicker\"},{\"attributes\":{},\"id\":\"44471b55-4b70-4c48-8939-31a621f5cba6\",\"type\":\"YearsTicker\"},{\"attributes\":{\"months\":[0,6]},\"id\":\"a152f223-81f6-4dda-a6a4-8a3cbe44328d\",\"type\":\"MonthsTicker\"},{\"attributes\":{\"plot\":{\"id\":\"55a2ab50-c080-4b53-a219-66f5ac1b2bdc\",\"subtype\":\"Chart\",\"type\":\"Plot\"}},\"id\":\"c6c111b1-7e31-4683-9475-3bf3b24dd736\",\"type\":\"HelpTool\"},{\"attributes\":{},\"id\":\"9c44f007-70d4-46d4-960b-249a10643108\",\"type\":\"DatetimeTicker\"},{\"attributes\":{\"base\":60,\"mantissas\":[1,2,5,10,15,20,30],\"max_interval\":1800000.0,\"min_interval\":1000.0,\"num_minor_ticks\":0},\"id\":\"24450393-ad0f-4ec8-890d-32f71dfd13aa\",\"type\":\"AdaptiveTicker\"},{\"attributes\":{\"plot\":{\"id\":\"55a2ab50-c080-4b53-a219-66f5ac1b2bdc\",\"subtype\":\"Chart\",\"type\":\"Plot\"}},\"id\":\"23f0ead6-f5a3-46da-9525-aacc6129ba80\",\"type\":\"WheelZoomTool\"},{\"attributes\":{\"plot\":{\"id\":\"55a2ab50-c080-4b53-a219-66f5ac1b2bdc\",\"subtype\":\"Chart\",\"type\":\"Plot\"}},\"id\":\"1439c213-9020-4948-950d-5140fd6c1ed9\",\"type\":\"ResetTool\"},{\"attributes\":{\"plot\":{\"id\":\"55a2ab50-c080-4b53-a219-66f5ac1b2bdc\",\"subtype\":\"Chart\",\"type\":\"Plot\"},\"ticker\":{\"id\":\"9c44f007-70d4-46d4-960b-249a10643108\",\"type\":\"DatetimeTicker\"}},\"id\":\"0ceda171-849f-4d13-8474-9a6247a8a1d6\",\"type\":\"Grid\"},{\"attributes\":{\"overlay\":{\"id\":\"f0f7ab67-73c8-4c53-b7ce-ff967169a668\",\"type\":\"BoxAnnotation\"},\"plot\":{\"id\":\"55a2ab50-c080-4b53-a219-66f5ac1b2bdc\",\"subtype\":\"Chart\",\"type\":\"Plot\"}},\"id\":\"feedd061-3ae0-4727-802a-43ae4695e723\",\"type\":\"BoxZoomTool\"},{\"attributes\":{\"location\":\"top_left\",\"plot\":{\"id\":\"55a2ab50-c080-4b53-a219-66f5ac1b2bdc\",\"subtype\":\"Chart\",\"type\":\"Plot\"}},\"id\":\"180e2f30-c7ec-4c29-bc32-d2de909008c0\",\"type\":\"Legend\"},{\"attributes\":{\"days\":[1,4,7,10,13,16,19,22,25,28]},\"id\":\"17f3047b-a171-45f1-aec4-cff95bde4905\",\"type\":\"DaysTicker\"},{\"attributes\":{\"base\":24,\"mantissas\":[1,2,4,6,8,12],\"max_interval\":43200000.0,\"min_interval\":3600000.0,\"num_minor_ticks\":0},\"id\":\"432cb447-8068-462a-a713-6fde2fc8f92e\",\"type\":\"AdaptiveTicker\"},{\"attributes\":{\"days\":[1,8,15,22]},\"id\":\"9caaecd3-f968-4906-876e-68b4b424b25b\",\"type\":\"DaysTicker\"},{\"attributes\":{\"active_drag\":\"auto\",\"active_scroll\":\"auto\",\"active_tap\":\"auto\",\"tools\":[{\"id\":\"415d31b3-b22c-49d8-9752-71ea7ff56729\",\"type\":\"PanTool\"},{\"id\":\"23f0ead6-f5a3-46da-9525-aacc6129ba80\",\"type\":\"WheelZoomTool\"},{\"id\":\"feedd061-3ae0-4727-802a-43ae4695e723\",\"type\":\"BoxZoomTool\"},{\"id\":\"d8038a02-5da8-4839-b93b-aaf1f035e5d8\",\"type\":\"SaveTool\"},{\"id\":\"1439c213-9020-4948-950d-5140fd6c1ed9\",\"type\":\"ResetTool\"},{\"id\":\"c6c111b1-7e31-4683-9475-3bf3b24dd736\",\"type\":\"HelpTool\"}]},\"id\":\"9c215f99-01a6-4f53-bfe8-cd2000ca6c7e\",\"type\":\"Toolbar\"},{\"attributes\":{},\"id\":\"b059255c-4cab-4201-ac16-fc43c8cf4750\",\"type\":\"BasicTicker\"},{\"attributes\":{\"bottom_units\":\"screen\",\"fill_alpha\":{\"value\":0.5},\"fill_color\":{\"value\":\"lightgrey\"},\"left_units\":\"screen\",\"level\":\"overlay\",\"line_alpha\":{\"value\":1.0},\"line_color\":{\"value\":\"black\"},\"line_dash\":[4,4],\"line_width\":{\"value\":2},\"plot\":null,\"render_mode\":\"css\",\"right_units\":\"screen\",\"top_units\":\"screen\"},\"id\":\"f0f7ab67-73c8-4c53-b7ce-ff967169a668\",\"type\":\"BoxAnnotation\"},{\"attributes\":{\"plot\":{\"id\":\"55a2ab50-c080-4b53-a219-66f5ac1b2bdc\",\"subtype\":\"Chart\",\"type\":\"Plot\"}},\"id\":\"d8038a02-5da8-4839-b93b-aaf1f035e5d8\",\"type\":\"SaveTool\"},{\"attributes\":{\"plot\":{\"id\":\"55a2ab50-c080-4b53-a219-66f5ac1b2bdc\",\"subtype\":\"Chart\",\"type\":\"Plot\"}},\"id\":\"415d31b3-b22c-49d8-9752-71ea7ff56729\",\"type\":\"PanTool\"},{\"attributes\":{\"max_interval\":500.0,\"num_minor_ticks\":0},\"id\":\"f5dc3a24-aa8e-4dac-b769-7365d4d84f5e\",\"type\":\"AdaptiveTicker\"},{\"attributes\":{\"callback\":null,\"end\":1470009600000.0,\"start\":662688000000.0},\"id\":\"12af680e-08ef-4f6f-98c0-edc6bdb91935\",\"type\":\"Range1d\"},{\"attributes\":{\"callback\":null,\"column_names\":[\"y_values\",\"x_values\"],\"data\":{\"chart_index\":[null,null,null,null,null,null,null,null,null,null,null,null,null,null,null,null,null,null,null,null,null,null,null,null,null,null,null,null,null,null,null,null,null,null,null,null,null,null,null,null,null,null,null,null,null,null,null,null,null,null,null,null,null,null,null,null,null,null,null,null,null,null,null,null,null,null,null,null,null,null,null,null,null,null,null,null,null,null,null,null,null,null,null,null,null,null,null,null,null,null,null,null,null,null,null,null,null,null,null,null,null,null,null,null,null,null,null,null,null,null,null,null,null,null,null,null,null,null,null,null,null,null,null,null,null,null,null,null,null,null,null,null,null,null,null,null,null,null,null,null,null,null,null,null,null,null,null,null,null,null,null,null,null,null,null,null,null,null,null,null,null,null,null,null,null,null,null,null,null,null,null,null,null,null,null,null,null,null,null,null,null,null,null,null,null,null,null,null,null,null,null,null,null,null,null,null,null,null,null,null,null,null,null,null,null,null,null,null,null,null,null,null,null,null,null,null,null,null,null,null,null,null,null,null,null,null,null,null,null,null,null,null,null,null,null,null,null,null,null,null,null,null,null,null,null,null,null,null,null,null,null,null,null,null,null,null,null,null,null,null,null,null,null,null,null,null,null,null,null,null,null,null,null,null,null,null,null,null,null,null,null,null,null,null,null,null,null,null,null,null,null,null,null,null,null,null,null,null,null,null,null,null,null,null,null,null,null,null],\"x_values\":[662688000000.0,665366400000.0,667785600000.0,670464000000.0,673056000000.0,675734400000.0,678326400000.0,681004800000.0,683683200000.0,686275200000.0,688953600000.0,691545600000.0,694224000000.0,696902400000.0,699408000000.0,702086400000.0,704678400000.0,707356800000.0,709948800000.0,712627200000.0,715305600000.0,717897600000.0,720576000000.0,723168000000.0,725846400000.0,728524800000.0,730944000000.0,733622400000.0,736214400000.0,738892800000.0,741484800000.0,744163200000.0,746841600000.0,749433600000.0,752112000000.0,754704000000.0,757382400000.0,760060800000.0,762480000000.0,765158400000.0,767750400000.0,770428800000.0,773020800000.0,775699200000.0,778377600000.0,780969600000.0,783648000000.0,786240000000.0,788918400000.0,791596800000.0,794016000000.0,796694400000.0,799286400000.0,801964800000.0,804556800000.0,807235200000.0,809913600000.0,812505600000.0,815184000000.0,817776000000.0,820454400000.0,823132800000.0,825638400000.0,828316800000.0,830908800000.0,833587200000.0,836179200000.0,838857600000.0,841536000000.0,844128000000.0,846806400000.0,849398400000.0,852076800000.0,854755200000.0,857174400000.0,859852800000.0,862444800000.0,865123200000.0,867715200000.0,870393600000.0,873072000000.0,875664000000.0,878342400000.0,880934400000.0,883612800000.0,886291200000.0,888710400000.0,891388800000.0,893980800000.0,896659200000.0,899251200000.0,901929600000.0,904608000000.0,907200000000.0,909878400000.0,912470400000.0,915148800000.0,917827200000.0,920246400000.0,922924800000.0,925516800000.0,928195200000.0,930787200000.0,933465600000.0,936144000000.0,938736000000.0,941414400000.0,944006400000.0,946684800000.0,949363200000.0,951868800000.0,954547200000.0,957139200000.0,959817600000.0,962409600000.0,965088000000.0,967766400000.0,970358400000.0,973036800000.0,975628800000.0,978307200000.0,980985600000.0,983404800000.0,986083200000.0,988675200000.0,991353600000.0,993945600000.0,996624000000.0,999302400000.0,1001894400000.0,1004572800000.0,1007164800000.0,1009843200000.0,1012521600000.0,1014940800000.0,1017619200000.0,1020211200000.0,1022889600000.0,1025481600000.0,1028160000000.0,1030838400000.0,1033430400000.0,1036108800000.0,1038700800000.0,1041379200000.0,1044057600000.0,1046476800000.0,1049155200000.0,1051747200000.0,1054425600000.0,1057017600000.0,1059696000000.0,1062374400000.0,1064966400000.0,1067644800000.0,1070236800000.0,1072915200000.0,1075593600000.0,1078099200000.0,1080777600000.0,1083369600000.0,1086048000000.0,1088640000000.0,1091318400000.0,1093996800000.0,1096588800000.0,1099267200000.0,1101859200000.0,1104537600000.0,1107216000000.0,1109635200000.0,1112313600000.0,1114905600000.0,1117584000000.0,1120176000000.0,1122854400000.0,1125532800000.0,1128124800000.0,1130803200000.0,1133395200000.0,1136073600000.0,1138752000000.0,1141171200000.0,1143849600000.0,1146441600000.0,1149120000000.0,1151712000000.0,1154390400000.0,1157068800000.0,1159660800000.0,1162339200000.0,1164931200000.0,1167609600000.0,1170288000000.0,1172707200000.0,1175385600000.0,1177977600000.0,1180656000000.0,1183248000000.0,1185926400000.0,1188604800000.0,1191196800000.0,1193875200000.0,1196467200000.0,1199145600000.0,1201824000000.0,1204329600000.0,1207008000000.0,1209600000000.0,1212278400000.0,1214870400000.0,1217548800000.0,1220227200000.0,1222819200000.0,1225497600000.0,1228089600000.0,1230768000000.0,1233446400000.0,1235865600000.0,1238544000000.0,1241136000000.0,1243814400000.0,1246406400000.0,1249084800000.0,1251763200000.0,1254355200000.0,1257033600000.0,1259625600000.0,1262304000000.0,1264982400000.0,1267401600000.0,1270080000000.0,1272672000000.0,1275350400000.0,1277942400000.0,1280620800000.0,1283299200000.0,1285891200000.0,1288569600000.0,1291161600000.0,1293840000000.0,1296518400000.0,1298937600000.0,1301616000000.0,1304208000000.0,1306886400000.0,1309478400000.0,1312156800000.0,1314835200000.0,1317427200000.0,1320105600000.0,1322697600000.0,1325376000000.0,1328054400000.0,1330560000000.0,1333238400000.0,1335830400000.0,1338508800000.0,1341100800000.0,1343779200000.0,1346457600000.0,1349049600000.0,1351728000000.0,1354320000000.0,1356998400000.0,1359676800000.0,1362096000000.0,1364774400000.0,1367366400000.0,1370044800000.0,1372636800000.0,1375315200000.0,1377993600000.0,1380585600000.0,1383264000000.0,1385856000000.0,1388534400000.0,1391212800000.0,1393632000000.0,1396310400000.0,1398902400000.0,1401580800000.0,1404172800000.0,1406851200000.0,1409529600000.0,1412121600000.0,1414800000000.0,1417392000000.0,1420070400000.0,1422748800000.0,1425168000000.0,1427846400000.0,1430438400000.0,1433116800000.0,1435708800000.0,1438387200000.0,1441065600000.0,1443657600000.0,1446336000000.0,1448928000000.0,1451606400000.0,1454284800000.0,1456790400000.0,1459468800000.0,1462060800000.0,1464739200000.0,1467331200000.0,1470009600000.0],\"y_values\":[100.0,100.47,100.73,100.75,100.91,101.4,101.34,101.29,101.42,101.62,102.16,102.19,102.29,102.98,103.08,102.99,103.17,103.53,103.78,104.37,104.62,104.8,105.07,104.65,104.41,104.08,104.7,105.58,105.93,106.71,106.73,107.18,107.41,107.55,107.72,107.91,107.86,108.02,108.74,109.32,109.86,110.48,110.58,110.94,110.8,110.87,111.01,110.67,110.76,111.16,111.45,111.92,112.29,113.11,113.6,113.95,113.86,113.78,113.81,113.95,114.06,114.23,115.0,115.6,116.23,116.72,117.14,117.11,117.12,116.97,117.09,117.1,116.93,117.23,118.18,118.69,119.5,119.97,120.26,120.66,120.42,120.86,120.99,121.07,121.19,122.07,122.95,123.85,124.78,125.96,126.22,126.73,127.19,127.46,127.99,128.21,128.73,129.22,130.26,131.26,132.51,133.55,134.21,134.95,135.03,135.65,135.81,136.06,137.43,137.22,138.8,140.08,141.23,142.65,143.36,143.79,144.43,144.96,145.4,145.8,146.47,147.43,148.79,150.0,151.23,152.48,153.33,153.93,154.5,155.08,155.05,155.58,156.14,157.03,158.6,159.92,161.62,163.17,164.25,165.17,165.94,166.68,167.06,167.71,168.3,169.38,170.61,172.16,173.84,175.23,176.56,177.72,178.9,179.44,180.2,181.09,181.78,183.27,185.23,187.37,190.04,192.6,194.21,195.45,196.59,197.43,198.61,199.56,200.29,201.99,204.88,207.44,210.18,212.63,214.62,216.15,217.57,218.12,218.67,219.14,219.75,220.69,222.4,223.85,225.6,226.29,226.18,226.58,225.88,225.53,225.27,224.48,224.3,224.89,226.81,227.89,228.23,228.21,226.87,225.7,223.96,221.69,219.37,217.2,214.14,213.72,212.38,211.39,210.49,210.01,207.88,205.62,203.07,200.69,196.39,194.77,195.68,196.52,194.63,195.03,196.13,196.93,196.18,195.41,194.42,194.51,194.17,190.78,189.91,189.47,190.04,191.78,193.64,192.49,191.11,190.3,187.71,187.48,186.14,183.42,181.48,179.8,178.91,180.92,182.27,183.96,184.39,183.12,183.29,181.72,181.91,181.15,179.31,179.95,182.71,185.47,188.52,190.43,190.65,190.84,190.71,191.05,191.27,190.93,190.8,192.33,195.93,198.66,202.27,204.83,206.05,205.96,205.62,205.79,205.09,204.86,204.36,205.49,208.14,210.39,213.01,215.14,216.01,215.86,214.98,215.35,215.54,215.93,214.56,216.59,219.17,222.12,225.31,227.36,228.44,227.87,228.19,228.31,228.76,228.62,227.64,229.28,233.36,235.68,238.54,240.67,241.87,242.48]}},\"id\":\"ae83ea5d-8784-40da-9cee-98c8b23107d2\",\"type\":\"ColumnDataSource\"},{\"attributes\":{},\"id\":\"f8f7ac43-eec9-40bc-a419-1e92a0122b53\",\"type\":\"BasicTickFormatter\"},{\"attributes\":{},\"id\":\"1fe18d32-4d3c-4eff-bda6-ecc35b42522f\",\"type\":\"DatetimeTickFormatter\"},{\"attributes\":{\"months\":[0,4,8]},\"id\":\"d859cc87-42e4-4a78-b675-67a7096c8478\",\"type\":\"MonthsTicker\"},{\"attributes\":{\"below\":[{\"id\":\"2e231d00-0264-4bb0-b046-2dac1e98b2c5\",\"type\":\"DatetimeAxis\"}],\"left\":[{\"id\":\"e257798d-9a51-4144-8d16-a21de79cee10\",\"type\":\"LinearAxis\"}],\"renderers\":[{\"id\":\"f0f7ab67-73c8-4c53-b7ce-ff967169a668\",\"type\":\"BoxAnnotation\"},{\"id\":\"6a8e7ca4-0370-4eec-bc39-3d63da3150db\",\"type\":\"GlyphRenderer\"},{\"id\":\"180e2f30-c7ec-4c29-bc32-d2de909008c0\",\"type\":\"Legend\"},{\"id\":\"2e231d00-0264-4bb0-b046-2dac1e98b2c5\",\"type\":\"DatetimeAxis\"},{\"id\":\"e257798d-9a51-4144-8d16-a21de79cee10\",\"type\":\"LinearAxis\"},{\"id\":\"0ceda171-849f-4d13-8474-9a6247a8a1d6\",\"type\":\"Grid\"},{\"id\":\"1ecb5a79-c9b2-40bd-b5f2-57f2972d9a17\",\"type\":\"Grid\"}],\"title\":{\"id\":\"8ae26360-410a-4985-8494-8c641378fdb0\",\"type\":\"Title\"},\"tool_events\":{\"id\":\"39e3571e-99be-4963-ae51-f2fb98354f3e\",\"type\":\"ToolEvents\"},\"toolbar\":{\"id\":\"9c215f99-01a6-4f53-bfe8-cd2000ca6c7e\",\"type\":\"Toolbar\"},\"x_mapper_type\":\"auto\",\"x_range\":{\"id\":\"12af680e-08ef-4f6f-98c0-edc6bdb91935\",\"type\":\"Range1d\"},\"y_mapper_type\":\"auto\",\"y_range\":{\"id\":\"6a071262-8141-4eea-b900-01680fc6a4eb\",\"type\":\"Range1d\"}},\"id\":\"55a2ab50-c080-4b53-a219-66f5ac1b2bdc\",\"subtype\":\"Chart\",\"type\":\"Plot\"},{\"attributes\":{\"months\":[0,2,4,6,8,10]},\"id\":\"29878d00-9359-424c-a438-0be8112a3af4\",\"type\":\"MonthsTicker\"},{\"attributes\":{\"data_source\":{\"id\":\"ae83ea5d-8784-40da-9cee-98c8b23107d2\",\"type\":\"ColumnDataSource\"},\"glyph\":{\"id\":\"3371db27-311b-4961-bccf-2318f8ddcff2\",\"type\":\"Line\"},\"hover_glyph\":null,\"nonselection_glyph\":null,\"selection_glyph\":null},\"id\":\"6a8e7ca4-0370-4eec-bc39-3d63da3150db\",\"type\":\"GlyphRenderer\"},{\"attributes\":{\"line_color\":{\"value\":\"firebrick\"},\"line_width\":{\"value\":2},\"x\":{\"field\":\"x_values\"},\"y\":{\"field\":\"y_values\"}},\"id\":\"3371db27-311b-4961-bccf-2318f8ddcff2\",\"type\":\"Line\"},{\"attributes\":{\"axis_label\":\"index_nsa\",\"formatter\":{\"id\":\"f8f7ac43-eec9-40bc-a419-1e92a0122b53\",\"type\":\"BasicTickFormatter\"},\"plot\":{\"id\":\"55a2ab50-c080-4b53-a219-66f5ac1b2bdc\",\"subtype\":\"Chart\",\"type\":\"Plot\"},\"ticker\":{\"id\":\"b059255c-4cab-4201-ac16-fc43c8cf4750\",\"type\":\"BasicTicker\"}},\"id\":\"e257798d-9a51-4144-8d16-a21de79cee10\",\"type\":\"LinearAxis\"},{\"attributes\":{},\"id\":\"39e3571e-99be-4963-ae51-f2fb98354f3e\",\"type\":\"ToolEvents\"}],\"root_ids\":[\"55a2ab50-c080-4b53-a219-66f5ac1b2bdc\"]},\"title\":\"Bokeh Application\",\"version\":\"0.12.2\"}};\n",
       "            var render_items = [{\"docid\":\"1fd37b80-db58-4779-b38e-12003e17a816\",\"elementid\":\"b3c47fbc-8ac3-44e8-8ae3-559b507b2485\",\"modelid\":\"55a2ab50-c080-4b53-a219-66f5ac1b2bdc\"}];\n",
       "            \n",
       "            Bokeh.embed.embed_items(docs_json, render_items);\n",
       "        });\n",
       "      },\n",
       "      function(Bokeh) {\n",
       "      }\n",
       "    ];\n",
       "  \n",
       "    function run_inline_js() {\n",
       "      \n",
       "      if ((window.Bokeh !== undefined) || (force === \"1\")) {\n",
       "        for (var i = 0; i < inline_js.length; i++) {\n",
       "          inline_js[i](window.Bokeh);\n",
       "        }if (force === \"1\") {\n",
       "          display_loaded();\n",
       "        }} else if (Date.now() < window._bokeh_timeout) {\n",
       "        setTimeout(run_inline_js, 100);\n",
       "      } else if (!window._bokeh_failed_load) {\n",
       "        console.log(\"Bokeh: BokehJS failed to load within specified timeout.\");\n",
       "        window._bokeh_failed_load = true;\n",
       "      } else if (!force) {\n",
       "        var cell = $(\"#b3c47fbc-8ac3-44e8-8ae3-559b507b2485\").parents('.cell').data().cell;\n",
       "        cell.output_area.append_execute_result(NB_LOAD_WARNING)\n",
       "      }\n",
       "  \n",
       "    }\n",
       "  \n",
       "    if (window._bokeh_is_loading === 0) {\n",
       "      console.log(\"Bokeh: BokehJS loaded, going straight to plotting\");\n",
       "      run_inline_js();\n",
       "    } else {\n",
       "      load_libs(js_urls, function() {\n",
       "        console.log(\"Bokeh: BokehJS plotting callback run at\", now());\n",
       "        run_inline_js();\n",
       "      });\n",
       "    }\n",
       "  }(this));\n",
       "</script>"
      ]
     },
     "metadata": {},
     "output_type": "display_data"
    }
   ],
   "source": [
    "p = bokeh.charts.Line(df_us, x='date_idx', y='index_nsa', color='firebrick', \n",
    "                      title=\"Monthly Aggregate Home Price Values in the U.S.\")\n",
    "\n",
    "# Display it\n",
    "bokeh.io.show(p)"
   ]
  },
  {
   "cell_type": "markdown",
   "metadata": {},
   "source": [
    "  "
   ]
  },
  {
   "cell_type": "markdown",
   "metadata": {},
   "source": [
    "Create the DataFrame 'df_us_3' to select the rows with the values indicated below."
   ]
  },
  {
   "cell_type": "code",
   "execution_count": 75,
   "metadata": {
    "collapsed": false
   },
   "outputs": [],
   "source": [
    "df_us_3 = df_us.loc[['West South Central Division', 'United States', 'Pacific Division']]"
   ]
  },
  {
   "cell_type": "markdown",
   "metadata": {},
   "source": [
    "  "
   ]
  },
  {
   "cell_type": "markdown",
   "metadata": {},
   "source": [
    "  "
   ]
  },
  {
   "cell_type": "markdown",
   "metadata": {},
   "source": [
    "Plot the 3 regions using the U.S. home price index for comparison."
   ]
  },
  {
   "cell_type": "code",
   "execution_count": 76,
   "metadata": {
    "collapsed": false
   },
   "outputs": [
    {
     "data": {
      "text/html": [
       "\n",
       "\n",
       "    <div class=\"bk-root\">\n",
       "        <div class=\"plotdiv\" id=\"6f019dd7-f48d-4301-97e9-b85e6b5c27f3\"></div>\n",
       "    </div>\n",
       "<script type=\"text/javascript\">\n",
       "  \n",
       "  (function(global) {\n",
       "    function now() {\n",
       "      return new Date();\n",
       "    }\n",
       "  \n",
       "    var force = \"\";\n",
       "  \n",
       "    if (typeof (window._bokeh_onload_callbacks) === \"undefined\" || force !== \"\") {\n",
       "      window._bokeh_onload_callbacks = [];\n",
       "      window._bokeh_is_loading = undefined;\n",
       "    }\n",
       "  \n",
       "  \n",
       "    \n",
       "    if (typeof (window._bokeh_timeout) === \"undefined\" || force !== \"\") {\n",
       "      window._bokeh_timeout = Date.now() + 0;\n",
       "      window._bokeh_failed_load = false;\n",
       "    }\n",
       "  \n",
       "    var NB_LOAD_WARNING = {'data': {'text/html':\n",
       "       \"<div style='background-color: #fdd'>\\n\"+\n",
       "       \"<p>\\n\"+\n",
       "       \"BokehJS does not appear to have successfully loaded. If loading BokehJS from CDN, this \\n\"+\n",
       "       \"may be due to a slow or bad network connection. Possible fixes:\\n\"+\n",
       "       \"</p>\\n\"+\n",
       "       \"<ul>\\n\"+\n",
       "       \"<li>re-rerun `output_notebook()` to attempt to load from CDN again, or</li>\\n\"+\n",
       "       \"<li>use INLINE resources instead, as so:</li>\\n\"+\n",
       "       \"</ul>\\n\"+\n",
       "       \"<code>\\n\"+\n",
       "       \"from bokeh.resources import INLINE\\n\"+\n",
       "       \"output_notebook(resources=INLINE)\\n\"+\n",
       "       \"</code>\\n\"+\n",
       "       \"</div>\"}};\n",
       "  \n",
       "    function display_loaded() {\n",
       "      if (window.Bokeh !== undefined) {\n",
       "        Bokeh.$(\"#6f019dd7-f48d-4301-97e9-b85e6b5c27f3\").text(\"BokehJS successfully loaded.\");\n",
       "      } else if (Date.now() < window._bokeh_timeout) {\n",
       "        setTimeout(display_loaded, 100)\n",
       "      }\n",
       "    }\n",
       "  \n",
       "    function run_callbacks() {\n",
       "      window._bokeh_onload_callbacks.forEach(function(callback) { callback() });\n",
       "      delete window._bokeh_onload_callbacks\n",
       "      console.info(\"Bokeh: all callbacks have finished\");\n",
       "    }\n",
       "  \n",
       "    function load_libs(js_urls, callback) {\n",
       "      window._bokeh_onload_callbacks.push(callback);\n",
       "      if (window._bokeh_is_loading > 0) {\n",
       "        console.log(\"Bokeh: BokehJS is being loaded, scheduling callback at\", now());\n",
       "        return null;\n",
       "      }\n",
       "      if (js_urls == null || js_urls.length === 0) {\n",
       "        run_callbacks();\n",
       "        return null;\n",
       "      }\n",
       "      console.log(\"Bokeh: BokehJS not loaded, scheduling load and callback at\", now());\n",
       "      window._bokeh_is_loading = js_urls.length;\n",
       "      for (var i = 0; i < js_urls.length; i++) {\n",
       "        var url = js_urls[i];\n",
       "        var s = document.createElement('script');\n",
       "        s.src = url;\n",
       "        s.async = false;\n",
       "        s.onreadystatechange = s.onload = function() {\n",
       "          window._bokeh_is_loading--;\n",
       "          if (window._bokeh_is_loading === 0) {\n",
       "            console.log(\"Bokeh: all BokehJS libraries loaded\");\n",
       "            run_callbacks()\n",
       "          }\n",
       "        };\n",
       "        s.onerror = function() {\n",
       "          console.warn(\"failed to load library \" + url);\n",
       "        };\n",
       "        console.log(\"Bokeh: injecting script tag for BokehJS library: \", url);\n",
       "        document.getElementsByTagName(\"head\")[0].appendChild(s);\n",
       "      }\n",
       "    };var element = document.getElementById(\"6f019dd7-f48d-4301-97e9-b85e6b5c27f3\");\n",
       "    if (element == null) {\n",
       "      console.log(\"Bokeh: ERROR: autoload.js configured with elementid '6f019dd7-f48d-4301-97e9-b85e6b5c27f3' but no matching script tag was found. \")\n",
       "      return false;\n",
       "    }\n",
       "  \n",
       "    var js_urls = [];\n",
       "  \n",
       "    var inline_js = [\n",
       "      function(Bokeh) {\n",
       "        Bokeh.$(function() {\n",
       "            var docs_json = {\"33c70736-cafa-481d-9009-a7ac618547d7\":{\"roots\":{\"references\":[{\"attributes\":{\"days\":[1,8,15,22]},\"id\":\"3bbd896a-4836-4e5b-ae2b-6b803a97b393\",\"type\":\"DaysTicker\"},{\"attributes\":{},\"id\":\"855ec083-f841-4120-946f-4f49fd240a7a\",\"type\":\"YearsTicker\"},{\"attributes\":{\"callback\":null,\"column_names\":[\"y_values\",\"x_values\"],\"data\":{\"chart_index\":[{\"place_name\":\"United States\"},{\"place_name\":\"United States\"},{\"place_name\":\"United States\"},{\"place_name\":\"United States\"},{\"place_name\":\"United States\"},{\"place_name\":\"United States\"},{\"place_name\":\"United States\"},{\"place_name\":\"United States\"},{\"place_name\":\"United States\"},{\"place_name\":\"United States\"},{\"place_name\":\"United States\"},{\"place_name\":\"United States\"},{\"place_name\":\"United States\"},{\"place_name\":\"United States\"},{\"place_name\":\"United States\"},{\"place_name\":\"United States\"},{\"place_name\":\"United States\"},{\"place_name\":\"United States\"},{\"place_name\":\"United States\"},{\"place_name\":\"United States\"},{\"place_name\":\"United States\"},{\"place_name\":\"United States\"},{\"place_name\":\"United States\"},{\"place_name\":\"United States\"},{\"place_name\":\"United States\"},{\"place_name\":\"United States\"},{\"place_name\":\"United States\"},{\"place_name\":\"United States\"},{\"place_name\":\"United States\"},{\"place_name\":\"United States\"},{\"place_name\":\"United States\"},{\"place_name\":\"United States\"},{\"place_name\":\"United States\"},{\"place_name\":\"United States\"},{\"place_name\":\"United States\"},{\"place_name\":\"United States\"},{\"place_name\":\"United States\"},{\"place_name\":\"United States\"},{\"place_name\":\"United States\"},{\"place_name\":\"United States\"},{\"place_name\":\"United States\"},{\"place_name\":\"United States\"},{\"place_name\":\"United States\"},{\"place_name\":\"United States\"},{\"place_name\":\"United States\"},{\"place_name\":\"United States\"},{\"place_name\":\"United States\"},{\"place_name\":\"United States\"},{\"place_name\":\"United States\"},{\"place_name\":\"United States\"},{\"place_name\":\"United States\"},{\"place_name\":\"United States\"},{\"place_name\":\"United States\"},{\"place_name\":\"United States\"},{\"place_name\":\"United States\"},{\"place_name\":\"United States\"},{\"place_name\":\"United States\"},{\"place_name\":\"United States\"},{\"place_name\":\"United States\"},{\"place_name\":\"United States\"},{\"place_name\":\"United States\"},{\"place_name\":\"United States\"},{\"place_name\":\"United States\"},{\"place_name\":\"United States\"},{\"place_name\":\"United States\"},{\"place_name\":\"United States\"},{\"place_name\":\"United States\"},{\"place_name\":\"United States\"},{\"place_name\":\"United States\"},{\"place_name\":\"United States\"},{\"place_name\":\"United States\"},{\"place_name\":\"United States\"},{\"place_name\":\"United States\"},{\"place_name\":\"United States\"},{\"place_name\":\"United States\"},{\"place_name\":\"United States\"},{\"place_name\":\"United States\"},{\"place_name\":\"United States\"},{\"place_name\":\"United States\"},{\"place_name\":\"United States\"},{\"place_name\":\"United States\"},{\"place_name\":\"United States\"},{\"place_name\":\"United States\"},{\"place_name\":\"United States\"},{\"place_name\":\"United States\"},{\"place_name\":\"United States\"},{\"place_name\":\"United States\"},{\"place_name\":\"United States\"},{\"place_name\":\"United States\"},{\"place_name\":\"United States\"},{\"place_name\":\"United States\"},{\"place_name\":\"United States\"},{\"place_name\":\"United States\"},{\"place_name\":\"United States\"},{\"place_name\":\"United States\"},{\"place_name\":\"United States\"},{\"place_name\":\"United States\"},{\"place_name\":\"United States\"},{\"place_name\":\"United States\"},{\"place_name\":\"United States\"},{\"place_name\":\"United States\"},{\"place_name\":\"United States\"},{\"place_name\":\"United States\"},{\"place_name\":\"United States\"},{\"place_name\":\"United States\"},{\"place_name\":\"United States\"},{\"place_name\":\"United States\"},{\"place_name\":\"United States\"},{\"place_name\":\"United States\"},{\"place_name\":\"United States\"},{\"place_name\":\"United States\"},{\"place_name\":\"United States\"},{\"place_name\":\"United States\"},{\"place_name\":\"United States\"},{\"place_name\":\"United States\"},{\"place_name\":\"United States\"},{\"place_name\":\"United States\"},{\"place_name\":\"United States\"},{\"place_name\":\"United States\"},{\"place_name\":\"United States\"},{\"place_name\":\"United States\"},{\"place_name\":\"United States\"},{\"place_name\":\"United States\"},{\"place_name\":\"United States\"},{\"place_name\":\"United States\"},{\"place_name\":\"United States\"},{\"place_name\":\"United States\"},{\"place_name\":\"United States\"},{\"place_name\":\"United States\"},{\"place_name\":\"United States\"},{\"place_name\":\"United States\"},{\"place_name\":\"United States\"},{\"place_name\":\"United States\"},{\"place_name\":\"United States\"},{\"place_name\":\"United States\"},{\"place_name\":\"United States\"},{\"place_name\":\"United States\"},{\"place_name\":\"United States\"},{\"place_name\":\"United States\"},{\"place_name\":\"United States\"},{\"place_name\":\"United States\"},{\"place_name\":\"United States\"},{\"place_name\":\"United States\"},{\"place_name\":\"United States\"},{\"place_name\":\"United States\"},{\"place_name\":\"United States\"},{\"place_name\":\"United States\"},{\"place_name\":\"United States\"},{\"place_name\":\"United States\"},{\"place_name\":\"United States\"},{\"place_name\":\"United States\"},{\"place_name\":\"United States\"},{\"place_name\":\"United States\"},{\"place_name\":\"United States\"},{\"place_name\":\"United States\"},{\"place_name\":\"United States\"},{\"place_name\":\"United States\"},{\"place_name\":\"United States\"},{\"place_name\":\"United States\"},{\"place_name\":\"United States\"},{\"place_name\":\"United States\"},{\"place_name\":\"United States\"},{\"place_name\":\"United States\"},{\"place_name\":\"United States\"},{\"place_name\":\"United States\"},{\"place_name\":\"United States\"},{\"place_name\":\"United States\"},{\"place_name\":\"United States\"},{\"place_name\":\"United States\"},{\"place_name\":\"United States\"},{\"place_name\":\"United States\"},{\"place_name\":\"United States\"},{\"place_name\":\"United States\"},{\"place_name\":\"United States\"},{\"place_name\":\"United States\"},{\"place_name\":\"United States\"},{\"place_name\":\"United States\"},{\"place_name\":\"United States\"},{\"place_name\":\"United States\"},{\"place_name\":\"United States\"},{\"place_name\":\"United States\"},{\"place_name\":\"United States\"},{\"place_name\":\"United States\"},{\"place_name\":\"United States\"},{\"place_name\":\"United States\"},{\"place_name\":\"United States\"},{\"place_name\":\"United States\"},{\"place_name\":\"United States\"},{\"place_name\":\"United States\"},{\"place_name\":\"United States\"},{\"place_name\":\"United States\"},{\"place_name\":\"United States\"},{\"place_name\":\"United States\"},{\"place_name\":\"United States\"},{\"place_name\":\"United States\"},{\"place_name\":\"United States\"},{\"place_name\":\"United States\"},{\"place_name\":\"United States\"},{\"place_name\":\"United States\"},{\"place_name\":\"United States\"},{\"place_name\":\"United States\"},{\"place_name\":\"United States\"},{\"place_name\":\"United States\"},{\"place_name\":\"United States\"},{\"place_name\":\"United States\"},{\"place_name\":\"United States\"},{\"place_name\":\"United States\"},{\"place_name\":\"United States\"},{\"place_name\":\"United States\"},{\"place_name\":\"United States\"},{\"place_name\":\"United States\"},{\"place_name\":\"United States\"},{\"place_name\":\"United States\"},{\"place_name\":\"United States\"},{\"place_name\":\"United States\"},{\"place_name\":\"United States\"},{\"place_name\":\"United States\"},{\"place_name\":\"United States\"},{\"place_name\":\"United States\"},{\"place_name\":\"United States\"},{\"place_name\":\"United States\"},{\"place_name\":\"United States\"},{\"place_name\":\"United States\"},{\"place_name\":\"United States\"},{\"place_name\":\"United States\"},{\"place_name\":\"United States\"},{\"place_name\":\"United States\"},{\"place_name\":\"United States\"},{\"place_name\":\"United States\"},{\"place_name\":\"United States\"},{\"place_name\":\"United States\"},{\"place_name\":\"United States\"},{\"place_name\":\"United States\"},{\"place_name\":\"United States\"},{\"place_name\":\"United States\"},{\"place_name\":\"United States\"},{\"place_name\":\"United States\"},{\"place_name\":\"United States\"},{\"place_name\":\"United States\"},{\"place_name\":\"United States\"},{\"place_name\":\"United States\"},{\"place_name\":\"United States\"},{\"place_name\":\"United States\"},{\"place_name\":\"United States\"},{\"place_name\":\"United States\"},{\"place_name\":\"United States\"},{\"place_name\":\"United States\"},{\"place_name\":\"United States\"},{\"place_name\":\"United States\"},{\"place_name\":\"United States\"},{\"place_name\":\"United States\"},{\"place_name\":\"United States\"},{\"place_name\":\"United States\"},{\"place_name\":\"United States\"},{\"place_name\":\"United States\"},{\"place_name\":\"United States\"},{\"place_name\":\"United States\"},{\"place_name\":\"United States\"},{\"place_name\":\"United States\"},{\"place_name\":\"United States\"},{\"place_name\":\"United States\"},{\"place_name\":\"United States\"},{\"place_name\":\"United States\"},{\"place_name\":\"United States\"},{\"place_name\":\"United States\"},{\"place_name\":\"United States\"},{\"place_name\":\"United States\"},{\"place_name\":\"United States\"},{\"place_name\":\"United States\"},{\"place_name\":\"United States\"},{\"place_name\":\"United States\"},{\"place_name\":\"United States\"},{\"place_name\":\"United States\"},{\"place_name\":\"United States\"},{\"place_name\":\"United States\"},{\"place_name\":\"United States\"},{\"place_name\":\"United States\"},{\"place_name\":\"United States\"},{\"place_name\":\"United States\"},{\"place_name\":\"United States\"},{\"place_name\":\"United States\"},{\"place_name\":\"United States\"},{\"place_name\":\"United States\"},{\"place_name\":\"United States\"},{\"place_name\":\"United States\"},{\"place_name\":\"United States\"},{\"place_name\":\"United States\"},{\"place_name\":\"United States\"},{\"place_name\":\"United States\"},{\"place_name\":\"United States\"},{\"place_name\":\"United States\"},{\"place_name\":\"United States\"},{\"place_name\":\"United States\"},{\"place_name\":\"United States\"},{\"place_name\":\"United States\"},{\"place_name\":\"United States\"},{\"place_name\":\"United States\"},{\"place_name\":\"United States\"},{\"place_name\":\"United States\"},{\"place_name\":\"United States\"},{\"place_name\":\"United States\"},{\"place_name\":\"United States\"},{\"place_name\":\"United States\"},{\"place_name\":\"United States\"},{\"place_name\":\"United States\"},{\"place_name\":\"United States\"},{\"place_name\":\"United States\"},{\"place_name\":\"United States\"}],\"place_name\":[\"United States\",\"United States\",\"United States\",\"United States\",\"United States\",\"United States\",\"United States\",\"United States\",\"United States\",\"United States\",\"United States\",\"United States\",\"United States\",\"United States\",\"United States\",\"United States\",\"United States\",\"United States\",\"United States\",\"United States\",\"United States\",\"United States\",\"United States\",\"United States\",\"United States\",\"United States\",\"United States\",\"United States\",\"United States\",\"United States\",\"United States\",\"United States\",\"United States\",\"United States\",\"United States\",\"United States\",\"United States\",\"United States\",\"United States\",\"United States\",\"United States\",\"United States\",\"United States\",\"United States\",\"United States\",\"United States\",\"United States\",\"United States\",\"United States\",\"United States\",\"United States\",\"United States\",\"United States\",\"United States\",\"United States\",\"United States\",\"United States\",\"United States\",\"United States\",\"United States\",\"United States\",\"United States\",\"United States\",\"United States\",\"United States\",\"United States\",\"United States\",\"United States\",\"United States\",\"United States\",\"United States\",\"United States\",\"United States\",\"United States\",\"United States\",\"United States\",\"United States\",\"United States\",\"United States\",\"United States\",\"United States\",\"United States\",\"United States\",\"United States\",\"United States\",\"United States\",\"United States\",\"United States\",\"United States\",\"United States\",\"United States\",\"United States\",\"United States\",\"United States\",\"United States\",\"United States\",\"United States\",\"United States\",\"United States\",\"United States\",\"United States\",\"United States\",\"United States\",\"United States\",\"United States\",\"United States\",\"United States\",\"United States\",\"United States\",\"United States\",\"United States\",\"United States\",\"United States\",\"United States\",\"United States\",\"United States\",\"United States\",\"United States\",\"United States\",\"United States\",\"United States\",\"United States\",\"United States\",\"United States\",\"United States\",\"United States\",\"United States\",\"United States\",\"United States\",\"United States\",\"United States\",\"United States\",\"United States\",\"United States\",\"United States\",\"United States\",\"United States\",\"United States\",\"United States\",\"United States\",\"United States\",\"United States\",\"United States\",\"United States\",\"United States\",\"United States\",\"United States\",\"United States\",\"United States\",\"United States\",\"United States\",\"United States\",\"United States\",\"United States\",\"United States\",\"United States\",\"United States\",\"United States\",\"United States\",\"United States\",\"United States\",\"United States\",\"United States\",\"United States\",\"United States\",\"United States\",\"United States\",\"United States\",\"United States\",\"United States\",\"United States\",\"United States\",\"United States\",\"United States\",\"United States\",\"United States\",\"United States\",\"United States\",\"United States\",\"United States\",\"United States\",\"United States\",\"United States\",\"United States\",\"United States\",\"United States\",\"United States\",\"United States\",\"United States\",\"United States\",\"United States\",\"United States\",\"United States\",\"United States\",\"United States\",\"United States\",\"United States\",\"United States\",\"United States\",\"United States\",\"United States\",\"United States\",\"United States\",\"United States\",\"United States\",\"United States\",\"United States\",\"United States\",\"United States\",\"United States\",\"United States\",\"United States\",\"United States\",\"United States\",\"United States\",\"United States\",\"United States\",\"United States\",\"United States\",\"United States\",\"United States\",\"United States\",\"United States\",\"United States\",\"United States\",\"United States\",\"United States\",\"United States\",\"United States\",\"United States\",\"United States\",\"United States\",\"United States\",\"United States\",\"United States\",\"United States\",\"United States\",\"United States\",\"United States\",\"United States\",\"United States\",\"United States\",\"United States\",\"United States\",\"United States\",\"United States\",\"United States\",\"United States\",\"United States\",\"United States\",\"United States\",\"United States\",\"United States\",\"United States\",\"United States\",\"United States\",\"United States\",\"United States\",\"United States\",\"United States\",\"United States\",\"United States\",\"United States\",\"United States\",\"United States\",\"United States\",\"United States\",\"United States\",\"United States\",\"United States\",\"United States\",\"United States\",\"United States\",\"United States\",\"United States\",\"United States\",\"United States\",\"United States\",\"United States\",\"United States\",\"United States\",\"United States\",\"United States\",\"United States\",\"United States\",\"United States\",\"United States\",\"United States\",\"United States\",\"United States\",\"United States\",\"United States\",\"United States\",\"United States\",\"United States\",\"United States\",\"United States\",\"United States\",\"United States\",\"United States\",\"United States\",\"United States\",\"United States\",\"United States\",\"United States\",\"United States\",\"United States\",\"United States\"],\"x_values\":[662688000000.0,665366400000.0,667785600000.0,670464000000.0,673056000000.0,675734400000.0,678326400000.0,681004800000.0,683683200000.0,686275200000.0,688953600000.0,691545600000.0,694224000000.0,696902400000.0,699408000000.0,702086400000.0,704678400000.0,707356800000.0,709948800000.0,712627200000.0,715305600000.0,717897600000.0,720576000000.0,723168000000.0,725846400000.0,728524800000.0,730944000000.0,733622400000.0,736214400000.0,738892800000.0,741484800000.0,744163200000.0,746841600000.0,749433600000.0,752112000000.0,754704000000.0,757382400000.0,760060800000.0,762480000000.0,765158400000.0,767750400000.0,770428800000.0,773020800000.0,775699200000.0,778377600000.0,780969600000.0,783648000000.0,786240000000.0,788918400000.0,791596800000.0,794016000000.0,796694400000.0,799286400000.0,801964800000.0,804556800000.0,807235200000.0,809913600000.0,812505600000.0,815184000000.0,817776000000.0,820454400000.0,823132800000.0,825638400000.0,828316800000.0,830908800000.0,833587200000.0,836179200000.0,838857600000.0,841536000000.0,844128000000.0,846806400000.0,849398400000.0,852076800000.0,854755200000.0,857174400000.0,859852800000.0,862444800000.0,865123200000.0,867715200000.0,870393600000.0,873072000000.0,875664000000.0,878342400000.0,880934400000.0,883612800000.0,886291200000.0,888710400000.0,891388800000.0,893980800000.0,896659200000.0,899251200000.0,901929600000.0,904608000000.0,907200000000.0,909878400000.0,912470400000.0,915148800000.0,917827200000.0,920246400000.0,922924800000.0,925516800000.0,928195200000.0,930787200000.0,933465600000.0,936144000000.0,938736000000.0,941414400000.0,944006400000.0,946684800000.0,949363200000.0,951868800000.0,954547200000.0,957139200000.0,959817600000.0,962409600000.0,965088000000.0,967766400000.0,970358400000.0,973036800000.0,975628800000.0,978307200000.0,980985600000.0,983404800000.0,986083200000.0,988675200000.0,991353600000.0,993945600000.0,996624000000.0,999302400000.0,1001894400000.0,1004572800000.0,1007164800000.0,1009843200000.0,1012521600000.0,1014940800000.0,1017619200000.0,1020211200000.0,1022889600000.0,1025481600000.0,1028160000000.0,1030838400000.0,1033430400000.0,1036108800000.0,1038700800000.0,1041379200000.0,1044057600000.0,1046476800000.0,1049155200000.0,1051747200000.0,1054425600000.0,1057017600000.0,1059696000000.0,1062374400000.0,1064966400000.0,1067644800000.0,1070236800000.0,1072915200000.0,1075593600000.0,1078099200000.0,1080777600000.0,1083369600000.0,1086048000000.0,1088640000000.0,1091318400000.0,1093996800000.0,1096588800000.0,1099267200000.0,1101859200000.0,1104537600000.0,1107216000000.0,1109635200000.0,1112313600000.0,1114905600000.0,1117584000000.0,1120176000000.0,1122854400000.0,1125532800000.0,1128124800000.0,1130803200000.0,1133395200000.0,1136073600000.0,1138752000000.0,1141171200000.0,1143849600000.0,1146441600000.0,1149120000000.0,1151712000000.0,1154390400000.0,1157068800000.0,1159660800000.0,1162339200000.0,1164931200000.0,1167609600000.0,1170288000000.0,1172707200000.0,1175385600000.0,1177977600000.0,1180656000000.0,1183248000000.0,1185926400000.0,1188604800000.0,1191196800000.0,1193875200000.0,1196467200000.0,1199145600000.0,1201824000000.0,1204329600000.0,1207008000000.0,1209600000000.0,1212278400000.0,1214870400000.0,1217548800000.0,1220227200000.0,1222819200000.0,1225497600000.0,1228089600000.0,1230768000000.0,1233446400000.0,1235865600000.0,1238544000000.0,1241136000000.0,1243814400000.0,1246406400000.0,1249084800000.0,1251763200000.0,1254355200000.0,1257033600000.0,1259625600000.0,1262304000000.0,1264982400000.0,1267401600000.0,1270080000000.0,1272672000000.0,1275350400000.0,1277942400000.0,1280620800000.0,1283299200000.0,1285891200000.0,1288569600000.0,1291161600000.0,1293840000000.0,1296518400000.0,1298937600000.0,1301616000000.0,1304208000000.0,1306886400000.0,1309478400000.0,1312156800000.0,1314835200000.0,1317427200000.0,1320105600000.0,1322697600000.0,1325376000000.0,1328054400000.0,1330560000000.0,1333238400000.0,1335830400000.0,1338508800000.0,1341100800000.0,1343779200000.0,1346457600000.0,1349049600000.0,1351728000000.0,1354320000000.0,1356998400000.0,1359676800000.0,1362096000000.0,1364774400000.0,1367366400000.0,1370044800000.0,1372636800000.0,1375315200000.0,1377993600000.0,1380585600000.0,1383264000000.0,1385856000000.0,1388534400000.0,1391212800000.0,1393632000000.0,1396310400000.0,1398902400000.0,1401580800000.0,1404172800000.0,1406851200000.0,1409529600000.0,1412121600000.0,1414800000000.0,1417392000000.0,1420070400000.0,1422748800000.0,1425168000000.0,1427846400000.0,1430438400000.0,1433116800000.0,1435708800000.0,1438387200000.0,1441065600000.0,1443657600000.0,1446336000000.0,1448928000000.0,1451606400000.0,1454284800000.0,1456790400000.0,1459468800000.0,1462060800000.0,1464739200000.0,1467331200000.0,1470009600000.0],\"y_values\":[100.0,100.47,100.73,100.75,100.91,101.4,101.34,101.29,101.42,101.62,102.16,102.19,102.29,102.98,103.08,102.99,103.17,103.53,103.78,104.37,104.62,104.8,105.07,104.65,104.41,104.08,104.7,105.58,105.93,106.71,106.73,107.18,107.41,107.55,107.72,107.91,107.86,108.02,108.74,109.32,109.86,110.48,110.58,110.94,110.8,110.87,111.01,110.67,110.76,111.16,111.45,111.92,112.29,113.11,113.6,113.95,113.86,113.78,113.81,113.95,114.06,114.23,115.0,115.6,116.23,116.72,117.14,117.11,117.12,116.97,117.09,117.1,116.93,117.23,118.18,118.69,119.5,119.97,120.26,120.66,120.42,120.86,120.99,121.07,121.19,122.07,122.95,123.85,124.78,125.96,126.22,126.73,127.19,127.46,127.99,128.21,128.73,129.22,130.26,131.26,132.51,133.55,134.21,134.95,135.03,135.65,135.81,136.06,137.43,137.22,138.8,140.08,141.23,142.65,143.36,143.79,144.43,144.96,145.4,145.8,146.47,147.43,148.79,150.0,151.23,152.48,153.33,153.93,154.5,155.08,155.05,155.58,156.14,157.03,158.6,159.92,161.62,163.17,164.25,165.17,165.94,166.68,167.06,167.71,168.3,169.38,170.61,172.16,173.84,175.23,176.56,177.72,178.9,179.44,180.2,181.09,181.78,183.27,185.23,187.37,190.04,192.6,194.21,195.45,196.59,197.43,198.61,199.56,200.29,201.99,204.88,207.44,210.18,212.63,214.62,216.15,217.57,218.12,218.67,219.14,219.75,220.69,222.4,223.85,225.6,226.29,226.18,226.58,225.88,225.53,225.27,224.48,224.3,224.89,226.81,227.89,228.23,228.21,226.87,225.7,223.96,221.69,219.37,217.2,214.14,213.72,212.38,211.39,210.49,210.01,207.88,205.62,203.07,200.69,196.39,194.77,195.68,196.52,194.63,195.03,196.13,196.93,196.18,195.41,194.42,194.51,194.17,190.78,189.91,189.47,190.04,191.78,193.64,192.49,191.11,190.3,187.71,187.48,186.14,183.42,181.48,179.8,178.91,180.92,182.27,183.96,184.39,183.12,183.29,181.72,181.91,181.15,179.31,179.95,182.71,185.47,188.52,190.43,190.65,190.84,190.71,191.05,191.27,190.93,190.8,192.33,195.93,198.66,202.27,204.83,206.05,205.96,205.62,205.79,205.09,204.86,204.36,205.49,208.14,210.39,213.01,215.14,216.01,215.86,214.98,215.35,215.54,215.93,214.56,216.59,219.17,222.12,225.31,227.36,228.44,227.87,228.19,228.31,228.76,228.62,227.64,229.28,233.36,235.68,238.54,240.67,241.87,242.48]}},\"id\":\"40700e80-3ca2-47b1-8949-d5867af55218\",\"type\":\"ColumnDataSource\"},{\"attributes\":{\"below\":[{\"id\":\"d9f6c54f-583e-4e6d-bbc3-9d8e0c98cac2\",\"type\":\"DatetimeAxis\"}],\"left\":[{\"id\":\"1b1cf192-6eb2-449c-b306-c53e157e455c\",\"type\":\"LinearAxis\"}],\"renderers\":[{\"id\":\"50189835-9692-41f3-a6c2-cd7eb1eecab3\",\"type\":\"BoxAnnotation\"},{\"id\":\"1d9204fe-b2e2-4ca0-9043-479f1384e305\",\"type\":\"GlyphRenderer\"},{\"id\":\"4fa64f32-0d5a-479c-9a7b-1348edab4559\",\"type\":\"Legend\"},{\"id\":\"d9f6c54f-583e-4e6d-bbc3-9d8e0c98cac2\",\"type\":\"DatetimeAxis\"},{\"id\":\"1b1cf192-6eb2-449c-b306-c53e157e455c\",\"type\":\"LinearAxis\"},{\"id\":\"4528d788-b85e-4bf2-be58-082c65460f7a\",\"type\":\"Grid\"},{\"id\":\"c14df422-7bc5-4b05-8ff4-ef0ed76dae87\",\"type\":\"Grid\"}],\"title\":{\"id\":\"dfbe27b4-fb02-42b1-bc46-4b3abed05317\",\"type\":\"Title\"},\"tool_events\":{\"id\":\"b408a27f-7ea9-479f-a85e-e38fc865244b\",\"type\":\"ToolEvents\"},\"toolbar\":{\"id\":\"335a14fc-0454-491f-b9e0-c38f426ec119\",\"type\":\"Toolbar\"},\"x_mapper_type\":\"auto\",\"x_range\":{\"id\":\"a625e5b0-6924-4c91-bffe-2741e39aedf4\",\"type\":\"Range1d\"},\"y_mapper_type\":\"auto\",\"y_range\":{\"id\":\"fb49ea40-2bd1-4073-a6d5-252624e6988f\",\"type\":\"Range1d\"}},\"id\":\"0ab435f9-b6d0-4bd2-a6ff-bb3a992e7193\",\"subtype\":\"Chart\",\"type\":\"Plot\"},{\"attributes\":{\"days\":[1,2,3,4,5,6,7,8,9,10,11,12,13,14,15,16,17,18,19,20,21,22,23,24,25,26,27,28,29,30,31]},\"id\":\"81cff7de-cbb3-475a-91e0-792f9b619cd7\",\"type\":\"DaysTicker\"},{\"attributes\":{\"days\":[1,15]},\"id\":\"1f2b0ec3-d317-46e3-aee1-e13de931f838\",\"type\":\"DaysTicker\"},{\"attributes\":{\"plot\":{\"id\":\"0ab435f9-b6d0-4bd2-a6ff-bb3a992e7193\",\"subtype\":\"Chart\",\"type\":\"Plot\"}},\"id\":\"53464b9b-69a7-4df1-90c6-9febfb2d5d13\",\"type\":\"WheelZoomTool\"},{\"attributes\":{\"legends\":[[\"United States\",[{\"id\":\"1d9204fe-b2e2-4ca0-9043-479f1384e305\",\"type\":\"GlyphRenderer\"}]]],\"location\":\"top_left\",\"plot\":{\"id\":\"0ab435f9-b6d0-4bd2-a6ff-bb3a992e7193\",\"subtype\":\"Chart\",\"type\":\"Plot\"}},\"id\":\"4fa64f32-0d5a-479c-9a7b-1348edab4559\",\"type\":\"Legend\"},{\"attributes\":{\"max_interval\":500.0,\"num_minor_ticks\":0},\"id\":\"7bbb4b23-3491-43ed-985e-1dfa40b50164\",\"type\":\"AdaptiveTicker\"},{\"attributes\":{\"months\":[0,6]},\"id\":\"8f7dd9c3-7a57-49d1-814e-101a5fb715bd\",\"type\":\"MonthsTicker\"},{\"attributes\":{\"days\":[1,4,7,10,13,16,19,22,25,28]},\"id\":\"55059de5-0d1c-4603-9bbd-e7c96646d11b\",\"type\":\"DaysTicker\"},{\"attributes\":{\"plot\":{\"id\":\"0ab435f9-b6d0-4bd2-a6ff-bb3a992e7193\",\"subtype\":\"Chart\",\"type\":\"Plot\"}},\"id\":\"bf56c780-a844-4d53-b1a3-da7c5d89e59c\",\"type\":\"SaveTool\"},{\"attributes\":{\"dimension\":1,\"plot\":{\"id\":\"0ab435f9-b6d0-4bd2-a6ff-bb3a992e7193\",\"subtype\":\"Chart\",\"type\":\"Plot\"},\"ticker\":{\"id\":\"197a25e9-df7c-4f6d-a903-7d7ae6c0dc6a\",\"type\":\"BasicTicker\"}},\"id\":\"c14df422-7bc5-4b05-8ff4-ef0ed76dae87\",\"type\":\"Grid\"},{\"attributes\":{\"callback\":null,\"end\":1470009600000.0,\"start\":662688000000.0},\"id\":\"a625e5b0-6924-4c91-bffe-2741e39aedf4\",\"type\":\"Range1d\"},{\"attributes\":{\"plot\":{\"id\":\"0ab435f9-b6d0-4bd2-a6ff-bb3a992e7193\",\"subtype\":\"Chart\",\"type\":\"Plot\"}},\"id\":\"735fb1ce-9735-4f9d-998a-3a94bb393e8b\",\"type\":\"ResetTool\"},{\"attributes\":{\"bottom_units\":\"screen\",\"fill_alpha\":{\"value\":0.5},\"fill_color\":{\"value\":\"lightgrey\"},\"left_units\":\"screen\",\"level\":\"overlay\",\"line_alpha\":{\"value\":1.0},\"line_color\":{\"value\":\"black\"},\"line_dash\":[4,4],\"line_width\":{\"value\":2},\"plot\":null,\"render_mode\":\"css\",\"right_units\":\"screen\",\"top_units\":\"screen\"},\"id\":\"50189835-9692-41f3-a6c2-cd7eb1eecab3\",\"type\":\"BoxAnnotation\"},{\"attributes\":{},\"id\":\"3b704a49-0922-4ec9-8139-8ce72f4710fe\",\"type\":\"DatetimeTickFormatter\"},{\"attributes\":{\"base\":24,\"mantissas\":[1,2,4,6,8,12],\"max_interval\":43200000.0,\"min_interval\":3600000.0,\"num_minor_ticks\":0},\"id\":\"6d6dd898-ebae-40e4-a038-bb6ce08ba87a\",\"type\":\"AdaptiveTicker\"},{\"attributes\":{\"overlay\":{\"id\":\"50189835-9692-41f3-a6c2-cd7eb1eecab3\",\"type\":\"BoxAnnotation\"},\"plot\":{\"id\":\"0ab435f9-b6d0-4bd2-a6ff-bb3a992e7193\",\"subtype\":\"Chart\",\"type\":\"Plot\"}},\"id\":\"4f215c65-f85d-4bf2-b4e1-2b08afa2bc08\",\"type\":\"BoxZoomTool\"},{\"attributes\":{},\"id\":\"03804551-95e0-412f-bcc8-62ca8c85da8c\",\"type\":\"BasicTickFormatter\"},{\"attributes\":{\"line_color\":{\"value\":\"#5ab738\"},\"line_width\":{\"value\":2},\"x\":{\"field\":\"x_values\"},\"y\":{\"field\":\"y_values\"}},\"id\":\"25a8da50-684d-49a9-9b0e-613f943c34bf\",\"type\":\"Line\"},{\"attributes\":{\"active_drag\":\"auto\",\"active_scroll\":\"auto\",\"active_tap\":\"auto\",\"tools\":[{\"id\":\"0a7eba4b-fc88-4831-92cb-b92ec94b747c\",\"type\":\"PanTool\"},{\"id\":\"53464b9b-69a7-4df1-90c6-9febfb2d5d13\",\"type\":\"WheelZoomTool\"},{\"id\":\"4f215c65-f85d-4bf2-b4e1-2b08afa2bc08\",\"type\":\"BoxZoomTool\"},{\"id\":\"bf56c780-a844-4d53-b1a3-da7c5d89e59c\",\"type\":\"SaveTool\"},{\"id\":\"735fb1ce-9735-4f9d-998a-3a94bb393e8b\",\"type\":\"ResetTool\"},{\"id\":\"055debac-b439-4489-84dc-39f4c7aa376e\",\"type\":\"HelpTool\"}]},\"id\":\"335a14fc-0454-491f-b9e0-c38f426ec119\",\"type\":\"Toolbar\"},{\"attributes\":{\"axis_label\":\"index_nsa\",\"formatter\":{\"id\":\"03804551-95e0-412f-bcc8-62ca8c85da8c\",\"type\":\"BasicTickFormatter\"},\"plot\":{\"id\":\"0ab435f9-b6d0-4bd2-a6ff-bb3a992e7193\",\"subtype\":\"Chart\",\"type\":\"Plot\"},\"ticker\":{\"id\":\"197a25e9-df7c-4f6d-a903-7d7ae6c0dc6a\",\"type\":\"BasicTicker\"}},\"id\":\"1b1cf192-6eb2-449c-b306-c53e157e455c\",\"type\":\"LinearAxis\"},{\"attributes\":{\"months\":[0,2,4,6,8,10]},\"id\":\"f1ce1a9c-5721-48f1-88c3-f26f828855b2\",\"type\":\"MonthsTicker\"},{\"attributes\":{\"months\":[0,1,2,3,4,5,6,7,8,9,10,11]},\"id\":\"cccec669-0d0b-47f4-b2c8-ad8c255ed0a8\",\"type\":\"MonthsTicker\"},{\"attributes\":{\"plot\":{\"id\":\"0ab435f9-b6d0-4bd2-a6ff-bb3a992e7193\",\"subtype\":\"Chart\",\"type\":\"Plot\"}},\"id\":\"0a7eba4b-fc88-4831-92cb-b92ec94b747c\",\"type\":\"PanTool\"},{\"attributes\":{},\"id\":\"b408a27f-7ea9-479f-a85e-e38fc865244b\",\"type\":\"ToolEvents\"},{\"attributes\":{\"plot\":{\"id\":\"0ab435f9-b6d0-4bd2-a6ff-bb3a992e7193\",\"subtype\":\"Chart\",\"type\":\"Plot\"}},\"id\":\"055debac-b439-4489-84dc-39f4c7aa376e\",\"type\":\"HelpTool\"},{\"attributes\":{\"plot\":{\"id\":\"0ab435f9-b6d0-4bd2-a6ff-bb3a992e7193\",\"subtype\":\"Chart\",\"type\":\"Plot\"},\"ticker\":{\"id\":\"247c17fa-3a96-4cc1-a0ae-fc731a6c5402\",\"type\":\"DatetimeTicker\"}},\"id\":\"4528d788-b85e-4bf2-be58-082c65460f7a\",\"type\":\"Grid\"},{\"attributes\":{\"callback\":null,\"end\":256.728,\"start\":85.752},\"id\":\"fb49ea40-2bd1-4073-a6d5-252624e6988f\",\"type\":\"Range1d\"},{\"attributes\":{\"base\":60,\"mantissas\":[1,2,5,10,15,20,30],\"max_interval\":1800000.0,\"min_interval\":1000.0,\"num_minor_ticks\":0},\"id\":\"af7b6aa7-78b4-49c4-a25c-0048f3a0f5a2\",\"type\":\"AdaptiveTicker\"},{\"attributes\":{\"plot\":null,\"text\":\"Monthly Home Price in West South Central and Pacific Division compared to U.S.\"},\"id\":\"dfbe27b4-fb02-42b1-bc46-4b3abed05317\",\"type\":\"Title\"},{\"attributes\":{\"months\":[0,4,8]},\"id\":\"5102b09a-9814-48ca-8d13-8ce24e698632\",\"type\":\"MonthsTicker\"},{\"attributes\":{},\"id\":\"197a25e9-df7c-4f6d-a903-7d7ae6c0dc6a\",\"type\":\"BasicTicker\"},{\"attributes\":{\"axis_label\":\"date_idx\",\"formatter\":{\"id\":\"3b704a49-0922-4ec9-8139-8ce72f4710fe\",\"type\":\"DatetimeTickFormatter\"},\"plot\":{\"id\":\"0ab435f9-b6d0-4bd2-a6ff-bb3a992e7193\",\"subtype\":\"Chart\",\"type\":\"Plot\"},\"ticker\":{\"id\":\"247c17fa-3a96-4cc1-a0ae-fc731a6c5402\",\"type\":\"DatetimeTicker\"}},\"id\":\"d9f6c54f-583e-4e6d-bbc3-9d8e0c98cac2\",\"type\":\"DatetimeAxis\"},{\"attributes\":{},\"id\":\"247c17fa-3a96-4cc1-a0ae-fc731a6c5402\",\"type\":\"DatetimeTicker\"},{\"attributes\":{\"data_source\":{\"id\":\"40700e80-3ca2-47b1-8949-d5867af55218\",\"type\":\"ColumnDataSource\"},\"glyph\":{\"id\":\"25a8da50-684d-49a9-9b0e-613f943c34bf\",\"type\":\"Line\"},\"hover_glyph\":null,\"nonselection_glyph\":null,\"selection_glyph\":null},\"id\":\"1d9204fe-b2e2-4ca0-9043-479f1384e305\",\"type\":\"GlyphRenderer\"}],\"root_ids\":[\"0ab435f9-b6d0-4bd2-a6ff-bb3a992e7193\"]},\"title\":\"Bokeh Application\",\"version\":\"0.12.2\"}};\n",
       "            var render_items = [{\"docid\":\"33c70736-cafa-481d-9009-a7ac618547d7\",\"elementid\":\"6f019dd7-f48d-4301-97e9-b85e6b5c27f3\",\"modelid\":\"0ab435f9-b6d0-4bd2-a6ff-bb3a992e7193\"}];\n",
       "            \n",
       "            Bokeh.embed.embed_items(docs_json, render_items);\n",
       "        });\n",
       "      },\n",
       "      function(Bokeh) {\n",
       "      }\n",
       "    ];\n",
       "  \n",
       "    function run_inline_js() {\n",
       "      \n",
       "      if ((window.Bokeh !== undefined) || (force === \"1\")) {\n",
       "        for (var i = 0; i < inline_js.length; i++) {\n",
       "          inline_js[i](window.Bokeh);\n",
       "        }if (force === \"1\") {\n",
       "          display_loaded();\n",
       "        }} else if (Date.now() < window._bokeh_timeout) {\n",
       "        setTimeout(run_inline_js, 100);\n",
       "      } else if (!window._bokeh_failed_load) {\n",
       "        console.log(\"Bokeh: BokehJS failed to load within specified timeout.\");\n",
       "        window._bokeh_failed_load = true;\n",
       "      } else if (!force) {\n",
       "        var cell = $(\"#6f019dd7-f48d-4301-97e9-b85e6b5c27f3\").parents('.cell').data().cell;\n",
       "        cell.output_area.append_execute_result(NB_LOAD_WARNING)\n",
       "      }\n",
       "  \n",
       "    }\n",
       "  \n",
       "    if (window._bokeh_is_loading === 0) {\n",
       "      console.log(\"Bokeh: BokehJS loaded, going straight to plotting\");\n",
       "      run_inline_js();\n",
       "    } else {\n",
       "      load_libs(js_urls, function() {\n",
       "        console.log(\"Bokeh: BokehJS plotting callback run at\", now());\n",
       "        run_inline_js();\n",
       "      });\n",
       "    }\n",
       "  }(this));\n",
       "</script>"
      ]
     },
     "metadata": {},
     "output_type": "display_data"
    }
   ],
   "source": [
    "p = bokeh.charts.Line(df_us_3, x='date_idx', y='index_nsa', color='place_name', \n",
    "                      title=\"Monthly Home Price in West South Central and Pacific Division compared to U.S.\",\n",
    "                      legend=\"top_left\")\n",
    "\n",
    "bokeh.io.show(p)"
   ]
  },
  {
   "cell_type": "markdown",
   "metadata": {},
   "source": [
    "During the Great Recession of 2008-2010, home prices across the U.S. declined dramatically.  Home prices in the Pacific region, which includes California, grew significantly more than the U.S. as a whole.  Aggregate U.S. home prices have regained all of their price losses since then and the Pacific and West South Central regions are not too far behind. "
   ]
  },
  {
   "cell_type": "markdown",
   "metadata": {},
   "source": [
    "#### Part 2 of .csv File to Construct the 'df_states' DataFrame"
   ]
  },
  {
   "cell_type": "markdown",
   "metadata": {},
   "source": [
    "To continue this analysis, we need to read the remainder of the .csv containing state-level data.  In this instance, we use to 'skiprows=' argument to begin reading at row 3082.  We use a list to specify the columns labels. "
   ]
  },
  {
   "cell_type": "markdown",
   "metadata": {},
   "source": [
    "Beginning with row 3082 the values for the field 'index_sa' are missing.  We read starting at row 3082 until end of file.  And since the default is to key off the column names, we supply the column mappings by supplying a<a href= \"http://nbviewer.jupyter.org/github/RandyBetancourt/PythonForSASUsers/blob/master/Chapter%2002%20--%20Data%20Structures.ipynb#tuple\"> tuple</a> of names.  The usecols= argument uses a tuple of integers to indicate which fields are to be read from the .csv file.  Header=None is to prevent the reader from building column names at row position nrows-1, which in our case contains data values."
   ]
  },
  {
   "cell_type": "markdown",
   "metadata": {},
   "source": [
    "  "
   ]
  },
  {
   "cell_type": "code",
   "execution_count": 161,
   "metadata": {
    "collapsed": false
   },
   "outputs": [],
   "source": [
    "df_states = pd.read_csv(\"C:\\Data\\\\HPI_master.csv\",\n",
    "            parse_dates={'date_idx': [6,7]},\n",
    "            skiprows=3082,\n",
    "            usecols=(0, 1, 2, 3, 4, 5, 6, 7, 8),\n",
    "            names=('hpi_type', 'hpi_flavor', 'frequency', 'level', 'place_name', 'place_id', 'yr', 'period', 'index_nsa'),\n",
    "            header=None)"
   ]
  },
  {
   "cell_type": "markdown",
   "metadata": {},
   "source": [
    "  "
   ]
  },
  {
   "cell_type": "markdown",
   "metadata": {},
   "source": [
    "Validate the read."
   ]
  },
  {
   "cell_type": "code",
   "execution_count": 157,
   "metadata": {
    "collapsed": false
   },
   "outputs": [
    {
     "data": {
      "text/plain": [
       "(96244, 8)"
      ]
     },
     "execution_count": 157,
     "metadata": {},
     "output_type": "execute_result"
    }
   ],
   "source": [
    "df_states.shape"
   ]
  },
  {
   "cell_type": "markdown",
   "metadata": {},
   "source": [
    " "
   ]
  },
  {
   "cell_type": "markdown",
   "metadata": {},
   "source": [
    " "
   ]
  },
  {
   "cell_type": "markdown",
   "metadata": {},
   "source": [
    "The following SAS Data Step reads the same .csv file using FIRSTOBS= to begin reading from the arbitary row position 3082."
   ]
  },
  {
   "cell_type": "markdown",
   "metadata": {},
   "source": [
    "````\n",
    "    data df_states;\n",
    "          infile 'C:\\Data\\HPI_master.csv' delimiter=',' missover dsd firstobs=3082; \n",
    "          informat hpi_type $12.\n",
    "                   hpi_flavor $16.\n",
    "                   frequency $9.\n",
    "                   level $28.\n",
    "                   place_name $33.\n",
    "                   place_id $8.\n",
    "                   yr $5.\n",
    "                   period $6.\n",
    "                   index_nsa 8.;\n",
    "             input hpi_type $\n",
    "                   hpi_flavor $\n",
    "                   frequency $\n",
    "                   level $\n",
    "                   place_name $\n",
    "                   place_id $\n",
    "                   yr $\n",
    "                   period $\n",
    "                   index_nsa ;\n",
    "````"
   ]
  },
  {
   "cell_type": "markdown",
   "metadata": {},
   "source": [
    "  "
   ]
  },
  {
   "cell_type": "markdown",
   "metadata": {},
   "source": [
    "Inspect the first 5 rows."
   ]
  },
  {
   "cell_type": "code",
   "execution_count": 80,
   "metadata": {
    "collapsed": false
   },
   "outputs": [
    {
     "data": {
      "text/html": [
       "<div>\n",
       "<table border=\"1\" class=\"dataframe\">\n",
       "  <thead>\n",
       "    <tr style=\"text-align: right;\">\n",
       "      <th></th>\n",
       "      <th>date_idx</th>\n",
       "      <th>hpi_type</th>\n",
       "      <th>hpi_flavor</th>\n",
       "      <th>frequency</th>\n",
       "      <th>level</th>\n",
       "      <th>place_name</th>\n",
       "      <th>place_id</th>\n",
       "      <th>index_nsa</th>\n",
       "    </tr>\n",
       "  </thead>\n",
       "  <tbody>\n",
       "    <tr>\n",
       "      <th>0</th>\n",
       "      <td>1986-04-01</td>\n",
       "      <td>traditional</td>\n",
       "      <td>all-transactions</td>\n",
       "      <td>quarterly</td>\n",
       "      <td>MSA</td>\n",
       "      <td>Abilene, TX</td>\n",
       "      <td>10180</td>\n",
       "      <td>94.95</td>\n",
       "    </tr>\n",
       "    <tr>\n",
       "      <th>1</th>\n",
       "      <td>1987-01-01</td>\n",
       "      <td>traditional</td>\n",
       "      <td>all-transactions</td>\n",
       "      <td>quarterly</td>\n",
       "      <td>MSA</td>\n",
       "      <td>Abilene, TX</td>\n",
       "      <td>10180</td>\n",
       "      <td>100.91</td>\n",
       "    </tr>\n",
       "    <tr>\n",
       "      <th>2</th>\n",
       "      <td>1987-02-01</td>\n",
       "      <td>traditional</td>\n",
       "      <td>all-transactions</td>\n",
       "      <td>quarterly</td>\n",
       "      <td>MSA</td>\n",
       "      <td>Abilene, TX</td>\n",
       "      <td>10180</td>\n",
       "      <td>100.76</td>\n",
       "    </tr>\n",
       "    <tr>\n",
       "      <th>3</th>\n",
       "      <td>1987-03-01</td>\n",
       "      <td>traditional</td>\n",
       "      <td>all-transactions</td>\n",
       "      <td>quarterly</td>\n",
       "      <td>MSA</td>\n",
       "      <td>Abilene, TX</td>\n",
       "      <td>10180</td>\n",
       "      <td>94.02</td>\n",
       "    </tr>\n",
       "    <tr>\n",
       "      <th>4</th>\n",
       "      <td>1987-04-01</td>\n",
       "      <td>traditional</td>\n",
       "      <td>all-transactions</td>\n",
       "      <td>quarterly</td>\n",
       "      <td>MSA</td>\n",
       "      <td>Abilene, TX</td>\n",
       "      <td>10180</td>\n",
       "      <td>91.43</td>\n",
       "    </tr>\n",
       "  </tbody>\n",
       "</table>\n",
       "</div>"
      ],
      "text/plain": [
       "    date_idx     hpi_type        hpi_flavor  frequency level   place_name  \\\n",
       "0 1986-04-01  traditional  all-transactions  quarterly   MSA  Abilene, TX   \n",
       "1 1987-01-01  traditional  all-transactions  quarterly   MSA  Abilene, TX   \n",
       "2 1987-02-01  traditional  all-transactions  quarterly   MSA  Abilene, TX   \n",
       "3 1987-03-01  traditional  all-transactions  quarterly   MSA  Abilene, TX   \n",
       "4 1987-04-01  traditional  all-transactions  quarterly   MSA  Abilene, TX   \n",
       "\n",
       "  place_id  index_nsa  \n",
       "0    10180      94.95  \n",
       "1    10180     100.91  \n",
       "2    10180     100.76  \n",
       "3    10180      94.02  \n",
       "4    10180      91.43  "
      ]
     },
     "execution_count": 80,
     "metadata": {},
     "output_type": "execute_result"
    }
   ],
   "source": [
    "df_states.head()"
   ]
  },
  {
   "cell_type": "markdown",
   "metadata": {},
   "source": [
    " "
   ]
  },
  {
   "cell_type": "markdown",
   "metadata": {},
   "source": [
    "Display the first 5 rows of the SAS data set df_states.  In the SAS code example below the 'yr' and 'period' variables are combined to create the SAS datetime variable 'date_idx'."
   ]
  },
  {
   "cell_type": "code",
   "execution_count": 81,
   "metadata": {
    "collapsed": false
   },
   "outputs": [
    {
     "data": {
      "image/jpeg": "[encoded data removed]",
      "text/plain": [
       "<IPython.core.display.Image object>"
      ]
     },
     "execution_count": 81,
     "metadata": {},
     "output_type": "execute_result"
    }
   ],
   "source": [
    "Image(filename='Anaconda3\\\\output\\\\df_states_output.JPG')  "
   ]
  },
  {
   "cell_type": "markdown",
   "metadata": {},
   "source": [
    "Inspect values for the categorical columns."
   ]
  },
  {
   "cell_type": "code",
   "execution_count": 90,
   "metadata": {
    "collapsed": false
   },
   "outputs": [
    {
     "data": {
      "text/html": [
       "<div>\n",
       "<table border=\"1\" class=\"dataframe\">\n",
       "  <thead>\n",
       "    <tr style=\"text-align: right;\">\n",
       "      <th></th>\n",
       "      <th>hpi_type</th>\n",
       "      <th>hpi_flavor</th>\n",
       "      <th>frequency</th>\n",
       "      <th>level</th>\n",
       "      <th>place_name</th>\n",
       "      <th>place_id</th>\n",
       "    </tr>\n",
       "  </thead>\n",
       "  <tbody>\n",
       "    <tr>\n",
       "      <th>count</th>\n",
       "      <td>96244</td>\n",
       "      <td>96244</td>\n",
       "      <td>96244</td>\n",
       "      <td>96244</td>\n",
       "      <td>96244</td>\n",
       "      <td>96244</td>\n",
       "    </tr>\n",
       "    <tr>\n",
       "      <th>unique</th>\n",
       "      <td>4</td>\n",
       "      <td>3</td>\n",
       "      <td>1</td>\n",
       "      <td>4</td>\n",
       "      <td>464</td>\n",
       "      <td>464</td>\n",
       "    </tr>\n",
       "    <tr>\n",
       "      <th>top</th>\n",
       "      <td>traditional</td>\n",
       "      <td>all-transactions</td>\n",
       "      <td>quarterly</td>\n",
       "      <td>MSA</td>\n",
       "      <td>Los Angeles-Long Beach-Glendale, CA (MSAD)</td>\n",
       "      <td>31084</td>\n",
       "    </tr>\n",
       "    <tr>\n",
       "      <th>freq</th>\n",
       "      <td>90806</td>\n",
       "      <td>67190</td>\n",
       "      <td>96244</td>\n",
       "      <td>69460</td>\n",
       "      <td>472</td>\n",
       "      <td>472</td>\n",
       "    </tr>\n",
       "  </tbody>\n",
       "</table>\n",
       "</div>"
      ],
      "text/plain": [
       "           hpi_type        hpi_flavor  frequency  level  \\\n",
       "count         96244             96244      96244  96244   \n",
       "unique            4                 3          1      4   \n",
       "top     traditional  all-transactions  quarterly    MSA   \n",
       "freq          90806             67190      96244  69460   \n",
       "\n",
       "                                        place_name place_id  \n",
       "count                                        96244    96244  \n",
       "unique                                         464      464  \n",
       "top     Los Angeles-Long Beach-Glendale, CA (MSAD)    31084  \n",
       "freq                                           472      472  "
      ]
     },
     "execution_count": 90,
     "metadata": {},
     "output_type": "execute_result"
    }
   ],
   "source": [
    "df_states.describe(include=['O'])"
   ]
  },
  {
   "cell_type": "markdown",
   "metadata": {},
   "source": [
    "  "
   ]
  },
  {
   "cell_type": "markdown",
   "metadata": {},
   "source": [
    "Get unique values for column 'level'"
   ]
  },
  {
   "cell_type": "code",
   "execution_count": 82,
   "metadata": {
    "collapsed": false
   },
   "outputs": [
    {
     "data": {
      "text/plain": [
       "array(['MSA', 'State', 'USA or Census Division', 'Puerto Rico'], dtype=object)"
      ]
     },
     "execution_count": 82,
     "metadata": {},
     "output_type": "execute_result"
    }
   ],
   "source": [
    "df_states.level.unique()"
   ]
  },
  {
   "cell_type": "markdown",
   "metadata": {},
   "source": [
    "  "
   ]
  },
  {
   "cell_type": "markdown",
   "metadata": {},
   "source": [
    "PROC SQL used to obtain unique values from the variable 'level'."
   ]
  },
  {
   "cell_type": "markdown",
   "metadata": {},
   "source": [
    "````\n",
    "    56       proc sql;\n",
    "    57          select unique level\n",
    "    58          from df_states;\n",
    "    59       quit;\n",
    "````"
   ]
  },
  {
   "cell_type": "code",
   "execution_count": 83,
   "metadata": {
    "collapsed": false
   },
   "outputs": [
    {
     "data": {
      "image/jpeg": "[encoded data removed]",
      "text/plain": [
       "<IPython.core.display.Image object>"
      ]
     },
     "execution_count": 83,
     "metadata": {},
     "output_type": "execute_result"
    }
   ],
   "source": [
    "Image(filename='Anaconda3\\\\output\\\\level_unique_values.JPG')  "
   ]
  },
  {
   "cell_type": "markdown",
   "metadata": {},
   "source": [
    "  "
   ]
  },
  {
   "cell_type": "markdown",
   "metadata": {},
   "source": [
    "If we had a long list of columns needing to determine unique values the approach above becomes tedious, so an iterative approach is called for using a for loop shown below."
   ]
  },
  {
   "cell_type": "markdown",
   "metadata": {},
   "source": [
    "Start by creating a <a href=\"http://nbviewer.jupyter.org/github/RandyBetancourt/PythonForSASUsers/blob/master/Chapter%2002%20--%20Data%20Structures.ipynb#list\">list</a> called 'lvls' using the .select_dtypes() attribute to include those columns with dtype value 'O' selecting columns with string values."
   ]
  },
  {
   "cell_type": "code",
   "execution_count": 150,
   "metadata": {
    "collapsed": true
   },
   "outputs": [],
   "source": [
    "lvls = list(df_states.select_dtypes(include=['O']).columns)"
   ]
  },
  {
   "cell_type": "markdown",
   "metadata": {},
   "source": [
    "Inspect the list 'lvls'."
   ]
  },
  {
   "cell_type": "code",
   "execution_count": 93,
   "metadata": {
    "collapsed": false
   },
   "outputs": [
    {
     "data": {
      "text/plain": [
       "['hpi_type', 'hpi_flavor', 'frequency', 'level', 'place_name', 'place_id']"
      ]
     },
     "execution_count": 93,
     "metadata": {},
     "output_type": "execute_result"
    }
   ],
   "source": [
    "lvls "
   ]
  },
  {
   "cell_type": "markdown",
   "metadata": {},
   "source": [
    "Use a for loop to get the first 4 items from the 'lvls' list.  The last 2 items have 464 unique levels so use a different approach to process them."
   ]
  },
  {
   "cell_type": "markdown",
   "metadata": {},
   "source": [
    " "
   ]
  },
  {
   "cell_type": "code",
   "execution_count": 94,
   "metadata": {
    "collapsed": false
   },
   "outputs": [
    {
     "name": "stdout",
     "output_type": "stream",
     "text": [
      "hpi_type levels are: ['traditional' 'non-metro' 'distress-free' 'developmental']\n",
      "hpi_flavor levels are: ['all-transactions' 'expanded-data' 'purchase-only']\n",
      "frequency levels are: ['quarterly']\n",
      "level levels are: ['MSA' 'State' 'USA or Census Division' 'Puerto Rico']\n"
     ]
    }
   ],
   "source": [
    "for item in lvls[:4]:\n",
    "   print(item, 'levels are:', df_states[item].unique())    "
   ]
  },
  {
   "cell_type": "markdown",
   "metadata": {},
   "source": [
    " "
   ]
  },
  {
   "cell_type": "markdown",
   "metadata": {},
   "source": [
    "Using the levels for the categorial columns displayed above, filter the 'df_state' DataFrame to match the 'df_us' Dataframe."
   ]
  },
  {
   "cell_type": "code",
   "execution_count": 163,
   "metadata": {
    "collapsed": true
   },
   "outputs": [],
   "source": [
    "mask = (df_states['date_idx'] >= '2016-01-01') & (df_states['date_idx'] <= '2016-12-31')"
   ]
  },
  {
   "cell_type": "code",
   "execution_count": 165,
   "metadata": {
    "collapsed": false
   },
   "outputs": [],
   "source": [
    "mask = (df_states['hpi_type'] == 'traditional') & (df_states['hpi_flavor'] == 'purchase-only')"
   ]
  },
  {
   "cell_type": "code",
   "execution_count": 167,
   "metadata": {
    "collapsed": false
   },
   "outputs": [
    {
     "data": {
      "text/html": [
       "<div>\n",
       "<table border=\"1\" class=\"dataframe\">\n",
       "  <thead>\n",
       "    <tr style=\"text-align: right;\">\n",
       "      <th></th>\n",
       "      <th>date_idx</th>\n",
       "      <th>hpi_type</th>\n",
       "      <th>hpi_flavor</th>\n",
       "      <th>frequency</th>\n",
       "      <th>level</th>\n",
       "      <th>place_name</th>\n",
       "      <th>place_id</th>\n",
       "      <th>index_nsa</th>\n",
       "    </tr>\n",
       "  </thead>\n",
       "  <tbody>\n",
       "    <tr>\n",
       "      <th>90801</th>\n",
       "      <td>2015-02-01</td>\n",
       "      <td>traditional</td>\n",
       "      <td>purchase-only</td>\n",
       "      <td>quarterly</td>\n",
       "      <td>USA or Census Division</td>\n",
       "      <td>United States</td>\n",
       "      <td>USA</td>\n",
       "      <td>221.73</td>\n",
       "    </tr>\n",
       "    <tr>\n",
       "      <th>90802</th>\n",
       "      <td>2015-03-01</td>\n",
       "      <td>traditional</td>\n",
       "      <td>purchase-only</td>\n",
       "      <td>quarterly</td>\n",
       "      <td>USA or Census Division</td>\n",
       "      <td>United States</td>\n",
       "      <td>USA</td>\n",
       "      <td>224.54</td>\n",
       "    </tr>\n",
       "    <tr>\n",
       "      <th>90803</th>\n",
       "      <td>2015-04-01</td>\n",
       "      <td>traditional</td>\n",
       "      <td>purchase-only</td>\n",
       "      <td>quarterly</td>\n",
       "      <td>USA or Census Division</td>\n",
       "      <td>United States</td>\n",
       "      <td>USA</td>\n",
       "      <td>224.86</td>\n",
       "    </tr>\n",
       "    <tr>\n",
       "      <th>90804</th>\n",
       "      <td>2016-01-01</td>\n",
       "      <td>traditional</td>\n",
       "      <td>purchase-only</td>\n",
       "      <td>quarterly</td>\n",
       "      <td>USA or Census Division</td>\n",
       "      <td>United States</td>\n",
       "      <td>USA</td>\n",
       "      <td>226.70</td>\n",
       "    </tr>\n",
       "    <tr>\n",
       "      <th>90805</th>\n",
       "      <td>2016-02-01</td>\n",
       "      <td>traditional</td>\n",
       "      <td>purchase-only</td>\n",
       "      <td>quarterly</td>\n",
       "      <td>USA or Census Division</td>\n",
       "      <td>United States</td>\n",
       "      <td>USA</td>\n",
       "      <td>234.14</td>\n",
       "    </tr>\n",
       "  </tbody>\n",
       "</table>\n",
       "</div>"
      ],
      "text/plain": [
       "        date_idx     hpi_type     hpi_flavor  frequency  \\\n",
       "90801 2015-02-01  traditional  purchase-only  quarterly   \n",
       "90802 2015-03-01  traditional  purchase-only  quarterly   \n",
       "90803 2015-04-01  traditional  purchase-only  quarterly   \n",
       "90804 2016-01-01  traditional  purchase-only  quarterly   \n",
       "90805 2016-02-01  traditional  purchase-only  quarterly   \n",
       "\n",
       "                        level     place_name place_id  index_nsa  \n",
       "90801  USA or Census Division  United States      USA     221.73  \n",
       "90802  USA or Census Division  United States      USA     224.54  \n",
       "90803  USA or Census Division  United States      USA     224.86  \n",
       "90804  USA or Census Division  United States      USA     226.70  \n",
       "90805  USA or Census Division  United States      USA     234.14  "
      ]
     },
     "execution_count": 167,
     "metadata": {},
     "output_type": "execute_result"
    }
   ],
   "source": [
    "df_states.loc[mask].tail()"
   ]
  },
  {
   "cell_type": "markdown",
   "metadata": {},
   "source": [
    "#### Minimums and Maximums for Part 2, 'df_states' DataFrame"
   ]
  },
  {
   "cell_type": "markdown",
   "metadata": {},
   "source": [
    "Set an index on the 'index_nsa' values and find the maximum and minimum for all rows in the 'df_states' DataFrame."
   ]
  },
  {
   "cell_type": "code",
   "execution_count": 168,
   "metadata": {
    "collapsed": false
   },
   "outputs": [],
   "source": [
    "df_states.set_index('index_nsa', inplace=True, drop=False)"
   ]
  },
  {
   "cell_type": "markdown",
   "metadata": {},
   "source": [
    "  "
   ]
  },
  {
   "cell_type": "code",
   "execution_count": 169,
   "metadata": {
    "collapsed": false
   },
   "outputs": [
    {
     "name": "stdout",
     "output_type": "stream",
     "text": [
      "Max value for index_nsa: 791.71\n",
      "Min value for index_nsa: 18.31\n"
     ]
    }
   ],
   "source": [
    "print('Max value for index_nsa:', df_states['index_nsa'].max())\n",
    "print('Min value for index_nsa:', df_states['index_nsa'].min())"
   ]
  },
  {
   "cell_type": "markdown",
   "metadata": {},
   "source": [
    "PROC SQL for finding min and max."
   ]
  },
  {
   "cell_type": "markdown",
   "metadata": {},
   "source": [
    "````\n",
    "    85       proc sql;\n",
    "    86          select max (index_nsa) as max_index_nsa,\n",
    "    87                 min (index_nsa) as min_index_nsa\n",
    "    88          from df_states;\n",
    "    89       quit;\n",
    "````"
   ]
  },
  {
   "cell_type": "code",
   "execution_count": 172,
   "metadata": {
    "collapsed": false
   },
   "outputs": [
    {
     "data": {
      "image/jpeg": "[encoded data removed]",
      "text/plain": [
       "<IPython.core.display.Image object>"
      ]
     },
     "execution_count": 172,
     "metadata": {},
     "output_type": "execute_result"
    }
   ],
   "source": [
    "Image(filename='Anaconda3\\\\output\\\\max_min_index_nsa.JPG')"
   ]
  },
  {
   "cell_type": "markdown",
   "metadata": {},
   "source": [
    "The SAS Data Step above used to the read .csv file does not create a SAS datetime variable.  This is illustrated below. \n",
    "\n",
    "The SAS example below uses a pair of PUT functions nested inside the YYQ function to create the SAS date variable 'date_idx'.  The PUT functions map the variables 'yr' and 'period' from character to numeric.  The YYQ function described <a href=\"http://support.sas.com/documentation/cdl/en/lrdict/64316/HTML/default/viewer.htm#a000199346.htm\">here</a> returns a SAS datetime values from year and quarter values.\n",
    "\n",
    "The Data Step below is continued from the SAS Data Step example above used to read the .csv file."
   ]
  },
  {
   "cell_type": "markdown",
   "metadata": {},
   "source": [
    "````\n",
    "    60      date_idx=yyq(put(yr,8.),put(period,8.));\n",
    "    61      format date_idx yyq10.;\n",
    "    62      \n",
    "    63      proc sql;\n",
    "    64         select max (index_nsa) as max_index_nsa,\n",
    "    65                min (index_nsa) as min_index_nsa\n",
    "    66         from df_states\n",
    "    67         where date_idx between '01Jan2016'd and '31Dec2016'd;\n",
    "    68      quit;\n",
    "````"
   ]
  },
  {
   "cell_type": "code",
   "execution_count": 89,
   "metadata": {
    "collapsed": false
   },
   "outputs": [
    {
     "data": {
      "image/jpeg": "[encoded data removed]",
      "text/plain": [
       "<IPython.core.display.Image object>"
      ]
     },
     "execution_count": 89,
     "metadata": {},
     "output_type": "execute_result"
    }
   ],
   "source": [
    "Image(filename='Anaconda3\\\\output\\\\2016_min_max.JPG')  "
   ]
  },
  {
   "cell_type": "markdown",
   "metadata": {},
   "source": [
    "#### Filter for  2016"
   ]
  },
  {
   "cell_type": "code",
   "execution_count": 148,
   "metadata": {
    "collapsed": false
   },
   "outputs": [
    {
     "name": "stdout",
     "output_type": "stream",
     "text": [
      "2016 minimum value for 'index_nsa': 114.15\n",
      "2016 maximum value for 'index_nsa': 791.71\n"
     ]
    }
   ],
   "source": [
    "print(\"2016 minimum value for 'index_nsa':\", df_2016.index_nsa.min())\n",
    "print(\"2016 maximum value for 'index_nsa':\", df_2016.index_nsa.max())"
   ]
  },
  {
   "cell_type": "markdown",
   "metadata": {},
   "source": [
    "For 2016, return the largest and smallest value for 'index_nsa' which represents the non-seasonal adjusted home price index.  For this row slicing operation, create a boolean mask and combine it with the .loc indexer described <a href=\"http://nbviewer.jupyter.org/github/RandyBetancourt/PythonForSASUsers/blob/master/Chapter%2005%20--%20Understanding%20Indexes.ipynb#Mixing-.loc-Indexer-with-Boolean-Operators\">here</a>.\n",
    "\n",
    "In order to find the row with the lowest 'index_nsa' value, below uses a three step process:\n",
    "    1. Create a boolean mask filtering the rows with 'date_idx' between January 1, 2016 and December 31, 2016\n",
    "    2. Use the .loc indexer applying the mask to create the 'df_2016' DataFrame\n",
    "    3. Use the .idxmin() attribute to return the row having the minimum 'index_nsa' value"
   ]
  },
  {
   "cell_type": "code",
   "execution_count": 147,
   "metadata": {
    "collapsed": false
   },
   "outputs": [],
   "source": [
    "mask = (df_states['date_idx'] >= '2016-01-01') & (df_states['date_idx'] <= '2016-12-31')"
   ]
  },
  {
   "cell_type": "markdown",
   "metadata": {},
   "source": [
    " "
   ]
  },
  {
   "cell_type": "code",
   "execution_count": 145,
   "metadata": {
    "collapsed": false
   },
   "outputs": [],
   "source": [
    "df_2016 = df_states.loc[mask]"
   ]
  },
  {
   "cell_type": "markdown",
   "metadata": {},
   "source": [
    " "
   ]
  },
  {
   "cell_type": "markdown",
   "metadata": {},
   "source": [
    "The .idxmin() method returns multiple 'minimum' values for 'index_nsa' since the index column 'place_name' is not unique."
   ]
  },
  {
   "cell_type": "code",
   "execution_count": 149,
   "metadata": {
    "collapsed": false
   },
   "outputs": [
    {
     "data": {
      "text/html": [
       "<div>\n",
       "<table border=\"1\" class=\"dataframe\">\n",
       "  <thead>\n",
       "    <tr style=\"text-align: right;\">\n",
       "      <th></th>\n",
       "      <th>date_idx</th>\n",
       "      <th>hpi_type</th>\n",
       "      <th>hpi_flavor</th>\n",
       "      <th>frequency</th>\n",
       "      <th>level</th>\n",
       "      <th>place_name</th>\n",
       "      <th>place_id</th>\n",
       "      <th>index_nsa</th>\n",
       "    </tr>\n",
       "    <tr>\n",
       "      <th>place_name</th>\n",
       "      <th></th>\n",
       "      <th></th>\n",
       "      <th></th>\n",
       "      <th></th>\n",
       "      <th></th>\n",
       "      <th></th>\n",
       "      <th></th>\n",
       "      <th></th>\n",
       "    </tr>\n",
       "  </thead>\n",
       "  <tbody>\n",
       "    <tr>\n",
       "      <th>Detroit-Dearborn-Livonia, MI (MSAD)</th>\n",
       "      <td>2016-01-01</td>\n",
       "      <td>traditional</td>\n",
       "      <td>all-transactions</td>\n",
       "      <td>quarterly</td>\n",
       "      <td>MSA</td>\n",
       "      <td>Detroit-Dearborn-Livonia, MI (MSAD)</td>\n",
       "      <td>19804</td>\n",
       "      <td>150.04</td>\n",
       "    </tr>\n",
       "    <tr>\n",
       "      <th>Detroit-Dearborn-Livonia, MI (MSAD)</th>\n",
       "      <td>2016-02-01</td>\n",
       "      <td>traditional</td>\n",
       "      <td>all-transactions</td>\n",
       "      <td>quarterly</td>\n",
       "      <td>MSA</td>\n",
       "      <td>Detroit-Dearborn-Livonia, MI (MSAD)</td>\n",
       "      <td>19804</td>\n",
       "      <td>152.69</td>\n",
       "    </tr>\n",
       "    <tr>\n",
       "      <th>Detroit-Dearborn-Livonia, MI (MSAD)</th>\n",
       "      <td>2016-01-01</td>\n",
       "      <td>traditional</td>\n",
       "      <td>expanded-data</td>\n",
       "      <td>quarterly</td>\n",
       "      <td>MSA</td>\n",
       "      <td>Detroit-Dearborn-Livonia, MI (MSAD)</td>\n",
       "      <td>19804</td>\n",
       "      <td>114.15</td>\n",
       "    </tr>\n",
       "    <tr>\n",
       "      <th>Detroit-Dearborn-Livonia, MI (MSAD)</th>\n",
       "      <td>2016-02-01</td>\n",
       "      <td>traditional</td>\n",
       "      <td>expanded-data</td>\n",
       "      <td>quarterly</td>\n",
       "      <td>MSA</td>\n",
       "      <td>Detroit-Dearborn-Livonia, MI (MSAD)</td>\n",
       "      <td>19804</td>\n",
       "      <td>120.96</td>\n",
       "    </tr>\n",
       "    <tr>\n",
       "      <th>Detroit-Dearborn-Livonia, MI (MSAD)</th>\n",
       "      <td>2016-01-01</td>\n",
       "      <td>traditional</td>\n",
       "      <td>purchase-only</td>\n",
       "      <td>quarterly</td>\n",
       "      <td>MSA</td>\n",
       "      <td>Detroit-Dearborn-Livonia, MI (MSAD)</td>\n",
       "      <td>19804</td>\n",
       "      <td>176.24</td>\n",
       "    </tr>\n",
       "    <tr>\n",
       "      <th>Detroit-Dearborn-Livonia, MI (MSAD)</th>\n",
       "      <td>2016-02-01</td>\n",
       "      <td>traditional</td>\n",
       "      <td>purchase-only</td>\n",
       "      <td>quarterly</td>\n",
       "      <td>MSA</td>\n",
       "      <td>Detroit-Dearborn-Livonia, MI (MSAD)</td>\n",
       "      <td>19804</td>\n",
       "      <td>183.22</td>\n",
       "    </tr>\n",
       "  </tbody>\n",
       "</table>\n",
       "</div>"
      ],
      "text/plain": [
       "                                      date_idx     hpi_type        hpi_flavor  \\\n",
       "place_name                                                                      \n",
       "Detroit-Dearborn-Livonia, MI (MSAD) 2016-01-01  traditional  all-transactions   \n",
       "Detroit-Dearborn-Livonia, MI (MSAD) 2016-02-01  traditional  all-transactions   \n",
       "Detroit-Dearborn-Livonia, MI (MSAD) 2016-01-01  traditional     expanded-data   \n",
       "Detroit-Dearborn-Livonia, MI (MSAD) 2016-02-01  traditional     expanded-data   \n",
       "Detroit-Dearborn-Livonia, MI (MSAD) 2016-01-01  traditional     purchase-only   \n",
       "Detroit-Dearborn-Livonia, MI (MSAD) 2016-02-01  traditional     purchase-only   \n",
       "\n",
       "                                     frequency level  \\\n",
       "place_name                                             \n",
       "Detroit-Dearborn-Livonia, MI (MSAD)  quarterly   MSA   \n",
       "Detroit-Dearborn-Livonia, MI (MSAD)  quarterly   MSA   \n",
       "Detroit-Dearborn-Livonia, MI (MSAD)  quarterly   MSA   \n",
       "Detroit-Dearborn-Livonia, MI (MSAD)  quarterly   MSA   \n",
       "Detroit-Dearborn-Livonia, MI (MSAD)  quarterly   MSA   \n",
       "Detroit-Dearborn-Livonia, MI (MSAD)  quarterly   MSA   \n",
       "\n",
       "                                                              place_name  \\\n",
       "place_name                                                                 \n",
       "Detroit-Dearborn-Livonia, MI (MSAD)  Detroit-Dearborn-Livonia, MI (MSAD)   \n",
       "Detroit-Dearborn-Livonia, MI (MSAD)  Detroit-Dearborn-Livonia, MI (MSAD)   \n",
       "Detroit-Dearborn-Livonia, MI (MSAD)  Detroit-Dearborn-Livonia, MI (MSAD)   \n",
       "Detroit-Dearborn-Livonia, MI (MSAD)  Detroit-Dearborn-Livonia, MI (MSAD)   \n",
       "Detroit-Dearborn-Livonia, MI (MSAD)  Detroit-Dearborn-Livonia, MI (MSAD)   \n",
       "Detroit-Dearborn-Livonia, MI (MSAD)  Detroit-Dearborn-Livonia, MI (MSAD)   \n",
       "\n",
       "                                    place_id  index_nsa  \n",
       "place_name                                               \n",
       "Detroit-Dearborn-Livonia, MI (MSAD)    19804     150.04  \n",
       "Detroit-Dearborn-Livonia, MI (MSAD)    19804     152.69  \n",
       "Detroit-Dearborn-Livonia, MI (MSAD)    19804     114.15  \n",
       "Detroit-Dearborn-Livonia, MI (MSAD)    19804     120.96  \n",
       "Detroit-Dearborn-Livonia, MI (MSAD)    19804     176.24  \n",
       "Detroit-Dearborn-Livonia, MI (MSAD)    19804     183.22  "
      ]
     },
     "execution_count": 149,
     "metadata": {},
     "output_type": "execute_result"
    }
   ],
   "source": [
    "df_2016.ix[df_2016['index_nsa'].idxmin()]"
   ]
  },
  {
   "cell_type": "markdown",
   "metadata": {},
   "source": [
    " "
   ]
  },
  {
   "cell_type": "markdown",
   "metadata": {},
   "source": [
    "  "
   ]
  },
  {
   "cell_type": "markdown",
   "metadata": {},
   "source": [
    "   "
   ]
  },
  {
   "cell_type": "markdown",
   "metadata": {},
   "source": [
    " "
   ]
  },
  {
   "cell_type": "markdown",
   "metadata": {},
   "source": [
    " "
   ]
  },
  {
   "cell_type": "markdown",
   "metadata": {},
   "source": [
    " "
   ]
  },
  {
   "cell_type": "markdown",
   "metadata": {},
   "source": [
    "## Convert time series from one frequency to another"
   ]
  },
  {
   "cell_type": "markdown",
   "metadata": {},
   "source": [
    " "
   ]
  },
  {
   "cell_type": "markdown",
   "metadata": {},
   "source": [
    "  "
   ]
  },
  {
   "cell_type": "markdown",
   "metadata": {},
   "source": [
    "  "
   ]
  },
  {
   "cell_type": "markdown",
   "metadata": {},
   "source": [
    "    "
   ]
  },
  {
   "cell_type": "markdown",
   "metadata": {},
   "source": [
    "  "
   ]
  },
  {
   "cell_type": "markdown",
   "metadata": {},
   "source": [
    "  "
   ]
  },
  {
   "cell_type": "markdown",
   "metadata": {},
   "source": [
    "In order to subset rows by 'place_name', create an <a href=\"http://nbviewer.jupyter.org/github/RandyBetancourt/PythonForSASUsers/blob/master/Chapter%2005%20--%20Understanding%20Indexes.ipynb#Setting-and-resetting-Indicies\">index."
   ]
  },
  {
   "cell_type": "code",
   "execution_count": 95,
   "metadata": {
    "collapsed": true
   },
   "outputs": [],
   "source": [
    "df_states.set_index('place_name', inplace=True, drop=False)"
   ]
  },
  {
   "cell_type": "markdown",
   "metadata": {},
   "source": [
    "  "
   ]
  },
  {
   "cell_type": "markdown",
   "metadata": {},
   "source": [
    " "
   ]
  },
  {
   "cell_type": "markdown",
   "metadata": {
    "collapsed": false
   },
   "source": [
    "The section <a href=\"http://nbviewer.jupyter.org/github/RandyBetancourt/PythonForSASUsers/blob/master/Chapter%2005%20--%20Understanding%20Indexes.ipynb#Mixing-.loc-Indexer-with-Boolean-Operators\">Mixing .loc Indexer with Boolean Operators</a> discusses filtering by rows.  However, those examples used complete string values.  In this case, we need a partial string slicing approach. \n",
    "\n",
    "The .str.contains() attribute is chained to the indexed selection for the column 'place_name'.  The argument value is the search string."
   ]
  },
  {
   "cell_type": "markdown",
   "metadata": {},
   "source": [
    "  "
   ]
  },
  {
   "cell_type": "code",
   "execution_count": 96,
   "metadata": {
    "collapsed": false
   },
   "outputs": [
    {
     "data": {
      "text/html": [
       "<div>\n",
       "<table border=\"1\" class=\"dataframe\">\n",
       "  <thead>\n",
       "    <tr style=\"text-align: right;\">\n",
       "      <th></th>\n",
       "      <th>date_idx</th>\n",
       "      <th>hpi_type</th>\n",
       "      <th>hpi_flavor</th>\n",
       "      <th>frequency</th>\n",
       "      <th>level</th>\n",
       "      <th>place_name</th>\n",
       "      <th>place_id</th>\n",
       "      <th>index_nsa</th>\n",
       "    </tr>\n",
       "    <tr>\n",
       "      <th>place_name</th>\n",
       "      <th></th>\n",
       "      <th></th>\n",
       "      <th></th>\n",
       "      <th></th>\n",
       "      <th></th>\n",
       "      <th></th>\n",
       "      <th></th>\n",
       "      <th></th>\n",
       "    </tr>\n",
       "  </thead>\n",
       "  <tbody>\n",
       "    <tr>\n",
       "      <th>Washington-Arlington-Alexandria, DC-VA-MD-WV (MSAD)</th>\n",
       "      <td>1975-03-01</td>\n",
       "      <td>traditional</td>\n",
       "      <td>all-transactions</td>\n",
       "      <td>quarterly</td>\n",
       "      <td>MSA</td>\n",
       "      <td>Washington-Arlington-Alexandria, DC-VA-MD-WV (...</td>\n",
       "      <td>47894</td>\n",
       "      <td>31.33</td>\n",
       "    </tr>\n",
       "    <tr>\n",
       "      <th>Washington-Arlington-Alexandria, DC-VA-MD-WV (MSAD)</th>\n",
       "      <td>1975-04-01</td>\n",
       "      <td>traditional</td>\n",
       "      <td>all-transactions</td>\n",
       "      <td>quarterly</td>\n",
       "      <td>MSA</td>\n",
       "      <td>Washington-Arlington-Alexandria, DC-VA-MD-WV (...</td>\n",
       "      <td>47894</td>\n",
       "      <td>31.05</td>\n",
       "    </tr>\n",
       "    <tr>\n",
       "      <th>Washington-Arlington-Alexandria, DC-VA-MD-WV (MSAD)</th>\n",
       "      <td>1976-01-01</td>\n",
       "      <td>traditional</td>\n",
       "      <td>all-transactions</td>\n",
       "      <td>quarterly</td>\n",
       "      <td>MSA</td>\n",
       "      <td>Washington-Arlington-Alexandria, DC-VA-MD-WV (...</td>\n",
       "      <td>47894</td>\n",
       "      <td>31.02</td>\n",
       "    </tr>\n",
       "    <tr>\n",
       "      <th>Washington-Arlington-Alexandria, DC-VA-MD-WV (MSAD)</th>\n",
       "      <td>1976-02-01</td>\n",
       "      <td>traditional</td>\n",
       "      <td>all-transactions</td>\n",
       "      <td>quarterly</td>\n",
       "      <td>MSA</td>\n",
       "      <td>Washington-Arlington-Alexandria, DC-VA-MD-WV (...</td>\n",
       "      <td>47894</td>\n",
       "      <td>32.27</td>\n",
       "    </tr>\n",
       "    <tr>\n",
       "      <th>Washington-Arlington-Alexandria, DC-VA-MD-WV (MSAD)</th>\n",
       "      <td>1976-03-01</td>\n",
       "      <td>traditional</td>\n",
       "      <td>all-transactions</td>\n",
       "      <td>quarterly</td>\n",
       "      <td>MSA</td>\n",
       "      <td>Washington-Arlington-Alexandria, DC-VA-MD-WV (...</td>\n",
       "      <td>47894</td>\n",
       "      <td>33.35</td>\n",
       "    </tr>\n",
       "  </tbody>\n",
       "</table>\n",
       "</div>"
      ],
      "text/plain": [
       "                                                     date_idx     hpi_type  \\\n",
       "place_name                                                                   \n",
       "Washington-Arlington-Alexandria, DC-VA-MD-WV (M... 1975-03-01  traditional   \n",
       "Washington-Arlington-Alexandria, DC-VA-MD-WV (M... 1975-04-01  traditional   \n",
       "Washington-Arlington-Alexandria, DC-VA-MD-WV (M... 1976-01-01  traditional   \n",
       "Washington-Arlington-Alexandria, DC-VA-MD-WV (M... 1976-02-01  traditional   \n",
       "Washington-Arlington-Alexandria, DC-VA-MD-WV (M... 1976-03-01  traditional   \n",
       "\n",
       "                                                          hpi_flavor  \\\n",
       "place_name                                                             \n",
       "Washington-Arlington-Alexandria, DC-VA-MD-WV (M...  all-transactions   \n",
       "Washington-Arlington-Alexandria, DC-VA-MD-WV (M...  all-transactions   \n",
       "Washington-Arlington-Alexandria, DC-VA-MD-WV (M...  all-transactions   \n",
       "Washington-Arlington-Alexandria, DC-VA-MD-WV (M...  all-transactions   \n",
       "Washington-Arlington-Alexandria, DC-VA-MD-WV (M...  all-transactions   \n",
       "\n",
       "                                                    frequency level  \\\n",
       "place_name                                                            \n",
       "Washington-Arlington-Alexandria, DC-VA-MD-WV (M...  quarterly   MSA   \n",
       "Washington-Arlington-Alexandria, DC-VA-MD-WV (M...  quarterly   MSA   \n",
       "Washington-Arlington-Alexandria, DC-VA-MD-WV (M...  quarterly   MSA   \n",
       "Washington-Arlington-Alexandria, DC-VA-MD-WV (M...  quarterly   MSA   \n",
       "Washington-Arlington-Alexandria, DC-VA-MD-WV (M...  quarterly   MSA   \n",
       "\n",
       "                                                                                           place_name  \\\n",
       "place_name                                                                                              \n",
       "Washington-Arlington-Alexandria, DC-VA-MD-WV (M...  Washington-Arlington-Alexandria, DC-VA-MD-WV (...   \n",
       "Washington-Arlington-Alexandria, DC-VA-MD-WV (M...  Washington-Arlington-Alexandria, DC-VA-MD-WV (...   \n",
       "Washington-Arlington-Alexandria, DC-VA-MD-WV (M...  Washington-Arlington-Alexandria, DC-VA-MD-WV (...   \n",
       "Washington-Arlington-Alexandria, DC-VA-MD-WV (M...  Washington-Arlington-Alexandria, DC-VA-MD-WV (...   \n",
       "Washington-Arlington-Alexandria, DC-VA-MD-WV (M...  Washington-Arlington-Alexandria, DC-VA-MD-WV (...   \n",
       "\n",
       "                                                   place_id  index_nsa  \n",
       "place_name                                                              \n",
       "Washington-Arlington-Alexandria, DC-VA-MD-WV (M...    47894      31.33  \n",
       "Washington-Arlington-Alexandria, DC-VA-MD-WV (M...    47894      31.05  \n",
       "Washington-Arlington-Alexandria, DC-VA-MD-WV (M...    47894      31.02  \n",
       "Washington-Arlington-Alexandria, DC-VA-MD-WV (M...    47894      32.27  \n",
       "Washington-Arlington-Alexandria, DC-VA-MD-WV (M...    47894      33.35  "
      ]
     },
     "execution_count": 96,
     "metadata": {},
     "output_type": "execute_result"
    }
   ],
   "source": [
    "df_states[df_states['place_name'].str.contains(\"Washington\")].head()"
   ]
  },
  {
   "cell_type": "markdown",
   "metadata": {},
   "source": [
    "  "
   ]
  },
  {
   "cell_type": "markdown",
   "metadata": {},
   "source": [
    " <a href=\"http://nbviewer.jupyter.org/github/RandyBetancourt/PythonForSASUsers/blob/master/Chapter%2005%20--%20Understanding%20Indexes.ipynb#Mixing-.loc-Indexer-with-Boolean-Operators\">Boolean operators</a> can be used to slice by multiple levels of criteria."
   ]
  },
  {
   "cell_type": "code",
   "execution_count": 97,
   "metadata": {
    "collapsed": false
   },
   "outputs": [],
   "source": [
    "df_wash = df_states[(df_states['place_name'].str.contains(\"Washington\")) & \\\n",
    "                    (df_states.hpi_type == 'traditional') & (df_states.level == 'MSA') & \\\n",
    "                    (df_states.hpi_flavor == 'all-transactions')]"
   ]
  },
  {
   "cell_type": "markdown",
   "metadata": {},
   "source": [
    "  "
   ]
  },
  {
   "cell_type": "code",
   "execution_count": 98,
   "metadata": {
    "collapsed": false
   },
   "outputs": [
    {
     "data": {
      "text/plain": [
       "(164, 8)"
      ]
     },
     "execution_count": 98,
     "metadata": {},
     "output_type": "execute_result"
    }
   ],
   "source": [
    "df_wash.shape"
   ]
  },
  {
   "cell_type": "code",
   "execution_count": 99,
   "metadata": {
    "collapsed": false
   },
   "outputs": [
    {
     "data": {
      "text/html": [
       "\n",
       "\n",
       "    <div class=\"bk-root\">\n",
       "        <div class=\"plotdiv\" id=\"67c4965a-dafc-4b77-812a-3320249a8fa2\"></div>\n",
       "    </div>\n",
       "<script type=\"text/javascript\">\n",
       "  \n",
       "  (function(global) {\n",
       "    function now() {\n",
       "      return new Date();\n",
       "    }\n",
       "  \n",
       "    var force = \"\";\n",
       "  \n",
       "    if (typeof (window._bokeh_onload_callbacks) === \"undefined\" || force !== \"\") {\n",
       "      window._bokeh_onload_callbacks = [];\n",
       "      window._bokeh_is_loading = undefined;\n",
       "    }\n",
       "  \n",
       "  \n",
       "    \n",
       "    if (typeof (window._bokeh_timeout) === \"undefined\" || force !== \"\") {\n",
       "      window._bokeh_timeout = Date.now() + 0;\n",
       "      window._bokeh_failed_load = false;\n",
       "    }\n",
       "  \n",
       "    var NB_LOAD_WARNING = {'data': {'text/html':\n",
       "       \"<div style='background-color: #fdd'>\\n\"+\n",
       "       \"<p>\\n\"+\n",
       "       \"BokehJS does not appear to have successfully loaded. If loading BokehJS from CDN, this \\n\"+\n",
       "       \"may be due to a slow or bad network connection. Possible fixes:\\n\"+\n",
       "       \"</p>\\n\"+\n",
       "       \"<ul>\\n\"+\n",
       "       \"<li>re-rerun `output_notebook()` to attempt to load from CDN again, or</li>\\n\"+\n",
       "       \"<li>use INLINE resources instead, as so:</li>\\n\"+\n",
       "       \"</ul>\\n\"+\n",
       "       \"<code>\\n\"+\n",
       "       \"from bokeh.resources import INLINE\\n\"+\n",
       "       \"output_notebook(resources=INLINE)\\n\"+\n",
       "       \"</code>\\n\"+\n",
       "       \"</div>\"}};\n",
       "  \n",
       "    function display_loaded() {\n",
       "      if (window.Bokeh !== undefined) {\n",
       "        Bokeh.$(\"#67c4965a-dafc-4b77-812a-3320249a8fa2\").text(\"BokehJS successfully loaded.\");\n",
       "      } else if (Date.now() < window._bokeh_timeout) {\n",
       "        setTimeout(display_loaded, 100)\n",
       "      }\n",
       "    }\n",
       "  \n",
       "    function run_callbacks() {\n",
       "      window._bokeh_onload_callbacks.forEach(function(callback) { callback() });\n",
       "      delete window._bokeh_onload_callbacks\n",
       "      console.info(\"Bokeh: all callbacks have finished\");\n",
       "    }\n",
       "  \n",
       "    function load_libs(js_urls, callback) {\n",
       "      window._bokeh_onload_callbacks.push(callback);\n",
       "      if (window._bokeh_is_loading > 0) {\n",
       "        console.log(\"Bokeh: BokehJS is being loaded, scheduling callback at\", now());\n",
       "        return null;\n",
       "      }\n",
       "      if (js_urls == null || js_urls.length === 0) {\n",
       "        run_callbacks();\n",
       "        return null;\n",
       "      }\n",
       "      console.log(\"Bokeh: BokehJS not loaded, scheduling load and callback at\", now());\n",
       "      window._bokeh_is_loading = js_urls.length;\n",
       "      for (var i = 0; i < js_urls.length; i++) {\n",
       "        var url = js_urls[i];\n",
       "        var s = document.createElement('script');\n",
       "        s.src = url;\n",
       "        s.async = false;\n",
       "        s.onreadystatechange = s.onload = function() {\n",
       "          window._bokeh_is_loading--;\n",
       "          if (window._bokeh_is_loading === 0) {\n",
       "            console.log(\"Bokeh: all BokehJS libraries loaded\");\n",
       "            run_callbacks()\n",
       "          }\n",
       "        };\n",
       "        s.onerror = function() {\n",
       "          console.warn(\"failed to load library \" + url);\n",
       "        };\n",
       "        console.log(\"Bokeh: injecting script tag for BokehJS library: \", url);\n",
       "        document.getElementsByTagName(\"head\")[0].appendChild(s);\n",
       "      }\n",
       "    };var element = document.getElementById(\"67c4965a-dafc-4b77-812a-3320249a8fa2\");\n",
       "    if (element == null) {\n",
       "      console.log(\"Bokeh: ERROR: autoload.js configured with elementid '67c4965a-dafc-4b77-812a-3320249a8fa2' but no matching script tag was found. \")\n",
       "      return false;\n",
       "    }\n",
       "  \n",
       "    var js_urls = [];\n",
       "  \n",
       "    var inline_js = [\n",
       "      function(Bokeh) {\n",
       "        Bokeh.$(function() {\n",
       "            var docs_json = {\"b973797d-d2df-452a-8b12-4591240999ff\":{\"roots\":{\"references\":[{\"attributes\":{\"callback\":null,\"column_names\":[\"y_values\",\"x_values\"],\"data\":{\"chart_index\":[null,null,null,null,null,null,null,null,null,null,null,null,null,null,null,null,null,null,null,null,null,null,null,null,null,null,null,null,null,null,null,null,null,null,null,null,null,null,null,null,null,null,null,null,null,null,null,null,null,null,null,null,null,null,null,null,null,null,null,null,null,null,null,null,null,null,null,null,null,null,null,null,null,null,null,null,null,null,null,null,null,null,null,null,null,null,null,null,null,null,null,null,null,null,null,null,null,null,null,null,null,null,null,null,null,null,null,null,null,null,null,null,null,null,null,null,null,null,null,null,null,null,null,null,null,null,null,null,null,null,null,null,null,null,null,null,null,null,null,null,null,null,null,null,null,null,null,null,null,null,null,null,null,null,null,null,null,null,null,null,null,null,null,null],\"x_values\":[162864000000.0,165542400000.0,189302400000.0,191980800000.0,194486400000.0,197164800000.0,220924800000.0,223603200000.0,226022400000.0,228700800000.0,252460800000.0,255139200000.0,257558400000.0,260236800000.0,283996800000.0,286675200000.0,289094400000.0,291772800000.0,315532800000.0,318211200000.0,320716800000.0,323395200000.0,347155200000.0,349833600000.0,352252800000.0,354931200000.0,378691200000.0,381369600000.0,383788800000.0,386467200000.0,410227200000.0,412905600000.0,415324800000.0,418003200000.0,441763200000.0,444441600000.0,446947200000.0,449625600000.0,473385600000.0,476064000000.0,478483200000.0,481161600000.0,504921600000.0,507600000000.0,510019200000.0,512697600000.0,536457600000.0,539136000000.0,541555200000.0,544233600000.0,567993600000.0,570672000000.0,573177600000.0,575856000000.0,599616000000.0,602294400000.0,604713600000.0,607392000000.0,631152000000.0,633830400000.0,636249600000.0,638928000000.0,662688000000.0,665366400000.0,667785600000.0,670464000000.0,694224000000.0,696902400000.0,699408000000.0,702086400000.0,725846400000.0,728524800000.0,730944000000.0,733622400000.0,757382400000.0,760060800000.0,762480000000.0,765158400000.0,788918400000.0,791596800000.0,794016000000.0,796694400000.0,820454400000.0,823132800000.0,825638400000.0,828316800000.0,852076800000.0,854755200000.0,857174400000.0,859852800000.0,883612800000.0,886291200000.0,888710400000.0,891388800000.0,915148800000.0,917827200000.0,920246400000.0,922924800000.0,946684800000.0,949363200000.0,951868800000.0,954547200000.0,978307200000.0,980985600000.0,983404800000.0,986083200000.0,1009843200000.0,1012521600000.0,1014940800000.0,1017619200000.0,1041379200000.0,1044057600000.0,1046476800000.0,1049155200000.0,1072915200000.0,1075593600000.0,1078099200000.0,1080777600000.0,1104537600000.0,1107216000000.0,1109635200000.0,1112313600000.0,1136073600000.0,1138752000000.0,1141171200000.0,1143849600000.0,1167609600000.0,1170288000000.0,1172707200000.0,1175385600000.0,1199145600000.0,1201824000000.0,1204329600000.0,1207008000000.0,1230768000000.0,1233446400000.0,1235865600000.0,1238544000000.0,1262304000000.0,1264982400000.0,1267401600000.0,1270080000000.0,1293840000000.0,1296518400000.0,1298937600000.0,1301616000000.0,1325376000000.0,1328054400000.0,1330560000000.0,1333238400000.0,1356998400000.0,1359676800000.0,1362096000000.0,1364774400000.0,1388534400000.0,1391212800000.0,1393632000000.0,1396310400000.0,1420070400000.0,1422748800000.0,1425168000000.0,1427846400000.0,1451606400000.0,1454284800000.0],\"y_values\":[31.33,31.05,31.02,32.27,33.35,33.16,33.35,34.82,35.82,36.53,37.55,39.01,40.74,41.73,43.11,44.01,45.23,46.27,48.23,49.55,50.91,51.54,52.28,52.9,51.54,52.95,54.09,52.39,53.2,55.24,55.33,56.64,56.92,57.73,57.29,59.63,60.38,60.78,61.51,62.9,64.28,64.71,65.6,67.42,69.37,71.01,73.08,75.64,79.51,82.19,85.47,89.06,91.75,94.24,96.38,98.88,100.69,101.62,101.94,102.22,101.71,100.42,100.96,101.22,100.44,102.04,102.39,101.51,102.4,102.43,102.16,102.38,102.38,102.93,103.22,102.19,101.18,100.44,100.0,100.99,102.16,102.99,104.12,102.9,101.77,102.38,102.85,102.47,103.38,104.19,105.74,105.92,106.44,107.61,108.81,109.62,111.54,113.28,115.82,119.51,122.37,125.28,129.28,133.12,137.3,140.33,144.07,149.32,154.35,157.22,160.14,163.31,168.42,177.48,182.94,192.41,209.85,217.44,227.58,244.56,257.7,269.08,274.19,278.56,279.93,281.87,279.55,277.67,271.72,265.32,257.93,242.08,229.81,225.73,225.8,218.29,213.51,214.27,212.03,212.46,214.96,214.38,209.94,209.61,212.33,214.24,213.03,212.49,215.65,217.23,219.06,223.7,227.56,229.74,231.71,236.68,238.58,242.46,242.5,246.21,249.64,251.14,252.26,255.57]}},\"id\":\"857b4faf-9b76-48fb-bfdb-05e22957bba9\",\"type\":\"ColumnDataSource\"},{\"attributes\":{},\"id\":\"e27e5571-d576-4c14-a70d-982f4e06178d\",\"type\":\"DatetimeTicker\"},{\"attributes\":{\"below\":[{\"id\":\"06919f94-1d3d-4f8d-9555-17c489b9ac28\",\"type\":\"DatetimeAxis\"}],\"left\":[{\"id\":\"5beee203-8510-4dc8-bfc4-9f9eac427560\",\"type\":\"LinearAxis\"}],\"renderers\":[{\"id\":\"02d168a4-c935-4b4d-b58f-64cd8a3c6396\",\"type\":\"BoxAnnotation\"},{\"id\":\"09ae5b0b-859a-4453-9529-d992b5794452\",\"type\":\"GlyphRenderer\"},{\"id\":\"d86ffc09-bb9c-40e6-b9d8-73982a56c439\",\"type\":\"Legend\"},{\"id\":\"06919f94-1d3d-4f8d-9555-17c489b9ac28\",\"type\":\"DatetimeAxis\"},{\"id\":\"5beee203-8510-4dc8-bfc4-9f9eac427560\",\"type\":\"LinearAxis\"},{\"id\":\"410642c1-7d5c-4237-bbf3-001a03283f5f\",\"type\":\"Grid\"},{\"id\":\"90e83b7b-396b-470b-b4ef-fbd8a5a074c0\",\"type\":\"Grid\"}],\"title\":{\"id\":\"ac816cae-054e-47b3-a31c-d0421b02007b\",\"type\":\"Title\"},\"tool_events\":{\"id\":\"edcaef22-1976-42d2-bea7-e999131aa8d1\",\"type\":\"ToolEvents\"},\"toolbar\":{\"id\":\"cc2cbf54-fa7f-47d7-bc6c-20b87080c4a6\",\"type\":\"Toolbar\"},\"x_mapper_type\":\"auto\",\"x_range\":{\"id\":\"60ee1697-32b9-4cce-aef0-fe312967970c\",\"type\":\"Range1d\"},\"y_mapper_type\":\"auto\",\"y_range\":{\"id\":\"fc6d5fcf-ef15-4592-8c95-ca28ec6090bd\",\"type\":\"Range1d\"}},\"id\":\"eb4d7f53-89cc-4917-ba1b-4eb7c5ce7b24\",\"subtype\":\"Chart\",\"type\":\"Plot\"},{\"attributes\":{},\"id\":\"be0055b2-246c-42a7-82ca-8199b87245bb\",\"type\":\"BasicTicker\"},{\"attributes\":{\"days\":[1,15]},\"id\":\"fa7033e5-f354-495e-a282-4e8606a325cb\",\"type\":\"DaysTicker\"},{\"attributes\":{},\"id\":\"a69b7170-55e2-4f33-9669-d3fd89de8ea0\",\"type\":\"BasicTickFormatter\"},{\"attributes\":{\"plot\":null,\"text\":\"Quarterly Home Price Values in the Washington Metro Area\"},\"id\":\"ac816cae-054e-47b3-a31c-d0421b02007b\",\"type\":\"Title\"},{\"attributes\":{\"active_drag\":\"auto\",\"active_scroll\":\"auto\",\"active_tap\":\"auto\",\"tools\":[{\"id\":\"21b561a5-3b01-4587-8565-6b32eac1fd25\",\"type\":\"PanTool\"},{\"id\":\"540e9f43-1448-458c-82e4-7cd456b142f2\",\"type\":\"WheelZoomTool\"},{\"id\":\"1149ed05-418f-48a3-8086-da4024f06bcf\",\"type\":\"BoxZoomTool\"},{\"id\":\"7d0a0de3-3b1f-4a5c-8986-efc82e404649\",\"type\":\"SaveTool\"},{\"id\":\"54f39d60-78f4-4485-9fcf-c214e21042b0\",\"type\":\"ResetTool\"},{\"id\":\"7b4c03ec-df93-46f1-8b31-7bb12ce45962\",\"type\":\"HelpTool\"}]},\"id\":\"cc2cbf54-fa7f-47d7-bc6c-20b87080c4a6\",\"type\":\"Toolbar\"},{\"attributes\":{\"base\":24,\"mantissas\":[1,2,4,6,8,12],\"max_interval\":43200000.0,\"min_interval\":3600000.0,\"num_minor_ticks\":0},\"id\":\"803d57ff-e183-459c-9824-032b2a37d9a8\",\"type\":\"AdaptiveTicker\"},{\"attributes\":{\"bottom_units\":\"screen\",\"fill_alpha\":{\"value\":0.5},\"fill_color\":{\"value\":\"lightgrey\"},\"left_units\":\"screen\",\"level\":\"overlay\",\"line_alpha\":{\"value\":1.0},\"line_color\":{\"value\":\"black\"},\"line_dash\":[4,4],\"line_width\":{\"value\":2},\"plot\":null,\"render_mode\":\"css\",\"right_units\":\"screen\",\"top_units\":\"screen\"},\"id\":\"02d168a4-c935-4b4d-b58f-64cd8a3c6396\",\"type\":\"BoxAnnotation\"},{\"attributes\":{\"axis_label\":\"index_nsa\",\"formatter\":{\"id\":\"a69b7170-55e2-4f33-9669-d3fd89de8ea0\",\"type\":\"BasicTickFormatter\"},\"plot\":{\"id\":\"eb4d7f53-89cc-4917-ba1b-4eb7c5ce7b24\",\"subtype\":\"Chart\",\"type\":\"Plot\"},\"ticker\":{\"id\":\"be0055b2-246c-42a7-82ca-8199b87245bb\",\"type\":\"BasicTicker\"}},\"id\":\"5beee203-8510-4dc8-bfc4-9f9eac427560\",\"type\":\"LinearAxis\"},{\"attributes\":{\"max_interval\":500.0,\"num_minor_ticks\":0},\"id\":\"4d252118-3f76-43f0-9a95-05f8216e46cd\",\"type\":\"AdaptiveTicker\"},{\"attributes\":{\"plot\":{\"id\":\"eb4d7f53-89cc-4917-ba1b-4eb7c5ce7b24\",\"subtype\":\"Chart\",\"type\":\"Plot\"}},\"id\":\"54f39d60-78f4-4485-9fcf-c214e21042b0\",\"type\":\"ResetTool\"},{\"attributes\":{\"days\":[1,2,3,4,5,6,7,8,9,10,11,12,13,14,15,16,17,18,19,20,21,22,23,24,25,26,27,28,29,30,31]},\"id\":\"e9e3317d-e189-42ce-a514-24086ba1cb74\",\"type\":\"DaysTicker\"},{\"attributes\":{\"days\":[1,8,15,22]},\"id\":\"1f624079-4e39-45f5-9a02-483eba968992\",\"type\":\"DaysTicker\"},{\"attributes\":{\"callback\":null,\"end\":1454284800000.0,\"start\":162864000000.0},\"id\":\"60ee1697-32b9-4cce-aef0-fe312967970c\",\"type\":\"Range1d\"},{\"attributes\":{\"months\":[0,6]},\"id\":\"1dcfe63f-cfd0-4779-a4ec-ad6928123b26\",\"type\":\"MonthsTicker\"},{\"attributes\":{\"data_source\":{\"id\":\"857b4faf-9b76-48fb-bfdb-05e22957bba9\",\"type\":\"ColumnDataSource\"},\"glyph\":{\"id\":\"04a4bd7b-cdf0-4e15-8c15-ee75aade8dc2\",\"type\":\"Line\"},\"hover_glyph\":null,\"nonselection_glyph\":null,\"selection_glyph\":null},\"id\":\"09ae5b0b-859a-4453-9529-d992b5794452\",\"type\":\"GlyphRenderer\"},{\"attributes\":{\"plot\":{\"id\":\"eb4d7f53-89cc-4917-ba1b-4eb7c5ce7b24\",\"subtype\":\"Chart\",\"type\":\"Plot\"}},\"id\":\"21b561a5-3b01-4587-8565-6b32eac1fd25\",\"type\":\"PanTool\"},{\"attributes\":{\"location\":\"top_left\",\"plot\":{\"id\":\"eb4d7f53-89cc-4917-ba1b-4eb7c5ce7b24\",\"subtype\":\"Chart\",\"type\":\"Plot\"}},\"id\":\"d86ffc09-bb9c-40e6-b9d8-73982a56c439\",\"type\":\"Legend\"},{\"attributes\":{\"plot\":{\"id\":\"eb4d7f53-89cc-4917-ba1b-4eb7c5ce7b24\",\"subtype\":\"Chart\",\"type\":\"Plot\"},\"ticker\":{\"id\":\"e27e5571-d576-4c14-a70d-982f4e06178d\",\"type\":\"DatetimeTicker\"}},\"id\":\"410642c1-7d5c-4237-bbf3-001a03283f5f\",\"type\":\"Grid\"},{\"attributes\":{\"plot\":{\"id\":\"eb4d7f53-89cc-4917-ba1b-4eb7c5ce7b24\",\"subtype\":\"Chart\",\"type\":\"Plot\"}},\"id\":\"7b4c03ec-df93-46f1-8b31-7bb12ce45962\",\"type\":\"HelpTool\"},{\"attributes\":{\"dimension\":1,\"plot\":{\"id\":\"eb4d7f53-89cc-4917-ba1b-4eb7c5ce7b24\",\"subtype\":\"Chart\",\"type\":\"Plot\"},\"ticker\":{\"id\":\"be0055b2-246c-42a7-82ca-8199b87245bb\",\"type\":\"BasicTicker\"}},\"id\":\"90e83b7b-396b-470b-b4ef-fbd8a5a074c0\",\"type\":\"Grid\"},{\"attributes\":{\"plot\":{\"id\":\"eb4d7f53-89cc-4917-ba1b-4eb7c5ce7b24\",\"subtype\":\"Chart\",\"type\":\"Plot\"}},\"id\":\"540e9f43-1448-458c-82e4-7cd456b142f2\",\"type\":\"WheelZoomTool\"},{\"attributes\":{},\"id\":\"edcaef22-1976-42d2-bea7-e999131aa8d1\",\"type\":\"ToolEvents\"},{\"attributes\":{},\"id\":\"696173c8-b19c-4867-8271-99508fd6ade1\",\"type\":\"DatetimeTickFormatter\"},{\"attributes\":{\"overlay\":{\"id\":\"02d168a4-c935-4b4d-b58f-64cd8a3c6396\",\"type\":\"BoxAnnotation\"},\"plot\":{\"id\":\"eb4d7f53-89cc-4917-ba1b-4eb7c5ce7b24\",\"subtype\":\"Chart\",\"type\":\"Plot\"}},\"id\":\"1149ed05-418f-48a3-8086-da4024f06bcf\",\"type\":\"BoxZoomTool\"},{\"attributes\":{\"months\":[0,2,4,6,8,10]},\"id\":\"54463917-fc44-4595-af88-9248e59a192c\",\"type\":\"MonthsTicker\"},{\"attributes\":{\"days\":[1,4,7,10,13,16,19,22,25,28]},\"id\":\"3fba2d52-dbe1-450b-b284-37a151a18916\",\"type\":\"DaysTicker\"},{\"attributes\":{\"months\":[0,1,2,3,4,5,6,7,8,9,10,11]},\"id\":\"d3f1cb30-d61f-4d42-8e00-5739d6a66a3a\",\"type\":\"MonthsTicker\"},{\"attributes\":{\"line_color\":{\"value\":\"firebrick\"},\"line_width\":{\"value\":2},\"x\":{\"field\":\"x_values\"},\"y\":{\"field\":\"y_values\"}},\"id\":\"04a4bd7b-cdf0-4e15-8c15-ee75aade8dc2\",\"type\":\"Line\"},{\"attributes\":{\"months\":[0,4,8]},\"id\":\"97e26ee3-0387-422e-99be-225c816e4d89\",\"type\":\"MonthsTicker\"},{\"attributes\":{\"plot\":{\"id\":\"eb4d7f53-89cc-4917-ba1b-4eb7c5ce7b24\",\"subtype\":\"Chart\",\"type\":\"Plot\"}},\"id\":\"7d0a0de3-3b1f-4a5c-8986-efc82e404649\",\"type\":\"SaveTool\"},{\"attributes\":{},\"id\":\"d2b0eb0e-7710-4cf5-b824-fc7ee1391603\",\"type\":\"YearsTicker\"},{\"attributes\":{\"axis_label\":\"date_idx\",\"formatter\":{\"id\":\"696173c8-b19c-4867-8271-99508fd6ade1\",\"type\":\"DatetimeTickFormatter\"},\"plot\":{\"id\":\"eb4d7f53-89cc-4917-ba1b-4eb7c5ce7b24\",\"subtype\":\"Chart\",\"type\":\"Plot\"},\"ticker\":{\"id\":\"e27e5571-d576-4c14-a70d-982f4e06178d\",\"type\":\"DatetimeTicker\"}},\"id\":\"06919f94-1d3d-4f8d-9555-17c489b9ac28\",\"type\":\"DatetimeAxis\"},{\"attributes\":{\"base\":60,\"mantissas\":[1,2,5,10,15,20,30],\"max_interval\":1800000.0,\"min_interval\":1000.0,\"num_minor_ticks\":0},\"id\":\"5476bc32-1750-4517-b4b1-4df67d0f8553\",\"type\":\"AdaptiveTicker\"},{\"attributes\":{\"callback\":null,\"end\":306.955,\"start\":5.934999999999999},\"id\":\"fc6d5fcf-ef15-4592-8c95-ca28ec6090bd\",\"type\":\"Range1d\"}],\"root_ids\":[\"eb4d7f53-89cc-4917-ba1b-4eb7c5ce7b24\"]},\"title\":\"Bokeh Application\",\"version\":\"0.12.2\"}};\n",
       "            var render_items = [{\"docid\":\"b973797d-d2df-452a-8b12-4591240999ff\",\"elementid\":\"67c4965a-dafc-4b77-812a-3320249a8fa2\",\"modelid\":\"eb4d7f53-89cc-4917-ba1b-4eb7c5ce7b24\"}];\n",
       "            \n",
       "            Bokeh.embed.embed_items(docs_json, render_items);\n",
       "        });\n",
       "      },\n",
       "      function(Bokeh) {\n",
       "      }\n",
       "    ];\n",
       "  \n",
       "    function run_inline_js() {\n",
       "      \n",
       "      if ((window.Bokeh !== undefined) || (force === \"1\")) {\n",
       "        for (var i = 0; i < inline_js.length; i++) {\n",
       "          inline_js[i](window.Bokeh);\n",
       "        }if (force === \"1\") {\n",
       "          display_loaded();\n",
       "        }} else if (Date.now() < window._bokeh_timeout) {\n",
       "        setTimeout(run_inline_js, 100);\n",
       "      } else if (!window._bokeh_failed_load) {\n",
       "        console.log(\"Bokeh: BokehJS failed to load within specified timeout.\");\n",
       "        window._bokeh_failed_load = true;\n",
       "      } else if (!force) {\n",
       "        var cell = $(\"#67c4965a-dafc-4b77-812a-3320249a8fa2\").parents('.cell').data().cell;\n",
       "        cell.output_area.append_execute_result(NB_LOAD_WARNING)\n",
       "      }\n",
       "  \n",
       "    }\n",
       "  \n",
       "    if (window._bokeh_is_loading === 0) {\n",
       "      console.log(\"Bokeh: BokehJS loaded, going straight to plotting\");\n",
       "      run_inline_js();\n",
       "    } else {\n",
       "      load_libs(js_urls, function() {\n",
       "        console.log(\"Bokeh: BokehJS plotting callback run at\", now());\n",
       "        run_inline_js();\n",
       "      });\n",
       "    }\n",
       "  }(this));\n",
       "</script>"
      ]
     },
     "metadata": {},
     "output_type": "display_data"
    }
   ],
   "source": [
    "p = bokeh.charts.Line(df_wash, x='date_idx', y='index_nsa', color='firebrick',  title= \\\n",
    "   \"Quarterly Home Price Values in the Washington Metro Area\")\n",
    "\n",
    "# Display it\n",
    "bokeh.io.show(p)"
   ]
  },
  {
   "cell_type": "markdown",
   "metadata": {},
   "source": [
    "  "
   ]
  },
  {
   "cell_type": "markdown",
   "metadata": {},
   "source": [
    "Set the df_us DataFrame index to the column 'date_idx' using the <a href=\"http://nbviewer.jupyter.org/github/RandyBetancourt/PythonForSASUsers/blob/master/Chapter%2005%20--%20Understanding%20Indexes.ipynb#Setting-and-resetting-Indicies\"> set_index() method </a>."
   ]
  },
  {
   "cell_type": "code",
   "execution_count": null,
   "metadata": {
    "collapsed": false
   },
   "outputs": [],
   "source": [
    "df_us.set_index('date_idx', inplace=True, drop=False)"
   ]
  },
  {
   "cell_type": "markdown",
   "metadata": {},
   "source": [
    "  "
   ]
  },
  {
   "cell_type": "code",
   "execution_count": null,
   "metadata": {
    "collapsed": false
   },
   "outputs": [],
   "source": [
    "df_us_qtr = df_us.resample('Q-DEC').mean()"
   ]
  },
  {
   "cell_type": "code",
   "execution_count": null,
   "metadata": {
    "collapsed": false
   },
   "outputs": [],
   "source": [
    "df_us_qtr.info()"
   ]
  },
  {
   "cell_type": "code",
   "execution_count": null,
   "metadata": {
    "collapsed": false
   },
   "outputs": [],
   "source": [
    "p = bokeh.charts.Line(df_us_qtr, x='date', y='index_nsa', color='firebrick',  title=\"Quarterly Home Price Values in the U.S.\")\n",
    "\n",
    "# Display it\n",
    "bokeh.io.show(p)"
   ]
  },
  {
   "cell_type": "code",
   "execution_count": null,
   "metadata": {
    "collapsed": false
   },
   "outputs": [],
   "source": [
    "df_states.head()"
   ]
  },
  {
   "cell_type": "markdown",
   "metadata": {},
   "source": [
    "  "
   ]
  },
  {
   "cell_type": "markdown",
   "metadata": {},
   "source": [
    "Create the new DataFrame 'df_wash' to include row slices where the attribute .str.contains() value is \"Washington\" and the value \"traditional\" is in the column 'hpi_type'."
   ]
  },
  {
   "cell_type": "raw",
   "metadata": {},
   "source": [
    "panda frequency conversion doc is found <a href=\"http://pandas.pydata.org/pandas-docs/stable/timeseries.html#frequency-conversion\"> here</a>.  The .asfreq() method accepts frequency offset suffixes that are listed <a href=\"http://pandas.pydata.org/pandas-docs/stable/timeseries.html#anchored-offsets\"> here</a>. "
   ]
  },
  {
   "cell_type": "markdown",
   "metadata": {},
   "source": [
    " "
   ]
  },
  {
   "cell_type": "raw",
   "metadata": {},
   "source": [
    "Looking at the data for the latest month in the Time Series, we want to find the highest and lowest values for a given place and plot these values over time and use the aggregate U.S. "
   ]
  },
  {
   "cell_type": "code",
   "execution_count": null,
   "metadata": {
    "collapsed": false
   },
   "outputs": [],
   "source": [
    "df_states.sort_values('place_name')\n"
   ]
  },
  {
   "cell_type": "code",
   "execution_count": null,
   "metadata": {
    "collapsed": false
   },
   "outputs": [],
   "source": [
    "df_states.columns"
   ]
  },
  {
   "cell_type": "code",
   "execution_count": null,
   "metadata": {
    "collapsed": true
   },
   "outputs": [],
   "source": [
    "la = df_states.loc['Los Angeles-Long Beach-Glendale, CA (MSAD)']"
   ]
  },
  {
   "cell_type": "code",
   "execution_count": null,
   "metadata": {
    "collapsed": false
   },
   "outputs": [],
   "source": [
    "la"
   ]
  },
  {
   "cell_type": "markdown",
   "metadata": {
    "collapsed": true
   },
   "source": [
    "## Navigation\n",
    "\n",
    "<a href=\"http://nbviewer.jupyter.org/github/RandyBetancourt/PythonForSASUsers/tree/master/\"> Return to Chapter List </a>    "
   ]
  }
 ],
 "metadata": {
  "anaconda-cloud": {},
  "kernelspec": {
   "display_name": "Python [Root]",
   "language": "python",
   "name": "Python [Root]"
  },
  "language_info": {
   "codemirror_mode": {
    "name": "ipython",
    "version": 3
   },
   "file_extension": ".py",
   "mimetype": "text/x-python",
   "name": "python",
   "nbconvert_exporter": "python",
   "pygments_lexer": "ipython3",
   "version": "3.5.2"
  }
 },
 "nbformat": 4,
 "nbformat_minor": 0
}
