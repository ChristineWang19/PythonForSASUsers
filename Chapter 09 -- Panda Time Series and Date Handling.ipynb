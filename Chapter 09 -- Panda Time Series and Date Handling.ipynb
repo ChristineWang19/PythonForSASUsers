{
 "cells": [
  {
   "cell_type": "markdown",
   "metadata": {},
   "source": [
    "# Chapter 09 -- Panda Time Series and Date Handling--DRAFT"
   ]
  },
  {
   "cell_type": "markdown",
   "metadata": {},
   "source": [
    "## Topics Covered:\n",
    "\n",
    "<a href=\"http://nbviewer.jupyter.org/github/RandyBetancourt/PythonForSASUsers/blob/master/Chapter%2009%20--%20Panda%20Time%20Series%20and%20Date%20Handling#Definitions.ipynb\"> Definitions </a>\n",
    "\n",
    "<a href=\"http://nbviewer.jupyter.org/github/RandyBetancourt/PythonForSASUsers/blob/master/Chapter%2009%20--%20Panda%20Time%20Series%20and%20Date%20Handling\"> Creating and manipulating a fixed-frequency of datetime spans </a>\n",
    "\n",
    "Convert time series from one frequency to another\n",
    "\n",
    "Increment 'non-standard' datetimes intervals (e.g. business week)\n",
    "\n",
    "Time Series Walk-Through"
   ]
  },
  {
   "cell_type": "markdown",
   "metadata": {},
   "source": [
    "Chapter 8, <a href=\"http://nbviewer.jupyter.org/github/RandyBetancourt/PythonForSASUsers/blob/master/Chapter%2008%20--%20Python%20Date%2C%20Time%2C%20and%20%20Timedelta%20Objects.ipynb\"> Understanding Date Time and TimeDelta objects </a> provided a short introduction to Python's built-in datetime capabilities.  In this chapter we illustrate pandas time series and date handling.  \n",
    "\n"
   ]
  },
  {
   "cell_type": "code",
   "execution_count": 1,
   "metadata": {
    "collapsed": false
   },
   "outputs": [],
   "source": [
    "from datetime import date, time, datetime, timedelta\n",
    "import numpy as np\n",
    "import pandas as pd\n",
    "from pandas import Series, DataFrame, Index"
   ]
  },
  {
   "cell_type": "markdown",
   "metadata": {},
   "source": [
    "## Definitions\n",
    "\n",
    "To begin, we need to distinguish between object types used to represent datetimes.  While a bit pandantic,, it helps to clarify the behaviors of these objects.  panda Time Series utilize NumPy datetime64 and timedelta64 dtypes.\n",
    "\n",
    "Recall, you can always return an object's type with the type method:\n",
    "\n",
    "    type()\n",
    "    \n",
    "Examples work better than prose.  Consider the assignments in the cell below."
   ]
  },
  {
   "cell_type": "code",
   "execution_count": 2,
   "metadata": {
    "collapsed": false
   },
   "outputs": [],
   "source": [
    "a_date = date(2016, 10, 24)\n",
    "a_datetime = datetime(2016, 10, 24)"
   ]
  },
  {
   "cell_type": "markdown",
   "metadata": {},
   "source": [
    "  "
   ]
  },
  {
   "cell_type": "code",
   "execution_count": 3,
   "metadata": {
    "collapsed": false
   },
   "outputs": [
    {
     "name": "stdout",
     "output_type": "stream",
     "text": [
      "2016-10-24\n",
      "2016-10-24 00:00:00\n"
     ]
    }
   ],
   "source": [
    "print(a_date)\n",
    "print(a_datetime)"
   ]
  },
  {
   "cell_type": "markdown",
   "metadata": {},
   "source": [
    "  "
   ]
  },
  {
   "cell_type": "code",
   "execution_count": 4,
   "metadata": {
    "collapsed": false
   },
   "outputs": [
    {
     "data": {
      "text/plain": [
       "False"
      ]
     },
     "execution_count": 4,
     "metadata": {},
     "output_type": "execute_result"
    }
   ],
   "source": [
    "a_date == a_datetime"
   ]
  },
  {
   "cell_type": "markdown",
   "metadata": {},
   "source": [
    " "
   ]
  },
  {
   "cell_type": "markdown",
   "metadata": {},
   "source": [
    "Not surpringly the date and datetime objects are not logically equivalent.  After all, they use different 'counters'.  Further, \n",
    "the cell below illustrates they are are from two different classes from the datetime module."
   ]
  },
  {
   "cell_type": "markdown",
   "metadata": {},
   "source": [
    " "
   ]
  },
  {
   "cell_type": "code",
   "execution_count": 5,
   "metadata": {
    "collapsed": false,
    "scrolled": true
   },
   "outputs": [
    {
     "name": "stdout",
     "output_type": "stream",
     "text": [
      "<class 'datetime.date'>\n",
      "<class 'datetime.datetime'>\n"
     ]
    }
   ],
   "source": [
    "print(type(a_date))\n",
    "print(type(a_datetime))"
   ]
  },
  {
   "cell_type": "markdown",
   "metadata": {},
   "source": [
    "And in case you were wondering about SAS:"
   ]
  },
  {
   "cell_type": "markdown",
   "metadata": {},
   "source": [
    "````\n",
    "    56       data _null_;\n",
    "    57       \n",
    "    58       a_date = '24Oct2016'd;\n",
    "    59       a_datetime = '24Oct2016:00:00:00'dt;\n",
    "    60       \n",
    "    61       if a_date = a_datetime then\n",
    "    62          put 'True';\n",
    "    63       else\n",
    "    64          put 'False';\n",
    "\n",
    "    False\n",
    "````"
   ]
  },
  {
   "cell_type": "markdown",
   "metadata": {},
   "source": [
    "Python also distinquishes between datetime and datestamps.  Again, examples work better than prose.  The path.getatime() method returns the access time for a file."
   ]
  },
  {
   "cell_type": "code",
   "execution_count": null,
   "metadata": {
    "collapsed": true
   },
   "outputs": [],
   "source": [
    " "
   ]
  },
  {
   "cell_type": "code",
   "execution_count": 6,
   "metadata": {
    "collapsed": false
   },
   "outputs": [],
   "source": [
    "file = \"lines.html\"\n",
    "from os import path\n",
    "\n",
    "a_time = path.getatime(file)\n",
    "\n",
    "af_time = datetime.fromtimestamp(a_time)"
   ]
  },
  {
   "cell_type": "markdown",
   "metadata": {},
   "source": [
    " "
   ]
  },
  {
   "cell_type": "code",
   "execution_count": 7,
   "metadata": {
    "collapsed": false
   },
   "outputs": [
    {
     "name": "stdout",
     "output_type": "stream",
     "text": [
      "value returned: 1477433492.8224854\n",
      "value returned: 2016-10-25 16:11:32.822485\n"
     ]
    }
   ],
   "source": [
    "print('value returned:', a_time)\n",
    "print('value returned:', af_time)"
   ]
  },
  {
   "cell_type": "markdown",
   "metadata": {},
   "source": [
    " "
   ]
  },
  {
   "cell_type": "code",
   "execution_count": 8,
   "metadata": {
    "collapsed": false
   },
   "outputs": [
    {
     "name": "stdout",
     "output_type": "stream",
     "text": [
      "Type for a_time is <class 'float'> and Type for af_time is <class 'datetime.datetime'>\n"
     ]
    }
   ],
   "source": [
    "print('Type for a_time is', type(a_time), 'and Type for af_time is', type(af_time))"
   ]
  },
  {
   "cell_type": "markdown",
   "metadata": {},
   "source": [
    "A timestamp is time value that represents a count of the number of seconds from the start of an epoch.  This is similiar to SAS datetime values that represent an off-set from an epoch beginning at midnight.   "
   ]
  },
  {
   "cell_type": "markdown",
   "metadata": {},
   "source": [
    " "
   ]
  },
  {
   "cell_type": "code",
   "execution_count": 9,
   "metadata": {
    "collapsed": false
   },
   "outputs": [],
   "source": [
    "pdt = pd.Timestamp('2016-10-24')"
   ]
  },
  {
   "cell_type": "markdown",
   "metadata": {},
   "source": [
    "  "
   ]
  },
  {
   "cell_type": "code",
   "execution_count": 10,
   "metadata": {
    "collapsed": false
   },
   "outputs": [
    {
     "data": {
      "text/plain": [
       "pandas.tslib.Timestamp"
      ]
     },
     "execution_count": 10,
     "metadata": {},
     "output_type": "execute_result"
    }
   ],
   "source": [
    "type(pdt)"
   ]
  },
  {
   "cell_type": "markdown",
   "metadata": {},
   "source": [
    "## Creating and manipulating a fixed-frequency of date and time spans"
   ]
  },
  {
   "cell_type": "markdown",
   "metadata": {},
   "source": [
    "The pd.date_range() method generates a DateTime Index which is applied to a panda Series or DataFrame to provide datetime interval indexing.  We will see examples of its construction methods.  And later we will utilize indexers taking advange of the Date TimeIndex.  "
   ]
  },
  {
   "cell_type": "code",
   "execution_count": 11,
   "metadata": {
    "collapsed": false
   },
   "outputs": [],
   "source": [
    "rng = pd.date_range('1/1/2016', periods=90, freq='D')"
   ]
  },
  {
   "cell_type": "markdown",
   "metadata": {},
   "source": [
    "Print the first 10 dates in the DateTimeIndex"
   ]
  },
  {
   "cell_type": "code",
   "execution_count": 12,
   "metadata": {
    "collapsed": false
   },
   "outputs": [
    {
     "data": {
      "text/plain": [
       "DatetimeIndex(['2016-01-01', '2016-01-02', '2016-01-03', '2016-01-04',\n",
       "               '2016-01-05', '2016-01-06', '2016-01-07', '2016-01-08',\n",
       "               '2016-01-09', '2016-01-10'],\n",
       "              dtype='datetime64[ns]', freq='D')"
      ]
     },
     "execution_count": 12,
     "metadata": {},
     "output_type": "execute_result"
    }
   ],
   "source": [
    "rng[:10]"
   ]
  },
  {
   "cell_type": "markdown",
   "metadata": {},
   "source": [
    "  "
   ]
  },
  {
   "cell_type": "code",
   "execution_count": 13,
   "metadata": {
    "collapsed": false
   },
   "outputs": [],
   "source": [
    "ts = pd.Series(np.random.randn(len(rng)), index=rng)"
   ]
  },
  {
   "cell_type": "markdown",
   "metadata": {},
   "source": [
    "  "
   ]
  },
  {
   "cell_type": "code",
   "execution_count": 14,
   "metadata": {
    "collapsed": false
   },
   "outputs": [
    {
     "data": {
      "text/plain": [
       "pandas.core.series.Series"
      ]
     },
     "execution_count": 14,
     "metadata": {},
     "output_type": "execute_result"
    }
   ],
   "source": [
    "type(ts)"
   ]
  },
  {
   "cell_type": "code",
   "execution_count": null,
   "metadata": {
    "collapsed": true
   },
   "outputs": [],
   "source": [
    "  "
   ]
  },
  {
   "cell_type": "markdown",
   "metadata": {},
   "source": [
    "Time-stamped data for pandas represent a point in time."
   ]
  },
  {
   "cell_type": "markdown",
   "metadata": {},
   "source": [
    "Period being inferred from the datetime string."
   ]
  },
  {
   "cell_type": "code",
   "execution_count": 15,
   "metadata": {
    "collapsed": false
   },
   "outputs": [
    {
     "data": {
      "text/plain": [
       "Period('2016-01-01', 'D')"
      ]
     },
     "execution_count": 15,
     "metadata": {},
     "output_type": "execute_result"
    }
   ],
   "source": [
    "pd.Period('2016-01-01')"
   ]
  },
  {
   "cell_type": "markdown",
   "metadata": {},
   "source": [
    "Get type"
   ]
  },
  {
   "cell_type": "code",
   "execution_count": 16,
   "metadata": {
    "collapsed": false
   },
   "outputs": [
    {
     "data": {
      "text/plain": [
       "pandas._period.Period"
      ]
     },
     "execution_count": 16,
     "metadata": {},
     "output_type": "execute_result"
    }
   ],
   "source": [
    "type(pd.Period('2016-01-01'))"
   ]
  },
  {
   "cell_type": "markdown",
   "metadata": {},
   "source": [
    "Period being set explicitly"
   ]
  },
  {
   "cell_type": "code",
   "execution_count": 17,
   "metadata": {
    "collapsed": false
   },
   "outputs": [
    {
     "data": {
      "text/plain": [
       "Period('2016-05-01', 'D')"
      ]
     },
     "execution_count": 17,
     "metadata": {},
     "output_type": "execute_result"
    }
   ],
   "source": [
    "pd.Period('2016-05', freq='D')"
   ]
  },
  {
   "cell_type": "markdown",
   "metadata": {},
   "source": [
    "Timestamp and Period can be an index.  Coerced into PeriodIndex and DateTimeIndex"
   ]
  },
  {
   "cell_type": "code",
   "execution_count": 18,
   "metadata": {
    "collapsed": true
   },
   "outputs": [],
   "source": [
    "dates = [pd.Timestamp('2012-05-01'), pd.Timestamp('2012-05-02'), pd.Timestamp('2012-05-03')]"
   ]
  },
  {
   "cell_type": "markdown",
   "metadata": {},
   "source": [
    "  "
   ]
  },
  {
   "cell_type": "code",
   "execution_count": 19,
   "metadata": {
    "collapsed": false
   },
   "outputs": [
    {
     "data": {
      "text/plain": [
       "[Timestamp('2012-05-01 00:00:00'),\n",
       " Timestamp('2012-05-02 00:00:00'),\n",
       " Timestamp('2012-05-03 00:00:00')]"
      ]
     },
     "execution_count": 19,
     "metadata": {},
     "output_type": "execute_result"
    }
   ],
   "source": [
    "dates"
   ]
  },
  {
   "cell_type": "markdown",
   "metadata": {},
   "source": [
    "  "
   ]
  },
  {
   "cell_type": "code",
   "execution_count": 20,
   "metadata": {
    "collapsed": true
   },
   "outputs": [],
   "source": [
    " ts = pd.Series(np.random.randn(3), dates)"
   ]
  },
  {
   "cell_type": "markdown",
   "metadata": {},
   "source": [
    "  "
   ]
  },
  {
   "cell_type": "code",
   "execution_count": 21,
   "metadata": {
    "collapsed": false
   },
   "outputs": [
    {
     "data": {
      "text/plain": [
       "2012-05-01   -0.874887\n",
       "2012-05-02   -0.845246\n",
       "2012-05-03    0.797528\n",
       "dtype: float64"
      ]
     },
     "execution_count": 21,
     "metadata": {},
     "output_type": "execute_result"
    }
   ],
   "source": [
    "ts"
   ]
  },
  {
   "cell_type": "markdown",
   "metadata": {},
   "source": [
    "  "
   ]
  },
  {
   "cell_type": "code",
   "execution_count": 22,
   "metadata": {
    "collapsed": false
   },
   "outputs": [
    {
     "data": {
      "text/plain": [
       "pandas.tseries.index.DatetimeIndex"
      ]
     },
     "execution_count": 22,
     "metadata": {},
     "output_type": "execute_result"
    }
   ],
   "source": [
    "type(ts.index)"
   ]
  },
  {
   "cell_type": "markdown",
   "metadata": {},
   "source": [
    "  "
   ]
  },
  {
   "cell_type": "code",
   "execution_count": 23,
   "metadata": {
    "collapsed": false
   },
   "outputs": [
    {
     "data": {
      "text/plain": [
       "DatetimeIndex(['2012-05-01', '2012-05-02', '2012-05-03'], dtype='datetime64[ns]', freq=None)"
      ]
     },
     "execution_count": 23,
     "metadata": {},
     "output_type": "execute_result"
    }
   ],
   "source": [
    "ts.index"
   ]
  },
  {
   "cell_type": "markdown",
   "metadata": {},
   "source": [
    "  "
   ]
  },
  {
   "cell_type": "markdown",
   "metadata": {},
   "source": [
    "Convert date string to datetime"
   ]
  },
  {
   "cell_type": "code",
   "execution_count": 24,
   "metadata": {
    "collapsed": false
   },
   "outputs": [
    {
     "data": {
      "text/plain": [
       "Timestamp('2016-11-30 00:00:00')"
      ]
     },
     "execution_count": 24,
     "metadata": {},
     "output_type": "execute_result"
    }
   ],
   "source": [
    "pd.to_datetime('2016/11/30')"
   ]
  },
  {
   "cell_type": "markdown",
   "metadata": {},
   "source": [
    "  "
   ]
  },
  {
   "cell_type": "code",
   "execution_count": 25,
   "metadata": {
    "collapsed": false
   },
   "outputs": [
    {
     "data": {
      "text/plain": [
       "pandas.tslib.Timestamp"
      ]
     },
     "execution_count": 25,
     "metadata": {},
     "output_type": "execute_result"
    }
   ],
   "source": [
    "type(pd.to_datetime('2016/11/30'))"
   ]
  },
  {
   "cell_type": "markdown",
   "metadata": {
    "collapsed": true
   },
   "source": [
    "Convert date string to Timestamp"
   ]
  },
  {
   "cell_type": "code",
   "execution_count": 26,
   "metadata": {
    "collapsed": false
   },
   "outputs": [
    {
     "data": {
      "text/plain": [
       "Timestamp('2016-11-30 00:00:00')"
      ]
     },
     "execution_count": 26,
     "metadata": {},
     "output_type": "execute_result"
    }
   ],
   "source": [
    "pd.Timestamp('2016/11/30')"
   ]
  },
  {
   "cell_type": "code",
   "execution_count": 27,
   "metadata": {
    "collapsed": false
   },
   "outputs": [
    {
     "data": {
      "text/plain": [
       "pandas.tslib.Timestamp"
      ]
     },
     "execution_count": 27,
     "metadata": {},
     "output_type": "execute_result"
    }
   ],
   "source": [
    "type(pd.Timestamp('2016/11/30'))"
   ]
  },
  {
   "cell_type": "markdown",
   "metadata": {
    "collapsed": true
   },
   "source": [
    "You can assemble a DataFrame by using strings and integers for columns."
   ]
  },
  {
   "cell_type": "code",
   "execution_count": 28,
   "metadata": {
    "collapsed": false
   },
   "outputs": [],
   "source": [
    "df = pd.DataFrame({'year': [2014, 2015, 2016],\n",
    "                   'month': [1, 2, 3],\n",
    "                   'day': [1,2,3,]})\n",
    "df1 = pd.to_datetime(df)"
   ]
  },
  {
   "cell_type": "code",
   "execution_count": 29,
   "metadata": {
    "collapsed": false
   },
   "outputs": [],
   "source": [
    "from datetime import datetime, date, time\n",
    "start = datetime(2016, 1, 1)\n",
    "end = datetime(2016, 12, 31)\n",
    "rng = pd.date_range(start,end)"
   ]
  },
  {
   "cell_type": "code",
   "execution_count": 30,
   "metadata": {
    "collapsed": false
   },
   "outputs": [
    {
     "data": {
      "text/plain": [
       "DatetimeIndex(['2016-01-01', '2016-01-02', '2016-01-03', '2016-01-04',\n",
       "               '2016-01-05', '2016-01-06', '2016-01-07', '2016-01-08',\n",
       "               '2016-01-09', '2016-01-10',\n",
       "               ...\n",
       "               '2016-12-22', '2016-12-23', '2016-12-24', '2016-12-25',\n",
       "               '2016-12-26', '2016-12-27', '2016-12-28', '2016-12-29',\n",
       "               '2016-12-30', '2016-12-31'],\n",
       "              dtype='datetime64[ns]', length=366, freq='D')"
      ]
     },
     "execution_count": 30,
     "metadata": {},
     "output_type": "execute_result"
    }
   ],
   "source": [
    "rng"
   ]
  },
  {
   "cell_type": "code",
   "execution_count": 31,
   "metadata": {
    "collapsed": true
   },
   "outputs": [],
   "source": [
    "start = datetime(2016, 1, 1)\n",
    "end = datetime(2016, 12, 31)\n",
    "b_rng = pd.bdate_range(start,end)"
   ]
  },
  {
   "cell_type": "code",
   "execution_count": 32,
   "metadata": {
    "collapsed": false
   },
   "outputs": [
    {
     "data": {
      "text/plain": [
       "DatetimeIndex(['2016-01-01', '2016-01-04', '2016-01-05', '2016-01-06',\n",
       "               '2016-01-07', '2016-01-08', '2016-01-11', '2016-01-12',\n",
       "               '2016-01-13', '2016-01-14',\n",
       "               ...\n",
       "               '2016-12-19', '2016-12-20', '2016-12-21', '2016-12-22',\n",
       "               '2016-12-23', '2016-12-26', '2016-12-27', '2016-12-28',\n",
       "               '2016-12-29', '2016-12-30'],\n",
       "              dtype='datetime64[ns]', length=261, freq='B')"
      ]
     },
     "execution_count": 32,
     "metadata": {},
     "output_type": "execute_result"
    }
   ],
   "source": [
    "b_rng"
   ]
  },
  {
   "cell_type": "code",
   "execution_count": 33,
   "metadata": {
    "collapsed": false
   },
   "outputs": [
    {
     "data": {
      "text/plain": [
       "DatetimeIndex(['2016-01-29', '2016-02-29', '2016-03-31', '2016-04-29',\n",
       "               '2016-05-31', '2016-06-30', '2016-07-29', '2016-08-31',\n",
       "               '2016-09-30', '2016-10-31', '2016-11-30', '2016-12-30'],\n",
       "              dtype='datetime64[ns]', freq='BM')"
      ]
     },
     "execution_count": 33,
     "metadata": {},
     "output_type": "execute_result"
    }
   ],
   "source": [
    "rng = pd.date_range(start, end, freq='BM')\n",
    "ts = pd.Series(np.random.randn(len(rng)), index=rng)\n",
    "ts.index"
   ]
  },
  {
   "cell_type": "markdown",
   "metadata": {},
   "source": [
    "Returns the first 5"
   ]
  },
  {
   "cell_type": "code",
   "execution_count": 34,
   "metadata": {
    "collapsed": false
   },
   "outputs": [
    {
     "data": {
      "text/plain": [
       "DatetimeIndex(['2016-01-29', '2016-02-29', '2016-03-31', '2016-04-29',\n",
       "               '2016-05-31'],\n",
       "              dtype='datetime64[ns]', freq='BM')"
      ]
     },
     "execution_count": 34,
     "metadata": {},
     "output_type": "execute_result"
    }
   ],
   "source": [
    "ts[:5].index"
   ]
  },
  {
   "cell_type": "markdown",
   "metadata": {},
   "source": [
    " Returns the nth, i.e. 2 = every other one"
   ]
  },
  {
   "cell_type": "code",
   "execution_count": 35,
   "metadata": {
    "collapsed": false
   },
   "outputs": [
    {
     "data": {
      "text/plain": [
       "2016-01-29    0.105842\n",
       "2016-03-31    1.778767\n",
       "2016-05-31   -0.791868\n",
       "2016-07-29   -1.250695\n",
       "2016-09-30    0.439636\n",
       "2016-11-30   -0.257892\n",
       "Freq: 2BM, dtype: float64"
      ]
     },
     "execution_count": 35,
     "metadata": {},
     "output_type": "execute_result"
    }
   ],
   "source": [
    "ts[::2]"
   ]
  },
  {
   "cell_type": "code",
   "execution_count": 36,
   "metadata": {
    "collapsed": false
   },
   "outputs": [
    {
     "data": {
      "text/plain": [
       "2016-01-29    0.105842\n",
       "2016-07-29   -1.250695\n",
       "Freq: 6BM, dtype: float64"
      ]
     },
     "execution_count": 36,
     "metadata": {},
     "output_type": "execute_result"
    }
   ],
   "source": [
    "ts[::6]"
   ]
  },
  {
   "cell_type": "markdown",
   "metadata": {},
   "source": [
    "## Time Series Walk-Through\n",
    "\n",
    "We can begin combining features covered in previous chapters to conduct a walk-through of an actual time-series analysis.  The data is the FHFA House Price Index (HPI) \n",
    "\n",
    "It is a broad measure of the movement of single-family house prices. The HPI is a weighted, repeat-sales index, meaning that it measures average price changes in repeat sales or refinancings on the same properties. This information is obtained by reviewing repeat mortgage transactions on single-family properties whose mortgages have been purchased or securitized by Fannie Mae or Freddie Mac.  \n",
    "\n",
    "Details about the data and how it is organized can be found <a href=\"https://catalog.data.gov/dataset/fhfa-house-price-indexes-hpis\"> here </a>. \n",
    "\n",
    "This time series begins January 1991 and end August 2016.  Both the seasonally adjusted index 'index_sa' and the non-seaonally adjusted index 'index_nsa' set the index value at 100 for January 1991.  "
   ]
  },
  {
   "cell_type": "markdown",
   "metadata": {},
   "source": [
    "The .csv file is two parts.  Part 1, rows 2 to 3079 are records for the aggregate market groups at the Census Division level.  The frequency interval is monthly.\n",
    "\n",
    "Part 2, rows 3080 to 96,243 are more granular with 4 values for level, 'MSA', 'State', 'USA or Census Division', and 'Puerto Rico'.  The frequency interval is quarterly. \n",
    "\n",
    "Start with the U.S. portion by reading part 1 of the file.  The pd.read_csv method uses the one required arguement, the input file name to create the DataFrame 'df_all'."
   ]
  },
  {
   "cell_type": "code",
   "execution_count": 37,
   "metadata": {
    "collapsed": true
   },
   "outputs": [],
   "source": [
    "df_all = pd.read_csv(\"C:\\Data\\\\HPI_master.csv\")"
   ]
  },
  {
   "cell_type": "markdown",
   "metadata": {},
   "source": [
    "Check the first 5 rows to determine if the read_csv() method is giving the expected results."
   ]
  },
  {
   "cell_type": "code",
   "execution_count": 38,
   "metadata": {
    "collapsed": false
   },
   "outputs": [
    {
     "data": {
      "text/html": [
       "<div>\n",
       "<table border=\"1\" class=\"dataframe\">\n",
       "  <thead>\n",
       "    <tr style=\"text-align: right;\">\n",
       "      <th></th>\n",
       "      <th>hpi_type</th>\n",
       "      <th>hpi_flavor</th>\n",
       "      <th>frequency</th>\n",
       "      <th>level</th>\n",
       "      <th>place_name</th>\n",
       "      <th>place_id</th>\n",
       "      <th>yr</th>\n",
       "      <th>period</th>\n",
       "      <th>index_nsa</th>\n",
       "      <th>index_sa</th>\n",
       "    </tr>\n",
       "  </thead>\n",
       "  <tbody>\n",
       "    <tr>\n",
       "      <th>99320</th>\n",
       "      <td>developmental</td>\n",
       "      <td>purchase-only</td>\n",
       "      <td>quarterly</td>\n",
       "      <td>Puerto Rico</td>\n",
       "      <td>Puerto Rico</td>\n",
       "      <td>PR</td>\n",
       "      <td>2015</td>\n",
       "      <td>2</td>\n",
       "      <td>160.23</td>\n",
       "      <td>158.62</td>\n",
       "    </tr>\n",
       "    <tr>\n",
       "      <th>99321</th>\n",
       "      <td>developmental</td>\n",
       "      <td>purchase-only</td>\n",
       "      <td>quarterly</td>\n",
       "      <td>Puerto Rico</td>\n",
       "      <td>Puerto Rico</td>\n",
       "      <td>PR</td>\n",
       "      <td>2015</td>\n",
       "      <td>3</td>\n",
       "      <td>159.54</td>\n",
       "      <td>161.27</td>\n",
       "    </tr>\n",
       "    <tr>\n",
       "      <th>99322</th>\n",
       "      <td>developmental</td>\n",
       "      <td>purchase-only</td>\n",
       "      <td>quarterly</td>\n",
       "      <td>Puerto Rico</td>\n",
       "      <td>Puerto Rico</td>\n",
       "      <td>PR</td>\n",
       "      <td>2015</td>\n",
       "      <td>4</td>\n",
       "      <td>155.14</td>\n",
       "      <td>152.81</td>\n",
       "    </tr>\n",
       "    <tr>\n",
       "      <th>99323</th>\n",
       "      <td>developmental</td>\n",
       "      <td>purchase-only</td>\n",
       "      <td>quarterly</td>\n",
       "      <td>Puerto Rico</td>\n",
       "      <td>Puerto Rico</td>\n",
       "      <td>PR</td>\n",
       "      <td>2016</td>\n",
       "      <td>1</td>\n",
       "      <td>150.61</td>\n",
       "      <td>154.71</td>\n",
       "    </tr>\n",
       "    <tr>\n",
       "      <th>99324</th>\n",
       "      <td>developmental</td>\n",
       "      <td>purchase-only</td>\n",
       "      <td>quarterly</td>\n",
       "      <td>Puerto Rico</td>\n",
       "      <td>Puerto Rico</td>\n",
       "      <td>PR</td>\n",
       "      <td>2016</td>\n",
       "      <td>2</td>\n",
       "      <td>165.45</td>\n",
       "      <td>163.82</td>\n",
       "    </tr>\n",
       "  </tbody>\n",
       "</table>\n",
       "</div>"
      ],
      "text/plain": [
       "            hpi_type     hpi_flavor  frequency        level   place_name  \\\n",
       "99320  developmental  purchase-only  quarterly  Puerto Rico  Puerto Rico   \n",
       "99321  developmental  purchase-only  quarterly  Puerto Rico  Puerto Rico   \n",
       "99322  developmental  purchase-only  quarterly  Puerto Rico  Puerto Rico   \n",
       "99323  developmental  purchase-only  quarterly  Puerto Rico  Puerto Rico   \n",
       "99324  developmental  purchase-only  quarterly  Puerto Rico  Puerto Rico   \n",
       "\n",
       "      place_id    yr  period  index_nsa  index_sa  \n",
       "99320       PR  2015       2     160.23    158.62  \n",
       "99321       PR  2015       3     159.54    161.27  \n",
       "99322       PR  2015       4     155.14    152.81  \n",
       "99323       PR  2016       1     150.61    154.71  \n",
       "99324       PR  2016       2     165.45    163.82  "
      ]
     },
     "execution_count": 38,
     "metadata": {},
     "output_type": "execute_result"
    }
   ],
   "source": [
    "df_all.tail()"
   ]
  },
  {
   "cell_type": "markdown",
   "metadata": {},
   "source": [
    "We need to combine the year and period fields into a DataTime Stamp.  The .csv file in cell #xx above is read without any datetime parsing for the fields, 'yr' and 'period'.  We could post-process these fields to construct the appropriate date timestamp values.  \n",
    "\n",
    "A better approach is below.  The parse_dates= argument allows a <a href=\"http://nbviewer.jupyter.org/github/RandyBetancourt/PythonForSASUsers/blob/master/Chapter%2002%20--%20Data%20Structures.ipynb#dictionary\"> dictionary </a> object with the key being the arbitrary name of the new column created and the key values indicating which fields are to be read in the .csv file.  Recall that Python indexes have a start position of 0.  In the .csv file, these fields are the 7th and 8th.\n",
    "\n",
    "Sometimes, you may need to create your own date-parser, analogous to building a user-defined SAS INFORMAT to map field values into a datetime object.  This is particularly true in cases where the date value is stored as component values in multiple fields.   \n",
    "\n",
    "## url for custom date_parser here"
   ]
  },
  {
   "cell_type": "code",
   "execution_count": 52,
   "metadata": {
    "collapsed": false
   },
   "outputs": [],
   "source": [
    "df = pd.read_csv(\"C:\\Data\\\\HPI_master.csv\",\n",
    "                 parse_dates={'date_idx': [6,7]},\n",
    "                 nrows=3080)"
   ]
  },
  {
   "cell_type": "markdown",
   "metadata": {},
   "source": [
    "  "
   ]
  },
  {
   "cell_type": "code",
   "execution_count": 53,
   "metadata": {
    "collapsed": false
   },
   "outputs": [
    {
     "data": {
      "text/plain": [
       "(3080, 9)"
      ]
     },
     "execution_count": 53,
     "metadata": {},
     "output_type": "execute_result"
    }
   ],
   "source": [
    "df.shape"
   ]
  },
  {
   "cell_type": "markdown",
   "metadata": {},
   "source": [
    "  "
   ]
  },
  {
   "cell_type": "markdown",
   "metadata": {},
   "source": [
    "Check for missing values."
   ]
  },
  {
   "cell_type": "code",
   "execution_count": 54,
   "metadata": {
    "collapsed": false
   },
   "outputs": [
    {
     "data": {
      "text/plain": [
       "date_idx      False\n",
       "hpi_type      False\n",
       "hpi_flavor    False\n",
       "frequency     False\n",
       "level         False\n",
       "place_name    False\n",
       "place_id      False\n",
       "index_nsa     False\n",
       "index_sa      False\n",
       "dtype: bool"
      ]
     },
     "execution_count": 54,
     "metadata": {},
     "output_type": "execute_result"
    }
   ],
   "source": [
    "df.isnull().any()"
   ]
  },
  {
   "cell_type": "markdown",
   "metadata": {},
   "source": [
    "Map the string 'date_idx' column constructed through the date_parser to a datetime value.  Set the 'date' column as the index on the DataFrame."
   ]
  },
  {
   "cell_type": "code",
   "execution_count": 55,
   "metadata": {
    "collapsed": false
   },
   "outputs": [],
   "source": [
    "df['date'] = pd.to_datetime(df['date_idx'])\n",
    "df.set_index(\"date\", inplace=True, drop=False)"
   ]
  },
  {
   "cell_type": "markdown",
   "metadata": {},
   "source": [
    "Indexing on the datetime column 'date' creates a 'time-aware' DateTimeIndex.  "
   ]
  },
  {
   "cell_type": "code",
   "execution_count": 56,
   "metadata": {
    "collapsed": false
   },
   "outputs": [
    {
     "data": {
      "text/plain": [
       "DatetimeIndex(['1991-01-01', '1991-02-01', '1991-03-01', '1991-04-01',\n",
       "               '1991-05-01', '1991-06-01', '1991-07-01', '1991-08-01',\n",
       "               '1991-09-01', '1991-10-01',\n",
       "               ...\n",
       "               '2015-11-01', '2015-12-01', '2016-01-01', '2016-02-01',\n",
       "               '2016-03-01', '2016-04-01', '2016-05-01', '2016-06-01',\n",
       "               '2016-07-01', '2016-08-01'],\n",
       "              dtype='datetime64[ns]', name='date', length=3080, freq=None)"
      ]
     },
     "execution_count": 56,
     "metadata": {},
     "output_type": "execute_result"
    }
   ],
   "source": [
    "df.index"
   ]
  },
  {
   "cell_type": "markdown",
   "metadata": {},
   "source": [
    "Get the first and last date values."
   ]
  },
  {
   "cell_type": "code",
   "execution_count": 57,
   "metadata": {
    "collapsed": false
   },
   "outputs": [
    {
     "name": "stdout",
     "output_type": "stream",
     "text": [
      "Earliest date is: 1991-01-01 00:00:00\n",
      "Latest date is: 2016-08-01 00:00:00\n"
     ]
    }
   ],
   "source": [
    "print('Earliest date is:', df.date.min())\n",
    "print('Latest date is:', df.date.max())"
   ]
  },
  {
   "cell_type": "markdown",
   "metadata": {},
   "source": [
    "We see from cell #xx above, that we have several categorical columns.  So we need to understand their levels.  Earlier, we saw the .describe() method used for numerical columns.  In this example, specifying the 'include=' argument provides a description of string columns.  "
   ]
  },
  {
   "cell_type": "code",
   "execution_count": 64,
   "metadata": {
    "collapsed": false
   },
   "outputs": [
    {
     "data": {
      "text/html": [
       "<div>\n",
       "<table border=\"1\" class=\"dataframe\">\n",
       "  <thead>\n",
       "    <tr style=\"text-align: right;\">\n",
       "      <th></th>\n",
       "      <th>hpi_type</th>\n",
       "      <th>hpi_flavor</th>\n",
       "      <th>frequency</th>\n",
       "      <th>level</th>\n",
       "      <th>place_name</th>\n",
       "      <th>place_id</th>\n",
       "    </tr>\n",
       "  </thead>\n",
       "  <tbody>\n",
       "    <tr>\n",
       "      <th>count</th>\n",
       "      <td>3080</td>\n",
       "      <td>3080</td>\n",
       "      <td>3080</td>\n",
       "      <td>3080</td>\n",
       "      <td>3080</td>\n",
       "      <td>3080</td>\n",
       "    </tr>\n",
       "    <tr>\n",
       "      <th>unique</th>\n",
       "      <td>1</td>\n",
       "      <td>1</td>\n",
       "      <td>1</td>\n",
       "      <td>1</td>\n",
       "      <td>10</td>\n",
       "      <td>10</td>\n",
       "    </tr>\n",
       "    <tr>\n",
       "      <th>top</th>\n",
       "      <td>traditional</td>\n",
       "      <td>purchase-only</td>\n",
       "      <td>monthly</td>\n",
       "      <td>USA or Census Division</td>\n",
       "      <td>Middle Atlantic Division</td>\n",
       "      <td>DV_WNC</td>\n",
       "    </tr>\n",
       "    <tr>\n",
       "      <th>freq</th>\n",
       "      <td>3080</td>\n",
       "      <td>3080</td>\n",
       "      <td>3080</td>\n",
       "      <td>3080</td>\n",
       "      <td>308</td>\n",
       "      <td>308</td>\n",
       "    </tr>\n",
       "  </tbody>\n",
       "</table>\n",
       "</div>"
      ],
      "text/plain": [
       "           hpi_type     hpi_flavor frequency                   level  \\\n",
       "count          3080           3080      3080                    3080   \n",
       "unique            1              1         1                       1   \n",
       "top     traditional  purchase-only   monthly  USA or Census Division   \n",
       "freq           3080           3080      3080                    3080   \n",
       "\n",
       "                      place_name place_id  \n",
       "count                       3080     3080  \n",
       "unique                        10       10  \n",
       "top     Middle Atlantic Division   DV_WNC  \n",
       "freq                         308      308  "
      ]
     },
     "execution_count": 64,
     "metadata": {},
     "output_type": "execute_result"
    }
   ],
   "source": [
    "df.describe(include=['O'])"
   ]
  },
  {
   "cell_type": "markdown",
   "metadata": {},
   "source": [
    "The 'place_name' column has 10 unique levels or values.  We can examine these values with the .unique() attribute."
   ]
  },
  {
   "cell_type": "markdown",
   "metadata": {},
   "source": [
    "   "
   ]
  },
  {
   "cell_type": "code",
   "execution_count": 67,
   "metadata": {
    "collapsed": false
   },
   "outputs": [
    {
     "data": {
      "text/plain": [
       "array(['East North Central Division', 'East South Central Division',\n",
       "       'Middle Atlantic Division', 'Mountain Division',\n",
       "       'New England Division', 'Pacific Division',\n",
       "       'South Atlantic Division', 'West North Central Division',\n",
       "       'West South Central Division', 'United States'], dtype=object)"
      ]
     },
     "execution_count": 67,
     "metadata": {},
     "output_type": "execute_result"
    }
   ],
   "source": [
    "df.place_name.unique()"
   ]
  },
  {
   "cell_type": "markdown",
   "metadata": {},
   "source": [
    "  "
   ]
  },
  {
   "cell_type": "markdown",
   "metadata": {},
   "source": [
    "By setting an index on the column 'place_name', create a sub-set of the DataFrame 'df_all' to include just those rows for the U.S.  The .loc indexer allows row slicing which is covered in detail <a href=\"http://nbviewer.jupyter.org/github/RandyBetancourt/PythonForSASUsers/blob/master/Chapter%2005%20--%20Understanding%20Indexes.ipynb#.loc-Indexer\"> here </a>."
   ]
  },
  {
   "cell_type": "code",
   "execution_count": 68,
   "metadata": {
    "collapsed": true
   },
   "outputs": [],
   "source": [
    "df.set_index('place_name', inplace=True, drop=False)\n",
    "df_us = df.loc['United States']"
   ]
  },
  {
   "cell_type": "markdown",
   "metadata": {},
   "source": [
    "  "
   ]
  },
  {
   "cell_type": "markdown",
   "metadata": {},
   "source": [
    "Time series data lends itself well to plotting.  Here we use the bokeh package to plot the non-seasonal home price index for three regions.  \n",
    "\n",
    "Start by plotting the series for the entire U.S.  For this, we use the 'df_us' DataFrame created above."
   ]
  },
  {
   "cell_type": "code",
   "execution_count": 61,
   "metadata": {
    "collapsed": false
   },
   "outputs": [
    {
     "data": {
      "text/html": [
       "\n",
       "    <div class=\"bk-root\">\n",
       "        <a href=\"http://bokeh.pydata.org\" target=\"_blank\" class=\"bk-logo bk-logo-small bk-logo-notebook\"></a>\n",
       "        <span id=\"4c8468ca-45e1-4127-ab2c-b3e53202b684\">Loading BokehJS ...</span>\n",
       "    </div>"
      ]
     },
     "metadata": {},
     "output_type": "display_data"
    },
    {
     "data": {
      "application/javascript": [
       "\n",
       "(function(global) {\n",
       "  function now() {\n",
       "    return new Date();\n",
       "  }\n",
       "\n",
       "  var force = \"1\";\n",
       "\n",
       "  if (typeof (window._bokeh_onload_callbacks) === \"undefined\" || force !== \"\") {\n",
       "    window._bokeh_onload_callbacks = [];\n",
       "    window._bokeh_is_loading = undefined;\n",
       "  }\n",
       "\n",
       "\n",
       "  \n",
       "  if (typeof (window._bokeh_timeout) === \"undefined\" || force !== \"\") {\n",
       "    window._bokeh_timeout = Date.now() + 5000;\n",
       "    window._bokeh_failed_load = false;\n",
       "  }\n",
       "\n",
       "  var NB_LOAD_WARNING = {'data': {'text/html':\n",
       "     \"<div style='background-color: #fdd'>\\n\"+\n",
       "     \"<p>\\n\"+\n",
       "     \"BokehJS does not appear to have successfully loaded. If loading BokehJS from CDN, this \\n\"+\n",
       "     \"may be due to a slow or bad network connection. Possible fixes:\\n\"+\n",
       "     \"</p>\\n\"+\n",
       "     \"<ul>\\n\"+\n",
       "     \"<li>re-rerun `output_notebook()` to attempt to load from CDN again, or</li>\\n\"+\n",
       "     \"<li>use INLINE resources instead, as so:</li>\\n\"+\n",
       "     \"</ul>\\n\"+\n",
       "     \"<code>\\n\"+\n",
       "     \"from bokeh.resources import INLINE\\n\"+\n",
       "     \"output_notebook(resources=INLINE)\\n\"+\n",
       "     \"</code>\\n\"+\n",
       "     \"</div>\"}};\n",
       "\n",
       "  function display_loaded() {\n",
       "    if (window.Bokeh !== undefined) {\n",
       "      Bokeh.$(\"#4c8468ca-45e1-4127-ab2c-b3e53202b684\").text(\"BokehJS successfully loaded.\");\n",
       "    } else if (Date.now() < window._bokeh_timeout) {\n",
       "      setTimeout(display_loaded, 100)\n",
       "    }\n",
       "  }\n",
       "\n",
       "  function run_callbacks() {\n",
       "    window._bokeh_onload_callbacks.forEach(function(callback) { callback() });\n",
       "    delete window._bokeh_onload_callbacks\n",
       "    console.info(\"Bokeh: all callbacks have finished\");\n",
       "  }\n",
       "\n",
       "  function load_libs(js_urls, callback) {\n",
       "    window._bokeh_onload_callbacks.push(callback);\n",
       "    if (window._bokeh_is_loading > 0) {\n",
       "      console.log(\"Bokeh: BokehJS is being loaded, scheduling callback at\", now());\n",
       "      return null;\n",
       "    }\n",
       "    if (js_urls == null || js_urls.length === 0) {\n",
       "      run_callbacks();\n",
       "      return null;\n",
       "    }\n",
       "    console.log(\"Bokeh: BokehJS not loaded, scheduling load and callback at\", now());\n",
       "    window._bokeh_is_loading = js_urls.length;\n",
       "    for (var i = 0; i < js_urls.length; i++) {\n",
       "      var url = js_urls[i];\n",
       "      var s = document.createElement('script');\n",
       "      s.src = url;\n",
       "      s.async = false;\n",
       "      s.onreadystatechange = s.onload = function() {\n",
       "        window._bokeh_is_loading--;\n",
       "        if (window._bokeh_is_loading === 0) {\n",
       "          console.log(\"Bokeh: all BokehJS libraries loaded\");\n",
       "          run_callbacks()\n",
       "        }\n",
       "      };\n",
       "      s.onerror = function() {\n",
       "        console.warn(\"failed to load library \" + url);\n",
       "      };\n",
       "      console.log(\"Bokeh: injecting script tag for BokehJS library: \", url);\n",
       "      document.getElementsByTagName(\"head\")[0].appendChild(s);\n",
       "    }\n",
       "  };var element = document.getElementById(\"4c8468ca-45e1-4127-ab2c-b3e53202b684\");\n",
       "  if (element == null) {\n",
       "    console.log(\"Bokeh: ERROR: autoload.js configured with elementid '4c8468ca-45e1-4127-ab2c-b3e53202b684' but no matching script tag was found. \")\n",
       "    return false;\n",
       "  }\n",
       "\n",
       "  var js_urls = ['https://cdn.pydata.org/bokeh/release/bokeh-0.12.2.min.js', 'https://cdn.pydata.org/bokeh/release/bokeh-widgets-0.12.2.min.js', 'https://cdn.pydata.org/bokeh/release/bokeh-compiler-0.12.2.min.js'];\n",
       "\n",
       "  var inline_js = [\n",
       "    function(Bokeh) {\n",
       "      Bokeh.set_log_level(\"info\");\n",
       "    },\n",
       "    \n",
       "    function(Bokeh) {\n",
       "      \n",
       "      Bokeh.$(\"#4c8468ca-45e1-4127-ab2c-b3e53202b684\").text(\"BokehJS is loading...\");\n",
       "    },\n",
       "    function(Bokeh) {\n",
       "      console.log(\"Bokeh: injecting CSS: https://cdn.pydata.org/bokeh/release/bokeh-0.12.2.min.css\");\n",
       "      Bokeh.embed.inject_css(\"https://cdn.pydata.org/bokeh/release/bokeh-0.12.2.min.css\");\n",
       "      console.log(\"Bokeh: injecting CSS: https://cdn.pydata.org/bokeh/release/bokeh-widgets-0.12.2.min.css\");\n",
       "      Bokeh.embed.inject_css(\"https://cdn.pydata.org/bokeh/release/bokeh-widgets-0.12.2.min.css\");\n",
       "    }\n",
       "  ];\n",
       "\n",
       "  function run_inline_js() {\n",
       "    \n",
       "    if ((window.Bokeh !== undefined) || (force === \"1\")) {\n",
       "      for (var i = 0; i < inline_js.length; i++) {\n",
       "        inline_js[i](window.Bokeh);\n",
       "      }if (force === \"1\") {\n",
       "        display_loaded();\n",
       "      }} else if (Date.now() < window._bokeh_timeout) {\n",
       "      setTimeout(run_inline_js, 100);\n",
       "    } else if (!window._bokeh_failed_load) {\n",
       "      console.log(\"Bokeh: BokehJS failed to load within specified timeout.\");\n",
       "      window._bokeh_failed_load = true;\n",
       "    } else if (!force) {\n",
       "      var cell = $(\"#4c8468ca-45e1-4127-ab2c-b3e53202b684\").parents('.cell').data().cell;\n",
       "      cell.output_area.append_execute_result(NB_LOAD_WARNING)\n",
       "    }\n",
       "\n",
       "  }\n",
       "\n",
       "  if (window._bokeh_is_loading === 0) {\n",
       "    console.log(\"Bokeh: BokehJS loaded, going straight to plotting\");\n",
       "    run_inline_js();\n",
       "  } else {\n",
       "    load_libs(js_urls, function() {\n",
       "      console.log(\"Bokeh: BokehJS plotting callback run at\", now());\n",
       "      run_inline_js();\n",
       "    });\n",
       "  }\n",
       "}(this));"
      ]
     },
     "metadata": {},
     "output_type": "display_data"
    }
   ],
   "source": [
    "import bokeh.charts\n",
    "import bokeh.charts.utils\n",
    "import bokeh.io\n",
    "import bokeh.models\n",
    "import bokeh.palettes\n",
    "import bokeh.plotting\n",
    "\n",
    "# Display graphics in this notebook\n",
    "bokeh.io.output_notebook()"
   ]
  },
  {
   "cell_type": "code",
   "execution_count": 70,
   "metadata": {
    "collapsed": false
   },
   "outputs": [
    {
     "data": {
      "text/html": [
       "\n",
       "\n",
       "    <div class=\"bk-root\">\n",
       "        <div class=\"plotdiv\" id=\"96450cad-c64d-4554-ab58-3146aa9c926f\"></div>\n",
       "    </div>\n",
       "<script type=\"text/javascript\">\n",
       "  \n",
       "  (function(global) {\n",
       "    function now() {\n",
       "      return new Date();\n",
       "    }\n",
       "  \n",
       "    var force = \"\";\n",
       "  \n",
       "    if (typeof (window._bokeh_onload_callbacks) === \"undefined\" || force !== \"\") {\n",
       "      window._bokeh_onload_callbacks = [];\n",
       "      window._bokeh_is_loading = undefined;\n",
       "    }\n",
       "  \n",
       "  \n",
       "    \n",
       "    if (typeof (window._bokeh_timeout) === \"undefined\" || force !== \"\") {\n",
       "      window._bokeh_timeout = Date.now() + 0;\n",
       "      window._bokeh_failed_load = false;\n",
       "    }\n",
       "  \n",
       "    var NB_LOAD_WARNING = {'data': {'text/html':\n",
       "       \"<div style='background-color: #fdd'>\\n\"+\n",
       "       \"<p>\\n\"+\n",
       "       \"BokehJS does not appear to have successfully loaded. If loading BokehJS from CDN, this \\n\"+\n",
       "       \"may be due to a slow or bad network connection. Possible fixes:\\n\"+\n",
       "       \"</p>\\n\"+\n",
       "       \"<ul>\\n\"+\n",
       "       \"<li>re-rerun `output_notebook()` to attempt to load from CDN again, or</li>\\n\"+\n",
       "       \"<li>use INLINE resources instead, as so:</li>\\n\"+\n",
       "       \"</ul>\\n\"+\n",
       "       \"<code>\\n\"+\n",
       "       \"from bokeh.resources import INLINE\\n\"+\n",
       "       \"output_notebook(resources=INLINE)\\n\"+\n",
       "       \"</code>\\n\"+\n",
       "       \"</div>\"}};\n",
       "  \n",
       "    function display_loaded() {\n",
       "      if (window.Bokeh !== undefined) {\n",
       "        Bokeh.$(\"#96450cad-c64d-4554-ab58-3146aa9c926f\").text(\"BokehJS successfully loaded.\");\n",
       "      } else if (Date.now() < window._bokeh_timeout) {\n",
       "        setTimeout(display_loaded, 100)\n",
       "      }\n",
       "    }\n",
       "  \n",
       "    function run_callbacks() {\n",
       "      window._bokeh_onload_callbacks.forEach(function(callback) { callback() });\n",
       "      delete window._bokeh_onload_callbacks\n",
       "      console.info(\"Bokeh: all callbacks have finished\");\n",
       "    }\n",
       "  \n",
       "    function load_libs(js_urls, callback) {\n",
       "      window._bokeh_onload_callbacks.push(callback);\n",
       "      if (window._bokeh_is_loading > 0) {\n",
       "        console.log(\"Bokeh: BokehJS is being loaded, scheduling callback at\", now());\n",
       "        return null;\n",
       "      }\n",
       "      if (js_urls == null || js_urls.length === 0) {\n",
       "        run_callbacks();\n",
       "        return null;\n",
       "      }\n",
       "      console.log(\"Bokeh: BokehJS not loaded, scheduling load and callback at\", now());\n",
       "      window._bokeh_is_loading = js_urls.length;\n",
       "      for (var i = 0; i < js_urls.length; i++) {\n",
       "        var url = js_urls[i];\n",
       "        var s = document.createElement('script');\n",
       "        s.src = url;\n",
       "        s.async = false;\n",
       "        s.onreadystatechange = s.onload = function() {\n",
       "          window._bokeh_is_loading--;\n",
       "          if (window._bokeh_is_loading === 0) {\n",
       "            console.log(\"Bokeh: all BokehJS libraries loaded\");\n",
       "            run_callbacks()\n",
       "          }\n",
       "        };\n",
       "        s.onerror = function() {\n",
       "          console.warn(\"failed to load library \" + url);\n",
       "        };\n",
       "        console.log(\"Bokeh: injecting script tag for BokehJS library: \", url);\n",
       "        document.getElementsByTagName(\"head\")[0].appendChild(s);\n",
       "      }\n",
       "    };var element = document.getElementById(\"96450cad-c64d-4554-ab58-3146aa9c926f\");\n",
       "    if (element == null) {\n",
       "      console.log(\"Bokeh: ERROR: autoload.js configured with elementid '96450cad-c64d-4554-ab58-3146aa9c926f' but no matching script tag was found. \")\n",
       "      return false;\n",
       "    }\n",
       "  \n",
       "    var js_urls = [];\n",
       "  \n",
       "    var inline_js = [\n",
       "      function(Bokeh) {\n",
       "        Bokeh.$(function() {\n",
       "            var docs_json = {\"a081bb17-3a15-4c46-9524-def08921b5c2\":{\"roots\":{\"references\":[{\"attributes\":{\"overlay\":{\"id\":\"c31dff56-a3ae-4b66-90bc-4bc23e8a58c7\",\"type\":\"BoxAnnotation\"},\"plot\":{\"id\":\"9405f52c-f276-4eba-b5e0-09017127b9b5\",\"subtype\":\"Chart\",\"type\":\"Plot\"}},\"id\":\"ade345d5-9285-4263-978f-097a7bd7d2f5\",\"type\":\"BoxZoomTool\"},{\"attributes\":{\"plot\":null,\"text\":\"Home Price Values in the U.S.\"},\"id\":\"708bba7f-38d4-42c9-adcf-42b849c42e52\",\"type\":\"Title\"},{\"attributes\":{\"bottom_units\":\"screen\",\"fill_alpha\":{\"value\":0.5},\"fill_color\":{\"value\":\"lightgrey\"},\"left_units\":\"screen\",\"level\":\"overlay\",\"line_alpha\":{\"value\":1.0},\"line_color\":{\"value\":\"black\"},\"line_dash\":[4,4],\"line_width\":{\"value\":2},\"plot\":null,\"render_mode\":\"css\",\"right_units\":\"screen\",\"top_units\":\"screen\"},\"id\":\"c31dff56-a3ae-4b66-90bc-4bc23e8a58c7\",\"type\":\"BoxAnnotation\"},{\"attributes\":{},\"id\":\"ec73d6ca-f59f-4df9-8e0d-455b3553eb12\",\"type\":\"DatetimeTicker\"},{\"attributes\":{\"months\":[0,2,4,6,8,10]},\"id\":\"a0129880-8c53-4adb-a7bb-cb90dc192150\",\"type\":\"MonthsTicker\"},{\"attributes\":{\"data_source\":{\"id\":\"50944af1-ccaf-4a18-b355-d3913d693d60\",\"type\":\"ColumnDataSource\"},\"glyph\":{\"id\":\"2b4a26ee-0f4a-464a-aec0-cef5ea9e56c3\",\"type\":\"Line\"},\"hover_glyph\":null,\"nonselection_glyph\":null,\"selection_glyph\":null},\"id\":\"bc699cc8-8b17-49f0-a868-3f318f3fba4b\",\"type\":\"GlyphRenderer\"},{\"attributes\":{\"plot\":{\"id\":\"9405f52c-f276-4eba-b5e0-09017127b9b5\",\"subtype\":\"Chart\",\"type\":\"Plot\"}},\"id\":\"ada3e6fd-c50f-4ce1-bedc-4fe4bdfaeb63\",\"type\":\"SaveTool\"},{\"attributes\":{\"base\":24,\"mantissas\":[1,2,4,6,8,12],\"max_interval\":43200000.0,\"min_interval\":3600000.0,\"num_minor_ticks\":0},\"id\":\"bc6e8d65-2d7a-465b-8201-b2eabc58d28c\",\"type\":\"AdaptiveTicker\"},{\"attributes\":{\"plot\":{\"id\":\"9405f52c-f276-4eba-b5e0-09017127b9b5\",\"subtype\":\"Chart\",\"type\":\"Plot\"}},\"id\":\"b92792af-9989-4c0c-80ef-73db5665d59d\",\"type\":\"HelpTool\"},{\"attributes\":{\"axis_label\":\"index_nsa\",\"formatter\":{\"id\":\"c10e3b54-ed09-4177-a805-751822b72494\",\"type\":\"BasicTickFormatter\"},\"plot\":{\"id\":\"9405f52c-f276-4eba-b5e0-09017127b9b5\",\"subtype\":\"Chart\",\"type\":\"Plot\"},\"ticker\":{\"id\":\"c4d13705-fd30-4fd7-8512-76043727a55b\",\"type\":\"BasicTicker\"}},\"id\":\"36a49b34-749b-4e65-a826-c1d0ec0d878f\",\"type\":\"LinearAxis\"},{\"attributes\":{},\"id\":\"2bbcdd6d-e0e8-4e0b-9b4e-403701d0d083\",\"type\":\"YearsTicker\"},{\"attributes\":{\"days\":[1,4,7,10,13,16,19,22,25,28]},\"id\":\"bb4091d0-9592-48d8-9c02-206cb366a3c1\",\"type\":\"DaysTicker\"},{\"attributes\":{\"callback\":null,\"end\":256.728,\"start\":85.752},\"id\":\"38024b36-a1be-486c-92c5-c1211e1a1428\",\"type\":\"Range1d\"},{\"attributes\":{},\"id\":\"c4d13705-fd30-4fd7-8512-76043727a55b\",\"type\":\"BasicTicker\"},{\"attributes\":{\"line_color\":{\"value\":\"firebrick\"},\"line_width\":{\"value\":2},\"x\":{\"field\":\"x_values\"},\"y\":{\"field\":\"y_values\"}},\"id\":\"2b4a26ee-0f4a-464a-aec0-cef5ea9e56c3\",\"type\":\"Line\"},{\"attributes\":{\"active_drag\":\"auto\",\"active_scroll\":\"auto\",\"active_tap\":\"auto\",\"tools\":[{\"id\":\"fa87d75f-5192-4588-943f-7ab088c1493e\",\"type\":\"PanTool\"},{\"id\":\"950259ee-40e8-483d-9dff-895106095d7f\",\"type\":\"WheelZoomTool\"},{\"id\":\"ade345d5-9285-4263-978f-097a7bd7d2f5\",\"type\":\"BoxZoomTool\"},{\"id\":\"ada3e6fd-c50f-4ce1-bedc-4fe4bdfaeb63\",\"type\":\"SaveTool\"},{\"id\":\"b3593e3e-9fc2-4031-952d-83a457ed9771\",\"type\":\"ResetTool\"},{\"id\":\"b92792af-9989-4c0c-80ef-73db5665d59d\",\"type\":\"HelpTool\"}]},\"id\":\"35edbe19-aebd-447a-bb5d-d330ae9b5a90\",\"type\":\"Toolbar\"},{\"attributes\":{\"days\":[1,2,3,4,5,6,7,8,9,10,11,12,13,14,15,16,17,18,19,20,21,22,23,24,25,26,27,28,29,30,31]},\"id\":\"3a7ea47f-4f27-4a19-946a-fdc65a52c3c1\",\"type\":\"DaysTicker\"},{\"attributes\":{\"days\":[1,8,15,22]},\"id\":\"168065f1-322a-4c5e-940f-bf9a1c7df82f\",\"type\":\"DaysTicker\"},{\"attributes\":{\"plot\":{\"id\":\"9405f52c-f276-4eba-b5e0-09017127b9b5\",\"subtype\":\"Chart\",\"type\":\"Plot\"}},\"id\":\"b3593e3e-9fc2-4031-952d-83a457ed9771\",\"type\":\"ResetTool\"},{\"attributes\":{\"months\":[0,4,8]},\"id\":\"2f34bad2-9d9a-4381-8aaf-7d66f13961d8\",\"type\":\"MonthsTicker\"},{\"attributes\":{\"callback\":null,\"end\":1470009600000.0,\"start\":662688000000.0},\"id\":\"74ac9e2d-ffa9-4eb6-8a13-b29a74532573\",\"type\":\"Range1d\"},{\"attributes\":{\"location\":\"top_left\",\"plot\":{\"id\":\"9405f52c-f276-4eba-b5e0-09017127b9b5\",\"subtype\":\"Chart\",\"type\":\"Plot\"}},\"id\":\"74c974f3-7a3c-408e-9fa6-aab1f55917e2\",\"type\":\"Legend\"},{\"attributes\":{\"axis_label\":\"date\",\"formatter\":{\"id\":\"1957627b-3f49-4be6-87c7-04a3a0fe9c41\",\"type\":\"DatetimeTickFormatter\"},\"plot\":{\"id\":\"9405f52c-f276-4eba-b5e0-09017127b9b5\",\"subtype\":\"Chart\",\"type\":\"Plot\"},\"ticker\":{\"id\":\"ec73d6ca-f59f-4df9-8e0d-455b3553eb12\",\"type\":\"DatetimeTicker\"}},\"id\":\"9062e894-1a01-413f-808d-b1ff7769c695\",\"type\":\"DatetimeAxis\"},{\"attributes\":{},\"id\":\"c10e3b54-ed09-4177-a805-751822b72494\",\"type\":\"BasicTickFormatter\"},{\"attributes\":{\"dimension\":1,\"plot\":{\"id\":\"9405f52c-f276-4eba-b5e0-09017127b9b5\",\"subtype\":\"Chart\",\"type\":\"Plot\"},\"ticker\":{\"id\":\"c4d13705-fd30-4fd7-8512-76043727a55b\",\"type\":\"BasicTicker\"}},\"id\":\"f4f2f21f-489a-4025-9e95-66f3e9f90307\",\"type\":\"Grid\"},{\"attributes\":{},\"id\":\"080e4c79-7c9d-4bf5-ba46-9d7b337564d8\",\"type\":\"ToolEvents\"},{\"attributes\":{\"plot\":{\"id\":\"9405f52c-f276-4eba-b5e0-09017127b9b5\",\"subtype\":\"Chart\",\"type\":\"Plot\"}},\"id\":\"fa87d75f-5192-4588-943f-7ab088c1493e\",\"type\":\"PanTool\"},{\"attributes\":{\"months\":[0,1,2,3,4,5,6,7,8,9,10,11]},\"id\":\"f3fd7d99-868d-454b-a74f-6bb15f42bf1d\",\"type\":\"MonthsTicker\"},{\"attributes\":{\"months\":[0,6]},\"id\":\"8e99b0a2-897f-417f-8d19-c46d6969d3c2\",\"type\":\"MonthsTicker\"},{\"attributes\":{\"days\":[1,15]},\"id\":\"d5f66ad0-7e24-4d23-ac5b-8d0d7228110c\",\"type\":\"DaysTicker\"},{\"attributes\":{\"callback\":null,\"column_names\":[\"x_values\",\"y_values\"],\"data\":{\"chart_index\":[null,null,null,null,null,null,null,null,null,null,null,null,null,null,null,null,null,null,null,null,null,null,null,null,null,null,null,null,null,null,null,null,null,null,null,null,null,null,null,null,null,null,null,null,null,null,null,null,null,null,null,null,null,null,null,null,null,null,null,null,null,null,null,null,null,null,null,null,null,null,null,null,null,null,null,null,null,null,null,null,null,null,null,null,null,null,null,null,null,null,null,null,null,null,null,null,null,null,null,null,null,null,null,null,null,null,null,null,null,null,null,null,null,null,null,null,null,null,null,null,null,null,null,null,null,null,null,null,null,null,null,null,null,null,null,null,null,null,null,null,null,null,null,null,null,null,null,null,null,null,null,null,null,null,null,null,null,null,null,null,null,null,null,null,null,null,null,null,null,null,null,null,null,null,null,null,null,null,null,null,null,null,null,null,null,null,null,null,null,null,null,null,null,null,null,null,null,null,null,null,null,null,null,null,null,null,null,null,null,null,null,null,null,null,null,null,null,null,null,null,null,null,null,null,null,null,null,null,null,null,null,null,null,null,null,null,null,null,null,null,null,null,null,null,null,null,null,null,null,null,null,null,null,null,null,null,null,null,null,null,null,null,null,null,null,null,null,null,null,null,null,null,null,null,null,null,null,null,null,null,null,null,null,null,null,null,null,null,null,null,null,null,null,null,null,null,null,null,null,null,null,null,null,null,null,null,null,null],\"x_values\":[662688000000.0,665366400000.0,667785600000.0,670464000000.0,673056000000.0,675734400000.0,678326400000.0,681004800000.0,683683200000.0,686275200000.0,688953600000.0,691545600000.0,694224000000.0,696902400000.0,699408000000.0,702086400000.0,704678400000.0,707356800000.0,709948800000.0,712627200000.0,715305600000.0,717897600000.0,720576000000.0,723168000000.0,725846400000.0,728524800000.0,730944000000.0,733622400000.0,736214400000.0,738892800000.0,741484800000.0,744163200000.0,746841600000.0,749433600000.0,752112000000.0,754704000000.0,757382400000.0,760060800000.0,762480000000.0,765158400000.0,767750400000.0,770428800000.0,773020800000.0,775699200000.0,778377600000.0,780969600000.0,783648000000.0,786240000000.0,788918400000.0,791596800000.0,794016000000.0,796694400000.0,799286400000.0,801964800000.0,804556800000.0,807235200000.0,809913600000.0,812505600000.0,815184000000.0,817776000000.0,820454400000.0,823132800000.0,825638400000.0,828316800000.0,830908800000.0,833587200000.0,836179200000.0,838857600000.0,841536000000.0,844128000000.0,846806400000.0,849398400000.0,852076800000.0,854755200000.0,857174400000.0,859852800000.0,862444800000.0,865123200000.0,867715200000.0,870393600000.0,873072000000.0,875664000000.0,878342400000.0,880934400000.0,883612800000.0,886291200000.0,888710400000.0,891388800000.0,893980800000.0,896659200000.0,899251200000.0,901929600000.0,904608000000.0,907200000000.0,909878400000.0,912470400000.0,915148800000.0,917827200000.0,920246400000.0,922924800000.0,925516800000.0,928195200000.0,930787200000.0,933465600000.0,936144000000.0,938736000000.0,941414400000.0,944006400000.0,946684800000.0,949363200000.0,951868800000.0,954547200000.0,957139200000.0,959817600000.0,962409600000.0,965088000000.0,967766400000.0,970358400000.0,973036800000.0,975628800000.0,978307200000.0,980985600000.0,983404800000.0,986083200000.0,988675200000.0,991353600000.0,993945600000.0,996624000000.0,999302400000.0,1001894400000.0,1004572800000.0,1007164800000.0,1009843200000.0,1012521600000.0,1014940800000.0,1017619200000.0,1020211200000.0,1022889600000.0,1025481600000.0,1028160000000.0,1030838400000.0,1033430400000.0,1036108800000.0,1038700800000.0,1041379200000.0,1044057600000.0,1046476800000.0,1049155200000.0,1051747200000.0,1054425600000.0,1057017600000.0,1059696000000.0,1062374400000.0,1064966400000.0,1067644800000.0,1070236800000.0,1072915200000.0,1075593600000.0,1078099200000.0,1080777600000.0,1083369600000.0,1086048000000.0,1088640000000.0,1091318400000.0,1093996800000.0,1096588800000.0,1099267200000.0,1101859200000.0,1104537600000.0,1107216000000.0,1109635200000.0,1112313600000.0,1114905600000.0,1117584000000.0,1120176000000.0,1122854400000.0,1125532800000.0,1128124800000.0,1130803200000.0,1133395200000.0,1136073600000.0,1138752000000.0,1141171200000.0,1143849600000.0,1146441600000.0,1149120000000.0,1151712000000.0,1154390400000.0,1157068800000.0,1159660800000.0,1162339200000.0,1164931200000.0,1167609600000.0,1170288000000.0,1172707200000.0,1175385600000.0,1177977600000.0,1180656000000.0,1183248000000.0,1185926400000.0,1188604800000.0,1191196800000.0,1193875200000.0,1196467200000.0,1199145600000.0,1201824000000.0,1204329600000.0,1207008000000.0,1209600000000.0,1212278400000.0,1214870400000.0,1217548800000.0,1220227200000.0,1222819200000.0,1225497600000.0,1228089600000.0,1230768000000.0,1233446400000.0,1235865600000.0,1238544000000.0,1241136000000.0,1243814400000.0,1246406400000.0,1249084800000.0,1251763200000.0,1254355200000.0,1257033600000.0,1259625600000.0,1262304000000.0,1264982400000.0,1267401600000.0,1270080000000.0,1272672000000.0,1275350400000.0,1277942400000.0,1280620800000.0,1283299200000.0,1285891200000.0,1288569600000.0,1291161600000.0,1293840000000.0,1296518400000.0,1298937600000.0,1301616000000.0,1304208000000.0,1306886400000.0,1309478400000.0,1312156800000.0,1314835200000.0,1317427200000.0,1320105600000.0,1322697600000.0,1325376000000.0,1328054400000.0,1330560000000.0,1333238400000.0,1335830400000.0,1338508800000.0,1341100800000.0,1343779200000.0,1346457600000.0,1349049600000.0,1351728000000.0,1354320000000.0,1356998400000.0,1359676800000.0,1362096000000.0,1364774400000.0,1367366400000.0,1370044800000.0,1372636800000.0,1375315200000.0,1377993600000.0,1380585600000.0,1383264000000.0,1385856000000.0,1388534400000.0,1391212800000.0,1393632000000.0,1396310400000.0,1398902400000.0,1401580800000.0,1404172800000.0,1406851200000.0,1409529600000.0,1412121600000.0,1414800000000.0,1417392000000.0,1420070400000.0,1422748800000.0,1425168000000.0,1427846400000.0,1430438400000.0,1433116800000.0,1435708800000.0,1438387200000.0,1441065600000.0,1443657600000.0,1446336000000.0,1448928000000.0,1451606400000.0,1454284800000.0,1456790400000.0,1459468800000.0,1462060800000.0,1464739200000.0,1467331200000.0,1470009600000.0],\"y_values\":[100.0,100.47,100.73,100.75,100.91,101.4,101.34,101.29,101.42,101.62,102.16,102.19,102.29,102.98,103.08,102.99,103.17,103.53,103.78,104.37,104.62,104.8,105.07,104.65,104.41,104.08,104.7,105.58,105.93,106.71,106.73,107.18,107.41,107.55,107.72,107.91,107.86,108.02,108.74,109.32,109.86,110.48,110.58,110.94,110.8,110.87,111.01,110.67,110.76,111.16,111.45,111.92,112.29,113.11,113.6,113.95,113.86,113.78,113.81,113.95,114.06,114.23,115.0,115.6,116.23,116.72,117.14,117.11,117.12,116.97,117.09,117.1,116.93,117.23,118.18,118.69,119.5,119.97,120.26,120.66,120.42,120.86,120.99,121.07,121.19,122.07,122.95,123.85,124.78,125.96,126.22,126.73,127.19,127.46,127.99,128.21,128.73,129.22,130.26,131.26,132.51,133.55,134.21,134.95,135.03,135.65,135.81,136.06,137.43,137.22,138.8,140.08,141.23,142.65,143.36,143.79,144.43,144.96,145.4,145.8,146.47,147.43,148.79,150.0,151.23,152.48,153.33,153.93,154.5,155.08,155.05,155.58,156.14,157.03,158.6,159.92,161.62,163.17,164.25,165.17,165.94,166.68,167.06,167.71,168.3,169.38,170.61,172.16,173.84,175.23,176.56,177.72,178.9,179.44,180.2,181.09,181.78,183.27,185.23,187.37,190.04,192.6,194.21,195.45,196.59,197.43,198.61,199.56,200.29,201.99,204.88,207.44,210.18,212.63,214.62,216.15,217.57,218.12,218.67,219.14,219.75,220.69,222.4,223.85,225.6,226.29,226.18,226.58,225.88,225.53,225.27,224.48,224.3,224.89,226.81,227.89,228.23,228.21,226.87,225.7,223.96,221.69,219.37,217.2,214.14,213.72,212.38,211.39,210.49,210.01,207.88,205.62,203.07,200.69,196.39,194.77,195.68,196.52,194.63,195.03,196.13,196.93,196.18,195.41,194.42,194.51,194.17,190.78,189.91,189.47,190.04,191.78,193.64,192.49,191.11,190.3,187.71,187.48,186.14,183.42,181.48,179.8,178.91,180.92,182.27,183.96,184.39,183.12,183.29,181.72,181.91,181.15,179.31,179.95,182.71,185.47,188.52,190.43,190.65,190.84,190.71,191.05,191.27,190.93,190.8,192.33,195.93,198.66,202.27,204.83,206.05,205.96,205.62,205.79,205.09,204.86,204.36,205.49,208.14,210.39,213.01,215.14,216.01,215.86,214.98,215.35,215.54,215.93,214.56,216.59,219.17,222.12,225.31,227.36,228.44,227.87,228.19,228.31,228.76,228.62,227.64,229.28,233.36,235.68,238.54,240.67,241.87,242.48]}},\"id\":\"50944af1-ccaf-4a18-b355-d3913d693d60\",\"type\":\"ColumnDataSource\"},{\"attributes\":{\"below\":[{\"id\":\"9062e894-1a01-413f-808d-b1ff7769c695\",\"type\":\"DatetimeAxis\"}],\"left\":[{\"id\":\"36a49b34-749b-4e65-a826-c1d0ec0d878f\",\"type\":\"LinearAxis\"}],\"renderers\":[{\"id\":\"c31dff56-a3ae-4b66-90bc-4bc23e8a58c7\",\"type\":\"BoxAnnotation\"},{\"id\":\"bc699cc8-8b17-49f0-a868-3f318f3fba4b\",\"type\":\"GlyphRenderer\"},{\"id\":\"74c974f3-7a3c-408e-9fa6-aab1f55917e2\",\"type\":\"Legend\"},{\"id\":\"9062e894-1a01-413f-808d-b1ff7769c695\",\"type\":\"DatetimeAxis\"},{\"id\":\"36a49b34-749b-4e65-a826-c1d0ec0d878f\",\"type\":\"LinearAxis\"},{\"id\":\"a943352b-59cd-4016-87e2-ed8935100dca\",\"type\":\"Grid\"},{\"id\":\"f4f2f21f-489a-4025-9e95-66f3e9f90307\",\"type\":\"Grid\"}],\"title\":{\"id\":\"708bba7f-38d4-42c9-adcf-42b849c42e52\",\"type\":\"Title\"},\"tool_events\":{\"id\":\"080e4c79-7c9d-4bf5-ba46-9d7b337564d8\",\"type\":\"ToolEvents\"},\"toolbar\":{\"id\":\"35edbe19-aebd-447a-bb5d-d330ae9b5a90\",\"type\":\"Toolbar\"},\"x_mapper_type\":\"auto\",\"x_range\":{\"id\":\"74ac9e2d-ffa9-4eb6-8a13-b29a74532573\",\"type\":\"Range1d\"},\"y_mapper_type\":\"auto\",\"y_range\":{\"id\":\"38024b36-a1be-486c-92c5-c1211e1a1428\",\"type\":\"Range1d\"}},\"id\":\"9405f52c-f276-4eba-b5e0-09017127b9b5\",\"subtype\":\"Chart\",\"type\":\"Plot\"},{\"attributes\":{\"plot\":{\"id\":\"9405f52c-f276-4eba-b5e0-09017127b9b5\",\"subtype\":\"Chart\",\"type\":\"Plot\"}},\"id\":\"950259ee-40e8-483d-9dff-895106095d7f\",\"type\":\"WheelZoomTool\"},{\"attributes\":{\"base\":60,\"mantissas\":[1,2,5,10,15,20,30],\"max_interval\":1800000.0,\"min_interval\":1000.0,\"num_minor_ticks\":0},\"id\":\"07bdd56b-aac7-4134-b463-5e160a284167\",\"type\":\"AdaptiveTicker\"},{\"attributes\":{},\"id\":\"1957627b-3f49-4be6-87c7-04a3a0fe9c41\",\"type\":\"DatetimeTickFormatter\"},{\"attributes\":{\"plot\":{\"id\":\"9405f52c-f276-4eba-b5e0-09017127b9b5\",\"subtype\":\"Chart\",\"type\":\"Plot\"},\"ticker\":{\"id\":\"ec73d6ca-f59f-4df9-8e0d-455b3553eb12\",\"type\":\"DatetimeTicker\"}},\"id\":\"a943352b-59cd-4016-87e2-ed8935100dca\",\"type\":\"Grid\"},{\"attributes\":{\"max_interval\":500.0,\"num_minor_ticks\":0},\"id\":\"493fceb1-c61a-4a61-a615-aebc58eec81b\",\"type\":\"AdaptiveTicker\"}],\"root_ids\":[\"9405f52c-f276-4eba-b5e0-09017127b9b5\"]},\"title\":\"Bokeh Application\",\"version\":\"0.12.2\"}};\n",
       "            var render_items = [{\"docid\":\"a081bb17-3a15-4c46-9524-def08921b5c2\",\"elementid\":\"96450cad-c64d-4554-ab58-3146aa9c926f\",\"modelid\":\"9405f52c-f276-4eba-b5e0-09017127b9b5\"}];\n",
       "            \n",
       "            Bokeh.embed.embed_items(docs_json, render_items);\n",
       "        });\n",
       "      },\n",
       "      function(Bokeh) {\n",
       "      }\n",
       "    ];\n",
       "  \n",
       "    function run_inline_js() {\n",
       "      \n",
       "      if ((window.Bokeh !== undefined) || (force === \"1\")) {\n",
       "        for (var i = 0; i < inline_js.length; i++) {\n",
       "          inline_js[i](window.Bokeh);\n",
       "        }if (force === \"1\") {\n",
       "          display_loaded();\n",
       "        }} else if (Date.now() < window._bokeh_timeout) {\n",
       "        setTimeout(run_inline_js, 100);\n",
       "      } else if (!window._bokeh_failed_load) {\n",
       "        console.log(\"Bokeh: BokehJS failed to load within specified timeout.\");\n",
       "        window._bokeh_failed_load = true;\n",
       "      } else if (!force) {\n",
       "        var cell = $(\"#96450cad-c64d-4554-ab58-3146aa9c926f\").parents('.cell').data().cell;\n",
       "        cell.output_area.append_execute_result(NB_LOAD_WARNING)\n",
       "      }\n",
       "  \n",
       "    }\n",
       "  \n",
       "    if (window._bokeh_is_loading === 0) {\n",
       "      console.log(\"Bokeh: BokehJS loaded, going straight to plotting\");\n",
       "      run_inline_js();\n",
       "    } else {\n",
       "      load_libs(js_urls, function() {\n",
       "        console.log(\"Bokeh: BokehJS plotting callback run at\", now());\n",
       "        run_inline_js();\n",
       "      });\n",
       "    }\n",
       "  }(this));\n",
       "</script>"
      ]
     },
     "metadata": {},
     "output_type": "display_data"
    }
   ],
   "source": [
    "p = bokeh.charts.Line(df_us, x='date', y='index_nsa', color='firebrick',  title=\"Home Price Values in the U.S.\")\n",
    "\n",
    "# Display it\n",
    "bokeh.io.show(p)"
   ]
  },
  {
   "cell_type": "markdown",
   "metadata": {},
   "source": [
    "  "
   ]
  },
  {
   "cell_type": "code",
   "execution_count": 74,
   "metadata": {
    "collapsed": false
   },
   "outputs": [],
   "source": [
    "df_us_3 = df.loc[['West South Central Division', 'United States', 'Pacific Division']]"
   ]
  },
  {
   "cell_type": "markdown",
   "metadata": {},
   "source": [
    "  "
   ]
  },
  {
   "cell_type": "markdown",
   "metadata": {},
   "source": [
    "  "
   ]
  },
  {
   "cell_type": "code",
   "execution_count": 75,
   "metadata": {
    "collapsed": false
   },
   "outputs": [
    {
     "data": {
      "text/html": [
       "\n",
       "\n",
       "    <div class=\"bk-root\">\n",
       "        <div class=\"plotdiv\" id=\"add95465-dfa8-404a-8012-e12635a3312c\"></div>\n",
       "    </div>\n",
       "<script type=\"text/javascript\">\n",
       "  \n",
       "  (function(global) {\n",
       "    function now() {\n",
       "      return new Date();\n",
       "    }\n",
       "  \n",
       "    var force = \"\";\n",
       "  \n",
       "    if (typeof (window._bokeh_onload_callbacks) === \"undefined\" || force !== \"\") {\n",
       "      window._bokeh_onload_callbacks = [];\n",
       "      window._bokeh_is_loading = undefined;\n",
       "    }\n",
       "  \n",
       "  \n",
       "    \n",
       "    if (typeof (window._bokeh_timeout) === \"undefined\" || force !== \"\") {\n",
       "      window._bokeh_timeout = Date.now() + 0;\n",
       "      window._bokeh_failed_load = false;\n",
       "    }\n",
       "  \n",
       "    var NB_LOAD_WARNING = {'data': {'text/html':\n",
       "       \"<div style='background-color: #fdd'>\\n\"+\n",
       "       \"<p>\\n\"+\n",
       "       \"BokehJS does not appear to have successfully loaded. If loading BokehJS from CDN, this \\n\"+\n",
       "       \"may be due to a slow or bad network connection. Possible fixes:\\n\"+\n",
       "       \"</p>\\n\"+\n",
       "       \"<ul>\\n\"+\n",
       "       \"<li>re-rerun `output_notebook()` to attempt to load from CDN again, or</li>\\n\"+\n",
       "       \"<li>use INLINE resources instead, as so:</li>\\n\"+\n",
       "       \"</ul>\\n\"+\n",
       "       \"<code>\\n\"+\n",
       "       \"from bokeh.resources import INLINE\\n\"+\n",
       "       \"output_notebook(resources=INLINE)\\n\"+\n",
       "       \"</code>\\n\"+\n",
       "       \"</div>\"}};\n",
       "  \n",
       "    function display_loaded() {\n",
       "      if (window.Bokeh !== undefined) {\n",
       "        Bokeh.$(\"#add95465-dfa8-404a-8012-e12635a3312c\").text(\"BokehJS successfully loaded.\");\n",
       "      } else if (Date.now() < window._bokeh_timeout) {\n",
       "        setTimeout(display_loaded, 100)\n",
       "      }\n",
       "    }\n",
       "  \n",
       "    function run_callbacks() {\n",
       "      window._bokeh_onload_callbacks.forEach(function(callback) { callback() });\n",
       "      delete window._bokeh_onload_callbacks\n",
       "      console.info(\"Bokeh: all callbacks have finished\");\n",
       "    }\n",
       "  \n",
       "    function load_libs(js_urls, callback) {\n",
       "      window._bokeh_onload_callbacks.push(callback);\n",
       "      if (window._bokeh_is_loading > 0) {\n",
       "        console.log(\"Bokeh: BokehJS is being loaded, scheduling callback at\", now());\n",
       "        return null;\n",
       "      }\n",
       "      if (js_urls == null || js_urls.length === 0) {\n",
       "        run_callbacks();\n",
       "        return null;\n",
       "      }\n",
       "      console.log(\"Bokeh: BokehJS not loaded, scheduling load and callback at\", now());\n",
       "      window._bokeh_is_loading = js_urls.length;\n",
       "      for (var i = 0; i < js_urls.length; i++) {\n",
       "        var url = js_urls[i];\n",
       "        var s = document.createElement('script');\n",
       "        s.src = url;\n",
       "        s.async = false;\n",
       "        s.onreadystatechange = s.onload = function() {\n",
       "          window._bokeh_is_loading--;\n",
       "          if (window._bokeh_is_loading === 0) {\n",
       "            console.log(\"Bokeh: all BokehJS libraries loaded\");\n",
       "            run_callbacks()\n",
       "          }\n",
       "        };\n",
       "        s.onerror = function() {\n",
       "          console.warn(\"failed to load library \" + url);\n",
       "        };\n",
       "        console.log(\"Bokeh: injecting script tag for BokehJS library: \", url);\n",
       "        document.getElementsByTagName(\"head\")[0].appendChild(s);\n",
       "      }\n",
       "    };var element = document.getElementById(\"add95465-dfa8-404a-8012-e12635a3312c\");\n",
       "    if (element == null) {\n",
       "      console.log(\"Bokeh: ERROR: autoload.js configured with elementid 'add95465-dfa8-404a-8012-e12635a3312c' but no matching script tag was found. \")\n",
       "      return false;\n",
       "    }\n",
       "  \n",
       "    var js_urls = [];\n",
       "  \n",
       "    var inline_js = [\n",
       "      function(Bokeh) {\n",
       "        Bokeh.$(function() {\n",
       "            var docs_json = {\"e3f6d74e-8332-460d-8e88-a022b326aac1\":{\"roots\":{\"references\":[{\"attributes\":{\"days\":[1,8,15,22]},\"id\":\"6ffa58c6-1774-47c3-9072-1e94944347d9\",\"type\":\"DaysTicker\"},{\"attributes\":{\"base\":60,\"mantissas\":[1,2,5,10,15,20,30],\"max_interval\":1800000.0,\"min_interval\":1000.0,\"num_minor_ticks\":0},\"id\":\"ee2f48c7-c4e6-43fd-b314-4724b182e06f\",\"type\":\"AdaptiveTicker\"},{\"attributes\":{\"dimension\":1,\"plot\":{\"id\":\"fde244df-b220-4117-8bb4-80d23a02e756\",\"subtype\":\"Chart\",\"type\":\"Plot\"},\"ticker\":{\"id\":\"6a319c10-96ef-4de9-a4f4-62a633f2f6a9\",\"type\":\"BasicTicker\"}},\"id\":\"e01a3018-f365-45e9-8bee-70d2e52f1599\",\"type\":\"Grid\"},{\"attributes\":{\"callback\":null,\"end\":1470009600000.0,\"start\":662688000000.0},\"id\":\"0b3c2b9e-df19-4347-a753-8e270fe961ed\",\"type\":\"Range1d\"},{\"attributes\":{\"below\":[{\"id\":\"9c702679-6249-48fd-81e3-c94adfb19b06\",\"type\":\"DatetimeAxis\"}],\"left\":[{\"id\":\"621478ae-ee7b-473f-83da-1f704b597533\",\"type\":\"LinearAxis\"}],\"renderers\":[{\"id\":\"238fdca0-dba9-44e9-9e23-adc188932cbb\",\"type\":\"BoxAnnotation\"},{\"id\":\"f6ed37c4-806e-459c-8acd-bb483044c831\",\"type\":\"GlyphRenderer\"},{\"id\":\"63b7269c-eda4-48a7-8712-fce46d4ee4d5\",\"type\":\"GlyphRenderer\"},{\"id\":\"685acfb9-0d43-480f-adaf-6c6fddc2c053\",\"type\":\"GlyphRenderer\"},{\"id\":\"ef6860c2-3e52-46e6-8c0f-5f3e16d57756\",\"type\":\"Legend\"},{\"id\":\"9c702679-6249-48fd-81e3-c94adfb19b06\",\"type\":\"DatetimeAxis\"},{\"id\":\"621478ae-ee7b-473f-83da-1f704b597533\",\"type\":\"LinearAxis\"},{\"id\":\"95194a49-62d1-4d42-a4ee-92f9d9fd3a11\",\"type\":\"Grid\"},{\"id\":\"e01a3018-f365-45e9-8bee-70d2e52f1599\",\"type\":\"Grid\"}],\"title\":{\"id\":\"df0eeb1e-1e20-4286-8659-ce9d8fb37e1f\",\"type\":\"Title\"},\"tool_events\":{\"id\":\"5358edc5-7ae9-4d69-8389-f1f1e36961ff\",\"type\":\"ToolEvents\"},\"toolbar\":{\"id\":\"94b165bb-7805-4469-89d7-c62c7b2f260f\",\"type\":\"Toolbar\"},\"x_mapper_type\":\"auto\",\"x_range\":{\"id\":\"0b3c2b9e-df19-4347-a753-8e270fe961ed\",\"type\":\"Range1d\"},\"y_mapper_type\":\"auto\",\"y_range\":{\"id\":\"1ec34193-8d2c-40f5-b73a-05a03129a347\",\"type\":\"Range1d\"}},\"id\":\"fde244df-b220-4117-8bb4-80d23a02e756\",\"subtype\":\"Chart\",\"type\":\"Plot\"},{\"attributes\":{\"callback\":null,\"column_names\":[\"x_values\",\"y_values\"],\"data\":{\"chart_index\":[{\"place_name\":\"West South Central Division\"},{\"place_name\":\"West South Central Division\"},{\"place_name\":\"West South Central Division\"},{\"place_name\":\"West South Central Division\"},{\"place_name\":\"West South Central Division\"},{\"place_name\":\"West South Central Division\"},{\"place_name\":\"West South Central Division\"},{\"place_name\":\"West South Central Division\"},{\"place_name\":\"West South Central Division\"},{\"place_name\":\"West South Central Division\"},{\"place_name\":\"West South Central Division\"},{\"place_name\":\"West South Central Division\"},{\"place_name\":\"West South Central Division\"},{\"place_name\":\"West South Central Division\"},{\"place_name\":\"West South Central Division\"},{\"place_name\":\"West South Central Division\"},{\"place_name\":\"West South Central Division\"},{\"place_name\":\"West South Central Division\"},{\"place_name\":\"West South Central Division\"},{\"place_name\":\"West South Central Division\"},{\"place_name\":\"West South Central Division\"},{\"place_name\":\"West South Central Division\"},{\"place_name\":\"West South Central Division\"},{\"place_name\":\"West South Central Division\"},{\"place_name\":\"West South Central Division\"},{\"place_name\":\"West South Central Division\"},{\"place_name\":\"West South Central Division\"},{\"place_name\":\"West South Central Division\"},{\"place_name\":\"West South Central Division\"},{\"place_name\":\"West South Central Division\"},{\"place_name\":\"West South Central Division\"},{\"place_name\":\"West South Central Division\"},{\"place_name\":\"West South Central Division\"},{\"place_name\":\"West South Central Division\"},{\"place_name\":\"West South Central Division\"},{\"place_name\":\"West South Central Division\"},{\"place_name\":\"West South Central Division\"},{\"place_name\":\"West South Central Division\"},{\"place_name\":\"West South Central Division\"},{\"place_name\":\"West South Central Division\"},{\"place_name\":\"West South Central Division\"},{\"place_name\":\"West South Central Division\"},{\"place_name\":\"West South Central Division\"},{\"place_name\":\"West South Central Division\"},{\"place_name\":\"West South Central Division\"},{\"place_name\":\"West South Central Division\"},{\"place_name\":\"West South Central Division\"},{\"place_name\":\"West South Central Division\"},{\"place_name\":\"West South Central Division\"},{\"place_name\":\"West South Central Division\"},{\"place_name\":\"West South Central Division\"},{\"place_name\":\"West South Central Division\"},{\"place_name\":\"West South Central Division\"},{\"place_name\":\"West South Central Division\"},{\"place_name\":\"West South Central Division\"},{\"place_name\":\"West South Central Division\"},{\"place_name\":\"West South Central Division\"},{\"place_name\":\"West South Central Division\"},{\"place_name\":\"West South Central Division\"},{\"place_name\":\"West South Central Division\"},{\"place_name\":\"West South Central Division\"},{\"place_name\":\"West South Central Division\"},{\"place_name\":\"West South Central Division\"},{\"place_name\":\"West South Central Division\"},{\"place_name\":\"West South Central Division\"},{\"place_name\":\"West South Central Division\"},{\"place_name\":\"West South Central Division\"},{\"place_name\":\"West South Central Division\"},{\"place_name\":\"West South Central Division\"},{\"place_name\":\"West South Central Division\"},{\"place_name\":\"West South Central Division\"},{\"place_name\":\"West South Central Division\"},{\"place_name\":\"West South Central Division\"},{\"place_name\":\"West South Central Division\"},{\"place_name\":\"West South Central Division\"},{\"place_name\":\"West South Central Division\"},{\"place_name\":\"West South Central Division\"},{\"place_name\":\"West South Central Division\"},{\"place_name\":\"West South Central Division\"},{\"place_name\":\"West South Central Division\"},{\"place_name\":\"West South Central Division\"},{\"place_name\":\"West South Central Division\"},{\"place_name\":\"West South Central Division\"},{\"place_name\":\"West South Central Division\"},{\"place_name\":\"West South Central Division\"},{\"place_name\":\"West South Central Division\"},{\"place_name\":\"West South Central Division\"},{\"place_name\":\"West South Central Division\"},{\"place_name\":\"West South Central Division\"},{\"place_name\":\"West South Central Division\"},{\"place_name\":\"West South Central Division\"},{\"place_name\":\"West South Central Division\"},{\"place_name\":\"West South Central Division\"},{\"place_name\":\"West South Central Division\"},{\"place_name\":\"West South Central Division\"},{\"place_name\":\"West South Central Division\"},{\"place_name\":\"West South Central Division\"},{\"place_name\":\"West South Central Division\"},{\"place_name\":\"West South Central Division\"},{\"place_name\":\"West South Central Division\"},{\"place_name\":\"West South Central Division\"},{\"place_name\":\"West South Central Division\"},{\"place_name\":\"West South Central Division\"},{\"place_name\":\"West South Central Division\"},{\"place_name\":\"West South Central Division\"},{\"place_name\":\"West South Central Division\"},{\"place_name\":\"West South Central Division\"},{\"place_name\":\"West South Central Division\"},{\"place_name\":\"West South Central Division\"},{\"place_name\":\"West South Central Division\"},{\"place_name\":\"West South Central Division\"},{\"place_name\":\"West South Central Division\"},{\"place_name\":\"West South Central Division\"},{\"place_name\":\"West South Central Division\"},{\"place_name\":\"West South Central Division\"},{\"place_name\":\"West South Central Division\"},{\"place_name\":\"West South Central Division\"},{\"place_name\":\"West South Central Division\"},{\"place_name\":\"West South Central Division\"},{\"place_name\":\"West South Central Division\"},{\"place_name\":\"West South Central Division\"},{\"place_name\":\"West South Central Division\"},{\"place_name\":\"West South Central Division\"},{\"place_name\":\"West South Central Division\"},{\"place_name\":\"West South Central Division\"},{\"place_name\":\"West South Central Division\"},{\"place_name\":\"West South Central Division\"},{\"place_name\":\"West South Central Division\"},{\"place_name\":\"West South Central Division\"},{\"place_name\":\"West South Central Division\"},{\"place_name\":\"West South Central Division\"},{\"place_name\":\"West South Central Division\"},{\"place_name\":\"West South Central Division\"},{\"place_name\":\"West South Central Division\"},{\"place_name\":\"West South Central Division\"},{\"place_name\":\"West South Central Division\"},{\"place_name\":\"West South Central Division\"},{\"place_name\":\"West South Central Division\"},{\"place_name\":\"West South Central Division\"},{\"place_name\":\"West South Central Division\"},{\"place_name\":\"West South Central Division\"},{\"place_name\":\"West South Central Division\"},{\"place_name\":\"West South Central Division\"},{\"place_name\":\"West South Central Division\"},{\"place_name\":\"West South Central Division\"},{\"place_name\":\"West South Central Division\"},{\"place_name\":\"West South Central Division\"},{\"place_name\":\"West South Central Division\"},{\"place_name\":\"West South Central Division\"},{\"place_name\":\"West South Central Division\"},{\"place_name\":\"West South Central Division\"},{\"place_name\":\"West South Central Division\"},{\"place_name\":\"West South Central Division\"},{\"place_name\":\"West South Central Division\"},{\"place_name\":\"West South Central Division\"},{\"place_name\":\"West South Central Division\"},{\"place_name\":\"West South Central Division\"},{\"place_name\":\"West South Central Division\"},{\"place_name\":\"West South Central Division\"},{\"place_name\":\"West South Central Division\"},{\"place_name\":\"West South Central Division\"},{\"place_name\":\"West South Central Division\"},{\"place_name\":\"West South Central Division\"},{\"place_name\":\"West South Central Division\"},{\"place_name\":\"West South Central Division\"},{\"place_name\":\"West South Central Division\"},{\"place_name\":\"West South Central Division\"},{\"place_name\":\"West South Central Division\"},{\"place_name\":\"West South Central Division\"},{\"place_name\":\"West South Central Division\"},{\"place_name\":\"West South Central Division\"},{\"place_name\":\"West South Central Division\"},{\"place_name\":\"West South Central Division\"},{\"place_name\":\"West South Central Division\"},{\"place_name\":\"West South Central Division\"},{\"place_name\":\"West South Central Division\"},{\"place_name\":\"West South Central Division\"},{\"place_name\":\"West South Central Division\"},{\"place_name\":\"West South Central Division\"},{\"place_name\":\"West South Central Division\"},{\"place_name\":\"West South Central Division\"},{\"place_name\":\"West South Central Division\"},{\"place_name\":\"West South Central Division\"},{\"place_name\":\"West South Central Division\"},{\"place_name\":\"West South Central Division\"},{\"place_name\":\"West South Central Division\"},{\"place_name\":\"West South Central Division\"},{\"place_name\":\"West South Central Division\"},{\"place_name\":\"West South Central Division\"},{\"place_name\":\"West South Central Division\"},{\"place_name\":\"West South Central Division\"},{\"place_name\":\"West South Central Division\"},{\"place_name\":\"West South Central Division\"},{\"place_name\":\"West South Central Division\"},{\"place_name\":\"West South Central Division\"},{\"place_name\":\"West South Central Division\"},{\"place_name\":\"West South Central Division\"},{\"place_name\":\"West South Central Division\"},{\"place_name\":\"West South Central Division\"},{\"place_name\":\"West South Central Division\"},{\"place_name\":\"West South Central Division\"},{\"place_name\":\"West South Central Division\"},{\"place_name\":\"West South Central Division\"},{\"place_name\":\"West South Central Division\"},{\"place_name\":\"West South Central Division\"},{\"place_name\":\"West South Central Division\"},{\"place_name\":\"West South Central Division\"},{\"place_name\":\"West South Central Division\"},{\"place_name\":\"West South Central Division\"},{\"place_name\":\"West South Central Division\"},{\"place_name\":\"West South Central Division\"},{\"place_name\":\"West South Central Division\"},{\"place_name\":\"West South Central Division\"},{\"place_name\":\"West South Central Division\"},{\"place_name\":\"West South Central Division\"},{\"place_name\":\"West South Central Division\"},{\"place_name\":\"West South Central Division\"},{\"place_name\":\"West South Central Division\"},{\"place_name\":\"West South Central Division\"},{\"place_name\":\"West South Central Division\"},{\"place_name\":\"West South Central Division\"},{\"place_name\":\"West South Central Division\"},{\"place_name\":\"West South Central Division\"},{\"place_name\":\"West South Central Division\"},{\"place_name\":\"West South Central Division\"},{\"place_name\":\"West South Central Division\"},{\"place_name\":\"West South Central Division\"},{\"place_name\":\"West South Central Division\"},{\"place_name\":\"West South Central Division\"},{\"place_name\":\"West South Central Division\"},{\"place_name\":\"West South Central Division\"},{\"place_name\":\"West South Central Division\"},{\"place_name\":\"West South Central Division\"},{\"place_name\":\"West South Central Division\"},{\"place_name\":\"West South Central Division\"},{\"place_name\":\"West South Central Division\"},{\"place_name\":\"West South Central Division\"},{\"place_name\":\"West South Central Division\"},{\"place_name\":\"West South Central Division\"},{\"place_name\":\"West South Central Division\"},{\"place_name\":\"West South Central Division\"},{\"place_name\":\"West South Central Division\"},{\"place_name\":\"West South Central Division\"},{\"place_name\":\"West South Central Division\"},{\"place_name\":\"West South Central Division\"},{\"place_name\":\"West South Central Division\"},{\"place_name\":\"West South Central Division\"},{\"place_name\":\"West South Central Division\"},{\"place_name\":\"West South Central Division\"},{\"place_name\":\"West South Central Division\"},{\"place_name\":\"West South Central Division\"},{\"place_name\":\"West South Central Division\"},{\"place_name\":\"West South Central Division\"},{\"place_name\":\"West South Central Division\"},{\"place_name\":\"West South Central Division\"},{\"place_name\":\"West South Central Division\"},{\"place_name\":\"West South Central Division\"},{\"place_name\":\"West South Central Division\"},{\"place_name\":\"West South Central Division\"},{\"place_name\":\"West South Central Division\"},{\"place_name\":\"West South Central Division\"},{\"place_name\":\"West South Central Division\"},{\"place_name\":\"West South Central Division\"},{\"place_name\":\"West South Central Division\"},{\"place_name\":\"West South Central Division\"},{\"place_name\":\"West South Central Division\"},{\"place_name\":\"West South Central Division\"},{\"place_name\":\"West South Central Division\"},{\"place_name\":\"West South Central Division\"},{\"place_name\":\"West South Central Division\"},{\"place_name\":\"West South Central Division\"},{\"place_name\":\"West South Central Division\"},{\"place_name\":\"West South Central Division\"},{\"place_name\":\"West South Central Division\"},{\"place_name\":\"West South Central Division\"},{\"place_name\":\"West South Central Division\"},{\"place_name\":\"West South Central Division\"},{\"place_name\":\"West South Central Division\"},{\"place_name\":\"West South Central Division\"},{\"place_name\":\"West South Central Division\"},{\"place_name\":\"West South Central Division\"},{\"place_name\":\"West South Central Division\"},{\"place_name\":\"West South Central Division\"},{\"place_name\":\"West South Central Division\"},{\"place_name\":\"West South Central Division\"},{\"place_name\":\"West South Central Division\"},{\"place_name\":\"West South Central Division\"},{\"place_name\":\"West South Central Division\"},{\"place_name\":\"West South Central Division\"},{\"place_name\":\"West South Central Division\"},{\"place_name\":\"West South Central Division\"},{\"place_name\":\"West South Central Division\"},{\"place_name\":\"West South Central Division\"},{\"place_name\":\"West South Central Division\"},{\"place_name\":\"West South Central Division\"},{\"place_name\":\"West South Central Division\"},{\"place_name\":\"West South Central Division\"},{\"place_name\":\"West South Central Division\"},{\"place_name\":\"West South Central Division\"},{\"place_name\":\"West South Central Division\"},{\"place_name\":\"West South Central Division\"},{\"place_name\":\"West South Central Division\"},{\"place_name\":\"West South Central Division\"},{\"place_name\":\"West South Central Division\"},{\"place_name\":\"West South Central Division\"},{\"place_name\":\"West South Central Division\"},{\"place_name\":\"West South Central Division\"},{\"place_name\":\"West South Central Division\"}],\"place_name\":[\"West South Central Division\",\"West South Central Division\",\"West South Central Division\",\"West South Central Division\",\"West South Central Division\",\"West South Central Division\",\"West South Central Division\",\"West South Central Division\",\"West South Central Division\",\"West South Central Division\",\"West South Central Division\",\"West South Central Division\",\"West South Central Division\",\"West South Central Division\",\"West South Central Division\",\"West South Central Division\",\"West South Central Division\",\"West South Central Division\",\"West South Central Division\",\"West South Central Division\",\"West South Central Division\",\"West South Central Division\",\"West South Central Division\",\"West South Central Division\",\"West South Central Division\",\"West South Central Division\",\"West South Central Division\",\"West South Central Division\",\"West South Central Division\",\"West South Central Division\",\"West South Central Division\",\"West South Central Division\",\"West South Central Division\",\"West South Central Division\",\"West South Central Division\",\"West South Central Division\",\"West South Central Division\",\"West South Central Division\",\"West South Central Division\",\"West South Central Division\",\"West South Central Division\",\"West South Central Division\",\"West South Central Division\",\"West South Central Division\",\"West South Central Division\",\"West South Central Division\",\"West South Central Division\",\"West South Central Division\",\"West South Central Division\",\"West South Central Division\",\"West South Central Division\",\"West South Central Division\",\"West South Central Division\",\"West South Central Division\",\"West South Central Division\",\"West South Central Division\",\"West South Central Division\",\"West South Central Division\",\"West South Central Division\",\"West South Central Division\",\"West South Central Division\",\"West South Central Division\",\"West South Central Division\",\"West South Central Division\",\"West South Central Division\",\"West South Central Division\",\"West South Central Division\",\"West South Central Division\",\"West South Central Division\",\"West South Central Division\",\"West South Central Division\",\"West South Central Division\",\"West South Central Division\",\"West South Central Division\",\"West South Central Division\",\"West South Central Division\",\"West South Central Division\",\"West South Central Division\",\"West South Central Division\",\"West South Central Division\",\"West South Central Division\",\"West South Central Division\",\"West South Central Division\",\"West South Central Division\",\"West South Central Division\",\"West South Central Division\",\"West South Central Division\",\"West South Central Division\",\"West South Central Division\",\"West South Central Division\",\"West South Central Division\",\"West South Central Division\",\"West South Central Division\",\"West South Central Division\",\"West South Central Division\",\"West South Central Division\",\"West South Central Division\",\"West South Central Division\",\"West South Central Division\",\"West South Central Division\",\"West South Central Division\",\"West South Central Division\",\"West South Central Division\",\"West South Central Division\",\"West South Central Division\",\"West South Central Division\",\"West South Central Division\",\"West South Central Division\",\"West South Central Division\",\"West South Central Division\",\"West South Central Division\",\"West South Central Division\",\"West South Central Division\",\"West South Central Division\",\"West South Central Division\",\"West South Central Division\",\"West South Central Division\",\"West South Central Division\",\"West South Central Division\",\"West South Central Division\",\"West South Central Division\",\"West South Central Division\",\"West South Central Division\",\"West South Central Division\",\"West South Central Division\",\"West South Central Division\",\"West South Central Division\",\"West South Central Division\",\"West South Central Division\",\"West South Central Division\",\"West South Central Division\",\"West South Central Division\",\"West South Central Division\",\"West South Central Division\",\"West South Central Division\",\"West South Central Division\",\"West South Central Division\",\"West South Central Division\",\"West South Central Division\",\"West South Central Division\",\"West South Central Division\",\"West South Central Division\",\"West South Central Division\",\"West South Central Division\",\"West South Central Division\",\"West South Central Division\",\"West South Central Division\",\"West South Central Division\",\"West South Central Division\",\"West South Central Division\",\"West South Central Division\",\"West South Central Division\",\"West South Central Division\",\"West South Central Division\",\"West South Central Division\",\"West South Central Division\",\"West South Central Division\",\"West South Central Division\",\"West South Central Division\",\"West South Central Division\",\"West South Central Division\",\"West South Central Division\",\"West South Central Division\",\"West South Central Division\",\"West South Central Division\",\"West South Central Division\",\"West South Central Division\",\"West South Central Division\",\"West South Central Division\",\"West South Central Division\",\"West South Central Division\",\"West South Central Division\",\"West South Central Division\",\"West South Central Division\",\"West South Central Division\",\"West South Central Division\",\"West South Central Division\",\"West South Central Division\",\"West South Central Division\",\"West South Central Division\",\"West South Central Division\",\"West South Central Division\",\"West South Central Division\",\"West South Central Division\",\"West South Central Division\",\"West South Central Division\",\"West South Central Division\",\"West South Central Division\",\"West South Central Division\",\"West South Central Division\",\"West South Central Division\",\"West South Central Division\",\"West South Central Division\",\"West South Central Division\",\"West South Central Division\",\"West South Central Division\",\"West South Central Division\",\"West South Central Division\",\"West South Central Division\",\"West South Central Division\",\"West South Central Division\",\"West South Central Division\",\"West South Central Division\",\"West South Central Division\",\"West South Central Division\",\"West South Central Division\",\"West South Central Division\",\"West South Central Division\",\"West South Central Division\",\"West South Central Division\",\"West South Central Division\",\"West South Central Division\",\"West South Central Division\",\"West South Central Division\",\"West South Central Division\",\"West South Central Division\",\"West South Central Division\",\"West South Central Division\",\"West South Central Division\",\"West South Central Division\",\"West South Central Division\",\"West South Central Division\",\"West South Central Division\",\"West South Central Division\",\"West South Central Division\",\"West South Central Division\",\"West South Central Division\",\"West South Central Division\",\"West South Central Division\",\"West South Central Division\",\"West South Central Division\",\"West South Central Division\",\"West South Central Division\",\"West South Central Division\",\"West South Central Division\",\"West South Central Division\",\"West South Central Division\",\"West South Central Division\",\"West South Central Division\",\"West South Central Division\",\"West South Central Division\",\"West South Central Division\",\"West South Central Division\",\"West South Central Division\",\"West South Central Division\",\"West South Central Division\",\"West South Central Division\",\"West South Central Division\",\"West South Central Division\",\"West South Central Division\",\"West South Central Division\",\"West South Central Division\",\"West South Central Division\",\"West South Central Division\",\"West South Central Division\",\"West South Central Division\",\"West South Central Division\",\"West South Central Division\",\"West South Central Division\",\"West South Central Division\",\"West South Central Division\",\"West South Central Division\",\"West South Central Division\",\"West South Central Division\",\"West South Central Division\",\"West South Central Division\",\"West South Central Division\",\"West South Central Division\",\"West South Central Division\",\"West South Central Division\",\"West South Central Division\",\"West South Central Division\",\"West South Central Division\",\"West South Central Division\",\"West South Central Division\",\"West South Central Division\",\"West South Central Division\",\"West South Central Division\",\"West South Central Division\",\"West South Central Division\",\"West South Central Division\",\"West South Central Division\",\"West South Central Division\",\"West South Central Division\",\"West South Central Division\",\"West South Central Division\",\"West South Central Division\",\"West South Central Division\",\"West South Central Division\",\"West South Central Division\",\"West South Central Division\",\"West South Central Division\",\"West South Central Division\",\"West South Central Division\",\"West South Central Division\",\"West South Central Division\",\"West South Central Division\",\"West South Central Division\",\"West South Central Division\",\"West South Central Division\",\"West South Central Division\",\"West South Central Division\",\"West South Central Division\",\"West South Central Division\",\"West South Central Division\",\"West South Central Division\",\"West South Central Division\",\"West South Central Division\"],\"x_values\":[662688000000.0,665366400000.0,667785600000.0,670464000000.0,673056000000.0,675734400000.0,678326400000.0,681004800000.0,683683200000.0,686275200000.0,688953600000.0,691545600000.0,694224000000.0,696902400000.0,699408000000.0,702086400000.0,704678400000.0,707356800000.0,709948800000.0,712627200000.0,715305600000.0,717897600000.0,720576000000.0,723168000000.0,725846400000.0,728524800000.0,730944000000.0,733622400000.0,736214400000.0,738892800000.0,741484800000.0,744163200000.0,746841600000.0,749433600000.0,752112000000.0,754704000000.0,757382400000.0,760060800000.0,762480000000.0,765158400000.0,767750400000.0,770428800000.0,773020800000.0,775699200000.0,778377600000.0,780969600000.0,783648000000.0,786240000000.0,788918400000.0,791596800000.0,794016000000.0,796694400000.0,799286400000.0,801964800000.0,804556800000.0,807235200000.0,809913600000.0,812505600000.0,815184000000.0,817776000000.0,820454400000.0,823132800000.0,825638400000.0,828316800000.0,830908800000.0,833587200000.0,836179200000.0,838857600000.0,841536000000.0,844128000000.0,846806400000.0,849398400000.0,852076800000.0,854755200000.0,857174400000.0,859852800000.0,862444800000.0,865123200000.0,867715200000.0,870393600000.0,873072000000.0,875664000000.0,878342400000.0,880934400000.0,883612800000.0,886291200000.0,888710400000.0,891388800000.0,893980800000.0,896659200000.0,899251200000.0,901929600000.0,904608000000.0,907200000000.0,909878400000.0,912470400000.0,915148800000.0,917827200000.0,920246400000.0,922924800000.0,925516800000.0,928195200000.0,930787200000.0,933465600000.0,936144000000.0,938736000000.0,941414400000.0,944006400000.0,946684800000.0,949363200000.0,951868800000.0,954547200000.0,957139200000.0,959817600000.0,962409600000.0,965088000000.0,967766400000.0,970358400000.0,973036800000.0,975628800000.0,978307200000.0,980985600000.0,983404800000.0,986083200000.0,988675200000.0,991353600000.0,993945600000.0,996624000000.0,999302400000.0,1001894400000.0,1004572800000.0,1007164800000.0,1009843200000.0,1012521600000.0,1014940800000.0,1017619200000.0,1020211200000.0,1022889600000.0,1025481600000.0,1028160000000.0,1030838400000.0,1033430400000.0,1036108800000.0,1038700800000.0,1041379200000.0,1044057600000.0,1046476800000.0,1049155200000.0,1051747200000.0,1054425600000.0,1057017600000.0,1059696000000.0,1062374400000.0,1064966400000.0,1067644800000.0,1070236800000.0,1072915200000.0,1075593600000.0,1078099200000.0,1080777600000.0,1083369600000.0,1086048000000.0,1088640000000.0,1091318400000.0,1093996800000.0,1096588800000.0,1099267200000.0,1101859200000.0,1104537600000.0,1107216000000.0,1109635200000.0,1112313600000.0,1114905600000.0,1117584000000.0,1120176000000.0,1122854400000.0,1125532800000.0,1128124800000.0,1130803200000.0,1133395200000.0,1136073600000.0,1138752000000.0,1141171200000.0,1143849600000.0,1146441600000.0,1149120000000.0,1151712000000.0,1154390400000.0,1157068800000.0,1159660800000.0,1162339200000.0,1164931200000.0,1167609600000.0,1170288000000.0,1172707200000.0,1175385600000.0,1177977600000.0,1180656000000.0,1183248000000.0,1185926400000.0,1188604800000.0,1191196800000.0,1193875200000.0,1196467200000.0,1199145600000.0,1201824000000.0,1204329600000.0,1207008000000.0,1209600000000.0,1212278400000.0,1214870400000.0,1217548800000.0,1220227200000.0,1222819200000.0,1225497600000.0,1228089600000.0,1230768000000.0,1233446400000.0,1235865600000.0,1238544000000.0,1241136000000.0,1243814400000.0,1246406400000.0,1249084800000.0,1251763200000.0,1254355200000.0,1257033600000.0,1259625600000.0,1262304000000.0,1264982400000.0,1267401600000.0,1270080000000.0,1272672000000.0,1275350400000.0,1277942400000.0,1280620800000.0,1283299200000.0,1285891200000.0,1288569600000.0,1291161600000.0,1293840000000.0,1296518400000.0,1298937600000.0,1301616000000.0,1304208000000.0,1306886400000.0,1309478400000.0,1312156800000.0,1314835200000.0,1317427200000.0,1320105600000.0,1322697600000.0,1325376000000.0,1328054400000.0,1330560000000.0,1333238400000.0,1335830400000.0,1338508800000.0,1341100800000.0,1343779200000.0,1346457600000.0,1349049600000.0,1351728000000.0,1354320000000.0,1356998400000.0,1359676800000.0,1362096000000.0,1364774400000.0,1367366400000.0,1370044800000.0,1372636800000.0,1375315200000.0,1377993600000.0,1380585600000.0,1383264000000.0,1385856000000.0,1388534400000.0,1391212800000.0,1393632000000.0,1396310400000.0,1398902400000.0,1401580800000.0,1404172800000.0,1406851200000.0,1409529600000.0,1412121600000.0,1414800000000.0,1417392000000.0,1420070400000.0,1422748800000.0,1425168000000.0,1427846400000.0,1430438400000.0,1433116800000.0,1435708800000.0,1438387200000.0,1441065600000.0,1443657600000.0,1446336000000.0,1448928000000.0,1451606400000.0,1454284800000.0,1456790400000.0,1459468800000.0,1462060800000.0,1464739200000.0,1467331200000.0,1470009600000.0],\"y_values\":[100.0,100.03,100.89,100.53,100.98,102.17,101.85,101.61,102.28,101.44,102.09,102.19,102.47,103.53,102.85,103.19,103.3,104.25,104.37,105.1,104.99,105.72,106.45,105.44,105.5,105.81,106.6,107.08,107.89,108.82,109.34,109.62,109.65,110.54,110.72,111.02,110.77,111.48,112.51,112.5,113.72,113.94,113.75,114.29,114.08,114.42,114.37,114.35,114.31,114.62,114.62,115.9,116.32,116.4,117.17,117.48,117.77,117.61,117.89,118.4,117.83,118.48,118.87,119.22,120.05,120.76,120.52,120.87,120.79,120.52,120.82,120.98,120.41,121.19,121.64,122.16,123.27,123.46,123.59,123.68,123.67,124.07,124.7,124.63,125.22,125.86,126.44,127.02,128.15,128.98,129.93,130.36,130.47,130.8,131.15,132.01,131.93,132.51,133.17,134.65,135.4,136.2,137.19,137.73,137.4,138.25,138.6,138.77,139.63,139.77,141.4,142.7,143.38,144.21,145.01,145.4,145.61,145.99,146.54,146.12,146.16,148.02,148.34,150.04,149.99,150.85,151.81,151.47,152.05,152.33,151.85,152.14,151.36,152.59,154.25,155.0,155.77,156.31,156.56,156.82,157.13,157.54,157.49,157.94,157.7,158.35,159.15,159.99,160.88,161.14,161.58,162.51,162.89,162.24,162.36,163.03,162.32,163.47,165.51,166.31,167.04,168.25,168.03,168.9,169.17,169.08,170.15,169.92,170.13,171.05,172.77,173.89,175.73,177.11,178.09,178.42,179.1,180.84,180.99,181.76,182.34,183.73,185.24,185.77,188.66,189.47,190.11,191.29,191.54,192.2,192.47,192.41,193.57,194.25,196.02,196.9,198.53,199.3,199.73,200.51,199.24,199.27,198.4,198.42,196.77,197.1,197.04,198.21,198.73,200.68,200.03,198.17,199.31,196.99,192.94,193.5,192.74,195.1,195.53,195.77,197.51,200.41,198.17,197.71,196.18,198.38,196.21,195.24,194.98,194.21,195.51,197.71,200.23,198.59,198.06,197.7,194.4,193.5,192.84,190.56,191.08,189.81,190.69,193.02,193.56,197.02,194.47,193.5,193.66,193.29,194.86,193.91,191.16,193.94,197.62,199.96,201.02,202.52,203.79,203.29,203.24,203.8,204.67,202.57,204.57,205.78,209.12,211.17,213.86,215.78,215.31,214.74,214.78,215.12,215.08,216.99,216.2,217.78,222.29,222.37,224.68,225.38,227.5,227.75,227.73,227.04,229.22,229.3,229.81,231.67,233.5,236.28,240.76,241.46,242.97,242.75,242.78,243.15,243.22,243.39,242.38,244.93,250.05,251.23,254.51,255.81,257.53,257.26]}},\"id\":\"4949478c-dc74-4c53-bc94-54fe3350dd42\",\"type\":\"ColumnDataSource\"},{\"attributes\":{\"days\":[1,4,7,10,13,16,19,22,25,28]},\"id\":\"7a251745-dae9-4d07-a8be-97f9b3c620de\",\"type\":\"DaysTicker\"},{\"attributes\":{},\"id\":\"5358edc5-7ae9-4d69-8389-f1f1e36961ff\",\"type\":\"ToolEvents\"},{\"attributes\":{\"line_color\":{\"value\":\"#407ee7\"},\"line_width\":{\"value\":2},\"x\":{\"field\":\"x_values\"},\"y\":{\"field\":\"y_values\"}},\"id\":\"055baa1f-6f4f-4677-8b49-b6d2237db9fd\",\"type\":\"Line\"},{\"attributes\":{\"months\":[0,2,4,6,8,10]},\"id\":\"257f5a5c-6126-4f22-b586-7c822adcd17e\",\"type\":\"MonthsTicker\"},{\"attributes\":{\"callback\":null,\"end\":303.973,\"start\":76.297},\"id\":\"1ec34193-8d2c-40f5-b73a-05a03129a347\",\"type\":\"Range1d\"},{\"attributes\":{\"axis_label\":\"date\",\"formatter\":{\"id\":\"8d8c81c3-8fbb-4f9a-b1a7-d879f1d6cae7\",\"type\":\"DatetimeTickFormatter\"},\"plot\":{\"id\":\"fde244df-b220-4117-8bb4-80d23a02e756\",\"subtype\":\"Chart\",\"type\":\"Plot\"},\"ticker\":{\"id\":\"5f63ada8-c0b2-455f-9e3c-e7735183aff5\",\"type\":\"DatetimeTicker\"}},\"id\":\"9c702679-6249-48fd-81e3-c94adfb19b06\",\"type\":\"DatetimeAxis\"},{\"attributes\":{},\"id\":\"5f63ada8-c0b2-455f-9e3c-e7735183aff5\",\"type\":\"DatetimeTicker\"},{\"attributes\":{\"line_color\":{\"value\":\"#5ab738\"},\"line_width\":{\"value\":2},\"x\":{\"field\":\"x_values\"},\"y\":{\"field\":\"y_values\"}},\"id\":\"cd7aec08-7830-4dc4-a369-fd4f468fed24\",\"type\":\"Line\"},{\"attributes\":{},\"id\":\"8d8c81c3-8fbb-4f9a-b1a7-d879f1d6cae7\",\"type\":\"DatetimeTickFormatter\"},{\"attributes\":{\"callback\":null,\"column_names\":[\"x_values\",\"y_values\"],\"data\":{\"chart_index\":[{\"place_name\":\"Pacific Division\"},{\"place_name\":\"Pacific Division\"},{\"place_name\":\"Pacific Division\"},{\"place_name\":\"Pacific Division\"},{\"place_name\":\"Pacific Division\"},{\"place_name\":\"Pacific Division\"},{\"place_name\":\"Pacific Division\"},{\"place_name\":\"Pacific Division\"},{\"place_name\":\"Pacific Division\"},{\"place_name\":\"Pacific Division\"},{\"place_name\":\"Pacific Division\"},{\"place_name\":\"Pacific Division\"},{\"place_name\":\"Pacific Division\"},{\"place_name\":\"Pacific Division\"},{\"place_name\":\"Pacific Division\"},{\"place_name\":\"Pacific Division\"},{\"place_name\":\"Pacific Division\"},{\"place_name\":\"Pacific Division\"},{\"place_name\":\"Pacific Division\"},{\"place_name\":\"Pacific Division\"},{\"place_name\":\"Pacific Division\"},{\"place_name\":\"Pacific Division\"},{\"place_name\":\"Pacific Division\"},{\"place_name\":\"Pacific Division\"},{\"place_name\":\"Pacific Division\"},{\"place_name\":\"Pacific Division\"},{\"place_name\":\"Pacific Division\"},{\"place_name\":\"Pacific Division\"},{\"place_name\":\"Pacific Division\"},{\"place_name\":\"Pacific Division\"},{\"place_name\":\"Pacific Division\"},{\"place_name\":\"Pacific Division\"},{\"place_name\":\"Pacific Division\"},{\"place_name\":\"Pacific Division\"},{\"place_name\":\"Pacific Division\"},{\"place_name\":\"Pacific Division\"},{\"place_name\":\"Pacific Division\"},{\"place_name\":\"Pacific Division\"},{\"place_name\":\"Pacific Division\"},{\"place_name\":\"Pacific Division\"},{\"place_name\":\"Pacific Division\"},{\"place_name\":\"Pacific Division\"},{\"place_name\":\"Pacific Division\"},{\"place_name\":\"Pacific Division\"},{\"place_name\":\"Pacific Division\"},{\"place_name\":\"Pacific Division\"},{\"place_name\":\"Pacific Division\"},{\"place_name\":\"Pacific Division\"},{\"place_name\":\"Pacific Division\"},{\"place_name\":\"Pacific Division\"},{\"place_name\":\"Pacific Division\"},{\"place_name\":\"Pacific Division\"},{\"place_name\":\"Pacific Division\"},{\"place_name\":\"Pacific Division\"},{\"place_name\":\"Pacific Division\"},{\"place_name\":\"Pacific Division\"},{\"place_name\":\"Pacific Division\"},{\"place_name\":\"Pacific Division\"},{\"place_name\":\"Pacific Division\"},{\"place_name\":\"Pacific Division\"},{\"place_name\":\"Pacific Division\"},{\"place_name\":\"Pacific Division\"},{\"place_name\":\"Pacific Division\"},{\"place_name\":\"Pacific Division\"},{\"place_name\":\"Pacific Division\"},{\"place_name\":\"Pacific Division\"},{\"place_name\":\"Pacific Division\"},{\"place_name\":\"Pacific Division\"},{\"place_name\":\"Pacific Division\"},{\"place_name\":\"Pacific Division\"},{\"place_name\":\"Pacific Division\"},{\"place_name\":\"Pacific Division\"},{\"place_name\":\"Pacific Division\"},{\"place_name\":\"Pacific Division\"},{\"place_name\":\"Pacific Division\"},{\"place_name\":\"Pacific Division\"},{\"place_name\":\"Pacific Division\"},{\"place_name\":\"Pacific Division\"},{\"place_name\":\"Pacific Division\"},{\"place_name\":\"Pacific Division\"},{\"place_name\":\"Pacific Division\"},{\"place_name\":\"Pacific Division\"},{\"place_name\":\"Pacific Division\"},{\"place_name\":\"Pacific Division\"},{\"place_name\":\"Pacific Division\"},{\"place_name\":\"Pacific Division\"},{\"place_name\":\"Pacific Division\"},{\"place_name\":\"Pacific Division\"},{\"place_name\":\"Pacific Division\"},{\"place_name\":\"Pacific Division\"},{\"place_name\":\"Pacific Division\"},{\"place_name\":\"Pacific Division\"},{\"place_name\":\"Pacific Division\"},{\"place_name\":\"Pacific Division\"},{\"place_name\":\"Pacific Division\"},{\"place_name\":\"Pacific Division\"},{\"place_name\":\"Pacific Division\"},{\"place_name\":\"Pacific Division\"},{\"place_name\":\"Pacific Division\"},{\"place_name\":\"Pacific Division\"},{\"place_name\":\"Pacific Division\"},{\"place_name\":\"Pacific Division\"},{\"place_name\":\"Pacific Division\"},{\"place_name\":\"Pacific Division\"},{\"place_name\":\"Pacific Division\"},{\"place_name\":\"Pacific Division\"},{\"place_name\":\"Pacific Division\"},{\"place_name\":\"Pacific Division\"},{\"place_name\":\"Pacific Division\"},{\"place_name\":\"Pacific Division\"},{\"place_name\":\"Pacific Division\"},{\"place_name\":\"Pacific Division\"},{\"place_name\":\"Pacific Division\"},{\"place_name\":\"Pacific Division\"},{\"place_name\":\"Pacific Division\"},{\"place_name\":\"Pacific Division\"},{\"place_name\":\"Pacific Division\"},{\"place_name\":\"Pacific Division\"},{\"place_name\":\"Pacific Division\"},{\"place_name\":\"Pacific Division\"},{\"place_name\":\"Pacific Division\"},{\"place_name\":\"Pacific Division\"},{\"place_name\":\"Pacific Division\"},{\"place_name\":\"Pacific Division\"},{\"place_name\":\"Pacific Division\"},{\"place_name\":\"Pacific Division\"},{\"place_name\":\"Pacific Division\"},{\"place_name\":\"Pacific Division\"},{\"place_name\":\"Pacific Division\"},{\"place_name\":\"Pacific Division\"},{\"place_name\":\"Pacific Division\"},{\"place_name\":\"Pacific Division\"},{\"place_name\":\"Pacific Division\"},{\"place_name\":\"Pacific Division\"},{\"place_name\":\"Pacific Division\"},{\"place_name\":\"Pacific Division\"},{\"place_name\":\"Pacific Division\"},{\"place_name\":\"Pacific Division\"},{\"place_name\":\"Pacific Division\"},{\"place_name\":\"Pacific Division\"},{\"place_name\":\"Pacific Division\"},{\"place_name\":\"Pacific Division\"},{\"place_name\":\"Pacific Division\"},{\"place_name\":\"Pacific Division\"},{\"place_name\":\"Pacific Division\"},{\"place_name\":\"Pacific Division\"},{\"place_name\":\"Pacific Division\"},{\"place_name\":\"Pacific Division\"},{\"place_name\":\"Pacific Division\"},{\"place_name\":\"Pacific Division\"},{\"place_name\":\"Pacific Division\"},{\"place_name\":\"Pacific Division\"},{\"place_name\":\"Pacific Division\"},{\"place_name\":\"Pacific Division\"},{\"place_name\":\"Pacific Division\"},{\"place_name\":\"Pacific Division\"},{\"place_name\":\"Pacific Division\"},{\"place_name\":\"Pacific Division\"},{\"place_name\":\"Pacific Division\"},{\"place_name\":\"Pacific Division\"},{\"place_name\":\"Pacific Division\"},{\"place_name\":\"Pacific Division\"},{\"place_name\":\"Pacific Division\"},{\"place_name\":\"Pacific Division\"},{\"place_name\":\"Pacific Division\"},{\"place_name\":\"Pacific Division\"},{\"place_name\":\"Pacific Division\"},{\"place_name\":\"Pacific Division\"},{\"place_name\":\"Pacific Division\"},{\"place_name\":\"Pacific Division\"},{\"place_name\":\"Pacific Division\"},{\"place_name\":\"Pacific Division\"},{\"place_name\":\"Pacific Division\"},{\"place_name\":\"Pacific Division\"},{\"place_name\":\"Pacific Division\"},{\"place_name\":\"Pacific Division\"},{\"place_name\":\"Pacific Division\"},{\"place_name\":\"Pacific Division\"},{\"place_name\":\"Pacific Division\"},{\"place_name\":\"Pacific Division\"},{\"place_name\":\"Pacific Division\"},{\"place_name\":\"Pacific Division\"},{\"place_name\":\"Pacific Division\"},{\"place_name\":\"Pacific Division\"},{\"place_name\":\"Pacific Division\"},{\"place_name\":\"Pacific Division\"},{\"place_name\":\"Pacific Division\"},{\"place_name\":\"Pacific Division\"},{\"place_name\":\"Pacific Division\"},{\"place_name\":\"Pacific Division\"},{\"place_name\":\"Pacific Division\"},{\"place_name\":\"Pacific Division\"},{\"place_name\":\"Pacific Division\"},{\"place_name\":\"Pacific Division\"},{\"place_name\":\"Pacific Division\"},{\"place_name\":\"Pacific Division\"},{\"place_name\":\"Pacific Division\"},{\"place_name\":\"Pacific Division\"},{\"place_name\":\"Pacific Division\"},{\"place_name\":\"Pacific Division\"},{\"place_name\":\"Pacific Division\"},{\"place_name\":\"Pacific Division\"},{\"place_name\":\"Pacific Division\"},{\"place_name\":\"Pacific Division\"},{\"place_name\":\"Pacific Division\"},{\"place_name\":\"Pacific Division\"},{\"place_name\":\"Pacific Division\"},{\"place_name\":\"Pacific Division\"},{\"place_name\":\"Pacific Division\"},{\"place_name\":\"Pacific Division\"},{\"place_name\":\"Pacific Division\"},{\"place_name\":\"Pacific Division\"},{\"place_name\":\"Pacific Division\"},{\"place_name\":\"Pacific Division\"},{\"place_name\":\"Pacific Division\"},{\"place_name\":\"Pacific Division\"},{\"place_name\":\"Pacific Division\"},{\"place_name\":\"Pacific Division\"},{\"place_name\":\"Pacific Division\"},{\"place_name\":\"Pacific Division\"},{\"place_name\":\"Pacific Division\"},{\"place_name\":\"Pacific Division\"},{\"place_name\":\"Pacific Division\"},{\"place_name\":\"Pacific Division\"},{\"place_name\":\"Pacific Division\"},{\"place_name\":\"Pacific Division\"},{\"place_name\":\"Pacific Division\"},{\"place_name\":\"Pacific Division\"},{\"place_name\":\"Pacific Division\"},{\"place_name\":\"Pacific Division\"},{\"place_name\":\"Pacific Division\"},{\"place_name\":\"Pacific Division\"},{\"place_name\":\"Pacific Division\"},{\"place_name\":\"Pacific Division\"},{\"place_name\":\"Pacific Division\"},{\"place_name\":\"Pacific Division\"},{\"place_name\":\"Pacific Division\"},{\"place_name\":\"Pacific Division\"},{\"place_name\":\"Pacific Division\"},{\"place_name\":\"Pacific Division\"},{\"place_name\":\"Pacific Division\"},{\"place_name\":\"Pacific Division\"},{\"place_name\":\"Pacific Division\"},{\"place_name\":\"Pacific Division\"},{\"place_name\":\"Pacific Division\"},{\"place_name\":\"Pacific Division\"},{\"place_name\":\"Pacific Division\"},{\"place_name\":\"Pacific Division\"},{\"place_name\":\"Pacific Division\"},{\"place_name\":\"Pacific Division\"},{\"place_name\":\"Pacific Division\"},{\"place_name\":\"Pacific Division\"},{\"place_name\":\"Pacific Division\"},{\"place_name\":\"Pacific Division\"},{\"place_name\":\"Pacific Division\"},{\"place_name\":\"Pacific Division\"},{\"place_name\":\"Pacific Division\"},{\"place_name\":\"Pacific Division\"},{\"place_name\":\"Pacific Division\"},{\"place_name\":\"Pacific Division\"},{\"place_name\":\"Pacific Division\"},{\"place_name\":\"Pacific Division\"},{\"place_name\":\"Pacific Division\"},{\"place_name\":\"Pacific Division\"},{\"place_name\":\"Pacific Division\"},{\"place_name\":\"Pacific Division\"},{\"place_name\":\"Pacific Division\"},{\"place_name\":\"Pacific Division\"},{\"place_name\":\"Pacific Division\"},{\"place_name\":\"Pacific Division\"},{\"place_name\":\"Pacific Division\"},{\"place_name\":\"Pacific Division\"},{\"place_name\":\"Pacific Division\"},{\"place_name\":\"Pacific Division\"},{\"place_name\":\"Pacific Division\"},{\"place_name\":\"Pacific Division\"},{\"place_name\":\"Pacific Division\"},{\"place_name\":\"Pacific Division\"},{\"place_name\":\"Pacific Division\"},{\"place_name\":\"Pacific Division\"},{\"place_name\":\"Pacific Division\"},{\"place_name\":\"Pacific Division\"},{\"place_name\":\"Pacific Division\"},{\"place_name\":\"Pacific Division\"},{\"place_name\":\"Pacific Division\"},{\"place_name\":\"Pacific Division\"},{\"place_name\":\"Pacific Division\"},{\"place_name\":\"Pacific Division\"},{\"place_name\":\"Pacific Division\"},{\"place_name\":\"Pacific Division\"},{\"place_name\":\"Pacific Division\"},{\"place_name\":\"Pacific Division\"},{\"place_name\":\"Pacific Division\"},{\"place_name\":\"Pacific Division\"},{\"place_name\":\"Pacific Division\"},{\"place_name\":\"Pacific Division\"},{\"place_name\":\"Pacific Division\"},{\"place_name\":\"Pacific Division\"},{\"place_name\":\"Pacific Division\"},{\"place_name\":\"Pacific Division\"},{\"place_name\":\"Pacific Division\"},{\"place_name\":\"Pacific Division\"},{\"place_name\":\"Pacific Division\"},{\"place_name\":\"Pacific Division\"},{\"place_name\":\"Pacific Division\"},{\"place_name\":\"Pacific Division\"},{\"place_name\":\"Pacific Division\"},{\"place_name\":\"Pacific Division\"}],\"place_name\":[\"Pacific Division\",\"Pacific Division\",\"Pacific Division\",\"Pacific Division\",\"Pacific Division\",\"Pacific Division\",\"Pacific Division\",\"Pacific Division\",\"Pacific Division\",\"Pacific Division\",\"Pacific Division\",\"Pacific Division\",\"Pacific Division\",\"Pacific Division\",\"Pacific Division\",\"Pacific Division\",\"Pacific Division\",\"Pacific Division\",\"Pacific Division\",\"Pacific Division\",\"Pacific Division\",\"Pacific Division\",\"Pacific Division\",\"Pacific Division\",\"Pacific Division\",\"Pacific Division\",\"Pacific Division\",\"Pacific Division\",\"Pacific Division\",\"Pacific Division\",\"Pacific Division\",\"Pacific Division\",\"Pacific Division\",\"Pacific Division\",\"Pacific Division\",\"Pacific Division\",\"Pacific Division\",\"Pacific Division\",\"Pacific Division\",\"Pacific Division\",\"Pacific Division\",\"Pacific Division\",\"Pacific Division\",\"Pacific Division\",\"Pacific Division\",\"Pacific Division\",\"Pacific Division\",\"Pacific Division\",\"Pacific Division\",\"Pacific Division\",\"Pacific Division\",\"Pacific Division\",\"Pacific Division\",\"Pacific Division\",\"Pacific Division\",\"Pacific Division\",\"Pacific Division\",\"Pacific Division\",\"Pacific Division\",\"Pacific Division\",\"Pacific Division\",\"Pacific Division\",\"Pacific Division\",\"Pacific Division\",\"Pacific Division\",\"Pacific Division\",\"Pacific Division\",\"Pacific Division\",\"Pacific Division\",\"Pacific Division\",\"Pacific Division\",\"Pacific Division\",\"Pacific Division\",\"Pacific Division\",\"Pacific Division\",\"Pacific Division\",\"Pacific Division\",\"Pacific Division\",\"Pacific Division\",\"Pacific Division\",\"Pacific Division\",\"Pacific Division\",\"Pacific Division\",\"Pacific Division\",\"Pacific Division\",\"Pacific Division\",\"Pacific Division\",\"Pacific Division\",\"Pacific Division\",\"Pacific Division\",\"Pacific Division\",\"Pacific Division\",\"Pacific Division\",\"Pacific Division\",\"Pacific Division\",\"Pacific Division\",\"Pacific Division\",\"Pacific Division\",\"Pacific Division\",\"Pacific Division\",\"Pacific Division\",\"Pacific Division\",\"Pacific Division\",\"Pacific Division\",\"Pacific Division\",\"Pacific Division\",\"Pacific Division\",\"Pacific Division\",\"Pacific Division\",\"Pacific Division\",\"Pacific Division\",\"Pacific Division\",\"Pacific Division\",\"Pacific Division\",\"Pacific Division\",\"Pacific Division\",\"Pacific Division\",\"Pacific Division\",\"Pacific Division\",\"Pacific Division\",\"Pacific Division\",\"Pacific Division\",\"Pacific Division\",\"Pacific Division\",\"Pacific Division\",\"Pacific Division\",\"Pacific Division\",\"Pacific Division\",\"Pacific Division\",\"Pacific Division\",\"Pacific Division\",\"Pacific Division\",\"Pacific Division\",\"Pacific Division\",\"Pacific Division\",\"Pacific Division\",\"Pacific Division\",\"Pacific Division\",\"Pacific Division\",\"Pacific Division\",\"Pacific Division\",\"Pacific Division\",\"Pacific Division\",\"Pacific Division\",\"Pacific Division\",\"Pacific Division\",\"Pacific Division\",\"Pacific Division\",\"Pacific Division\",\"Pacific Division\",\"Pacific Division\",\"Pacific Division\",\"Pacific Division\",\"Pacific Division\",\"Pacific Division\",\"Pacific Division\",\"Pacific Division\",\"Pacific Division\",\"Pacific Division\",\"Pacific Division\",\"Pacific Division\",\"Pacific Division\",\"Pacific Division\",\"Pacific Division\",\"Pacific Division\",\"Pacific Division\",\"Pacific Division\",\"Pacific Division\",\"Pacific Division\",\"Pacific Division\",\"Pacific Division\",\"Pacific Division\",\"Pacific Division\",\"Pacific Division\",\"Pacific Division\",\"Pacific Division\",\"Pacific Division\",\"Pacific Division\",\"Pacific Division\",\"Pacific Division\",\"Pacific Division\",\"Pacific Division\",\"Pacific Division\",\"Pacific Division\",\"Pacific Division\",\"Pacific Division\",\"Pacific Division\",\"Pacific Division\",\"Pacific Division\",\"Pacific Division\",\"Pacific Division\",\"Pacific Division\",\"Pacific Division\",\"Pacific Division\",\"Pacific Division\",\"Pacific Division\",\"Pacific Division\",\"Pacific Division\",\"Pacific Division\",\"Pacific Division\",\"Pacific Division\",\"Pacific Division\",\"Pacific Division\",\"Pacific Division\",\"Pacific Division\",\"Pacific Division\",\"Pacific Division\",\"Pacific Division\",\"Pacific Division\",\"Pacific Division\",\"Pacific Division\",\"Pacific Division\",\"Pacific Division\",\"Pacific Division\",\"Pacific Division\",\"Pacific Division\",\"Pacific Division\",\"Pacific Division\",\"Pacific Division\",\"Pacific Division\",\"Pacific Division\",\"Pacific Division\",\"Pacific Division\",\"Pacific Division\",\"Pacific Division\",\"Pacific Division\",\"Pacific Division\",\"Pacific Division\",\"Pacific Division\",\"Pacific Division\",\"Pacific Division\",\"Pacific Division\",\"Pacific Division\",\"Pacific Division\",\"Pacific Division\",\"Pacific Division\",\"Pacific Division\",\"Pacific Division\",\"Pacific Division\",\"Pacific Division\",\"Pacific Division\",\"Pacific Division\",\"Pacific Division\",\"Pacific Division\",\"Pacific Division\",\"Pacific Division\",\"Pacific Division\",\"Pacific Division\",\"Pacific Division\",\"Pacific Division\",\"Pacific Division\",\"Pacific Division\",\"Pacific Division\",\"Pacific Division\",\"Pacific Division\",\"Pacific Division\",\"Pacific Division\",\"Pacific Division\",\"Pacific Division\",\"Pacific Division\",\"Pacific Division\",\"Pacific Division\",\"Pacific Division\",\"Pacific Division\",\"Pacific Division\",\"Pacific Division\",\"Pacific Division\",\"Pacific Division\",\"Pacific Division\",\"Pacific Division\",\"Pacific Division\",\"Pacific Division\",\"Pacific Division\",\"Pacific Division\",\"Pacific Division\",\"Pacific Division\",\"Pacific Division\",\"Pacific Division\",\"Pacific Division\",\"Pacific Division\",\"Pacific Division\",\"Pacific Division\",\"Pacific Division\",\"Pacific Division\",\"Pacific Division\",\"Pacific Division\",\"Pacific Division\",\"Pacific Division\",\"Pacific Division\",\"Pacific Division\",\"Pacific Division\",\"Pacific Division\",\"Pacific Division\",\"Pacific Division\",\"Pacific Division\",\"Pacific Division\",\"Pacific Division\",\"Pacific Division\",\"Pacific Division\",\"Pacific Division\",\"Pacific Division\",\"Pacific Division\",\"Pacific Division\",\"Pacific Division\",\"Pacific Division\",\"Pacific Division\",\"Pacific Division\",\"Pacific Division\"],\"x_values\":[662688000000.0,665366400000.0,667785600000.0,670464000000.0,673056000000.0,675734400000.0,678326400000.0,681004800000.0,683683200000.0,686275200000.0,688953600000.0,691545600000.0,694224000000.0,696902400000.0,699408000000.0,702086400000.0,704678400000.0,707356800000.0,709948800000.0,712627200000.0,715305600000.0,717897600000.0,720576000000.0,723168000000.0,725846400000.0,728524800000.0,730944000000.0,733622400000.0,736214400000.0,738892800000.0,741484800000.0,744163200000.0,746841600000.0,749433600000.0,752112000000.0,754704000000.0,757382400000.0,760060800000.0,762480000000.0,765158400000.0,767750400000.0,770428800000.0,773020800000.0,775699200000.0,778377600000.0,780969600000.0,783648000000.0,786240000000.0,788918400000.0,791596800000.0,794016000000.0,796694400000.0,799286400000.0,801964800000.0,804556800000.0,807235200000.0,809913600000.0,812505600000.0,815184000000.0,817776000000.0,820454400000.0,823132800000.0,825638400000.0,828316800000.0,830908800000.0,833587200000.0,836179200000.0,838857600000.0,841536000000.0,844128000000.0,846806400000.0,849398400000.0,852076800000.0,854755200000.0,857174400000.0,859852800000.0,862444800000.0,865123200000.0,867715200000.0,870393600000.0,873072000000.0,875664000000.0,878342400000.0,880934400000.0,883612800000.0,886291200000.0,888710400000.0,891388800000.0,893980800000.0,896659200000.0,899251200000.0,901929600000.0,904608000000.0,907200000000.0,909878400000.0,912470400000.0,915148800000.0,917827200000.0,920246400000.0,922924800000.0,925516800000.0,928195200000.0,930787200000.0,933465600000.0,936144000000.0,938736000000.0,941414400000.0,944006400000.0,946684800000.0,949363200000.0,951868800000.0,954547200000.0,957139200000.0,959817600000.0,962409600000.0,965088000000.0,967766400000.0,970358400000.0,973036800000.0,975628800000.0,978307200000.0,980985600000.0,983404800000.0,986083200000.0,988675200000.0,991353600000.0,993945600000.0,996624000000.0,999302400000.0,1001894400000.0,1004572800000.0,1007164800000.0,1009843200000.0,1012521600000.0,1014940800000.0,1017619200000.0,1020211200000.0,1022889600000.0,1025481600000.0,1028160000000.0,1030838400000.0,1033430400000.0,1036108800000.0,1038700800000.0,1041379200000.0,1044057600000.0,1046476800000.0,1049155200000.0,1051747200000.0,1054425600000.0,1057017600000.0,1059696000000.0,1062374400000.0,1064966400000.0,1067644800000.0,1070236800000.0,1072915200000.0,1075593600000.0,1078099200000.0,1080777600000.0,1083369600000.0,1086048000000.0,1088640000000.0,1091318400000.0,1093996800000.0,1096588800000.0,1099267200000.0,1101859200000.0,1104537600000.0,1107216000000.0,1109635200000.0,1112313600000.0,1114905600000.0,1117584000000.0,1120176000000.0,1122854400000.0,1125532800000.0,1128124800000.0,1130803200000.0,1133395200000.0,1136073600000.0,1138752000000.0,1141171200000.0,1143849600000.0,1146441600000.0,1149120000000.0,1151712000000.0,1154390400000.0,1157068800000.0,1159660800000.0,1162339200000.0,1164931200000.0,1167609600000.0,1170288000000.0,1172707200000.0,1175385600000.0,1177977600000.0,1180656000000.0,1183248000000.0,1185926400000.0,1188604800000.0,1191196800000.0,1193875200000.0,1196467200000.0,1199145600000.0,1201824000000.0,1204329600000.0,1207008000000.0,1209600000000.0,1212278400000.0,1214870400000.0,1217548800000.0,1220227200000.0,1222819200000.0,1225497600000.0,1228089600000.0,1230768000000.0,1233446400000.0,1235865600000.0,1238544000000.0,1241136000000.0,1243814400000.0,1246406400000.0,1249084800000.0,1251763200000.0,1254355200000.0,1257033600000.0,1259625600000.0,1262304000000.0,1264982400000.0,1267401600000.0,1270080000000.0,1272672000000.0,1275350400000.0,1277942400000.0,1280620800000.0,1283299200000.0,1285891200000.0,1288569600000.0,1291161600000.0,1293840000000.0,1296518400000.0,1298937600000.0,1301616000000.0,1304208000000.0,1306886400000.0,1309478400000.0,1312156800000.0,1314835200000.0,1317427200000.0,1320105600000.0,1322697600000.0,1325376000000.0,1328054400000.0,1330560000000.0,1333238400000.0,1335830400000.0,1338508800000.0,1341100800000.0,1343779200000.0,1346457600000.0,1349049600000.0,1351728000000.0,1354320000000.0,1356998400000.0,1359676800000.0,1362096000000.0,1364774400000.0,1367366400000.0,1370044800000.0,1372636800000.0,1375315200000.0,1377993600000.0,1380585600000.0,1383264000000.0,1385856000000.0,1388534400000.0,1391212800000.0,1393632000000.0,1396310400000.0,1398902400000.0,1401580800000.0,1404172800000.0,1406851200000.0,1409529600000.0,1412121600000.0,1414800000000.0,1417392000000.0,1420070400000.0,1422748800000.0,1425168000000.0,1427846400000.0,1430438400000.0,1433116800000.0,1435708800000.0,1438387200000.0,1441065600000.0,1443657600000.0,1446336000000.0,1448928000000.0,1451606400000.0,1454284800000.0,1456790400000.0,1459468800000.0,1462060800000.0,1464739200000.0,1467331200000.0,1470009600000.0],\"y_values\":[100.0,100.26,100.05,100.21,100.42,100.48,100.52,100.84,100.43,100.99,100.93,101.11,100.99,101.13,100.71,100.49,100.65,100.33,100.77,101.07,101.1,100.13,99.98,99.64,98.83,97.81,98.24,98.52,98.29,98.61,97.6,98.04,97.7,97.81,96.95,97.09,96.67,96.21,96.46,97.04,96.85,97.2,97.19,97.18,97.28,96.49,96.14,96.15,96.15,96.15,95.73,95.38,96.09,96.21,96.54,96.58,96.06,95.82,95.7,95.42,95.59,95.27,95.72,95.99,96.32,96.65,96.99,96.63,96.43,96.45,96.52,96.46,95.91,95.92,96.94,97.94,98.69,98.88,99.82,100.03,99.91,100.03,101.05,100.82,101.23,102.43,103.57,105.2,106.28,107.3,107.6,108.32,108.48,109.23,109.73,109.57,110.89,111.36,112.98,113.98,115.24,116.17,116.54,117.35,117.82,118.67,119.05,119.57,122.13,121.19,123.54,124.52,126.35,127.56,128.43,129.54,130.46,131.72,132.91,133.83,134.61,136.38,138.24,139.43,141.0,141.92,142.69,143.66,144.85,145.06,145.22,146.75,147.66,149.19,151.52,153.25,156.34,158.7,160.83,162.54,163.55,165.19,165.93,167.25,168.74,171.01,172.84,175.42,177.94,179.55,182.29,184.88,187.18,189.67,191.98,194.62,196.66,199.17,203.63,206.99,213.41,218.87,223.05,225.5,228.76,230.09,234.2,237.61,238.31,243.6,248.21,253.18,259.42,263.28,267.76,271.87,275.91,274.9,275.04,277.76,276.86,280.82,281.03,282.93,284.26,285.0,283.71,282.49,281.12,277.25,277.26,275.72,275.73,274.51,279.15,278.29,276.3,274.3,272.01,265.28,261.91,255.74,249.38,243.61,237.55,233.63,225.67,222.32,218.42,216.43,212.2,207.45,203.95,199.63,194.21,191.76,187.99,189.91,187.89,186.91,187.13,189.47,189.9,190.75,189.74,190.08,191.34,187.34,184.93,187.91,187.66,188.73,191.16,187.43,187.45,185.02,184.41,181.27,179.81,177.68,174.13,173.88,172.75,173.38,173.55,173.61,175.01,172.58,173.11,172.21,171.32,170.3,169.95,170.55,173.49,176.93,180.46,182.67,182.33,185.33,184.95,187.77,189.73,190.54,191.88,194.2,199.83,204.43,209.05,212.51,217.14,217.44,218.23,218.9,218.38,217.52,218.18,221.79,224.23,226.88,229.68,232.01,234.09,234.25,233.48,234.63,234.4,236.16,235.9,237.6,241.03,244.65,248.23,249.4,252.08,251.52,253.18,252.98,256.19,256.05,253.8,258.27,263.62,266.91,268.98,268.64,271.62,271.51]}},\"id\":\"f50d92de-52b8-4ccf-8062-3efe2cb5f95e\",\"type\":\"ColumnDataSource\"},{\"attributes\":{\"callback\":null,\"column_names\":[\"x_values\",\"y_values\"],\"data\":{\"chart_index\":[{\"place_name\":\"United States\"},{\"place_name\":\"United States\"},{\"place_name\":\"United States\"},{\"place_name\":\"United States\"},{\"place_name\":\"United States\"},{\"place_name\":\"United States\"},{\"place_name\":\"United States\"},{\"place_name\":\"United States\"},{\"place_name\":\"United States\"},{\"place_name\":\"United States\"},{\"place_name\":\"United States\"},{\"place_name\":\"United States\"},{\"place_name\":\"United States\"},{\"place_name\":\"United States\"},{\"place_name\":\"United States\"},{\"place_name\":\"United States\"},{\"place_name\":\"United States\"},{\"place_name\":\"United States\"},{\"place_name\":\"United States\"},{\"place_name\":\"United States\"},{\"place_name\":\"United States\"},{\"place_name\":\"United States\"},{\"place_name\":\"United States\"},{\"place_name\":\"United States\"},{\"place_name\":\"United States\"},{\"place_name\":\"United States\"},{\"place_name\":\"United States\"},{\"place_name\":\"United States\"},{\"place_name\":\"United States\"},{\"place_name\":\"United States\"},{\"place_name\":\"United States\"},{\"place_name\":\"United States\"},{\"place_name\":\"United States\"},{\"place_name\":\"United States\"},{\"place_name\":\"United States\"},{\"place_name\":\"United States\"},{\"place_name\":\"United States\"},{\"place_name\":\"United States\"},{\"place_name\":\"United States\"},{\"place_name\":\"United States\"},{\"place_name\":\"United States\"},{\"place_name\":\"United States\"},{\"place_name\":\"United States\"},{\"place_name\":\"United States\"},{\"place_name\":\"United States\"},{\"place_name\":\"United States\"},{\"place_name\":\"United States\"},{\"place_name\":\"United States\"},{\"place_name\":\"United States\"},{\"place_name\":\"United States\"},{\"place_name\":\"United States\"},{\"place_name\":\"United States\"},{\"place_name\":\"United States\"},{\"place_name\":\"United States\"},{\"place_name\":\"United States\"},{\"place_name\":\"United States\"},{\"place_name\":\"United States\"},{\"place_name\":\"United States\"},{\"place_name\":\"United States\"},{\"place_name\":\"United States\"},{\"place_name\":\"United States\"},{\"place_name\":\"United States\"},{\"place_name\":\"United States\"},{\"place_name\":\"United States\"},{\"place_name\":\"United States\"},{\"place_name\":\"United States\"},{\"place_name\":\"United States\"},{\"place_name\":\"United States\"},{\"place_name\":\"United States\"},{\"place_name\":\"United States\"},{\"place_name\":\"United States\"},{\"place_name\":\"United States\"},{\"place_name\":\"United States\"},{\"place_name\":\"United States\"},{\"place_name\":\"United States\"},{\"place_name\":\"United States\"},{\"place_name\":\"United States\"},{\"place_name\":\"United States\"},{\"place_name\":\"United States\"},{\"place_name\":\"United States\"},{\"place_name\":\"United States\"},{\"place_name\":\"United States\"},{\"place_name\":\"United States\"},{\"place_name\":\"United States\"},{\"place_name\":\"United States\"},{\"place_name\":\"United States\"},{\"place_name\":\"United States\"},{\"place_name\":\"United States\"},{\"place_name\":\"United States\"},{\"place_name\":\"United States\"},{\"place_name\":\"United States\"},{\"place_name\":\"United States\"},{\"place_name\":\"United States\"},{\"place_name\":\"United States\"},{\"place_name\":\"United States\"},{\"place_name\":\"United States\"},{\"place_name\":\"United States\"},{\"place_name\":\"United States\"},{\"place_name\":\"United States\"},{\"place_name\":\"United States\"},{\"place_name\":\"United States\"},{\"place_name\":\"United States\"},{\"place_name\":\"United States\"},{\"place_name\":\"United States\"},{\"place_name\":\"United States\"},{\"place_name\":\"United States\"},{\"place_name\":\"United States\"},{\"place_name\":\"United States\"},{\"place_name\":\"United States\"},{\"place_name\":\"United States\"},{\"place_name\":\"United States\"},{\"place_name\":\"United States\"},{\"place_name\":\"United States\"},{\"place_name\":\"United States\"},{\"place_name\":\"United States\"},{\"place_name\":\"United States\"},{\"place_name\":\"United States\"},{\"place_name\":\"United States\"},{\"place_name\":\"United States\"},{\"place_name\":\"United States\"},{\"place_name\":\"United States\"},{\"place_name\":\"United States\"},{\"place_name\":\"United States\"},{\"place_name\":\"United States\"},{\"place_name\":\"United States\"},{\"place_name\":\"United States\"},{\"place_name\":\"United States\"},{\"place_name\":\"United States\"},{\"place_name\":\"United States\"},{\"place_name\":\"United States\"},{\"place_name\":\"United States\"},{\"place_name\":\"United States\"},{\"place_name\":\"United States\"},{\"place_name\":\"United States\"},{\"place_name\":\"United States\"},{\"place_name\":\"United States\"},{\"place_name\":\"United States\"},{\"place_name\":\"United States\"},{\"place_name\":\"United States\"},{\"place_name\":\"United States\"},{\"place_name\":\"United States\"},{\"place_name\":\"United States\"},{\"place_name\":\"United States\"},{\"place_name\":\"United States\"},{\"place_name\":\"United States\"},{\"place_name\":\"United States\"},{\"place_name\":\"United States\"},{\"place_name\":\"United States\"},{\"place_name\":\"United States\"},{\"place_name\":\"United States\"},{\"place_name\":\"United States\"},{\"place_name\":\"United States\"},{\"place_name\":\"United States\"},{\"place_name\":\"United States\"},{\"place_name\":\"United States\"},{\"place_name\":\"United States\"},{\"place_name\":\"United States\"},{\"place_name\":\"United States\"},{\"place_name\":\"United States\"},{\"place_name\":\"United States\"},{\"place_name\":\"United States\"},{\"place_name\":\"United States\"},{\"place_name\":\"United States\"},{\"place_name\":\"United States\"},{\"place_name\":\"United States\"},{\"place_name\":\"United States\"},{\"place_name\":\"United States\"},{\"place_name\":\"United States\"},{\"place_name\":\"United States\"},{\"place_name\":\"United States\"},{\"place_name\":\"United States\"},{\"place_name\":\"United States\"},{\"place_name\":\"United States\"},{\"place_name\":\"United States\"},{\"place_name\":\"United States\"},{\"place_name\":\"United States\"},{\"place_name\":\"United States\"},{\"place_name\":\"United States\"},{\"place_name\":\"United States\"},{\"place_name\":\"United States\"},{\"place_name\":\"United States\"},{\"place_name\":\"United States\"},{\"place_name\":\"United States\"},{\"place_name\":\"United States\"},{\"place_name\":\"United States\"},{\"place_name\":\"United States\"},{\"place_name\":\"United States\"},{\"place_name\":\"United States\"},{\"place_name\":\"United States\"},{\"place_name\":\"United States\"},{\"place_name\":\"United States\"},{\"place_name\":\"United States\"},{\"place_name\":\"United States\"},{\"place_name\":\"United States\"},{\"place_name\":\"United States\"},{\"place_name\":\"United States\"},{\"place_name\":\"United States\"},{\"place_name\":\"United States\"},{\"place_name\":\"United States\"},{\"place_name\":\"United States\"},{\"place_name\":\"United States\"},{\"place_name\":\"United States\"},{\"place_name\":\"United States\"},{\"place_name\":\"United States\"},{\"place_name\":\"United States\"},{\"place_name\":\"United States\"},{\"place_name\":\"United States\"},{\"place_name\":\"United States\"},{\"place_name\":\"United States\"},{\"place_name\":\"United States\"},{\"place_name\":\"United States\"},{\"place_name\":\"United States\"},{\"place_name\":\"United States\"},{\"place_name\":\"United States\"},{\"place_name\":\"United States\"},{\"place_name\":\"United States\"},{\"place_name\":\"United States\"},{\"place_name\":\"United States\"},{\"place_name\":\"United States\"},{\"place_name\":\"United States\"},{\"place_name\":\"United States\"},{\"place_name\":\"United States\"},{\"place_name\":\"United States\"},{\"place_name\":\"United States\"},{\"place_name\":\"United States\"},{\"place_name\":\"United States\"},{\"place_name\":\"United States\"},{\"place_name\":\"United States\"},{\"place_name\":\"United States\"},{\"place_name\":\"United States\"},{\"place_name\":\"United States\"},{\"place_name\":\"United States\"},{\"place_name\":\"United States\"},{\"place_name\":\"United States\"},{\"place_name\":\"United States\"},{\"place_name\":\"United States\"},{\"place_name\":\"United States\"},{\"place_name\":\"United States\"},{\"place_name\":\"United States\"},{\"place_name\":\"United States\"},{\"place_name\":\"United States\"},{\"place_name\":\"United States\"},{\"place_name\":\"United States\"},{\"place_name\":\"United States\"},{\"place_name\":\"United States\"},{\"place_name\":\"United States\"},{\"place_name\":\"United States\"},{\"place_name\":\"United States\"},{\"place_name\":\"United States\"},{\"place_name\":\"United States\"},{\"place_name\":\"United States\"},{\"place_name\":\"United States\"},{\"place_name\":\"United States\"},{\"place_name\":\"United States\"},{\"place_name\":\"United States\"},{\"place_name\":\"United States\"},{\"place_name\":\"United States\"},{\"place_name\":\"United States\"},{\"place_name\":\"United States\"},{\"place_name\":\"United States\"},{\"place_name\":\"United States\"},{\"place_name\":\"United States\"},{\"place_name\":\"United States\"},{\"place_name\":\"United States\"},{\"place_name\":\"United States\"},{\"place_name\":\"United States\"},{\"place_name\":\"United States\"},{\"place_name\":\"United States\"},{\"place_name\":\"United States\"},{\"place_name\":\"United States\"},{\"place_name\":\"United States\"},{\"place_name\":\"United States\"},{\"place_name\":\"United States\"},{\"place_name\":\"United States\"},{\"place_name\":\"United States\"},{\"place_name\":\"United States\"},{\"place_name\":\"United States\"},{\"place_name\":\"United States\"},{\"place_name\":\"United States\"},{\"place_name\":\"United States\"},{\"place_name\":\"United States\"},{\"place_name\":\"United States\"},{\"place_name\":\"United States\"},{\"place_name\":\"United States\"},{\"place_name\":\"United States\"},{\"place_name\":\"United States\"},{\"place_name\":\"United States\"},{\"place_name\":\"United States\"},{\"place_name\":\"United States\"},{\"place_name\":\"United States\"},{\"place_name\":\"United States\"},{\"place_name\":\"United States\"},{\"place_name\":\"United States\"},{\"place_name\":\"United States\"},{\"place_name\":\"United States\"},{\"place_name\":\"United States\"},{\"place_name\":\"United States\"},{\"place_name\":\"United States\"},{\"place_name\":\"United States\"},{\"place_name\":\"United States\"},{\"place_name\":\"United States\"},{\"place_name\":\"United States\"},{\"place_name\":\"United States\"},{\"place_name\":\"United States\"},{\"place_name\":\"United States\"},{\"place_name\":\"United States\"},{\"place_name\":\"United States\"},{\"place_name\":\"United States\"}],\"place_name\":[\"United States\",\"United States\",\"United States\",\"United States\",\"United States\",\"United States\",\"United States\",\"United States\",\"United States\",\"United States\",\"United States\",\"United States\",\"United States\",\"United States\",\"United States\",\"United States\",\"United States\",\"United States\",\"United States\",\"United States\",\"United States\",\"United States\",\"United States\",\"United States\",\"United States\",\"United States\",\"United States\",\"United States\",\"United States\",\"United States\",\"United States\",\"United States\",\"United States\",\"United States\",\"United States\",\"United States\",\"United States\",\"United States\",\"United States\",\"United States\",\"United States\",\"United States\",\"United States\",\"United States\",\"United States\",\"United States\",\"United States\",\"United States\",\"United States\",\"United States\",\"United States\",\"United States\",\"United States\",\"United States\",\"United States\",\"United States\",\"United States\",\"United States\",\"United States\",\"United States\",\"United States\",\"United States\",\"United States\",\"United States\",\"United States\",\"United States\",\"United States\",\"United States\",\"United States\",\"United States\",\"United States\",\"United States\",\"United States\",\"United States\",\"United States\",\"United States\",\"United States\",\"United States\",\"United States\",\"United States\",\"United States\",\"United States\",\"United States\",\"United States\",\"United States\",\"United States\",\"United States\",\"United States\",\"United States\",\"United States\",\"United States\",\"United States\",\"United States\",\"United States\",\"United States\",\"United States\",\"United States\",\"United States\",\"United States\",\"United States\",\"United States\",\"United States\",\"United States\",\"United States\",\"United States\",\"United States\",\"United States\",\"United States\",\"United States\",\"United States\",\"United States\",\"United States\",\"United States\",\"United States\",\"United States\",\"United States\",\"United States\",\"United States\",\"United States\",\"United States\",\"United States\",\"United States\",\"United States\",\"United States\",\"United States\",\"United States\",\"United States\",\"United States\",\"United States\",\"United States\",\"United States\",\"United States\",\"United States\",\"United States\",\"United States\",\"United States\",\"United States\",\"United States\",\"United States\",\"United States\",\"United States\",\"United States\",\"United States\",\"United States\",\"United States\",\"United States\",\"United States\",\"United States\",\"United States\",\"United States\",\"United States\",\"United States\",\"United States\",\"United States\",\"United States\",\"United States\",\"United States\",\"United States\",\"United States\",\"United States\",\"United States\",\"United States\",\"United States\",\"United States\",\"United States\",\"United States\",\"United States\",\"United States\",\"United States\",\"United States\",\"United States\",\"United States\",\"United States\",\"United States\",\"United States\",\"United States\",\"United States\",\"United States\",\"United States\",\"United States\",\"United States\",\"United States\",\"United States\",\"United States\",\"United States\",\"United States\",\"United States\",\"United States\",\"United States\",\"United States\",\"United States\",\"United States\",\"United States\",\"United States\",\"United States\",\"United States\",\"United States\",\"United States\",\"United States\",\"United States\",\"United States\",\"United States\",\"United States\",\"United States\",\"United States\",\"United States\",\"United States\",\"United States\",\"United States\",\"United States\",\"United States\",\"United States\",\"United States\",\"United States\",\"United States\",\"United States\",\"United States\",\"United States\",\"United States\",\"United States\",\"United States\",\"United States\",\"United States\",\"United States\",\"United States\",\"United States\",\"United States\",\"United States\",\"United States\",\"United States\",\"United States\",\"United States\",\"United States\",\"United States\",\"United States\",\"United States\",\"United States\",\"United States\",\"United States\",\"United States\",\"United States\",\"United States\",\"United States\",\"United States\",\"United States\",\"United States\",\"United States\",\"United States\",\"United States\",\"United States\",\"United States\",\"United States\",\"United States\",\"United States\",\"United States\",\"United States\",\"United States\",\"United States\",\"United States\",\"United States\",\"United States\",\"United States\",\"United States\",\"United States\",\"United States\",\"United States\",\"United States\",\"United States\",\"United States\",\"United States\",\"United States\",\"United States\",\"United States\",\"United States\",\"United States\",\"United States\",\"United States\",\"United States\",\"United States\",\"United States\",\"United States\",\"United States\",\"United States\",\"United States\",\"United States\",\"United States\",\"United States\",\"United States\",\"United States\",\"United States\",\"United States\",\"United States\",\"United States\",\"United States\",\"United States\",\"United States\",\"United States\",\"United States\",\"United States\",\"United States\",\"United States\",\"United States\",\"United States\",\"United States\",\"United States\",\"United States\",\"United States\",\"United States\"],\"x_values\":[662688000000.0,665366400000.0,667785600000.0,670464000000.0,673056000000.0,675734400000.0,678326400000.0,681004800000.0,683683200000.0,686275200000.0,688953600000.0,691545600000.0,694224000000.0,696902400000.0,699408000000.0,702086400000.0,704678400000.0,707356800000.0,709948800000.0,712627200000.0,715305600000.0,717897600000.0,720576000000.0,723168000000.0,725846400000.0,728524800000.0,730944000000.0,733622400000.0,736214400000.0,738892800000.0,741484800000.0,744163200000.0,746841600000.0,749433600000.0,752112000000.0,754704000000.0,757382400000.0,760060800000.0,762480000000.0,765158400000.0,767750400000.0,770428800000.0,773020800000.0,775699200000.0,778377600000.0,780969600000.0,783648000000.0,786240000000.0,788918400000.0,791596800000.0,794016000000.0,796694400000.0,799286400000.0,801964800000.0,804556800000.0,807235200000.0,809913600000.0,812505600000.0,815184000000.0,817776000000.0,820454400000.0,823132800000.0,825638400000.0,828316800000.0,830908800000.0,833587200000.0,836179200000.0,838857600000.0,841536000000.0,844128000000.0,846806400000.0,849398400000.0,852076800000.0,854755200000.0,857174400000.0,859852800000.0,862444800000.0,865123200000.0,867715200000.0,870393600000.0,873072000000.0,875664000000.0,878342400000.0,880934400000.0,883612800000.0,886291200000.0,888710400000.0,891388800000.0,893980800000.0,896659200000.0,899251200000.0,901929600000.0,904608000000.0,907200000000.0,909878400000.0,912470400000.0,915148800000.0,917827200000.0,920246400000.0,922924800000.0,925516800000.0,928195200000.0,930787200000.0,933465600000.0,936144000000.0,938736000000.0,941414400000.0,944006400000.0,946684800000.0,949363200000.0,951868800000.0,954547200000.0,957139200000.0,959817600000.0,962409600000.0,965088000000.0,967766400000.0,970358400000.0,973036800000.0,975628800000.0,978307200000.0,980985600000.0,983404800000.0,986083200000.0,988675200000.0,991353600000.0,993945600000.0,996624000000.0,999302400000.0,1001894400000.0,1004572800000.0,1007164800000.0,1009843200000.0,1012521600000.0,1014940800000.0,1017619200000.0,1020211200000.0,1022889600000.0,1025481600000.0,1028160000000.0,1030838400000.0,1033430400000.0,1036108800000.0,1038700800000.0,1041379200000.0,1044057600000.0,1046476800000.0,1049155200000.0,1051747200000.0,1054425600000.0,1057017600000.0,1059696000000.0,1062374400000.0,1064966400000.0,1067644800000.0,1070236800000.0,1072915200000.0,1075593600000.0,1078099200000.0,1080777600000.0,1083369600000.0,1086048000000.0,1088640000000.0,1091318400000.0,1093996800000.0,1096588800000.0,1099267200000.0,1101859200000.0,1104537600000.0,1107216000000.0,1109635200000.0,1112313600000.0,1114905600000.0,1117584000000.0,1120176000000.0,1122854400000.0,1125532800000.0,1128124800000.0,1130803200000.0,1133395200000.0,1136073600000.0,1138752000000.0,1141171200000.0,1143849600000.0,1146441600000.0,1149120000000.0,1151712000000.0,1154390400000.0,1157068800000.0,1159660800000.0,1162339200000.0,1164931200000.0,1167609600000.0,1170288000000.0,1172707200000.0,1175385600000.0,1177977600000.0,1180656000000.0,1183248000000.0,1185926400000.0,1188604800000.0,1191196800000.0,1193875200000.0,1196467200000.0,1199145600000.0,1201824000000.0,1204329600000.0,1207008000000.0,1209600000000.0,1212278400000.0,1214870400000.0,1217548800000.0,1220227200000.0,1222819200000.0,1225497600000.0,1228089600000.0,1230768000000.0,1233446400000.0,1235865600000.0,1238544000000.0,1241136000000.0,1243814400000.0,1246406400000.0,1249084800000.0,1251763200000.0,1254355200000.0,1257033600000.0,1259625600000.0,1262304000000.0,1264982400000.0,1267401600000.0,1270080000000.0,1272672000000.0,1275350400000.0,1277942400000.0,1280620800000.0,1283299200000.0,1285891200000.0,1288569600000.0,1291161600000.0,1293840000000.0,1296518400000.0,1298937600000.0,1301616000000.0,1304208000000.0,1306886400000.0,1309478400000.0,1312156800000.0,1314835200000.0,1317427200000.0,1320105600000.0,1322697600000.0,1325376000000.0,1328054400000.0,1330560000000.0,1333238400000.0,1335830400000.0,1338508800000.0,1341100800000.0,1343779200000.0,1346457600000.0,1349049600000.0,1351728000000.0,1354320000000.0,1356998400000.0,1359676800000.0,1362096000000.0,1364774400000.0,1367366400000.0,1370044800000.0,1372636800000.0,1375315200000.0,1377993600000.0,1380585600000.0,1383264000000.0,1385856000000.0,1388534400000.0,1391212800000.0,1393632000000.0,1396310400000.0,1398902400000.0,1401580800000.0,1404172800000.0,1406851200000.0,1409529600000.0,1412121600000.0,1414800000000.0,1417392000000.0,1420070400000.0,1422748800000.0,1425168000000.0,1427846400000.0,1430438400000.0,1433116800000.0,1435708800000.0,1438387200000.0,1441065600000.0,1443657600000.0,1446336000000.0,1448928000000.0,1451606400000.0,1454284800000.0,1456790400000.0,1459468800000.0,1462060800000.0,1464739200000.0,1467331200000.0,1470009600000.0],\"y_values\":[100.0,100.47,100.73,100.75,100.91,101.4,101.34,101.29,101.42,101.62,102.16,102.19,102.29,102.98,103.08,102.99,103.17,103.53,103.78,104.37,104.62,104.8,105.07,104.65,104.41,104.08,104.7,105.58,105.93,106.71,106.73,107.18,107.41,107.55,107.72,107.91,107.86,108.02,108.74,109.32,109.86,110.48,110.58,110.94,110.8,110.87,111.01,110.67,110.76,111.16,111.45,111.92,112.29,113.11,113.6,113.95,113.86,113.78,113.81,113.95,114.06,114.23,115.0,115.6,116.23,116.72,117.14,117.11,117.12,116.97,117.09,117.1,116.93,117.23,118.18,118.69,119.5,119.97,120.26,120.66,120.42,120.86,120.99,121.07,121.19,122.07,122.95,123.85,124.78,125.96,126.22,126.73,127.19,127.46,127.99,128.21,128.73,129.22,130.26,131.26,132.51,133.55,134.21,134.95,135.03,135.65,135.81,136.06,137.43,137.22,138.8,140.08,141.23,142.65,143.36,143.79,144.43,144.96,145.4,145.8,146.47,147.43,148.79,150.0,151.23,152.48,153.33,153.93,154.5,155.08,155.05,155.58,156.14,157.03,158.6,159.92,161.62,163.17,164.25,165.17,165.94,166.68,167.06,167.71,168.3,169.38,170.61,172.16,173.84,175.23,176.56,177.72,178.9,179.44,180.2,181.09,181.78,183.27,185.23,187.37,190.04,192.6,194.21,195.45,196.59,197.43,198.61,199.56,200.29,201.99,204.88,207.44,210.18,212.63,214.62,216.15,217.57,218.12,218.67,219.14,219.75,220.69,222.4,223.85,225.6,226.29,226.18,226.58,225.88,225.53,225.27,224.48,224.3,224.89,226.81,227.89,228.23,228.21,226.87,225.7,223.96,221.69,219.37,217.2,214.14,213.72,212.38,211.39,210.49,210.01,207.88,205.62,203.07,200.69,196.39,194.77,195.68,196.52,194.63,195.03,196.13,196.93,196.18,195.41,194.42,194.51,194.17,190.78,189.91,189.47,190.04,191.78,193.64,192.49,191.11,190.3,187.71,187.48,186.14,183.42,181.48,179.8,178.91,180.92,182.27,183.96,184.39,183.12,183.29,181.72,181.91,181.15,179.31,179.95,182.71,185.47,188.52,190.43,190.65,190.84,190.71,191.05,191.27,190.93,190.8,192.33,195.93,198.66,202.27,204.83,206.05,205.96,205.62,205.79,205.09,204.86,204.36,205.49,208.14,210.39,213.01,215.14,216.01,215.86,214.98,215.35,215.54,215.93,214.56,216.59,219.17,222.12,225.31,227.36,228.44,227.87,228.19,228.31,228.76,228.62,227.64,229.28,233.36,235.68,238.54,240.67,241.87,242.48]}},\"id\":\"9b0abe30-5d95-4116-b49b-9bbeec353226\",\"type\":\"ColumnDataSource\"},{\"attributes\":{\"days\":[1,2,3,4,5,6,7,8,9,10,11,12,13,14,15,16,17,18,19,20,21,22,23,24,25,26,27,28,29,30,31]},\"id\":\"7b556415-68f8-4e18-b903-721117368439\",\"type\":\"DaysTicker\"},{\"attributes\":{\"axis_label\":\"index_nsa\",\"formatter\":{\"id\":\"3fd30bff-13b5-49e3-a980-d4ba8416afa0\",\"type\":\"BasicTickFormatter\"},\"plot\":{\"id\":\"fde244df-b220-4117-8bb4-80d23a02e756\",\"subtype\":\"Chart\",\"type\":\"Plot\"},\"ticker\":{\"id\":\"6a319c10-96ef-4de9-a4f4-62a633f2f6a9\",\"type\":\"BasicTicker\"}},\"id\":\"621478ae-ee7b-473f-83da-1f704b597533\",\"type\":\"LinearAxis\"},{\"attributes\":{\"active_drag\":\"auto\",\"active_scroll\":\"auto\",\"active_tap\":\"auto\",\"tools\":[{\"id\":\"75520188-acbc-4b62-a2db-0d0e761ca91f\",\"type\":\"PanTool\"},{\"id\":\"66b7e80a-ecab-499d-840a-2c4c68177a40\",\"type\":\"WheelZoomTool\"},{\"id\":\"ff18062d-3a8e-43f7-b057-811c6206bb05\",\"type\":\"BoxZoomTool\"},{\"id\":\"e1d9c70d-1525-4eab-89c5-7d9161f8e190\",\"type\":\"SaveTool\"},{\"id\":\"a81953de-1b19-4cd4-a1a2-fdf8405629d2\",\"type\":\"ResetTool\"},{\"id\":\"cda37cce-0684-44c2-99db-c73af325feb9\",\"type\":\"HelpTool\"}]},\"id\":\"94b165bb-7805-4469-89d7-c62c7b2f260f\",\"type\":\"Toolbar\"},{\"attributes\":{\"line_color\":{\"value\":\"#f22c40\"},\"line_width\":{\"value\":2},\"x\":{\"field\":\"x_values\"},\"y\":{\"field\":\"y_values\"}},\"id\":\"42d66867-ce70-4c84-8e90-c7b58916c89d\",\"type\":\"Line\"},{\"attributes\":{\"data_source\":{\"id\":\"f50d92de-52b8-4ccf-8062-3efe2cb5f95e\",\"type\":\"ColumnDataSource\"},\"glyph\":{\"id\":\"42d66867-ce70-4c84-8e90-c7b58916c89d\",\"type\":\"Line\"},\"hover_glyph\":null,\"nonselection_glyph\":null,\"selection_glyph\":null},\"id\":\"685acfb9-0d43-480f-adaf-6c6fddc2c053\",\"type\":\"GlyphRenderer\"},{\"attributes\":{\"plot\":{\"id\":\"fde244df-b220-4117-8bb4-80d23a02e756\",\"subtype\":\"Chart\",\"type\":\"Plot\"}},\"id\":\"cda37cce-0684-44c2-99db-c73af325feb9\",\"type\":\"HelpTool\"},{\"attributes\":{\"data_source\":{\"id\":\"9b0abe30-5d95-4116-b49b-9bbeec353226\",\"type\":\"ColumnDataSource\"},\"glyph\":{\"id\":\"cd7aec08-7830-4dc4-a369-fd4f468fed24\",\"type\":\"Line\"},\"hover_glyph\":null,\"nonselection_glyph\":null,\"selection_glyph\":null},\"id\":\"63b7269c-eda4-48a7-8712-fce46d4ee4d5\",\"type\":\"GlyphRenderer\"},{\"attributes\":{\"plot\":{\"id\":\"fde244df-b220-4117-8bb4-80d23a02e756\",\"subtype\":\"Chart\",\"type\":\"Plot\"}},\"id\":\"e1d9c70d-1525-4eab-89c5-7d9161f8e190\",\"type\":\"SaveTool\"},{\"attributes\":{\"plot\":{\"id\":\"fde244df-b220-4117-8bb4-80d23a02e756\",\"subtype\":\"Chart\",\"type\":\"Plot\"}},\"id\":\"a81953de-1b19-4cd4-a1a2-fdf8405629d2\",\"type\":\"ResetTool\"},{\"attributes\":{\"plot\":{\"id\":\"fde244df-b220-4117-8bb4-80d23a02e756\",\"subtype\":\"Chart\",\"type\":\"Plot\"}},\"id\":\"75520188-acbc-4b62-a2db-0d0e761ca91f\",\"type\":\"PanTool\"},{\"attributes\":{\"months\":[0,1,2,3,4,5,6,7,8,9,10,11]},\"id\":\"e217160d-e962-4450-8c2e-01021e77694d\",\"type\":\"MonthsTicker\"},{\"attributes\":{\"legends\":[[\"West South Central Division\",[{\"id\":\"f6ed37c4-806e-459c-8acd-bb483044c831\",\"type\":\"GlyphRenderer\"}]],[\"United States\",[{\"id\":\"63b7269c-eda4-48a7-8712-fce46d4ee4d5\",\"type\":\"GlyphRenderer\"}]],[\"Pacific Division\",[{\"id\":\"685acfb9-0d43-480f-adaf-6c6fddc2c053\",\"type\":\"GlyphRenderer\"}]]],\"location\":\"top_left\",\"plot\":{\"id\":\"fde244df-b220-4117-8bb4-80d23a02e756\",\"subtype\":\"Chart\",\"type\":\"Plot\"}},\"id\":\"ef6860c2-3e52-46e6-8c0f-5f3e16d57756\",\"type\":\"Legend\"},{\"attributes\":{\"plot\":{\"id\":\"fde244df-b220-4117-8bb4-80d23a02e756\",\"subtype\":\"Chart\",\"type\":\"Plot\"}},\"id\":\"66b7e80a-ecab-499d-840a-2c4c68177a40\",\"type\":\"WheelZoomTool\"},{\"attributes\":{\"data_source\":{\"id\":\"4949478c-dc74-4c53-bc94-54fe3350dd42\",\"type\":\"ColumnDataSource\"},\"glyph\":{\"id\":\"055baa1f-6f4f-4677-8b49-b6d2237db9fd\",\"type\":\"Line\"},\"hover_glyph\":null,\"nonselection_glyph\":null,\"selection_glyph\":null},\"id\":\"f6ed37c4-806e-459c-8acd-bb483044c831\",\"type\":\"GlyphRenderer\"},{\"attributes\":{\"plot\":{\"id\":\"fde244df-b220-4117-8bb4-80d23a02e756\",\"subtype\":\"Chart\",\"type\":\"Plot\"},\"ticker\":{\"id\":\"5f63ada8-c0b2-455f-9e3c-e7735183aff5\",\"type\":\"DatetimeTicker\"}},\"id\":\"95194a49-62d1-4d42-a4ee-92f9d9fd3a11\",\"type\":\"Grid\"},{\"attributes\":{},\"id\":\"b259608b-5921-474e-bc56-af31fdd27e97\",\"type\":\"YearsTicker\"},{\"attributes\":{},\"id\":\"6a319c10-96ef-4de9-a4f4-62a633f2f6a9\",\"type\":\"BasicTicker\"},{\"attributes\":{\"days\":[1,15]},\"id\":\"06fdeaf0-2bc9-48ee-b2b7-f5567ae83d89\",\"type\":\"DaysTicker\"},{\"attributes\":{},\"id\":\"3fd30bff-13b5-49e3-a980-d4ba8416afa0\",\"type\":\"BasicTickFormatter\"},{\"attributes\":{\"plot\":null,\"text\":null},\"id\":\"df0eeb1e-1e20-4286-8659-ce9d8fb37e1f\",\"type\":\"Title\"},{\"attributes\":{\"overlay\":{\"id\":\"238fdca0-dba9-44e9-9e23-adc188932cbb\",\"type\":\"BoxAnnotation\"},\"plot\":{\"id\":\"fde244df-b220-4117-8bb4-80d23a02e756\",\"subtype\":\"Chart\",\"type\":\"Plot\"}},\"id\":\"ff18062d-3a8e-43f7-b057-811c6206bb05\",\"type\":\"BoxZoomTool\"},{\"attributes\":{\"base\":24,\"mantissas\":[1,2,4,6,8,12],\"max_interval\":43200000.0,\"min_interval\":3600000.0,\"num_minor_ticks\":0},\"id\":\"333da4ac-df09-45fc-adbf-b2603b7ba604\",\"type\":\"AdaptiveTicker\"},{\"attributes\":{\"months\":[0,4,8]},\"id\":\"249a8376-4283-4837-b06e-ccd718bdbfbf\",\"type\":\"MonthsTicker\"},{\"attributes\":{\"max_interval\":500.0,\"num_minor_ticks\":0},\"id\":\"f9a2e9b6-a9ef-4a49-a607-8430d512aa07\",\"type\":\"AdaptiveTicker\"},{\"attributes\":{\"months\":[0,6]},\"id\":\"8e8269bd-6ab6-466e-b15a-be7408519893\",\"type\":\"MonthsTicker\"},{\"attributes\":{\"bottom_units\":\"screen\",\"fill_alpha\":{\"value\":0.5},\"fill_color\":{\"value\":\"lightgrey\"},\"left_units\":\"screen\",\"level\":\"overlay\",\"line_alpha\":{\"value\":1.0},\"line_color\":{\"value\":\"black\"},\"line_dash\":[4,4],\"line_width\":{\"value\":2},\"plot\":null,\"render_mode\":\"css\",\"right_units\":\"screen\",\"top_units\":\"screen\"},\"id\":\"238fdca0-dba9-44e9-9e23-adc188932cbb\",\"type\":\"BoxAnnotation\"}],\"root_ids\":[\"fde244df-b220-4117-8bb4-80d23a02e756\"]},\"title\":\"Bokeh Application\",\"version\":\"0.12.2\"}};\n",
       "            var render_items = [{\"docid\":\"e3f6d74e-8332-460d-8e88-a022b326aac1\",\"elementid\":\"add95465-dfa8-404a-8012-e12635a3312c\",\"modelid\":\"fde244df-b220-4117-8bb4-80d23a02e756\"}];\n",
       "            \n",
       "            Bokeh.embed.embed_items(docs_json, render_items);\n",
       "        });\n",
       "      },\n",
       "      function(Bokeh) {\n",
       "      }\n",
       "    ];\n",
       "  \n",
       "    function run_inline_js() {\n",
       "      \n",
       "      if ((window.Bokeh !== undefined) || (force === \"1\")) {\n",
       "        for (var i = 0; i < inline_js.length; i++) {\n",
       "          inline_js[i](window.Bokeh);\n",
       "        }if (force === \"1\") {\n",
       "          display_loaded();\n",
       "        }} else if (Date.now() < window._bokeh_timeout) {\n",
       "        setTimeout(run_inline_js, 100);\n",
       "      } else if (!window._bokeh_failed_load) {\n",
       "        console.log(\"Bokeh: BokehJS failed to load within specified timeout.\");\n",
       "        window._bokeh_failed_load = true;\n",
       "      } else if (!force) {\n",
       "        var cell = $(\"#add95465-dfa8-404a-8012-e12635a3312c\").parents('.cell').data().cell;\n",
       "        cell.output_area.append_execute_result(NB_LOAD_WARNING)\n",
       "      }\n",
       "  \n",
       "    }\n",
       "  \n",
       "    if (window._bokeh_is_loading === 0) {\n",
       "      console.log(\"Bokeh: BokehJS loaded, going straight to plotting\");\n",
       "      run_inline_js();\n",
       "    } else {\n",
       "      load_libs(js_urls, function() {\n",
       "        console.log(\"Bokeh: BokehJS plotting callback run at\", now());\n",
       "        run_inline_js();\n",
       "      });\n",
       "    }\n",
       "  }(this));\n",
       "</script>"
      ]
     },
     "metadata": {},
     "output_type": "display_data"
    }
   ],
   "source": [
    "p = bokeh.charts.Line(df_us_3, x='date', y='index_nsa', color='place_name',\n",
    "                      legend=\"top_left\")\n",
    "\n",
    "bokeh.io.show(p)"
   ]
  },
  {
   "cell_type": "markdown",
   "metadata": {},
   "source": [
    "During the Great Recession of 2008-2010, home prices across the U.S. declined dramatically.  Home prices in the Pacific region, which includes California, grew significantly more than the U.S. as a whole.  Aggregate U.S. home prices have regained all of their price losses since then and the Pacific and West South Central regions are not too far behind. "
   ]
  },
  {
   "cell_type": "markdown",
   "metadata": {},
   "source": [
    "To continue this analysis, we need to read the remainder of the .csv containing state-level data.  In this instance, we use to 'skiprows=' argument to begin reading on row 3084.  We specify the columns "
   ]
  },
  {
   "cell_type": "markdown",
   "metadata": {},
   "source": [
    "Beginning on row 3081, there are no values for the field 'index_sa'.  We re-read starting with row 3081 to the end of the file.  And since the default is to key off the column names, we will need to supply the column mappings.  And because we are reading from an arbirary start point, we supply a  <a href= \"http://nbviewer.jupyter.org/github/RandyBetancourt/PythonForSASUsers/blob/master/Chapter%2002%20--%20Data%20Structures.ipynb#tuple\"> tuple </a> of names.  Header=None is needed in order to prevent the reader from attempting to build column names at row position nrows-1, which in our case contains data values.\n",
    "\n",
    "There are no values for seasonally adjusted prices beyond rows 3081."
   ]
  },
  {
   "cell_type": "code",
   "execution_count": 77,
   "metadata": {
    "collapsed": false
   },
   "outputs": [],
   "source": [
    "df_states = pd.read_csv(\"C:\\Data\\\\HPI_master.csv\",\n",
    "            parse_dates={'date_idx': [6,7]},\n",
    "            skiprows=3083,\n",
    "            usecols=(0, 1, 2, 3, 4, 5, 6, 7, 8),\n",
    "            names=('hpi_type', 'hpi_flavor', 'frequency', 'level', 'place_name', 'place_id', 'yr', 'period', 'index_nsa'),\n",
    "            header=None)"
   ]
  },
  {
   "cell_type": "markdown",
   "metadata": {},
   "source": [
    "  "
   ]
  },
  {
   "cell_type": "code",
   "execution_count": 78,
   "metadata": {
    "collapsed": false
   },
   "outputs": [
    {
     "data": {
      "text/html": [
       "<div>\n",
       "<table border=\"1\" class=\"dataframe\">\n",
       "  <thead>\n",
       "    <tr style=\"text-align: right;\">\n",
       "      <th></th>\n",
       "      <th>date_idx</th>\n",
       "      <th>hpi_type</th>\n",
       "      <th>hpi_flavor</th>\n",
       "      <th>frequency</th>\n",
       "      <th>level</th>\n",
       "      <th>place_name</th>\n",
       "      <th>place_id</th>\n",
       "      <th>index_nsa</th>\n",
       "    </tr>\n",
       "  </thead>\n",
       "  <tbody>\n",
       "    <tr>\n",
       "      <th>0</th>\n",
       "      <td>1987-01-01</td>\n",
       "      <td>traditional</td>\n",
       "      <td>all-transactions</td>\n",
       "      <td>quarterly</td>\n",
       "      <td>MSA</td>\n",
       "      <td>Abilene, TX</td>\n",
       "      <td>10180</td>\n",
       "      <td>100.91</td>\n",
       "    </tr>\n",
       "    <tr>\n",
       "      <th>1</th>\n",
       "      <td>1987-02-01</td>\n",
       "      <td>traditional</td>\n",
       "      <td>all-transactions</td>\n",
       "      <td>quarterly</td>\n",
       "      <td>MSA</td>\n",
       "      <td>Abilene, TX</td>\n",
       "      <td>10180</td>\n",
       "      <td>100.76</td>\n",
       "    </tr>\n",
       "    <tr>\n",
       "      <th>2</th>\n",
       "      <td>1987-03-01</td>\n",
       "      <td>traditional</td>\n",
       "      <td>all-transactions</td>\n",
       "      <td>quarterly</td>\n",
       "      <td>MSA</td>\n",
       "      <td>Abilene, TX</td>\n",
       "      <td>10180</td>\n",
       "      <td>94.02</td>\n",
       "    </tr>\n",
       "    <tr>\n",
       "      <th>3</th>\n",
       "      <td>1987-04-01</td>\n",
       "      <td>traditional</td>\n",
       "      <td>all-transactions</td>\n",
       "      <td>quarterly</td>\n",
       "      <td>MSA</td>\n",
       "      <td>Abilene, TX</td>\n",
       "      <td>10180</td>\n",
       "      <td>91.43</td>\n",
       "    </tr>\n",
       "    <tr>\n",
       "      <th>4</th>\n",
       "      <td>1988-01-01</td>\n",
       "      <td>traditional</td>\n",
       "      <td>all-transactions</td>\n",
       "      <td>quarterly</td>\n",
       "      <td>MSA</td>\n",
       "      <td>Abilene, TX</td>\n",
       "      <td>10180</td>\n",
       "      <td>81.65</td>\n",
       "    </tr>\n",
       "  </tbody>\n",
       "</table>\n",
       "</div>"
      ],
      "text/plain": [
       "    date_idx     hpi_type        hpi_flavor  frequency level   place_name  \\\n",
       "0 1987-01-01  traditional  all-transactions  quarterly   MSA  Abilene, TX   \n",
       "1 1987-02-01  traditional  all-transactions  quarterly   MSA  Abilene, TX   \n",
       "2 1987-03-01  traditional  all-transactions  quarterly   MSA  Abilene, TX   \n",
       "3 1987-04-01  traditional  all-transactions  quarterly   MSA  Abilene, TX   \n",
       "4 1988-01-01  traditional  all-transactions  quarterly   MSA  Abilene, TX   \n",
       "\n",
       "  place_id  index_nsa  \n",
       "0    10180     100.91  \n",
       "1    10180     100.76  \n",
       "2    10180      94.02  \n",
       "3    10180      91.43  \n",
       "4    10180      81.65  "
      ]
     },
     "execution_count": 78,
     "metadata": {},
     "output_type": "execute_result"
    }
   ],
   "source": [
    "df_states.head()"
   ]
  },
  {
   "cell_type": "markdown",
   "metadata": {},
   "source": [
    "  "
   ]
  },
  {
   "cell_type": "code",
   "execution_count": 79,
   "metadata": {
    "collapsed": false
   },
   "outputs": [
    {
     "data": {
      "text/plain": [
       "array(['MSA', 'State', 'USA or Census Division', 'Puerto Rico'], dtype=object)"
      ]
     },
     "execution_count": 79,
     "metadata": {},
     "output_type": "execute_result"
    }
   ],
   "source": [
    "df_states.level.unique()"
   ]
  },
  {
   "cell_type": "markdown",
   "metadata": {},
   "source": [
    "  "
   ]
  },
  {
   "cell_type": "code",
   "execution_count": 80,
   "metadata": {
    "collapsed": false
   },
   "outputs": [
    {
     "data": {
      "text/plain": [
       "(96243, 8)"
      ]
     },
     "execution_count": 80,
     "metadata": {},
     "output_type": "execute_result"
    }
   ],
   "source": [
    "df_states.shape"
   ]
  },
  {
   "cell_type": "markdown",
   "metadata": {},
   "source": [
    "  "
   ]
  },
  {
   "cell_type": "markdown",
   "metadata": {},
   "source": [
    "Check for missing values."
   ]
  },
  {
   "cell_type": "code",
   "execution_count": 81,
   "metadata": {
    "collapsed": false
   },
   "outputs": [
    {
     "data": {
      "text/plain": [
       "date_idx      0\n",
       "hpi_type      0\n",
       "hpi_flavor    0\n",
       "frequency     0\n",
       "level         0\n",
       "place_name    0\n",
       "place_id      0\n",
       "index_nsa     2\n",
       "dtype: int64"
      ]
     },
     "execution_count": 81,
     "metadata": {},
     "output_type": "execute_result"
    }
   ],
   "source": [
    "df_states.isnull().sum()"
   ]
  },
  {
   "cell_type": "markdown",
   "metadata": {},
   "source": [
    "What imputation method should be used to treat missing data?.  We can start by finding the range of values.  Like most languages, there are multiple methods for accomplishing a given task.  \n",
    "\n",
    "We can set an index on the 'index_nsa' values and find the maximum and minimum."
   ]
  },
  {
   "cell_type": "code",
   "execution_count": 82,
   "metadata": {
    "collapsed": false
   },
   "outputs": [],
   "source": [
    "df_states.set_index('index_nsa', inplace=True, drop=False)"
   ]
  },
  {
   "cell_type": "markdown",
   "metadata": {},
   "source": [
    "  "
   ]
  },
  {
   "cell_type": "code",
   "execution_count": 83,
   "metadata": {
    "collapsed": false
   },
   "outputs": [
    {
     "name": "stdout",
     "output_type": "stream",
     "text": [
      "Max value for index_nsa: 791.71\n",
      "Min value for index_nsa: 18.31\n"
     ]
    }
   ],
   "source": [
    "print('Max value for index_nsa:', df_states['index_nsa'].max())\n",
    "print('Min value for index_nsa:', df_states['index_nsa'].min())"
   ]
  },
  {
   "cell_type": "markdown",
   "metadata": {},
   "source": [
    "Alternatively, we can sort the values and use the <a href=\"http://nbviewer.jupyter.org/github/RandyBetancourt/PythonForSASUsers/blob/master/Chapter%2005%20--%20Understanding%20Indexes.ipynb#.iloc-Indexer\"> iloc </a> indexer.  \n",
    "\n",
    "Recall that the .iloc indexer returns slices by index position similiar to the way \\_n\\_ in SAS behaves."
   ]
  },
  {
   "cell_type": "markdown",
   "metadata": {},
   "source": [
    "## Sort and Sort Sequences"
   ]
  },
  {
   "cell_type": "markdown",
   "metadata": {},
   "source": [
    "This is a good opportunity to understand the sort behaviors for DataFrames.  We begin by examing what I call the default sort behavior.  We have provided the minimum argument to the .sort_values attribute, the sort key in the example below."
   ]
  },
  {
   "cell_type": "markdown",
   "metadata": {},
   "source": [
    "  "
   ]
  },
  {
   "cell_type": "code",
   "execution_count": 84,
   "metadata": {
    "collapsed": false
   },
   "outputs": [],
   "source": [
    "default_srt = df_states.sort_values('index_nsa')"
   ]
  },
  {
   "cell_type": "markdown",
   "metadata": {},
   "source": [
    "By examing the first the first two rows of the sorted DataFrame, 'states_srt', we can see the default sort sequence is ascending.  Of course, by reading the doc for <a href=\"http://pandas.pydata.org/pandas-docs/stable/generated/pandas.DataFrame.sort_values.html\"> pandas.DataFrame.sort_values </a> we could see this as well. "
   ]
  },
  {
   "cell_type": "markdown",
   "metadata": {},
   "source": [
    "  "
   ]
  },
  {
   "cell_type": "code",
   "execution_count": 85,
   "metadata": {
    "collapsed": false
   },
   "outputs": [
    {
     "data": {
      "text/html": [
       "<div>\n",
       "<table border=\"1\" class=\"dataframe\">\n",
       "  <thead>\n",
       "    <tr style=\"text-align: right;\">\n",
       "      <th></th>\n",
       "      <th>date_idx</th>\n",
       "      <th>hpi_type</th>\n",
       "      <th>hpi_flavor</th>\n",
       "      <th>frequency</th>\n",
       "      <th>level</th>\n",
       "      <th>place_name</th>\n",
       "      <th>place_id</th>\n",
       "      <th>index_nsa</th>\n",
       "    </tr>\n",
       "    <tr>\n",
       "      <th>index_nsa</th>\n",
       "      <th></th>\n",
       "      <th></th>\n",
       "      <th></th>\n",
       "      <th></th>\n",
       "      <th></th>\n",
       "      <th></th>\n",
       "      <th></th>\n",
       "      <th></th>\n",
       "    </tr>\n",
       "  </thead>\n",
       "  <tbody>\n",
       "    <tr>\n",
       "      <th>18.31</th>\n",
       "      <td>1975-03-01</td>\n",
       "      <td>traditional</td>\n",
       "      <td>all-transactions</td>\n",
       "      <td>quarterly</td>\n",
       "      <td>MSA</td>\n",
       "      <td>San Francisco-Redwood City-South San Francisco...</td>\n",
       "      <td>41884</td>\n",
       "      <td>18.31</td>\n",
       "    </tr>\n",
       "    <tr>\n",
       "      <th>18.82</th>\n",
       "      <td>1975-04-01</td>\n",
       "      <td>traditional</td>\n",
       "      <td>all-transactions</td>\n",
       "      <td>quarterly</td>\n",
       "      <td>MSA</td>\n",
       "      <td>San Jose-Sunnyvale-Santa Clara, CA</td>\n",
       "      <td>41940</td>\n",
       "      <td>18.82</td>\n",
       "    </tr>\n",
       "  </tbody>\n",
       "</table>\n",
       "</div>"
      ],
      "text/plain": [
       "            date_idx     hpi_type        hpi_flavor  frequency level  \\\n",
       "index_nsa                                                              \n",
       "18.31     1975-03-01  traditional  all-transactions  quarterly   MSA   \n",
       "18.82     1975-04-01  traditional  all-transactions  quarterly   MSA   \n",
       "\n",
       "                                                  place_name place_id  \\\n",
       "index_nsa                                                               \n",
       "18.31      San Francisco-Redwood City-South San Francisco...    41884   \n",
       "18.82                     San Jose-Sunnyvale-Santa Clara, CA    41940   \n",
       "\n",
       "           index_nsa  \n",
       "index_nsa             \n",
       "18.31          18.31  \n",
       "18.82          18.82  "
      ]
     },
     "execution_count": 85,
     "metadata": {},
     "output_type": "execute_result"
    }
   ],
   "source": [
    "default_srt.iloc[[0, 1], :]"
   ]
  },
  {
   "cell_type": "markdown",
   "metadata": {},
   "source": [
    "  "
   ]
  },
  {
   "cell_type": "markdown",
   "metadata": {},
   "source": [
    "We can also see that the panda default sort sequence places NaN's last in the sort sequence by default.  So this can be an alternative to using boolean operators and the .loc() method to detect missing values."
   ]
  },
  {
   "cell_type": "markdown",
   "metadata": {},
   "source": [
    "  "
   ]
  },
  {
   "cell_type": "code",
   "execution_count": 86,
   "metadata": {
    "collapsed": false
   },
   "outputs": [
    {
     "data": {
      "text/html": [
       "<div>\n",
       "<table border=\"1\" class=\"dataframe\">\n",
       "  <thead>\n",
       "    <tr style=\"text-align: right;\">\n",
       "      <th></th>\n",
       "      <th>date_idx</th>\n",
       "      <th>hpi_type</th>\n",
       "      <th>hpi_flavor</th>\n",
       "      <th>frequency</th>\n",
       "      <th>level</th>\n",
       "      <th>place_name</th>\n",
       "      <th>place_id</th>\n",
       "      <th>index_nsa</th>\n",
       "    </tr>\n",
       "    <tr>\n",
       "      <th>index_nsa</th>\n",
       "      <th></th>\n",
       "      <th></th>\n",
       "      <th></th>\n",
       "      <th></th>\n",
       "      <th></th>\n",
       "      <th></th>\n",
       "      <th></th>\n",
       "      <th></th>\n",
       "    </tr>\n",
       "  </thead>\n",
       "  <tbody>\n",
       "    <tr>\n",
       "      <th>NaN</th>\n",
       "      <td>1982-01-01</td>\n",
       "      <td>traditional</td>\n",
       "      <td>all-transactions</td>\n",
       "      <td>quarterly</td>\n",
       "      <td>State</td>\n",
       "      <td>West Virginia</td>\n",
       "      <td>WV</td>\n",
       "      <td>NaN</td>\n",
       "    </tr>\n",
       "    <tr>\n",
       "      <th>NaN</th>\n",
       "      <td>1976-01-01</td>\n",
       "      <td>traditional</td>\n",
       "      <td>all-transactions</td>\n",
       "      <td>quarterly</td>\n",
       "      <td>State</td>\n",
       "      <td>Vermont</td>\n",
       "      <td>VT</td>\n",
       "      <td>NaN</td>\n",
       "    </tr>\n",
       "  </tbody>\n",
       "</table>\n",
       "</div>"
      ],
      "text/plain": [
       "            date_idx     hpi_type        hpi_flavor  frequency  level  \\\n",
       "index_nsa                                                               \n",
       "NaN       1982-01-01  traditional  all-transactions  quarterly  State   \n",
       "NaN       1976-01-01  traditional  all-transactions  quarterly  State   \n",
       "\n",
       "              place_name place_id  index_nsa  \n",
       "index_nsa                                     \n",
       "NaN        West Virginia       WV        NaN  \n",
       "NaN              Vermont       VT        NaN  "
      ]
     },
     "execution_count": 86,
     "metadata": {},
     "output_type": "execute_result"
    }
   ],
   "source": [
    "default_srt.iloc[[-1, -2],:]"
   ]
  },
  {
   "cell_type": "markdown",
   "metadata": {},
   "source": [
    "  "
   ]
  },
  {
   "cell_type": "markdown",
   "metadata": {},
   "source": [
    "Since there were 2 NaN's found, we can use the .iloc indexer to return 3rd and 4th row from the 'bottom' of the DataFrame, displaying the 2 highest values for the column 'index_nsa'."
   ]
  },
  {
   "cell_type": "markdown",
   "metadata": {},
   "source": [
    "  "
   ]
  },
  {
   "cell_type": "code",
   "execution_count": 87,
   "metadata": {
    "collapsed": false
   },
   "outputs": [
    {
     "data": {
      "text/html": [
       "<div>\n",
       "<table border=\"1\" class=\"dataframe\">\n",
       "  <thead>\n",
       "    <tr style=\"text-align: right;\">\n",
       "      <th></th>\n",
       "      <th>date_idx</th>\n",
       "      <th>hpi_type</th>\n",
       "      <th>hpi_flavor</th>\n",
       "      <th>frequency</th>\n",
       "      <th>level</th>\n",
       "      <th>place_name</th>\n",
       "      <th>place_id</th>\n",
       "      <th>index_nsa</th>\n",
       "    </tr>\n",
       "    <tr>\n",
       "      <th>index_nsa</th>\n",
       "      <th></th>\n",
       "      <th></th>\n",
       "      <th></th>\n",
       "      <th></th>\n",
       "      <th></th>\n",
       "      <th></th>\n",
       "      <th></th>\n",
       "      <th></th>\n",
       "    </tr>\n",
       "  </thead>\n",
       "  <tbody>\n",
       "    <tr>\n",
       "      <th>791.71</th>\n",
       "      <td>2016-02-01</td>\n",
       "      <td>traditional</td>\n",
       "      <td>all-transactions</td>\n",
       "      <td>quarterly</td>\n",
       "      <td>State</td>\n",
       "      <td>District of Columbia</td>\n",
       "      <td>DC</td>\n",
       "      <td>791.71</td>\n",
       "    </tr>\n",
       "    <tr>\n",
       "      <th>780.98</th>\n",
       "      <td>2016-01-01</td>\n",
       "      <td>traditional</td>\n",
       "      <td>all-transactions</td>\n",
       "      <td>quarterly</td>\n",
       "      <td>State</td>\n",
       "      <td>District of Columbia</td>\n",
       "      <td>DC</td>\n",
       "      <td>780.98</td>\n",
       "    </tr>\n",
       "  </tbody>\n",
       "</table>\n",
       "</div>"
      ],
      "text/plain": [
       "            date_idx     hpi_type        hpi_flavor  frequency  level  \\\n",
       "index_nsa                                                               \n",
       "791.71    2016-02-01  traditional  all-transactions  quarterly  State   \n",
       "780.98    2016-01-01  traditional  all-transactions  quarterly  State   \n",
       "\n",
       "                     place_name place_id  index_nsa  \n",
       "index_nsa                                            \n",
       "791.71     District of Columbia       DC     791.71  \n",
       "780.98     District of Columbia       DC     780.98  "
      ]
     },
     "execution_count": 87,
     "metadata": {},
     "output_type": "execute_result"
    }
   ],
   "source": [
    "default_srt.iloc[[-3, -4], :]"
   ]
  },
  {
   "cell_type": "markdown",
   "metadata": {},
   "source": [
    "  "
   ]
  },
  {
   "cell_type": "markdown",
   "metadata": {},
   "source": [
    "And naturally, we can completely alter the organization of the data_frame by supplying arguments and values to the sort_values attribute.  In the example below we sort using a descending sort sequence and placing the missing values at the beginning."
   ]
  },
  {
   "cell_type": "markdown",
   "metadata": {},
   "source": [
    "  "
   ]
  },
  {
   "cell_type": "code",
   "execution_count": 88,
   "metadata": {
    "collapsed": true
   },
   "outputs": [],
   "source": [
    "states_srt2 = df_states.sort_values('index_nsa', ascending=False, na_position='first')"
   ]
  },
  {
   "cell_type": "markdown",
   "metadata": {},
   "source": [
    "The first two rows in the DataFrame 'states_srt2' contain the 2 NaN's for the column 'index_nsa' values.  The next 2 rows contain the highest values for 'index_nsa'."
   ]
  },
  {
   "cell_type": "markdown",
   "metadata": {},
   "source": [
    "  "
   ]
  },
  {
   "cell_type": "code",
   "execution_count": null,
   "metadata": {
    "collapsed": false
   },
   "outputs": [],
   "source": [
    "states_srt2.iloc[0:4,]"
   ]
  },
  {
   "cell_type": "markdown",
   "metadata": {},
   "source": [
    "#### Start a new dataframe here for the frequency shifting example"
   ]
  },
  {
   "cell_type": "markdown",
   "metadata": {},
   "source": [
    "In the case of the aggregate U.S. housing index (DataFrame 'df_us') created above, the value for the 'frequency' column is monthly. So we need to find what the frequency value is for the 'states_srt2' DataFrame.    "
   ]
  },
  {
   "cell_type": "code",
   "execution_count": null,
   "metadata": {
    "collapsed": false
   },
   "outputs": [],
   "source": [
    "states_srt2.describe(include=['O'])"
   ]
  },
  {
   "cell_type": "code",
   "execution_count": null,
   "metadata": {
    "collapsed": false
   },
   "outputs": [],
   "source": [
    "states_srt2['level'].unique()"
   ]
  },
  {
   "cell_type": "markdown",
   "metadata": {},
   "source": [
    "### have not introduced groupby and most of the examples are in chapter 13"
   ]
  },
  {
   "cell_type": "code",
   "execution_count": null,
   "metadata": {
    "collapsed": false
   },
   "outputs": [],
   "source": [
    "states_srt2.groupby('level').count() "
   ]
  },
  {
   "cell_type": "raw",
   "metadata": {},
   "source": [
    "Looking at the data for the latest month in the Time Series, we want to find the highest and lowest values for a given place and plot these values over time and use the aggregate U.S. "
   ]
  },
  {
   "cell_type": "code",
   "execution_count": null,
   "metadata": {
    "collapsed": false
   },
   "outputs": [],
   "source": [
    "df_states.sort_values('place_name')\n"
   ]
  },
  {
   "cell_type": "code",
   "execution_count": null,
   "metadata": {
    "collapsed": false
   },
   "outputs": [],
   "source": [
    "df_states.set_index('place_name', inplace=True)"
   ]
  },
  {
   "cell_type": "code",
   "execution_count": null,
   "metadata": {
    "collapsed": false
   },
   "outputs": [],
   "source": [
    "df_states.columns"
   ]
  },
  {
   "cell_type": "code",
   "execution_count": null,
   "metadata": {
    "collapsed": true
   },
   "outputs": [],
   "source": [
    "la = df_states.loc['Los Angeles-Long Beach-Glendale, CA (MSAD)']"
   ]
  },
  {
   "cell_type": "code",
   "execution_count": null,
   "metadata": {
    "collapsed": false
   },
   "outputs": [],
   "source": [
    "la"
   ]
  },
  {
   "cell_type": "markdown",
   "metadata": {
    "collapsed": true
   },
   "source": [
    "## Navigation\n",
    "\n",
    "<a href=\"http://nbviewer.jupyter.org/github/RandyBetancourt/PythonForSASUsers/tree/master/\"> Return to Chapter List </a>    "
   ]
  }
 ],
 "metadata": {
  "anaconda-cloud": {},
  "kernelspec": {
   "display_name": "Python [Root]",
   "language": "python",
   "name": "Python [Root]"
  },
  "language_info": {
   "codemirror_mode": {
    "name": "ipython",
    "version": 3
   },
   "file_extension": ".py",
   "mimetype": "text/x-python",
   "name": "python",
   "nbconvert_exporter": "python",
   "pygments_lexer": "ipython3",
   "version": "3.5.2"
  }
 },
 "nbformat": 4,
 "nbformat_minor": 0
}
