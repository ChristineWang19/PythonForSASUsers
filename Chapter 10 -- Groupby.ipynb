{
 "cells": [
  {
   "cell_type": "markdown",
   "metadata": {},
   "source": [
    "# Chapter 10 -- Groupby"
   ]
  },
  {
   "cell_type": "code",
   "execution_count": 1,
   "metadata": {
    "collapsed": true
   },
   "outputs": [],
   "source": [
    "import numpy as np\n",
    "import pandas as pd\n",
    "from pandas import Series, DataFrame, Index\n",
    "from IPython.display import Image"
   ]
  },
  {
   "cell_type": "code",
   "execution_count": 26,
   "metadata": {
    "collapsed": true
   },
   "outputs": [],
   "source": [
    "pd.options.display.float_format = '{:20,.2f}'.format"
   ]
  },
  {
   "cell_type": "markdown",
   "metadata": {},
   "source": [
    " "
   ]
  },
  {
   "cell_type": "markdown",
   "metadata": {},
   "source": [
    "The pd.read_pickle() function reads the Lending Club Data Frame created in <a href=\"http://nbviewer.jupyter.org/github/RandyBetancourt/PythonForSASUsers/blob/master/Chapter%2012%20--%20Additional%20Data%20Handling%20.ipynb#Save-to-Disk\"> Chapter 12, Additional Data Handling</a>."
   ]
  },
  {
   "cell_type": "code",
   "execution_count": 27,
   "metadata": {
    "collapsed": false
   },
   "outputs": [
    {
     "data": {
      "text/plain": [
       "(42595, 25)"
      ]
     },
     "execution_count": 27,
     "metadata": {},
     "output_type": "execute_result"
    }
   ],
   "source": [
    "loans = pd.read_pickle('lending_club.pkl')\n",
    "loans.shape"
   ]
  },
  {
   "cell_type": "markdown",
   "metadata": {},
   "source": [
    " "
   ]
  },
  {
   "cell_type": "markdown",
   "metadata": {},
   "source": [
    "Display attribute information for the 'loans' DataFrame."
   ]
  },
  {
   "cell_type": "code",
   "execution_count": 46,
   "metadata": {
    "collapsed": false
   },
   "outputs": [
    {
     "name": "stdout",
     "output_type": "stream",
     "text": [
      "<class 'pandas.core.frame.DataFrame'>\n",
      "Int64Index: 42595 entries, 872482 to 2843\n",
      "Data columns (total 25 columns):\n",
      "delinq_2yrs    42566 non-null float64\n",
      "dti            42595 non-null float64\n",
      "emp_len        42595 non-null object\n",
      "fst_ln         2815 non-null object\n",
      "grade          42595 non-null object\n",
      "id             42595 non-null int64\n",
      "income         42595 non-null float64\n",
      "inq_6mnth      42566 non-null float64\n",
      "ln_amt         42595 non-null int64\n",
      "ln_fst         39751 non-null object\n",
      "ln_plcy        42595 non-null bool\n",
      "ln_stat        42595 non-null object\n",
      "m_pay          42595 non-null float64\n",
      "mem_id         42595 non-null int64\n",
      "open_acc       42566 non-null float64\n",
      "own_rnt        42595 non-null object\n",
      "purpose        42595 non-null object\n",
      "rate           42595 non-null float64\n",
      "revol_bal      42595 non-null int64\n",
      "revol_util     42595 non-null float64\n",
      "state          42595 non-null object\n",
      "sub_grd        42595 non-null object\n",
      "term           42595 non-null object\n",
      "dti_cat        42389 non-null category\n",
      "inc_cat        42595 non-null int8\n",
      "dtypes: bool(1), category(1), float64(8), int64(4), int8(1), object(10)\n",
      "memory usage: 7.6+ MB\n"
     ]
    }
   ],
   "source": [
    "loans.info()"
   ]
  },
  {
   "cell_type": "markdown",
   "metadata": {},
   "source": [
    "  "
   ]
  },
  {
   "cell_type": "markdown",
   "metadata": {},
   "source": [
    "Create the GroupBy object 'grp_grd' using the key column 'grade'. It does not compute anything until an operation is applied to the resulting groups.  One of the simpliest aggregation method applied is the len() function used to return the number of groups. The GroupBy: split-apply-combine for panda is located <a href=\"http://pandas.pydata.org/pandas-docs/stable/groupby.html\"> here</a>."
   ]
  },
  {
   "cell_type": "code",
   "execution_count": 32,
   "metadata": {
    "collapsed": false
   },
   "outputs": [
    {
     "name": "stdout",
     "output_type": "stream",
     "text": [
      "<class 'pandas.core.groupby.DataFrameGroupBy'>\n",
      "7\n"
     ]
    }
   ],
   "source": [
    "grp_grd = loans.groupby('grade')\n",
    "print(type(grp_grd))\n",
    "print(len(grp_grd))"
   ]
  },
  {
   "cell_type": "markdown",
   "metadata": {},
   "source": [
    "The GroupBy object has a number of aggregation methods which can be applied to the individual groups, for example .mean()."
   ]
  },
  {
   "cell_type": "code",
   "execution_count": 48,
   "metadata": {
    "collapsed": false
   },
   "outputs": [
    {
     "data": {
      "text/plain": [
       "grade\n",
       "A              66,711.88\n",
       "B              67,918.69\n",
       "C              68,199.96\n",
       "D              68,277.02\n",
       "E              75,889.16\n",
       "F              83,095.53\n",
       "G              93,055.82\n",
       "Name: income, dtype: float64"
      ]
     },
     "execution_count": 48,
     "metadata": {},
     "output_type": "execute_result"
    }
   ],
   "source": [
    "grp_grd['income'].mean()"
   ]
  },
  {
   "cell_type": "markdown",
   "metadata": {},
   "source": [
    " "
   ]
  },
  {
   "cell_type": "markdown",
   "metadata": {},
   "source": [
    "Even if we do not use the GroupBy object created above, we can still render the average income for each level of the column 'grade' by passing the DataFrame column name.  In this case, 'income' to the .mean() attribute."
   ]
  },
  {
   "cell_type": "code",
   "execution_count": 29,
   "metadata": {
    "collapsed": false
   },
   "outputs": [
    {
     "data": {
      "text/plain": [
       "grade\n",
       "A              66,711.88\n",
       "B              67,918.69\n",
       "C              68,199.96\n",
       "D              68,277.02\n",
       "E              75,889.16\n",
       "F              83,095.53\n",
       "G              93,055.82\n",
       "Name: income, dtype: float64"
      ]
     },
     "execution_count": 29,
     "metadata": {},
     "output_type": "execute_result"
    }
   ],
   "source": [
    "loans.groupby('grade')['income'].mean()"
   ]
  },
  {
   "cell_type": "markdown",
   "metadata": {},
   "source": [
    " "
   ]
  },
  {
   "cell_type": "markdown",
   "metadata": {},
   "source": [
    "We can use the .aggregate() attribute to apply multiple methods to the group levels."
   ]
  },
  {
   "cell_type": "code",
   "execution_count": 49,
   "metadata": {
    "collapsed": false
   },
   "outputs": [
    {
     "data": {
      "text/html": [
       "<div>\n",
       "<table border=\"1\" class=\"dataframe\">\n",
       "  <thead>\n",
       "    <tr style=\"text-align: right;\">\n",
       "      <th></th>\n",
       "      <th>mean</th>\n",
       "      <th>std</th>\n",
       "      <th>count</th>\n",
       "    </tr>\n",
       "    <tr>\n",
       "      <th>grade</th>\n",
       "      <th></th>\n",
       "      <th></th>\n",
       "      <th></th>\n",
       "    </tr>\n",
       "  </thead>\n",
       "  <tbody>\n",
       "    <tr>\n",
       "      <th>A</th>\n",
       "      <td>66,711.88</td>\n",
       "      <td>54,049.48</td>\n",
       "      <td>10202</td>\n",
       "    </tr>\n",
       "    <tr>\n",
       "      <th>B</th>\n",
       "      <td>67,918.69</td>\n",
       "      <td>60,705.94</td>\n",
       "      <td>12408</td>\n",
       "    </tr>\n",
       "    <tr>\n",
       "      <th>C</th>\n",
       "      <td>68,199.96</td>\n",
       "      <td>86,568.69</td>\n",
       "      <td>8747</td>\n",
       "    </tr>\n",
       "    <tr>\n",
       "      <th>D</th>\n",
       "      <td>68,277.02</td>\n",
       "      <td>49,031.33</td>\n",
       "      <td>6025</td>\n",
       "    </tr>\n",
       "    <tr>\n",
       "      <th>E</th>\n",
       "      <td>75,889.16</td>\n",
       "      <td>55,312.08</td>\n",
       "      <td>3401</td>\n",
       "    </tr>\n",
       "    <tr>\n",
       "      <th>F</th>\n",
       "      <td>83,095.53</td>\n",
       "      <td>63,771.87</td>\n",
       "      <td>1300</td>\n",
       "    </tr>\n",
       "    <tr>\n",
       "      <th>G</th>\n",
       "      <td>93,055.82</td>\n",
       "      <td>73,522.11</td>\n",
       "      <td>512</td>\n",
       "    </tr>\n",
       "  </tbody>\n",
       "</table>\n",
       "</div>"
      ],
      "text/plain": [
       "                      mean                  std  count\n",
       "grade                                                 \n",
       "A                66,711.88            54,049.48  10202\n",
       "B                67,918.69            60,705.94  12408\n",
       "C                68,199.96            86,568.69   8747\n",
       "D                68,277.02            49,031.33   6025\n",
       "E                75,889.16            55,312.08   3401\n",
       "F                83,095.53            63,771.87   1300\n",
       "G                93,055.82            73,522.11    512"
      ]
     },
     "execution_count": 49,
     "metadata": {},
     "output_type": "execute_result"
    }
   ],
   "source": [
    "grp_grd['income'].aggregate(['mean', 'std', 'count'])"
   ]
  },
  {
   "cell_type": "markdown",
   "metadata": {},
   "source": [
    " "
   ]
  },
  {
   "cell_type": "markdown",
   "metadata": {},
   "source": [
    "We can requests multiple columns as part of the GroupBy operation.  In this case, 'income' and 'dti' (which is the debt-to-income ratio)."
   ]
  },
  {
   "cell_type": "code",
   "execution_count": 50,
   "metadata": {
    "collapsed": false
   },
   "outputs": [
    {
     "data": {
      "text/html": [
       "<div>\n",
       "<table border=\"1\" class=\"dataframe\">\n",
       "  <thead>\n",
       "    <tr>\n",
       "      <th></th>\n",
       "      <th colspan=\"8\" halign=\"left\">income</th>\n",
       "      <th colspan=\"8\" halign=\"left\">dti</th>\n",
       "    </tr>\n",
       "    <tr>\n",
       "      <th></th>\n",
       "      <th>count</th>\n",
       "      <th>mean</th>\n",
       "      <th>std</th>\n",
       "      <th>min</th>\n",
       "      <th>25%</th>\n",
       "      <th>50%</th>\n",
       "      <th>75%</th>\n",
       "      <th>max</th>\n",
       "      <th>count</th>\n",
       "      <th>mean</th>\n",
       "      <th>std</th>\n",
       "      <th>min</th>\n",
       "      <th>25%</th>\n",
       "      <th>50%</th>\n",
       "      <th>75%</th>\n",
       "      <th>max</th>\n",
       "    </tr>\n",
       "    <tr>\n",
       "      <th>grade</th>\n",
       "      <th></th>\n",
       "      <th></th>\n",
       "      <th></th>\n",
       "      <th></th>\n",
       "      <th></th>\n",
       "      <th></th>\n",
       "      <th></th>\n",
       "      <th></th>\n",
       "      <th></th>\n",
       "      <th></th>\n",
       "      <th></th>\n",
       "      <th></th>\n",
       "      <th></th>\n",
       "      <th></th>\n",
       "      <th></th>\n",
       "      <th></th>\n",
       "    </tr>\n",
       "  </thead>\n",
       "  <tbody>\n",
       "    <tr>\n",
       "      <th>A</th>\n",
       "      <td>10,202.00</td>\n",
       "      <td>66,711.88</td>\n",
       "      <td>54,049.48</td>\n",
       "      <td>3,300.00</td>\n",
       "      <td>40,000.00</td>\n",
       "      <td>57,632.00</td>\n",
       "      <td>80,000.00</td>\n",
       "      <td>1,900,000.00</td>\n",
       "      <td>10,202.00</td>\n",
       "      <td>12.04</td>\n",
       "      <td>7.01</td>\n",
       "      <td>0.00</td>\n",
       "      <td>6.46</td>\n",
       "      <td>11.50</td>\n",
       "      <td>17.10</td>\n",
       "      <td>29.99</td>\n",
       "    </tr>\n",
       "    <tr>\n",
       "      <th>B</th>\n",
       "      <td>12,408.00</td>\n",
       "      <td>67,918.69</td>\n",
       "      <td>60,705.94</td>\n",
       "      <td>2,000.00</td>\n",
       "      <td>40,000.00</td>\n",
       "      <td>57,996.00</td>\n",
       "      <td>80,497.00</td>\n",
       "      <td>3,900,000.00</td>\n",
       "      <td>12,408.00</td>\n",
       "      <td>13.39</td>\n",
       "      <td>6.66</td>\n",
       "      <td>0.00</td>\n",
       "      <td>8.31</td>\n",
       "      <td>13.51</td>\n",
       "      <td>18.62</td>\n",
       "      <td>29.95</td>\n",
       "    </tr>\n",
       "    <tr>\n",
       "      <th>C</th>\n",
       "      <td>8,747.00</td>\n",
       "      <td>68,199.96</td>\n",
       "      <td>86,568.69</td>\n",
       "      <td>4,000.00</td>\n",
       "      <td>40,000.00</td>\n",
       "      <td>56,000.00</td>\n",
       "      <td>80,000.00</td>\n",
       "      <td>6,000,000.00</td>\n",
       "      <td>8,747.00</td>\n",
       "      <td>13.85</td>\n",
       "      <td>6.50</td>\n",
       "      <td>0.00</td>\n",
       "      <td>8.97</td>\n",
       "      <td>14.05</td>\n",
       "      <td>18.99</td>\n",
       "      <td>29.78</td>\n",
       "    </tr>\n",
       "    <tr>\n",
       "      <th>D</th>\n",
       "      <td>6,025.00</td>\n",
       "      <td>68,277.02</td>\n",
       "      <td>49,031.33</td>\n",
       "      <td>4,000.00</td>\n",
       "      <td>40,000.00</td>\n",
       "      <td>58,000.00</td>\n",
       "      <td>82,000.00</td>\n",
       "      <td>1,200,000.00</td>\n",
       "      <td>6,025.00</td>\n",
       "      <td>13.98</td>\n",
       "      <td>6.43</td>\n",
       "      <td>0.00</td>\n",
       "      <td>9.16</td>\n",
       "      <td>14.31</td>\n",
       "      <td>19.25</td>\n",
       "      <td>29.63</td>\n",
       "    </tr>\n",
       "    <tr>\n",
       "      <th>E</th>\n",
       "      <td>3,401.00</td>\n",
       "      <td>75,889.16</td>\n",
       "      <td>55,312.08</td>\n",
       "      <td>4,200.00</td>\n",
       "      <td>45,000.00</td>\n",
       "      <td>62,000.00</td>\n",
       "      <td>90,000.00</td>\n",
       "      <td>750,000.00</td>\n",
       "      <td>3,401.00</td>\n",
       "      <td>14.18</td>\n",
       "      <td>6.53</td>\n",
       "      <td>0.00</td>\n",
       "      <td>9.36</td>\n",
       "      <td>14.62</td>\n",
       "      <td>19.60</td>\n",
       "      <td>29.70</td>\n",
       "    </tr>\n",
       "    <tr>\n",
       "      <th>F</th>\n",
       "      <td>1,300.00</td>\n",
       "      <td>83,095.53</td>\n",
       "      <td>63,771.87</td>\n",
       "      <td>7,280.00</td>\n",
       "      <td>50,000.00</td>\n",
       "      <td>70,679.00</td>\n",
       "      <td>100,000.00</td>\n",
       "      <td>1,440,000.00</td>\n",
       "      <td>1,300.00</td>\n",
       "      <td>14.65</td>\n",
       "      <td>6.55</td>\n",
       "      <td>0.00</td>\n",
       "      <td>9.81</td>\n",
       "      <td>15.16</td>\n",
       "      <td>19.76</td>\n",
       "      <td>29.95</td>\n",
       "    </tr>\n",
       "    <tr>\n",
       "      <th>G</th>\n",
       "      <td>512.00</td>\n",
       "      <td>93,055.82</td>\n",
       "      <td>73,522.11</td>\n",
       "      <td>1,896.00</td>\n",
       "      <td>52,000.00</td>\n",
       "      <td>75,000.00</td>\n",
       "      <td>110,000.00</td>\n",
       "      <td>725,000.00</td>\n",
       "      <td>512.00</td>\n",
       "      <td>15.69</td>\n",
       "      <td>7.29</td>\n",
       "      <td>0.00</td>\n",
       "      <td>9.89</td>\n",
       "      <td>15.96</td>\n",
       "      <td>21.33</td>\n",
       "      <td>29.96</td>\n",
       "    </tr>\n",
       "  </tbody>\n",
       "</table>\n",
       "</div>"
      ],
      "text/plain": [
       "                    income                                            \\\n",
       "                     count                 mean                  std   \n",
       "grade                                                                  \n",
       "A                10,202.00            66,711.88            54,049.48   \n",
       "B                12,408.00            67,918.69            60,705.94   \n",
       "C                 8,747.00            68,199.96            86,568.69   \n",
       "D                 6,025.00            68,277.02            49,031.33   \n",
       "E                 3,401.00            75,889.16            55,312.08   \n",
       "F                 1,300.00            83,095.53            63,771.87   \n",
       "G                   512.00            93,055.82            73,522.11   \n",
       "\n",
       "                                                                      \\\n",
       "                       min                  25%                  50%   \n",
       "grade                                                                  \n",
       "A                 3,300.00            40,000.00            57,632.00   \n",
       "B                 2,000.00            40,000.00            57,996.00   \n",
       "C                 4,000.00            40,000.00            56,000.00   \n",
       "D                 4,000.00            40,000.00            58,000.00   \n",
       "E                 4,200.00            45,000.00            62,000.00   \n",
       "F                 7,280.00            50,000.00            70,679.00   \n",
       "G                 1,896.00            52,000.00            75,000.00   \n",
       "\n",
       "                                                                 dti  \\\n",
       "                       75%                  max                count   \n",
       "grade                                                                  \n",
       "A                80,000.00         1,900,000.00            10,202.00   \n",
       "B                80,497.00         3,900,000.00            12,408.00   \n",
       "C                80,000.00         6,000,000.00             8,747.00   \n",
       "D                82,000.00         1,200,000.00             6,025.00   \n",
       "E                90,000.00           750,000.00             3,401.00   \n",
       "F               100,000.00         1,440,000.00             1,300.00   \n",
       "G               110,000.00           725,000.00               512.00   \n",
       "\n",
       "                                                                      \\\n",
       "                      mean                  std                  min   \n",
       "grade                                                                  \n",
       "A                    12.04                 7.01                 0.00   \n",
       "B                    13.39                 6.66                 0.00   \n",
       "C                    13.85                 6.50                 0.00   \n",
       "D                    13.98                 6.43                 0.00   \n",
       "E                    14.18                 6.53                 0.00   \n",
       "F                    14.65                 6.55                 0.00   \n",
       "G                    15.69                 7.29                 0.00   \n",
       "\n",
       "                                                                      \\\n",
       "                       25%                  50%                  75%   \n",
       "grade                                                                  \n",
       "A                     6.46                11.50                17.10   \n",
       "B                     8.31                13.51                18.62   \n",
       "C                     8.97                14.05                18.99   \n",
       "D                     9.16                14.31                19.25   \n",
       "E                     9.36                14.62                19.60   \n",
       "F                     9.81                15.16                19.76   \n",
       "G                     9.89                15.96                21.33   \n",
       "\n",
       "                            \n",
       "                       max  \n",
       "grade                       \n",
       "A                    29.99  \n",
       "B                    29.95  \n",
       "C                    29.78  \n",
       "D                    29.63  \n",
       "E                    29.70  \n",
       "F                    29.95  \n",
       "G                    29.96  "
      ]
     },
     "execution_count": 50,
     "metadata": {},
     "output_type": "execute_result"
    }
   ],
   "source": [
    "grp_grd['income', 'dti'].describe().unstack()"
   ]
  },
  {
   "cell_type": "markdown",
   "metadata": {},
   "source": [
    " "
   ]
  },
  {
   "cell_type": "markdown",
   "metadata": {},
   "source": [
    "The .get_group attribute returns information about a particular group level.  Here it returns a count of values."
   ]
  },
  {
   "cell_type": "code",
   "execution_count": 33,
   "metadata": {
    "collapsed": false
   },
   "outputs": [
    {
     "data": {
      "text/plain": [
       "512"
      ]
     },
     "execution_count": 33,
     "metadata": {},
     "output_type": "execute_result"
    }
   ],
   "source": [
    "grp_grd.get_group('G').mem_id.count()"
   ]
  },
  {
   "cell_type": "markdown",
   "metadata": {},
   "source": [
    " "
   ]
  },
  {
   "cell_type": "markdown",
   "metadata": {},
   "source": [
    "We can chain attributes to get the desired results."
   ]
  },
  {
   "cell_type": "code",
   "execution_count": 54,
   "metadata": {
    "collapsed": false
   },
   "outputs": [
    {
     "data": {
      "text/plain": [
       "grade\n",
       "G              93,055.82\n",
       "F              83,095.53\n",
       "E              75,889.16\n",
       "D              68,277.02\n",
       "C              68,199.96\n",
       "B              67,918.69\n",
       "A              66,711.88\n",
       "Name: income, dtype: float64"
      ]
     },
     "execution_count": 54,
     "metadata": {},
     "output_type": "execute_result"
    }
   ],
   "source": [
    "grp_grd.income.mean().sort_values(ascending=False)"
   ]
  },
  {
   "cell_type": "code",
   "execution_count": 35,
   "metadata": {
    "collapsed": false
   },
   "outputs": [
    {
     "data": {
      "text/plain": [
       "grade\n",
       "A    10202\n",
       "B    12408\n",
       "C     8747\n",
       "D     6025\n",
       "E     3401\n",
       "F     1300\n",
       "G      512\n",
       "dtype: int64"
      ]
     },
     "execution_count": 35,
     "metadata": {},
     "output_type": "execute_result"
    }
   ],
   "source": [
    "grp_grd.size()"
   ]
  },
  {
   "cell_type": "code",
   "execution_count": 36,
   "metadata": {
    "collapsed": false
   },
   "outputs": [
    {
     "name": "stdout",
     "output_type": "stream",
     "text": [
      "0.0\n",
      "29.99\n"
     ]
    }
   ],
   "source": [
    "print(loans.dti.min())\n",
    "print(loans.dti.max())"
   ]
  },
  {
   "cell_type": "code",
   "execution_count": 37,
   "metadata": {
    "collapsed": false
   },
   "outputs": [
    {
     "data": {
      "text/plain": [
       "function"
      ]
     },
     "execution_count": 37,
     "metadata": {},
     "output_type": "execute_result"
    }
   ],
   "source": [
    "def stats(grp):\n",
    "    return {'mean': grp.mean(), 'std': grp.std(), 'count':grp.count()}\n",
    "type(stats)"
   ]
  },
  {
   "cell_type": "code",
   "execution_count": 38,
   "metadata": {
    "collapsed": false
   },
   "outputs": [],
   "source": [
    "bins = [0, 10, 20, 30]\n",
    "names=['Low', 'Medium', 'High']\n",
    "loans['dti_cat'] = pd.cut(loans['dti'], bins, labels=names)"
   ]
  },
  {
   "cell_type": "code",
   "execution_count": 39,
   "metadata": {
    "collapsed": false
   },
   "outputs": [
    {
     "data": {
      "text/html": [
       "<div>\n",
       "<table border=\"1\" class=\"dataframe\">\n",
       "  <thead>\n",
       "    <tr style=\"text-align: right;\">\n",
       "      <th></th>\n",
       "      <th>count</th>\n",
       "      <th>mean</th>\n",
       "      <th>std</th>\n",
       "    </tr>\n",
       "    <tr>\n",
       "      <th>dti_cat</th>\n",
       "      <th></th>\n",
       "      <th></th>\n",
       "      <th></th>\n",
       "    </tr>\n",
       "  </thead>\n",
       "  <tbody>\n",
       "    <tr>\n",
       "      <th>Low</th>\n",
       "      <td>13,909.00</td>\n",
       "      <td>78,149.43</td>\n",
       "      <td>96,889.77</td>\n",
       "    </tr>\n",
       "    <tr>\n",
       "      <th>Medium</th>\n",
       "      <td>20,277.00</td>\n",
       "      <td>67,083.72</td>\n",
       "      <td>38,886.10</td>\n",
       "    </tr>\n",
       "    <tr>\n",
       "      <th>High</th>\n",
       "      <td>8,203.00</td>\n",
       "      <td>59,225.00</td>\n",
       "      <td>33,281.46</td>\n",
       "    </tr>\n",
       "  </tbody>\n",
       "</table>\n",
       "</div>"
      ],
      "text/plain": [
       "                       count                 mean                  std\n",
       "dti_cat                                                               \n",
       "Low                13,909.00            78,149.43            96,889.77\n",
       "Medium             20,277.00            67,083.72            38,886.10\n",
       "High                8,203.00            59,225.00            33,281.46"
      ]
     },
     "execution_count": 39,
     "metadata": {},
     "output_type": "execute_result"
    }
   ],
   "source": [
    "loans['income'].groupby(loans['dti_cat']).apply(stats).unstack()"
   ]
  },
  {
   "cell_type": "code",
   "execution_count": 40,
   "metadata": {
    "collapsed": false
   },
   "outputs": [],
   "source": [
    "loans['inc_cat'] = pd.qcut(loans['income'].values, 10).codes"
   ]
  },
  {
   "cell_type": "code",
   "execution_count": 41,
   "metadata": {
    "collapsed": false
   },
   "outputs": [
    {
     "data": {
      "text/plain": [
       "0    5088\n",
       "7    4436\n",
       "4    4309\n",
       "3    4306\n",
       "2    4265\n",
       "9    4260\n",
       "6    4253\n",
       "5    4163\n",
       "8    4082\n",
       "1    3433\n",
       "Name: inc_cat, dtype: int64"
      ]
     },
     "execution_count": 41,
     "metadata": {},
     "output_type": "execute_result"
    }
   ],
   "source": [
    "pd.value_counts(loans['inc_cat'].sort_values())"
   ]
  },
  {
   "cell_type": "code",
   "execution_count": 42,
   "metadata": {
    "collapsed": false
   },
   "outputs": [],
   "source": [
    "grp_ic = loans.groupby('inc_cat')"
   ]
  },
  {
   "cell_type": "code",
   "execution_count": null,
   "metadata": {
    "collapsed": false
   },
   "outputs": [],
   "source": [
    " "
   ]
  },
  {
   "cell_type": "code",
   "execution_count": 43,
   "metadata": {
    "collapsed": false
   },
   "outputs": [
    {
     "data": {
      "text/html": [
       "<div>\n",
       "<table border=\"1\" class=\"dataframe\">\n",
       "  <thead>\n",
       "    <tr style=\"text-align: right;\">\n",
       "      <th></th>\n",
       "      <th>delinq_2yrs</th>\n",
       "      <th>dti</th>\n",
       "      <th>id</th>\n",
       "      <th>income</th>\n",
       "      <th>inq_6mnth</th>\n",
       "      <th>ln_amt</th>\n",
       "      <th>ln_plcy</th>\n",
       "      <th>m_pay</th>\n",
       "      <th>mem_id</th>\n",
       "      <th>open_acc</th>\n",
       "      <th>rate</th>\n",
       "      <th>revol_bal</th>\n",
       "      <th>revol_util</th>\n",
       "    </tr>\n",
       "    <tr>\n",
       "      <th>inc_cat</th>\n",
       "      <th></th>\n",
       "      <th></th>\n",
       "      <th></th>\n",
       "      <th></th>\n",
       "      <th></th>\n",
       "      <th></th>\n",
       "      <th></th>\n",
       "      <th></th>\n",
       "      <th></th>\n",
       "      <th></th>\n",
       "      <th></th>\n",
       "      <th></th>\n",
       "      <th></th>\n",
       "    </tr>\n",
       "  </thead>\n",
       "  <tbody>\n",
       "    <tr>\n",
       "      <th>0</th>\n",
       "      <td>0.13</td>\n",
       "      <td>12.96</td>\n",
       "      <td>630,167.71</td>\n",
       "      <td>23,505.59</td>\n",
       "      <td>1.08</td>\n",
       "      <td>5,620.61</td>\n",
       "      <td>0.91</td>\n",
       "      <td>172.02</td>\n",
       "      <td>781,207.02</td>\n",
       "      <td>6.84</td>\n",
       "      <td>0.12</td>\n",
       "      <td>5,019.00</td>\n",
       "      <td>0.45</td>\n",
       "    </tr>\n",
       "    <tr>\n",
       "      <th>1</th>\n",
       "      <td>0.14</td>\n",
       "      <td>14.38</td>\n",
       "      <td>656,928.62</td>\n",
       "      <td>34,240.73</td>\n",
       "      <td>1.02</td>\n",
       "      <td>7,824.64</td>\n",
       "      <td>0.94</td>\n",
       "      <td>233.89</td>\n",
       "      <td>815,439.43</td>\n",
       "      <td>8.05</td>\n",
       "      <td>0.12</td>\n",
       "      <td>7,180.75</td>\n",
       "      <td>0.48</td>\n",
       "    </tr>\n",
       "    <tr>\n",
       "      <th>2</th>\n",
       "      <td>0.13</td>\n",
       "      <td>14.21</td>\n",
       "      <td>661,064.83</td>\n",
       "      <td>40,730.02</td>\n",
       "      <td>1.06</td>\n",
       "      <td>8,733.34</td>\n",
       "      <td>0.93</td>\n",
       "      <td>256.57</td>\n",
       "      <td>820,855.51</td>\n",
       "      <td>8.33</td>\n",
       "      <td>0.12</td>\n",
       "      <td>8,515.88</td>\n",
       "      <td>0.49</td>\n",
       "    </tr>\n",
       "    <tr>\n",
       "      <th>3</th>\n",
       "      <td>0.15</td>\n",
       "      <td>13.98</td>\n",
       "      <td>668,382.16</td>\n",
       "      <td>47,674.11</td>\n",
       "      <td>1.03</td>\n",
       "      <td>9,691.41</td>\n",
       "      <td>0.94</td>\n",
       "      <td>281.29</td>\n",
       "      <td>829,786.19</td>\n",
       "      <td>8.90</td>\n",
       "      <td>0.12</td>\n",
       "      <td>9,980.06</td>\n",
       "      <td>0.50</td>\n",
       "    </tr>\n",
       "    <tr>\n",
       "      <th>4</th>\n",
       "      <td>0.15</td>\n",
       "      <td>14.27</td>\n",
       "      <td>668,425.58</td>\n",
       "      <td>54,526.42</td>\n",
       "      <td>1.05</td>\n",
       "      <td>10,557.69</td>\n",
       "      <td>0.94</td>\n",
       "      <td>306.30</td>\n",
       "      <td>831,454.24</td>\n",
       "      <td>9.48</td>\n",
       "      <td>0.12</td>\n",
       "      <td>11,458.01</td>\n",
       "      <td>0.50</td>\n",
       "    </tr>\n",
       "    <tr>\n",
       "      <th>5</th>\n",
       "      <td>0.16</td>\n",
       "      <td>13.73</td>\n",
       "      <td>677,408.79</td>\n",
       "      <td>62,090.00</td>\n",
       "      <td>1.09</td>\n",
       "      <td>11,440.48</td>\n",
       "      <td>0.94</td>\n",
       "      <td>329.85</td>\n",
       "      <td>841,954.59</td>\n",
       "      <td>9.63</td>\n",
       "      <td>0.12</td>\n",
       "      <td>12,595.62</td>\n",
       "      <td>0.49</td>\n",
       "    </tr>\n",
       "    <tr>\n",
       "      <th>6</th>\n",
       "      <td>0.16</td>\n",
       "      <td>13.66</td>\n",
       "      <td>673,780.20</td>\n",
       "      <td>71,171.32</td>\n",
       "      <td>1.08</td>\n",
       "      <td>12,329.00</td>\n",
       "      <td>0.94</td>\n",
       "      <td>356.63</td>\n",
       "      <td>837,242.11</td>\n",
       "      <td>10.03</td>\n",
       "      <td>0.12</td>\n",
       "      <td>14,676.67</td>\n",
       "      <td>0.50</td>\n",
       "    </tr>\n",
       "    <tr>\n",
       "      <th>7</th>\n",
       "      <td>0.15</td>\n",
       "      <td>13.11</td>\n",
       "      <td>678,656.01</td>\n",
       "      <td>83,137.04</td>\n",
       "      <td>1.11</td>\n",
       "      <td>13,647.79</td>\n",
       "      <td>0.93</td>\n",
       "      <td>392.30</td>\n",
       "      <td>843,460.17</td>\n",
       "      <td>10.32</td>\n",
       "      <td>0.12</td>\n",
       "      <td>17,728.25</td>\n",
       "      <td>0.50</td>\n",
       "    </tr>\n",
       "    <tr>\n",
       "      <th>8</th>\n",
       "      <td>0.17</td>\n",
       "      <td>12.63</td>\n",
       "      <td>671,238.86</td>\n",
       "      <td>101,756.61</td>\n",
       "      <td>1.11</td>\n",
       "      <td>14,621.23</td>\n",
       "      <td>0.94</td>\n",
       "      <td>420.76</td>\n",
       "      <td>835,501.61</td>\n",
       "      <td>10.81</td>\n",
       "      <td>0.12</td>\n",
       "      <td>21,984.46</td>\n",
       "      <td>0.51</td>\n",
       "    </tr>\n",
       "    <tr>\n",
       "      <th>9</th>\n",
       "      <td>0.19</td>\n",
       "      <td>11.06</td>\n",
       "      <td>670,396.71</td>\n",
       "      <td>175,721.94</td>\n",
       "      <td>1.19</td>\n",
       "      <td>17,016.68</td>\n",
       "      <td>0.92</td>\n",
       "      <td>492.94</td>\n",
       "      <td>833,295.84</td>\n",
       "      <td>11.33</td>\n",
       "      <td>0.13</td>\n",
       "      <td>34,515.34</td>\n",
       "      <td>0.51</td>\n",
       "    </tr>\n",
       "  </tbody>\n",
       "</table>\n",
       "</div>"
      ],
      "text/plain": [
       "                 delinq_2yrs                  dti                   id  \\\n",
       "inc_cat                                                                  \n",
       "0                       0.13                12.96           630,167.71   \n",
       "1                       0.14                14.38           656,928.62   \n",
       "2                       0.13                14.21           661,064.83   \n",
       "3                       0.15                13.98           668,382.16   \n",
       "4                       0.15                14.27           668,425.58   \n",
       "5                       0.16                13.73           677,408.79   \n",
       "6                       0.16                13.66           673,780.20   \n",
       "7                       0.15                13.11           678,656.01   \n",
       "8                       0.17                12.63           671,238.86   \n",
       "9                       0.19                11.06           670,396.71   \n",
       "\n",
       "                      income            inq_6mnth               ln_amt  \\\n",
       "inc_cat                                                                  \n",
       "0                  23,505.59                 1.08             5,620.61   \n",
       "1                  34,240.73                 1.02             7,824.64   \n",
       "2                  40,730.02                 1.06             8,733.34   \n",
       "3                  47,674.11                 1.03             9,691.41   \n",
       "4                  54,526.42                 1.05            10,557.69   \n",
       "5                  62,090.00                 1.09            11,440.48   \n",
       "6                  71,171.32                 1.08            12,329.00   \n",
       "7                  83,137.04                 1.11            13,647.79   \n",
       "8                 101,756.61                 1.11            14,621.23   \n",
       "9                 175,721.94                 1.19            17,016.68   \n",
       "\n",
       "                     ln_plcy                m_pay               mem_id  \\\n",
       "inc_cat                                                                  \n",
       "0                       0.91               172.02           781,207.02   \n",
       "1                       0.94               233.89           815,439.43   \n",
       "2                       0.93               256.57           820,855.51   \n",
       "3                       0.94               281.29           829,786.19   \n",
       "4                       0.94               306.30           831,454.24   \n",
       "5                       0.94               329.85           841,954.59   \n",
       "6                       0.94               356.63           837,242.11   \n",
       "7                       0.93               392.30           843,460.17   \n",
       "8                       0.94               420.76           835,501.61   \n",
       "9                       0.92               492.94           833,295.84   \n",
       "\n",
       "                    open_acc                 rate            revol_bal  \\\n",
       "inc_cat                                                                  \n",
       "0                       6.84                 0.12             5,019.00   \n",
       "1                       8.05                 0.12             7,180.75   \n",
       "2                       8.33                 0.12             8,515.88   \n",
       "3                       8.90                 0.12             9,980.06   \n",
       "4                       9.48                 0.12            11,458.01   \n",
       "5                       9.63                 0.12            12,595.62   \n",
       "6                      10.03                 0.12            14,676.67   \n",
       "7                      10.32                 0.12            17,728.25   \n",
       "8                      10.81                 0.12            21,984.46   \n",
       "9                      11.33                 0.13            34,515.34   \n",
       "\n",
       "                  revol_util  \n",
       "inc_cat                       \n",
       "0                       0.45  \n",
       "1                       0.48  \n",
       "2                       0.49  \n",
       "3                       0.50  \n",
       "4                       0.50  \n",
       "5                       0.49  \n",
       "6                       0.50  \n",
       "7                       0.50  \n",
       "8                       0.51  \n",
       "9                       0.51  "
      ]
     },
     "execution_count": 43,
     "metadata": {},
     "output_type": "execute_result"
    }
   ],
   "source": [
    "grp_ic.mean()"
   ]
  },
  {
   "cell_type": "code",
   "execution_count": 24,
   "metadata": {
    "collapsed": true
   },
   "outputs": [],
   "source": []
  },
  {
   "cell_type": "code",
   "execution_count": 44,
   "metadata": {
    "collapsed": false
   },
   "outputs": [
    {
     "data": {
      "text/plain": [
       "grade  id    \n",
       "A      611872           1,900,000.00\n",
       "       458760           1,440,000.00\n",
       "       453667           1,362,000.00\n",
       "B      519954           3,900,000.00\n",
       "       56                 984,000.00\n",
       "       643926             948,000.00\n",
       "C      513542           6,000,000.00\n",
       "       269818           2,039,784.00\n",
       "       884755           1,782,000.00\n",
       "D      603818           1,200,000.00\n",
       "       514680             840,000.00\n",
       "       752994             648,000.00\n",
       "E      792270             750,000.00\n",
       "       565565             700,053.85\n",
       "       508436             660,000.00\n",
       "F      743              1,440,000.00\n",
       "       473872             600,000.00\n",
       "       843071             350,000.00\n",
       "G      989796             725,000.00\n",
       "       1420               600,000.00\n",
       "       2677               500,000.00\n",
       "Name: income, dtype: float64"
      ]
     },
     "execution_count": 44,
     "metadata": {},
     "output_type": "execute_result"
    }
   ],
   "source": [
    "grp_grd['income'].nlargest(3)"
   ]
  },
  {
   "cell_type": "code",
   "execution_count": null,
   "metadata": {
    "collapsed": true
   },
   "outputs": [],
   "source": []
  },
  {
   "cell_type": "code",
   "execution_count": null,
   "metadata": {
    "collapsed": false
   },
   "outputs": [],
   "source": [
    " "
   ]
  },
  {
   "cell_type": "markdown",
   "metadata": {},
   "source": [
    "## Resources\n",
    "\n",
    "The GroupBy: split-apply-combine for panda is located <a href=\"http://pandas.pydata.org/pandas-docs/stable/groupby.html\"> here</a>.\n",
    "\n",
    "Apply Operations to Groups in Pandas, by Chris Albon, located <a href=\"http://chrisalbon.com/python/pandas_apply_operations_to_groups.html\"> here.</a>\n",
    "\n",
    "GroupBy-fu: improvements in grouping and aggregating data in pandas, by Wes McKinney, located <a href=\"http://wesmckinney.com/blog/groupby-fu-improvements-in-grouping-and-aggregating-data-in-pandas/\"> here</a>."
   ]
  },
  {
   "cell_type": "code",
   "execution_count": null,
   "metadata": {
    "collapsed": true
   },
   "outputs": [],
   "source": []
  }
 ],
 "metadata": {
  "kernelspec": {
   "display_name": "Python [Root]",
   "language": "python",
   "name": "Python [Root]"
  },
  "language_info": {
   "codemirror_mode": {
    "name": "ipython",
    "version": 3
   },
   "file_extension": ".py",
   "mimetype": "text/x-python",
   "name": "python",
   "nbconvert_exporter": "python",
   "pygments_lexer": "ipython3",
   "version": "3.5.2"
  }
 },
 "nbformat": 4,
 "nbformat_minor": 0
}
