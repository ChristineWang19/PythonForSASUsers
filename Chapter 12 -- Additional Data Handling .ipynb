{
 "cells": [
  {
   "cell_type": "markdown",
   "metadata": {},
   "source": [
    "# Chapter 12 -- Additional Data Handling --DRAFT"
   ]
  },
  {
   "cell_type": "markdown",
   "metadata": {},
   "source": [
    "## Topics Covered:\n",
    "\n",
    "<a href=\"http://nbviewer.jupyter.org/github/RandyBetancourt/PythonForSASUsers/blob/master/Chapter%2012%20--%20Additional%20Data%20Handling%20.ipynb#Sort-and-Sort-Sequences\">Sort and Sort Sequences</a>\n",
    "\n",
    "<a href=\"http://nbviewer.jupyter.org/github/RandyBetancourt/PythonForSASUsers/blob/master/Chapter%2012%20--%20Additional%20Data%20Handling%20.ipynb#Drop/Keep-Columns\">Drop/Keep Columns</a> \n",
    "\n",
    "<a href=\"http://nbviewer.jupyter.org/github/RandyBetancourt/PythonForSASUsers/blob/master/Chapter%2012%20--%20Additional%20Data%20Handling%20.ipynb#Rename-Columns\">Rename Columns</a>\n",
    "\n",
    "<a href=\"http://nbviewer.jupyter.org/github/RandyBetancourt/PythonForSASUsers/blob/master/Chapter%2012%20--%20Additional%20Data%20Handling%20.ipynb#Finding-Duplicate-Values\">Finding Duplicate Values</a>\n",
    "\n",
    "<a href=\"http://nbviewer.jupyter.org/github/RandyBetancourt/PythonForSASUsers/blob/master/Chapter%2012%20--%20Additional%20Data%20Handling%20.ipynb#Flattening-DataFrames\">Flattening DataFrames</a>\n",
    "\n",
    "<a href=\"http://nbviewer.jupyter.org/github/RandyBetancourt/PythonForSASUsers/blob/master/Chapter%2012%20--%20Additional%20Data%20Handling%20.ipynb#Appending-Rows\">Appending Rows</a>\n",
    "\n",
    "<a href=\"http://nbviewer.jupyter.org/github/RandyBetancourt/PythonForSASUsers/blob/master/Chapter%2012%20--%20Additional%20Data%20Handling%20.ipynb#Groupby\">Groupby</a>\n",
    "\n",
    "<a href=\"http://nbviewer.jupyter.org/github/RandyBetancourt/PythonForSASUsers/blob/master/Chapter%2012%20--%20Additional%20Data%20Handling%20.ipynb#Groupby\">Concatenation (analagous to SAS SET operations)</a>"
   ]
  },
  {
   "cell_type": "markdown",
   "metadata": {},
   "source": [
    " "
   ]
  },
  {
   "cell_type": "code",
   "execution_count": 2,
   "metadata": {
    "collapsed": false
   },
   "outputs": [],
   "source": [
    "import numpy as np\n",
    "import pandas as pd\n",
    "from pandas import Series, DataFrame, Index\n",
    "from IPython.display import Image"
   ]
  },
  {
   "cell_type": "markdown",
   "metadata": {},
   "source": [
    "  "
   ]
  },
  {
   "cell_type": "markdown",
   "metadata": {},
   "source": [
    "## Sort and Sort Sequences"
   ]
  },
  {
   "cell_type": "markdown",
   "metadata": {},
   "source": [
    "The example below is used in <a href=\"http://nbviewer.jupyter.org/github/RandyBetancourt/PythonForSASUsers/blob/master/Chapter%2009%20--%20Panda%20Time%20Series%20and%20Date%20Handling.ipynb#Time-Series-Walk-Through\">Time Series Walk-Through</a> in Chapter 09 -- Panda Time Series and Date Handling.  It uses the read_csv() method to create the 'df_us' DataFrame begin reading at row 3,082 of the .csv file."
   ]
  },
  {
   "cell_type": "code",
   "execution_count": 3,
   "metadata": {
    "collapsed": false
   },
   "outputs": [],
   "source": [
    "df_states = pd.read_csv(\"C:\\Data\\\\HPI_master.csv\",                 \n",
    "            skiprows=3082,\n",
    "            usecols=(0, 1, 2, 3, 4, 5, 6, 7, 8),\n",
    "            names=('hpi_type', 'hpi_flavor', 'frequency', 'level', 'place_name', 'place_id', 'yr', 'period', 'index_nsa'),\n",
    "            header=None)"
   ]
  },
  {
   "cell_type": "markdown",
   "metadata": {},
   "source": [
    "   "
   ]
  },
  {
   "cell_type": "markdown",
   "metadata": {},
   "source": [
    "The following SAS Data Step reads the same .csv file using FIRSTOBS= to begin reading from an arbitary row position."
   ]
  },
  {
   "cell_type": "markdown",
   "metadata": {},
   "source": [
    "````\n",
    "    data df_states;\n",
    "          infile 'C:\\Data\\HPI_master.csv' delimiter=',' missover dsd firstobs=3081; \n",
    "          informat hpi_type $12.\n",
    "                   hpi_flavor $16.\n",
    "                   frequency $9.\n",
    "                   level $28.\n",
    "                   place_name $33.\n",
    "                   place_id $8.\n",
    "                   yr $5.\n",
    "                   period $6.\n",
    "                   index_nsa 8.;\n",
    "             input hpi_type $\n",
    "                   hpi_flavor $\n",
    "                   frequency $\n",
    "                   level $\n",
    "                   place_name $\n",
    "                   place_id $\n",
    "                   yr $\n",
    "                   period $\n",
    "                   index_nsa ;\n",
    "````"
   ]
  },
  {
   "cell_type": "markdown",
   "metadata": {},
   "source": [
    "Verify the read using the .shape attribute."
   ]
  },
  {
   "cell_type": "code",
   "execution_count": 4,
   "metadata": {
    "collapsed": false
   },
   "outputs": [
    {
     "data": {
      "text/plain": [
       "(96244, 9)"
      ]
     },
     "execution_count": 4,
     "metadata": {},
     "output_type": "execute_result"
    }
   ],
   "source": [
    "df_states.shape"
   ]
  },
  {
   "cell_type": "markdown",
   "metadata": {},
   "source": [
    "  "
   ]
  },
  {
   "cell_type": "markdown",
   "metadata": {},
   "source": [
    "Inspect the first 5 rows of the DataFrame."
   ]
  },
  {
   "cell_type": "code",
   "execution_count": 5,
   "metadata": {
    "collapsed": false
   },
   "outputs": [
    {
     "data": {
      "text/html": [
       "<div>\n",
       "<table border=\"1\" class=\"dataframe\">\n",
       "  <thead>\n",
       "    <tr style=\"text-align: right;\">\n",
       "      <th></th>\n",
       "      <th>hpi_type</th>\n",
       "      <th>hpi_flavor</th>\n",
       "      <th>frequency</th>\n",
       "      <th>level</th>\n",
       "      <th>place_name</th>\n",
       "      <th>place_id</th>\n",
       "      <th>yr</th>\n",
       "      <th>period</th>\n",
       "      <th>index_nsa</th>\n",
       "    </tr>\n",
       "  </thead>\n",
       "  <tbody>\n",
       "    <tr>\n",
       "      <th>0</th>\n",
       "      <td>traditional</td>\n",
       "      <td>all-transactions</td>\n",
       "      <td>quarterly</td>\n",
       "      <td>MSA</td>\n",
       "      <td>Abilene, TX</td>\n",
       "      <td>10180</td>\n",
       "      <td>1986</td>\n",
       "      <td>4</td>\n",
       "      <td>94.95</td>\n",
       "    </tr>\n",
       "    <tr>\n",
       "      <th>1</th>\n",
       "      <td>traditional</td>\n",
       "      <td>all-transactions</td>\n",
       "      <td>quarterly</td>\n",
       "      <td>MSA</td>\n",
       "      <td>Abilene, TX</td>\n",
       "      <td>10180</td>\n",
       "      <td>1987</td>\n",
       "      <td>1</td>\n",
       "      <td>100.91</td>\n",
       "    </tr>\n",
       "    <tr>\n",
       "      <th>2</th>\n",
       "      <td>traditional</td>\n",
       "      <td>all-transactions</td>\n",
       "      <td>quarterly</td>\n",
       "      <td>MSA</td>\n",
       "      <td>Abilene, TX</td>\n",
       "      <td>10180</td>\n",
       "      <td>1987</td>\n",
       "      <td>2</td>\n",
       "      <td>100.76</td>\n",
       "    </tr>\n",
       "    <tr>\n",
       "      <th>3</th>\n",
       "      <td>traditional</td>\n",
       "      <td>all-transactions</td>\n",
       "      <td>quarterly</td>\n",
       "      <td>MSA</td>\n",
       "      <td>Abilene, TX</td>\n",
       "      <td>10180</td>\n",
       "      <td>1987</td>\n",
       "      <td>3</td>\n",
       "      <td>94.02</td>\n",
       "    </tr>\n",
       "    <tr>\n",
       "      <th>4</th>\n",
       "      <td>traditional</td>\n",
       "      <td>all-transactions</td>\n",
       "      <td>quarterly</td>\n",
       "      <td>MSA</td>\n",
       "      <td>Abilene, TX</td>\n",
       "      <td>10180</td>\n",
       "      <td>1987</td>\n",
       "      <td>4</td>\n",
       "      <td>91.43</td>\n",
       "    </tr>\n",
       "  </tbody>\n",
       "</table>\n",
       "</div>"
      ],
      "text/plain": [
       "      hpi_type        hpi_flavor  frequency level   place_name place_id    yr  \\\n",
       "0  traditional  all-transactions  quarterly   MSA  Abilene, TX    10180  1986   \n",
       "1  traditional  all-transactions  quarterly   MSA  Abilene, TX    10180  1987   \n",
       "2  traditional  all-transactions  quarterly   MSA  Abilene, TX    10180  1987   \n",
       "3  traditional  all-transactions  quarterly   MSA  Abilene, TX    10180  1987   \n",
       "4  traditional  all-transactions  quarterly   MSA  Abilene, TX    10180  1987   \n",
       "\n",
       "   period  index_nsa  \n",
       "0       4      94.95  \n",
       "1       1     100.91  \n",
       "2       2     100.76  \n",
       "3       3      94.02  \n",
       "4       4      91.43  "
      ]
     },
     "execution_count": 5,
     "metadata": {},
     "output_type": "execute_result"
    }
   ],
   "source": [
    "df_states.head()"
   ]
  },
  {
   "cell_type": "markdown",
   "metadata": {},
   "source": [
    "  "
   ]
  },
  {
   "cell_type": "markdown",
   "metadata": {},
   "source": [
    "Inspect the first 5 rows of the SAS data set df_states."
   ]
  },
  {
   "cell_type": "code",
   "execution_count": 6,
   "metadata": {
    "collapsed": false
   },
   "outputs": [
    {
     "data": {
      "image/jpeg": "[encoded data removed]",
      "text/plain": [
       "<IPython.core.display.Image object>"
      ]
     },
     "execution_count": 6,
     "metadata": {},
     "output_type": "execute_result"
    }
   ],
   "source": [
    "Image(filename='Anaconda3\\\\output\\\\df_states_output.JPG')  "
   ]
  },
  {
   "cell_type": "markdown",
   "metadata": {},
   "source": [
    "  "
   ]
  },
  {
   "cell_type": "markdown",
   "metadata": {},
   "source": [
    "Begin by examing the default sort.  We supply the minimum argument to the .sort_values attribute, the sort key in the example below.  The sort operation creates the new 'default_srt' DataFrame."
   ]
  },
  {
   "cell_type": "code",
   "execution_count": 7,
   "metadata": {
    "collapsed": false
   },
   "outputs": [],
   "source": [
    "default_srt = df_states.sort_values('index_nsa')"
   ]
  },
  {
   "cell_type": "markdown",
   "metadata": {},
   "source": [
    "  "
   ]
  },
  {
   "cell_type": "markdown",
   "metadata": {},
   "source": [
    "Display the first 4 rows of the sorted DataFrame 'default_srt'"
   ]
  },
  {
   "cell_type": "code",
   "execution_count": 8,
   "metadata": {
    "collapsed": false
   },
   "outputs": [
    {
     "data": {
      "text/html": [
       "<div>\n",
       "<table border=\"1\" class=\"dataframe\">\n",
       "  <thead>\n",
       "    <tr style=\"text-align: right;\">\n",
       "      <th></th>\n",
       "      <th>hpi_type</th>\n",
       "      <th>hpi_flavor</th>\n",
       "      <th>frequency</th>\n",
       "      <th>level</th>\n",
       "      <th>place_name</th>\n",
       "      <th>place_id</th>\n",
       "      <th>yr</th>\n",
       "      <th>period</th>\n",
       "      <th>index_nsa</th>\n",
       "    </tr>\n",
       "  </thead>\n",
       "  <tbody>\n",
       "    <tr>\n",
       "      <th>42692</th>\n",
       "      <td>traditional</td>\n",
       "      <td>all-transactions</td>\n",
       "      <td>quarterly</td>\n",
       "      <td>MSA</td>\n",
       "      <td>San Francisco-Redwood City-South San Francisco...</td>\n",
       "      <td>41884</td>\n",
       "      <td>1975</td>\n",
       "      <td>3</td>\n",
       "      <td>18.31</td>\n",
       "    </tr>\n",
       "    <tr>\n",
       "      <th>42856</th>\n",
       "      <td>traditional</td>\n",
       "      <td>all-transactions</td>\n",
       "      <td>quarterly</td>\n",
       "      <td>MSA</td>\n",
       "      <td>San Jose-Sunnyvale-Santa Clara, CA</td>\n",
       "      <td>41940</td>\n",
       "      <td>1975</td>\n",
       "      <td>4</td>\n",
       "      <td>18.82</td>\n",
       "    </tr>\n",
       "    <tr>\n",
       "      <th>48737</th>\n",
       "      <td>traditional</td>\n",
       "      <td>all-transactions</td>\n",
       "      <td>quarterly</td>\n",
       "      <td>MSA</td>\n",
       "      <td>Honolulu ('Urban Honolulu'), HI</td>\n",
       "      <td>46520</td>\n",
       "      <td>1981</td>\n",
       "      <td>4</td>\n",
       "      <td>18.91</td>\n",
       "    </tr>\n",
       "    <tr>\n",
       "      <th>42693</th>\n",
       "      <td>traditional</td>\n",
       "      <td>all-transactions</td>\n",
       "      <td>quarterly</td>\n",
       "      <td>MSA</td>\n",
       "      <td>San Francisco-Redwood City-South San Francisco...</td>\n",
       "      <td>41884</td>\n",
       "      <td>1975</td>\n",
       "      <td>4</td>\n",
       "      <td>19.26</td>\n",
       "    </tr>\n",
       "  </tbody>\n",
       "</table>\n",
       "</div>"
      ],
      "text/plain": [
       "          hpi_type        hpi_flavor  frequency level  \\\n",
       "42692  traditional  all-transactions  quarterly   MSA   \n",
       "42856  traditional  all-transactions  quarterly   MSA   \n",
       "48737  traditional  all-transactions  quarterly   MSA   \n",
       "42693  traditional  all-transactions  quarterly   MSA   \n",
       "\n",
       "                                              place_name place_id    yr  \\\n",
       "42692  San Francisco-Redwood City-South San Francisco...    41884  1975   \n",
       "42856                 San Jose-Sunnyvale-Santa Clara, CA    41940  1975   \n",
       "48737                    Honolulu ('Urban Honolulu'), HI    46520  1981   \n",
       "42693  San Francisco-Redwood City-South San Francisco...    41884  1975   \n",
       "\n",
       "       period  index_nsa  \n",
       "42692       3      18.31  \n",
       "42856       4      18.82  \n",
       "48737       4      18.91  \n",
       "42693       4      19.26  "
      ]
     },
     "execution_count": 8,
     "metadata": {},
     "output_type": "execute_result"
    }
   ],
   "source": [
    "default_srt.iloc[0:4]"
   ]
  },
  {
   "cell_type": "markdown",
   "metadata": {},
   "source": [
    "   "
   ]
  },
  {
   "cell_type": "markdown",
   "metadata": {},
   "source": [
    "By examing the first the first four rows of the sorted DataFrame, 'default_srt' above, we see the default sort sequence is ascending.  Of course, by reading the doc for <a href=\"http://pandas.pydata.org/pandas-docs/stable/generated/pandas.DataFrame.sort_values.html\"> pandas.DataFrame.sort_values </a> we could 'see' this as well. "
   ]
  },
  {
   "cell_type": "markdown",
   "metadata": {},
   "source": [
    "  "
   ]
  },
  {
   "cell_type": "markdown",
   "metadata": {},
   "source": [
    "The default SAS sort syntax is:"
   ]
  },
  {
   "cell_type": "markdown",
   "metadata": {},
   "source": [
    "````\n",
    "    30        proc sort data=df_states;\n",
    "    31           by index_nsa;\n",
    "    NOTE: 96244 observations were read from \"WORK.df_states\"\n",
    "    NOTE: Data set \"WORK.df_states\" has 96244 observation(s) and 9 variable(s)\n",
    "    32        \n",
    "    33         data first4;\n",
    "    34            set df_states (obs=4);\n",
    "    35            by index_nsa;\n",
    "````"
   ]
  },
  {
   "cell_type": "markdown",
   "metadata": {},
   "source": [
    "  "
   ]
  },
  {
   "cell_type": "markdown",
   "metadata": {},
   "source": [
    "Like pandas, the default SAS sort sequence is ascending.  And this is confirmed by the SAS doc located <a href=\"https://support.sas.com/documentation/cdl/en/proc/61895/HTML/default/viewer.htm#sort-overview.htm\"> here </a>."
   ]
  },
  {
   "cell_type": "code",
   "execution_count": 9,
   "metadata": {
    "collapsed": false
   },
   "outputs": [
    {
     "data": {
      "image/jpeg": "[encoded data removed]",
      "text/plain": [
       "<IPython.core.display.Image object>"
      ]
     },
     "execution_count": 9,
     "metadata": {},
     "output_type": "execute_result"
    }
   ],
   "source": [
    "Image(filename='Anaconda3\\\\output\\\\default_first_four.JPG')  "
   ]
  },
  {
   "cell_type": "markdown",
   "metadata": {},
   "source": [
    "However, in contrast to the panda default sort, the default SAS sort sequence places its missing values first in the data set as illustrated above."
   ]
  },
  {
   "cell_type": "markdown",
   "metadata": {},
   "source": [
    "By displaying the last 4 rows in the 'default_srt' DataFrame we find the 2 NaN's sorted last since this is the default location panda places its missing values."
   ]
  },
  {
   "cell_type": "code",
   "execution_count": 10,
   "metadata": {
    "collapsed": false
   },
   "outputs": [
    {
     "data": {
      "text/html": [
       "<div>\n",
       "<table border=\"1\" class=\"dataframe\">\n",
       "  <thead>\n",
       "    <tr style=\"text-align: right;\">\n",
       "      <th></th>\n",
       "      <th>hpi_type</th>\n",
       "      <th>hpi_flavor</th>\n",
       "      <th>frequency</th>\n",
       "      <th>level</th>\n",
       "      <th>place_name</th>\n",
       "      <th>place_id</th>\n",
       "      <th>yr</th>\n",
       "      <th>period</th>\n",
       "      <th>index_nsa</th>\n",
       "    </tr>\n",
       "  </thead>\n",
       "  <tbody>\n",
       "    <tr>\n",
       "      <th>54262</th>\n",
       "      <td>traditional</td>\n",
       "      <td>all-transactions</td>\n",
       "      <td>quarterly</td>\n",
       "      <td>State</td>\n",
       "      <td>District of Columbia</td>\n",
       "      <td>DC</td>\n",
       "      <td>2016</td>\n",
       "      <td>1</td>\n",
       "      <td>780.98</td>\n",
       "    </tr>\n",
       "    <tr>\n",
       "      <th>54263</th>\n",
       "      <td>traditional</td>\n",
       "      <td>all-transactions</td>\n",
       "      <td>quarterly</td>\n",
       "      <td>State</td>\n",
       "      <td>District of Columbia</td>\n",
       "      <td>DC</td>\n",
       "      <td>2016</td>\n",
       "      <td>2</td>\n",
       "      <td>791.71</td>\n",
       "    </tr>\n",
       "    <tr>\n",
       "      <th>60576</th>\n",
       "      <td>traditional</td>\n",
       "      <td>all-transactions</td>\n",
       "      <td>quarterly</td>\n",
       "      <td>State</td>\n",
       "      <td>Vermont</td>\n",
       "      <td>VT</td>\n",
       "      <td>1976</td>\n",
       "      <td>1</td>\n",
       "      <td>NaN</td>\n",
       "    </tr>\n",
       "    <tr>\n",
       "      <th>61098</th>\n",
       "      <td>traditional</td>\n",
       "      <td>all-transactions</td>\n",
       "      <td>quarterly</td>\n",
       "      <td>State</td>\n",
       "      <td>West Virginia</td>\n",
       "      <td>WV</td>\n",
       "      <td>1982</td>\n",
       "      <td>1</td>\n",
       "      <td>NaN</td>\n",
       "    </tr>\n",
       "  </tbody>\n",
       "</table>\n",
       "</div>"
      ],
      "text/plain": [
       "          hpi_type        hpi_flavor  frequency  level            place_name  \\\n",
       "54262  traditional  all-transactions  quarterly  State  District of Columbia   \n",
       "54263  traditional  all-transactions  quarterly  State  District of Columbia   \n",
       "60576  traditional  all-transactions  quarterly  State               Vermont   \n",
       "61098  traditional  all-transactions  quarterly  State         West Virginia   \n",
       "\n",
       "      place_id    yr  period  index_nsa  \n",
       "54262       DC  2016       1     780.98  \n",
       "54263       DC  2016       2     791.71  \n",
       "60576       VT  1976       1        NaN  \n",
       "61098       WV  1982       1        NaN  "
      ]
     },
     "execution_count": 10,
     "metadata": {},
     "output_type": "execute_result"
    }
   ],
   "source": [
    "default_srt.tail(4)  "
   ]
  },
  {
   "cell_type": "markdown",
   "metadata": {},
   "source": [
    "  "
   ]
  },
  {
   "cell_type": "markdown",
   "metadata": {},
   "source": [
    "Since the panda default sort sequence places NaN's last in the sort sequence by default this can be used an alternative to using <a href=\"http://nbviewer.jupyter.org/github/RandyBetancourt/PythonForSASUsers/blob/master/Chapter%2005%20--%20Understanding%20Indexes.ipynb#Mixing-.loc-Indexer-with-Boolean-Operators\">boolean operators and the .loc() method</a> to detect missing values."
   ]
  },
  {
   "cell_type": "markdown",
   "metadata": {},
   "source": [
    "  "
   ]
  },
  {
   "cell_type": "markdown",
   "metadata": {},
   "source": [
    "The SAS program to access the last four observations in the data set is:"
   ]
  },
  {
   "cell_type": "markdown",
   "metadata": {},
   "source": [
    "````\n",
    "    79         data last4;  \n",
    "    80           set df_states (firstobs=96241);\n",
    "    81           by index_nsa;\n",
    "\n",
    "    NOTE: 4 observations were read from \"WORK.last4\"\n",
    "````    "
   ]
  },
  {
   "cell_type": "code",
   "execution_count": 11,
   "metadata": {
    "collapsed": false
   },
   "outputs": [
    {
     "data": {
      "image/jpeg": "[encoded data removed]",
      "text/plain": [
       "<IPython.core.display.Image object>"
      ]
     },
     "execution_count": 11,
     "metadata": {},
     "output_type": "execute_result"
    }
   ],
   "source": [
    "Image(filename='Anaconda3\\\\output\\\\sort_last_four.JPG')  "
   ]
  },
  {
   "cell_type": "markdown",
   "metadata": {},
   "source": [
    "  "
   ]
  },
  {
   "cell_type": "markdown",
   "metadata": {},
   "source": [
    "We can alter the organization of the data_frame by supplying arguments and values to the sort_values attribute.  The example below sorts using a descending sort sequence and places missing values at the beginning."
   ]
  },
  {
   "cell_type": "markdown",
   "metadata": {},
   "source": [
    "  "
   ]
  },
  {
   "cell_type": "code",
   "execution_count": 12,
   "metadata": {
    "collapsed": false
   },
   "outputs": [],
   "source": [
    "states_desc = df_states.sort_values('index_nsa', ascending=False, na_position='first')"
   ]
  },
  {
   "cell_type": "markdown",
   "metadata": {},
   "source": [
    "Setting the na_position= argument to 'first' places NaN's at the beginning of the sort sequence.  This is the same beavhior for SAS' sort sequence.  Details describing SAS sort order for missing values is descried <a href=\"http://support.sas.com/documentation/cdl/en/lrcon/68089/HTML/default/viewer.htm#p0tmoipp0ci6wkn0z27ev47sv0ov.htm\"> here </a>.\n",
    "\n",
    "The first two rows in the DataFrame 'states_desc' contain the NaN's values for the 'index_nsa' column, while the next 2 rows contain the highest values."
   ]
  },
  {
   "cell_type": "markdown",
   "metadata": {},
   "source": [
    "  "
   ]
  },
  {
   "cell_type": "code",
   "execution_count": 13,
   "metadata": {
    "collapsed": false
   },
   "outputs": [
    {
     "data": {
      "text/html": [
       "<div>\n",
       "<table border=\"1\" class=\"dataframe\">\n",
       "  <thead>\n",
       "    <tr style=\"text-align: right;\">\n",
       "      <th></th>\n",
       "      <th>hpi_type</th>\n",
       "      <th>hpi_flavor</th>\n",
       "      <th>frequency</th>\n",
       "      <th>level</th>\n",
       "      <th>place_name</th>\n",
       "      <th>place_id</th>\n",
       "      <th>yr</th>\n",
       "      <th>period</th>\n",
       "      <th>index_nsa</th>\n",
       "    </tr>\n",
       "  </thead>\n",
       "  <tbody>\n",
       "    <tr>\n",
       "      <th>60576</th>\n",
       "      <td>traditional</td>\n",
       "      <td>all-transactions</td>\n",
       "      <td>quarterly</td>\n",
       "      <td>State</td>\n",
       "      <td>Vermont</td>\n",
       "      <td>VT</td>\n",
       "      <td>1976</td>\n",
       "      <td>1</td>\n",
       "      <td>NaN</td>\n",
       "    </tr>\n",
       "    <tr>\n",
       "      <th>61098</th>\n",
       "      <td>traditional</td>\n",
       "      <td>all-transactions</td>\n",
       "      <td>quarterly</td>\n",
       "      <td>State</td>\n",
       "      <td>West Virginia</td>\n",
       "      <td>WV</td>\n",
       "      <td>1982</td>\n",
       "      <td>1</td>\n",
       "      <td>NaN</td>\n",
       "    </tr>\n",
       "    <tr>\n",
       "      <th>54263</th>\n",
       "      <td>traditional</td>\n",
       "      <td>all-transactions</td>\n",
       "      <td>quarterly</td>\n",
       "      <td>State</td>\n",
       "      <td>District of Columbia</td>\n",
       "      <td>DC</td>\n",
       "      <td>2016</td>\n",
       "      <td>2</td>\n",
       "      <td>791.71</td>\n",
       "    </tr>\n",
       "    <tr>\n",
       "      <th>54262</th>\n",
       "      <td>traditional</td>\n",
       "      <td>all-transactions</td>\n",
       "      <td>quarterly</td>\n",
       "      <td>State</td>\n",
       "      <td>District of Columbia</td>\n",
       "      <td>DC</td>\n",
       "      <td>2016</td>\n",
       "      <td>1</td>\n",
       "      <td>780.98</td>\n",
       "    </tr>\n",
       "  </tbody>\n",
       "</table>\n",
       "</div>"
      ],
      "text/plain": [
       "          hpi_type        hpi_flavor  frequency  level            place_name  \\\n",
       "60576  traditional  all-transactions  quarterly  State               Vermont   \n",
       "61098  traditional  all-transactions  quarterly  State         West Virginia   \n",
       "54263  traditional  all-transactions  quarterly  State  District of Columbia   \n",
       "54262  traditional  all-transactions  quarterly  State  District of Columbia   \n",
       "\n",
       "      place_id    yr  period  index_nsa  \n",
       "60576       VT  1976       1        NaN  \n",
       "61098       WV  1982       1        NaN  \n",
       "54263       DC  2016       2     791.71  \n",
       "54262       DC  2016       1     780.98  "
      ]
     },
     "execution_count": 13,
     "metadata": {},
     "output_type": "execute_result"
    }
   ],
   "source": [
    "states_desc.iloc[0:4,]"
   ]
  },
  {
   "cell_type": "markdown",
   "metadata": {},
   "source": [
    "SAS has missing 28 missing value indicators for numerics described <a href=\"http://support.sas.com/documentation/cdl/en/lrcon/68089/HTML/default/viewer.htm#p175x77t7k6kggn1io94yedqagl3.htm\"> here </a>.  However, if you want missing values to be 'first' in a data set using an ascending sort sequence, then the missing value indicator must be an actual numeric value larger than the largest non-missing value.  In other words, by default, the SAS missing value indicator for numerics is always the smallest numeric value."
   ]
  },
  {
   "cell_type": "markdown",
   "metadata": {},
   "source": [
    "The SAS example below sorts the df_states data set in descending order by the 'index_nsa' variable.  Like the panda example above, the \n",
    "\n",
    "    out=states_srt2\n",
    "    \n",
    "syntax creates the new SAS data set 'states_srt2'. "
   ]
  },
  {
   "cell_type": "raw",
   "metadata": {},
   "source": [
    "````\n",
    "    44        proc sort data=df_states\n",
    "    45           out=states_srt2;\n",
    "    46           by descending index_nsa;\n",
    "    NOTE: 96244 observations were read from \"WORK.df_states\"\n",
    "    NOTE: Data set \"WORK.states_srt2\" has 96244 observation(s) and 9 variable(s)\n",
    "    47        \n",
    "    48         data first4;\n",
    "    49           set states_srt2 (obs=4);\n",
    "    50           by descending index_nsa;\n",
    "````"
   ]
  },
  {
   "cell_type": "markdown",
   "metadata": {},
   "source": [
    "The U.K. accidents data has three files:\n",
    "    \n",
    "    1.  Accidents file with a unique key for the accident index column\n",
    "    2.  Casualties file with 1 or more rows keyed to the accident index column\n",
    "    3.  Vehicles file with 1 or more rows keyed to the accident index column"
   ]
  },
  {
   "cell_type": "markdown",
   "metadata": {},
   "source": [
    "####    1. Read the accidents file and create the 'accident' DataFrame"
   ]
  },
  {
   "cell_type": "markdown",
   "metadata": {},
   "source": [
    "Read the Road Safety file and parse the date column naming it 'date_idx'.  Return the info on the DataFrame."
   ]
  },
  {
   "cell_type": "code",
   "execution_count": 14,
   "metadata": {
    "collapsed": false
   },
   "outputs": [
    {
     "name": "stdout",
     "output_type": "stream",
     "text": [
      "<class 'pandas.core.frame.DataFrame'>\n",
      "RangeIndex: 139972 entries, 0 to 139971\n",
      "Data columns (total 32 columns):\n",
      "date_idx                                       139972 non-null datetime64[ns]\n",
      "Accident_Index                                 139972 non-null object\n",
      "Location_Easting_OSGR                          139945 non-null float64\n",
      "Location_Northing_OSGR                         139945 non-null float64\n",
      "Longitude                                      139945 non-null float64\n",
      "Latitude                                       139945 non-null float64\n",
      "Police_Force                                   139972 non-null int64\n",
      "Accident_Severity                              139972 non-null int64\n",
      "Number_of_Vehicles                             139972 non-null int64\n",
      "Number_of_Casualties                           139972 non-null int64\n",
      "Day_of_Week                                    139972 non-null int64\n",
      "Time                                           139954 non-null object\n",
      "Local_Authority_(District)                     139972 non-null int64\n",
      "Local_Authority_(Highway)                      139972 non-null object\n",
      "1st_Road_Class                                 139972 non-null int64\n",
      "1st_Road_Number                                139972 non-null int64\n",
      "Road_Type                                      139972 non-null int64\n",
      "Speed_limit                                    139972 non-null int64\n",
      "Junction_Detail                                139972 non-null int64\n",
      "Junction_Control                               139972 non-null int64\n",
      "2nd_Road_Class                                 139972 non-null int64\n",
      "2nd_Road_Number                                139972 non-null int64\n",
      "Pedestrian_Crossing-Human_Control              139972 non-null int64\n",
      "Pedestrian_Crossing-Physical_Facilities        139972 non-null int64\n",
      "Light_Conditions                               139972 non-null int64\n",
      "Weather_Conditions                             139972 non-null int64\n",
      "Road_Surface_Conditions                        139972 non-null int64\n",
      "Special_Conditions_at_Site                     139972 non-null int64\n",
      "Carriageway_Hazards                            139972 non-null int64\n",
      "Urban_or_Rural_Area                            139972 non-null int64\n",
      "Did_Police_Officer_Attend_Scene_of_Accident    139972 non-null int64\n",
      "LSOA_of_Accident_Location                      131075 non-null object\n",
      "dtypes: datetime64[ns](1), float64(4), int64(23), object(4)\n",
      "memory usage: 34.2+ MB\n"
     ]
    }
   ],
   "source": [
    "file_loc = \"C:\\\\Data\\\\Accidents_2015.csv\"\n",
    "accident = pd.read_csv(file_loc,\n",
    "           low_memory=False, \n",
    "           parse_dates={'date_idx': [9]})\n",
    "accident.info()"
   ]
  },
  {
   "cell_type": "markdown",
   "metadata": {},
   "source": [
    " "
   ]
  },
  {
   "cell_type": "markdown",
   "metadata": {},
   "source": [
    "Using PROC IMPORT to read the accident .csv file.  The subsequent Data Step uses both the RENAME and KEEP options."
   ]
  },
  {
   "cell_type": "markdown",
   "metadata": {},
   "source": [
    "````\n",
    "    3       proc import datafile=\"C:\\Data\\Accidents_2015.csv\"\n",
    "    4            dbms=csv\n",
    "    5            out=get_acc\n",
    "    6            replace;\n",
    "\n",
    "    11       data accident(rename=(Accident_Index          = index\n",
    "    12                             Accident_Severity       = severity\n",
    "    13                             Number_of_Vehicles      = vehicles\n",
    "    14                             Number_of_Casualties    = casualties\n",
    "    15                             Day_of_Week             =   day\n",
    "    16                             Road_Surface_Conditions = surface\n",
    "    17                             Light_Conditions        = light\n",
    "    18                             Speed_limit             = speed\n",
    "    19                             Weather_Conditions      = weather));\n",
    "    20       \n",
    "    21         set get_acc(keep =  Accident_Index\n",
    "    22                             Accident_Severity\n",
    "    23                             Number_of_Vehicles\n",
    "    24                             Number_of_Casualties\n",
    "    25                             Day_of_Week\n",
    "    26                             Road_Surface_Conditions\n",
    "    27                             Light_Conditions\n",
    "    28                             Speed_limit\n",
    "    29                             Weather_Conditions);\n",
    "\n",
    "    NOTE: 139972 observations were read from \"WORK.get_acc\"\n",
    "    NOTE: Data set \"WORK.accident\" has 139972 observation(s) and 9 variable(s)\n",
    "````"
   ]
  },
  {
   "cell_type": "markdown",
   "metadata": {},
   "source": [
    "Display the first 5 observations of the 'accident' data set."
   ]
  },
  {
   "cell_type": "code",
   "execution_count": 15,
   "metadata": {
    "collapsed": false
   },
   "outputs": [
    {
     "data": {
      "image/jpeg": "[encoded data removed]",
      "text/plain": [
       "<IPython.core.display.Image object>"
      ]
     },
     "execution_count": 15,
     "metadata": {},
     "output_type": "execute_result"
    }
   ],
   "source": [
    "Image(filename='Anaconda3\\\\output\\\\acc_output.JPG')  "
   ]
  },
  {
   "cell_type": "markdown",
   "metadata": {},
   "source": [
    " ####    2. Read the vehicles file and create the 'vehicle' DataFrame"
   ]
  },
  {
   "cell_type": "markdown",
   "metadata": {},
   "source": [
    "Read the Vehicle file, supplying a <a href=\"http://nbviewer.jupyter.org/github/RandyBetancourt/PythonForSASUsers/blob/master/Chapter%2002%20--%20Data%20Structures.ipynb#tuple\"> tuple</a> of integers for the usecols= argument and a tuple of names for the column labels."
   ]
  },
  {
   "cell_type": "code",
   "execution_count": 16,
   "metadata": {
    "collapsed": false
   },
   "outputs": [
    {
     "data": {
      "text/plain": [
       "(257899, 8)"
      ]
     },
     "execution_count": 16,
     "metadata": {},
     "output_type": "execute_result"
    }
   ],
   "source": [
    "vehicle = pd.read_csv(\"C:\\\\Data\\\\Vehicles_2015.csv\", \n",
    "          low_memory=False,            \n",
    "          usecols=(0, 1, 2, 14, 15, 17, 18, 19),\n",
    "          names=('index', 'v_reference', 'v_type', 'v_sex', 'v_age', 'engine_size', 'engine_type', 'vehicle_age'),\n",
    "          skiprows=1,\n",
    "          header=None)\n",
    "vehicle.set_index('index', inplace=True, drop=False)\n",
    "vehicle.shape"
   ]
  },
  {
   "cell_type": "code",
   "execution_count": 17,
   "metadata": {
    "collapsed": false
   },
   "outputs": [
    {
     "name": "stdout",
     "output_type": "stream",
     "text": [
      "<class 'pandas.core.frame.DataFrame'>\n",
      "Index: 257899 entries, 201501BS70001 to 2.02E+12\n",
      "Data columns (total 8 columns):\n",
      "index          257899 non-null object\n",
      "v_reference    257899 non-null int64\n",
      "v_type         257899 non-null int64\n",
      "v_sex          257899 non-null int64\n",
      "v_age          257899 non-null int64\n",
      "engine_size    257899 non-null int64\n",
      "engine_type    257899 non-null int64\n",
      "vehicle_age    257899 non-null int64\n",
      "dtypes: int64(7), object(1)\n",
      "memory usage: 17.7+ MB\n"
     ]
    }
   ],
   "source": [
    "vehicle.info()"
   ]
  },
  {
   "cell_type": "markdown",
   "metadata": {},
   "source": [
    "````\n",
    "    13       proc import datafile=\"c:\\data\\DfTRoadSafety_Vehicles_2015.csv\" dbms=csv out=vehicles replace;  \n",
    "    14\n",
    "    15       \n",
    "    16       data vehicle(rename=(Accident_Index = index\n",
    "    17                            Vehicle_Reference = v_reference\n",
    "    18                            Vehicle_Type = v_type\n",
    "    19                            Sex_of_Driver = v_sex\n",
    "    20                            Age_of_Driver = v_age\n",
    "    21                            Engine_Capacity = engine_size\n",
    "    22                            Propulsion_Code = engine_type\n",
    "    23                            Age_of_Vehicle = vehicle_age));\n",
    "    24       \n",
    "    25          set vehicles (keep = Accident_Index\n",
    "    26                              Vehicle_Reference\n",
    "    27                              Vehicle_Type\n",
    "    28                              Sex_of_Driver\n",
    "    29                              Age_of_Driver\n",
    "    30                              Engine_Capacity\n",
    "    31                              Propulsion_Code\n",
    "    32                              Age_of_Vehicle); \n",
    "````"
   ]
  },
  {
   "cell_type": "code",
   "execution_count": 18,
   "metadata": {
    "collapsed": false
   },
   "outputs": [
    {
     "data": {
      "image/jpeg": "[encoded data removed]",
      "text/plain": [
       "<IPython.core.display.Image object>"
      ]
     },
     "execution_count": 18,
     "metadata": {},
     "output_type": "execute_result"
    }
   ],
   "source": [
    "Image(filename='Anaconda3\\\\output\\\\vehicles_5_obs.JPG')  "
   ]
  },
  {
   "cell_type": "markdown",
   "metadata": {},
   "source": [
    "####    3. Read the causality file and create the 'casual' DataFrame"
   ]
  },
  {
   "cell_type": "code",
   "execution_count": 19,
   "metadata": {
    "collapsed": false
   },
   "outputs": [
    {
     "data": {
      "text/plain": [
       "(186189, 8)"
      ]
     },
     "execution_count": 19,
     "metadata": {},
     "output_type": "execute_result"
    }
   ],
   "source": [
    "casual = pd.read_csv(\"C:\\\\Data\\\\Casualties_2015.csv\", \n",
    "          low_memory=False,            \n",
    "          usecols=(0, 1, 2, 3, 4, 5, 7, 13),\n",
    "          names=('index', 'cv_reference', 'c_reference','c_class', 'c_sex', 'c_age', 'severity',\n",
    "                 'c_type'),\n",
    "          skiprows=1,\n",
    "          header=None)\n",
    "\n",
    "casual.shape"
   ]
  },
  {
   "cell_type": "markdown",
   "metadata": {},
   "source": [
    "## Drop/Keep Columns"
   ]
  },
  {
   "cell_type": "markdown",
   "metadata": {},
   "source": [
    "Drop some of the columns in the 'accident' DataFrame."
   ]
  },
  {
   "cell_type": "code",
   "execution_count": 20,
   "metadata": {
    "collapsed": false
   },
   "outputs": [],
   "source": [
    "accident = accident[['Accident_Index', 'Accident_Severity', 'date_idx', 'Number_of_Vehicles', \n",
    "                     'Number_of_Casualties', 'Day_of_Week', 'Road_Surface_Conditions', 'Time', 'Light_Conditions', \n",
    "                     'Speed_limit',  'Weather_Conditions']]"
   ]
  },
  {
   "cell_type": "markdown",
   "metadata": {},
   "source": [
    " "
   ]
  },
  {
   "cell_type": "markdown",
   "metadata": {},
   "source": [
    "## Rename Columns"
   ]
  },
  {
   "cell_type": "code",
   "execution_count": 21,
   "metadata": {
    "collapsed": true
   },
   "outputs": [],
   "source": [
    "accident = accident.rename(columns = {\n",
    "           'Accident_Index'         :'index',\n",
    "           'Accident_Severity'      :'severity',\n",
    "           'Number_of_Vehicles'     :'vehicles',\n",
    "           'Number_of_Casualties'   :'casualties',\n",
    "           'Day_of_Week'            :'day',\n",
    "           'Road_Surface_Conditions':'surface',\n",
    "           'Light_Conditions'       :'light',\n",
    "           'Speed_limit'            :'speed',\n",
    "           'Weather_Conditions'     :'weather'\n",
    "    })"
   ]
  },
  {
   "cell_type": "markdown",
   "metadata": {},
   "source": [
    "Lower-case all the 'accident' DataFrame column names."
   ]
  },
  {
   "cell_type": "code",
   "execution_count": 22,
   "metadata": {
    "collapsed": false
   },
   "outputs": [],
   "source": [
    "accident.columns = map(str.lower, accident.columns)"
   ]
  },
  {
   "cell_type": "markdown",
   "metadata": {},
   "source": [
    "  "
   ]
  },
  {
   "cell_type": "markdown",
   "metadata": {},
   "source": [
    "Display the first 5 rows of the 'accident' DataFrame."
   ]
  },
  {
   "cell_type": "code",
   "execution_count": 23,
   "metadata": {
    "collapsed": false
   },
   "outputs": [
    {
     "data": {
      "text/html": [
       "<div>\n",
       "<table border=\"1\" class=\"dataframe\">\n",
       "  <thead>\n",
       "    <tr style=\"text-align: right;\">\n",
       "      <th></th>\n",
       "      <th>index</th>\n",
       "      <th>severity</th>\n",
       "      <th>date_idx</th>\n",
       "      <th>vehicles</th>\n",
       "      <th>casualties</th>\n",
       "      <th>day</th>\n",
       "      <th>surface</th>\n",
       "      <th>time</th>\n",
       "      <th>light</th>\n",
       "      <th>speed</th>\n",
       "      <th>weather</th>\n",
       "    </tr>\n",
       "  </thead>\n",
       "  <tbody>\n",
       "    <tr>\n",
       "      <th>0</th>\n",
       "      <td>201501BS70001</td>\n",
       "      <td>3</td>\n",
       "      <td>2015-12-01</td>\n",
       "      <td>1</td>\n",
       "      <td>1</td>\n",
       "      <td>2</td>\n",
       "      <td>1</td>\n",
       "      <td>18:45</td>\n",
       "      <td>4</td>\n",
       "      <td>30</td>\n",
       "      <td>1</td>\n",
       "    </tr>\n",
       "    <tr>\n",
       "      <th>1</th>\n",
       "      <td>201501BS70002</td>\n",
       "      <td>3</td>\n",
       "      <td>2015-12-01</td>\n",
       "      <td>1</td>\n",
       "      <td>1</td>\n",
       "      <td>2</td>\n",
       "      <td>1</td>\n",
       "      <td>7:50</td>\n",
       "      <td>1</td>\n",
       "      <td>30</td>\n",
       "      <td>1</td>\n",
       "    </tr>\n",
       "    <tr>\n",
       "      <th>2</th>\n",
       "      <td>201501BS70004</td>\n",
       "      <td>3</td>\n",
       "      <td>2015-12-01</td>\n",
       "      <td>1</td>\n",
       "      <td>1</td>\n",
       "      <td>2</td>\n",
       "      <td>2</td>\n",
       "      <td>18:08</td>\n",
       "      <td>4</td>\n",
       "      <td>30</td>\n",
       "      <td>2</td>\n",
       "    </tr>\n",
       "    <tr>\n",
       "      <th>3</th>\n",
       "      <td>201501BS70005</td>\n",
       "      <td>3</td>\n",
       "      <td>2015-01-13</td>\n",
       "      <td>1</td>\n",
       "      <td>1</td>\n",
       "      <td>3</td>\n",
       "      <td>2</td>\n",
       "      <td>7:40</td>\n",
       "      <td>1</td>\n",
       "      <td>30</td>\n",
       "      <td>1</td>\n",
       "    </tr>\n",
       "    <tr>\n",
       "      <th>4</th>\n",
       "      <td>201501BS70008</td>\n",
       "      <td>2</td>\n",
       "      <td>2015-09-01</td>\n",
       "      <td>2</td>\n",
       "      <td>1</td>\n",
       "      <td>6</td>\n",
       "      <td>2</td>\n",
       "      <td>7:30</td>\n",
       "      <td>1</td>\n",
       "      <td>30</td>\n",
       "      <td>2</td>\n",
       "    </tr>\n",
       "  </tbody>\n",
       "</table>\n",
       "</div>"
      ],
      "text/plain": [
       "           index  severity   date_idx  vehicles  casualties  day  surface  \\\n",
       "0  201501BS70001         3 2015-12-01         1           1    2        1   \n",
       "1  201501BS70002         3 2015-12-01         1           1    2        1   \n",
       "2  201501BS70004         3 2015-12-01         1           1    2        2   \n",
       "3  201501BS70005         3 2015-01-13         1           1    3        2   \n",
       "4  201501BS70008         2 2015-09-01         2           1    6        2   \n",
       "\n",
       "    time  light  speed  weather  \n",
       "0  18:45      4     30        1  \n",
       "1   7:50      1     30        1  \n",
       "2  18:08      4     30        2  \n",
       "3   7:40      1     30        1  \n",
       "4   7:30      1     30        2  "
      ]
     },
     "execution_count": 23,
     "metadata": {},
     "output_type": "execute_result"
    }
   ],
   "source": [
    "accident.head(5)"
   ]
  },
  {
   "cell_type": "code",
   "execution_count": 24,
   "metadata": {
    "collapsed": false
   },
   "outputs": [],
   "source": [
    "accident.set_index('index', inplace=True, drop=False)"
   ]
  },
  {
   "cell_type": "markdown",
   "metadata": {},
   "source": [
    " "
   ]
  },
  {
   "cell_type": "markdown",
   "metadata": {},
   "source": [
    "## Finding Duplicate Values"
   ]
  },
  {
   "cell_type": "markdown",
   "metadata": {},
   "source": [
    "In the accident file, we expect to find no duplicate index values.  Setting the .duplicated attribute to False returns all of the duplicate values, in our case for the 'index' column.  The .duplicated attribute for DataFrames is documented <a href=\"http://pandas.pydata.org/pandas-docs/stable/generated/pandas.DataFrame.duplicated.html\"> here</a>.\n",
    "\n",
    "False marks all duplicate values as True.  Create the new 'acc_dup_idx' DataFrame containing the duplicates for the column 'index' column.  If its length is zero, then there are no duplicates."
   ]
  },
  {
   "cell_type": "code",
   "execution_count": 25,
   "metadata": {
    "collapsed": false
   },
   "outputs": [],
   "source": [
    "acc_dup_idx = accident[accident.duplicated('index', False)]"
   ]
  },
  {
   "cell_type": "code",
   "execution_count": 26,
   "metadata": {
    "collapsed": false
   },
   "outputs": [
    {
     "data": {
      "text/plain": [
       "0"
      ]
     },
     "execution_count": 26,
     "metadata": {},
     "output_type": "execute_result"
    }
   ],
   "source": [
    "len(acc_dup_idx)"
   ]
  },
  {
   "cell_type": "markdown",
   "metadata": {},
   "source": [
    "  "
   ]
  },
  {
   "cell_type": "code",
   "execution_count": 27,
   "metadata": {
    "collapsed": false
   },
   "outputs": [
    {
     "data": {
      "text/html": [
       "<div>\n",
       "<table border=\"1\" class=\"dataframe\">\n",
       "  <thead>\n",
       "    <tr style=\"text-align: right;\">\n",
       "      <th></th>\n",
       "      <th>index</th>\n",
       "      <th>cv_reference</th>\n",
       "      <th>c_reference</th>\n",
       "      <th>c_class</th>\n",
       "      <th>c_sex</th>\n",
       "      <th>c_age</th>\n",
       "      <th>severity</th>\n",
       "      <th>c_type</th>\n",
       "    </tr>\n",
       "  </thead>\n",
       "  <tbody>\n",
       "    <tr>\n",
       "      <th>0</th>\n",
       "      <td>201597UA71710</td>\n",
       "      <td>2</td>\n",
       "      <td>1</td>\n",
       "      <td>1</td>\n",
       "      <td>2</td>\n",
       "      <td>75</td>\n",
       "      <td>3</td>\n",
       "      <td>9</td>\n",
       "    </tr>\n",
       "    <tr>\n",
       "      <th>1</th>\n",
       "      <td>201597UA71810</td>\n",
       "      <td>2</td>\n",
       "      <td>1</td>\n",
       "      <td>2</td>\n",
       "      <td>2</td>\n",
       "      <td>63</td>\n",
       "      <td>2</td>\n",
       "      <td>11</td>\n",
       "    </tr>\n",
       "    <tr>\n",
       "      <th>2</th>\n",
       "      <td>201597UA71810</td>\n",
       "      <td>2</td>\n",
       "      <td>2</td>\n",
       "      <td>2</td>\n",
       "      <td>2</td>\n",
       "      <td>75</td>\n",
       "      <td>2</td>\n",
       "      <td>11</td>\n",
       "    </tr>\n",
       "    <tr>\n",
       "      <th>3</th>\n",
       "      <td>201597UA71810</td>\n",
       "      <td>2</td>\n",
       "      <td>3</td>\n",
       "      <td>2</td>\n",
       "      <td>1</td>\n",
       "      <td>78</td>\n",
       "      <td>2</td>\n",
       "      <td>11</td>\n",
       "    </tr>\n",
       "    <tr>\n",
       "      <th>4</th>\n",
       "      <td>201597UA71810</td>\n",
       "      <td>2</td>\n",
       "      <td>4</td>\n",
       "      <td>2</td>\n",
       "      <td>1</td>\n",
       "      <td>67</td>\n",
       "      <td>2</td>\n",
       "      <td>11</td>\n",
       "    </tr>\n",
       "  </tbody>\n",
       "</table>\n",
       "</div>"
      ],
      "text/plain": [
       "           index  cv_reference  c_reference  c_class  c_sex  c_age  severity  \\\n",
       "0  201597UA71710             2            1        1      2     75         3   \n",
       "1  201597UA71810             2            1        2      2     63         2   \n",
       "2  201597UA71810             2            2        2      2     75         2   \n",
       "3  201597UA71810             2            3        2      1     78         2   \n",
       "4  201597UA71810             2            4        2      1     67         2   \n",
       "\n",
       "   c_type  \n",
       "0       9  \n",
       "1      11  \n",
       "2      11  \n",
       "3      11  \n",
       "4      11  "
      ]
     },
     "execution_count": 27,
     "metadata": {},
     "output_type": "execute_result"
    }
   ],
   "source": [
    "casual.head()"
   ]
  },
  {
   "cell_type": "markdown",
   "metadata": {},
   "source": [
    "  "
   ]
  },
  {
   "cell_type": "markdown",
   "metadata": {
    "collapsed": false
   },
   "source": [
    "## Flattening DataFrames"
   ]
  },
  {
   "cell_type": "markdown",
   "metadata": {},
   "source": [
    "In Chapter 06, Hierarchical Indexes cover the <a hre=\"http://nbviewer.jupyter.org/github/RandyBetancourt/PythonForSASUsers/blob/master/Chapter%2006%20--%20Hierarchical%20Indexing.ipynb#stack()-and-unstack()-methods\"> stack() and unstack() methods</a> for 'flattening' and 'stacking' rows or columns.  \n",
    "\n",
    "In this example, we want to join the 'accident' and 'vehicle' DataFrames on the common key 'index' found in both.  Since there can be a many-to-one relationship between an accident event and the number of vehicles involved, we need to do the following:\n",
    "\n",
    "    1.  Extract the duplicate rows from the 'vehicle' DataFrame into the 'v_dups' DataFrame\n",
    "    2.  With the 'v_dup' DataFrame, form new 'index' values by concatenating 'v_dup.index' with 'v_dup.v_reference' values.\n",
    "    3.  Extract the non-duplicate rows from the 'vehicle' DataFrame into the 'v_no_dups' DataFrame\n",
    "    4.  Append the rows with modified 'v_dup.index' values to the 'v_no_dupes' DataFrame "
   ]
  },
  {
   "cell_type": "markdown",
   "metadata": {},
   "source": [
    "####    1.  Extract the duplicate rows from the 'vehicle' DataFrame into the 'v_dups' DataFrame\n",
    "Start by reviewing the attribute information for the 'vehicle' DataFrame."
   ]
  },
  {
   "cell_type": "code",
   "execution_count": 28,
   "metadata": {
    "collapsed": false
   },
   "outputs": [
    {
     "name": "stdout",
     "output_type": "stream",
     "text": [
      "<class 'pandas.core.frame.DataFrame'>\n",
      "Index: 257899 entries, 201501BS70001 to 2.02E+12\n",
      "Data columns (total 8 columns):\n",
      "index          257899 non-null object\n",
      "v_reference    257899 non-null int64\n",
      "v_type         257899 non-null int64\n",
      "v_sex          257899 non-null int64\n",
      "v_age          257899 non-null int64\n",
      "engine_size    257899 non-null int64\n",
      "engine_type    257899 non-null int64\n",
      "vehicle_age    257899 non-null int64\n",
      "dtypes: int64(7), object(1)\n",
      "memory usage: 17.7+ MB\n"
     ]
    }
   ],
   "source": [
    "vehicle.info()"
   ]
  },
  {
   "cell_type": "markdown",
   "metadata": {},
   "source": [
    "  "
   ]
  },
  {
   "cell_type": "markdown",
   "metadata": {},
   "source": [
    "Create a <a href=\"http://nbviewer.jupyter.org/github/RandyBetancourt/PythonForSASUsers/blob/master/Chapter%2005%20--%20Understanding%20Indexes.ipynb#Mixing-.loc-Indexer-with-Boolean-Operators\"> Boolean mask</a> locating the duplicate values for the 'index' column.  The keep='first' argument behaves similiar to SAS FIRST.variable in BY-Group processing.  We want to ignore the first occurance of the duplicated 'index' column value and extract those that remain."
   ]
  },
  {
   "cell_type": "code",
   "execution_count": 29,
   "metadata": {
    "collapsed": false
   },
   "outputs": [],
   "source": [
    "dup_mask = vehicle.duplicated('index', keep='first')"
   ]
  },
  {
   "cell_type": "markdown",
   "metadata": {},
   "source": [
    "  "
   ]
  },
  {
   "cell_type": "markdown",
   "metadata": {},
   "source": [
    "Create the 'v_dup' DataFrame by applying the Boolean mask.  "
   ]
  },
  {
   "cell_type": "code",
   "execution_count": 30,
   "metadata": {
    "collapsed": false
   },
   "outputs": [],
   "source": [
    "v_dups = vehicle.loc[dup_mask]"
   ]
  },
  {
   "cell_type": "markdown",
   "metadata": {},
   "source": [
    " "
   ]
  },
  {
   "cell_type": "markdown",
   "metadata": {},
   "source": [
    "The length of the 'v_dups' DataFrame is the same as the length of the number of unique values for the 'index' column."
   ]
  },
  {
   "cell_type": "code",
   "execution_count": 31,
   "metadata": {
    "collapsed": false
   },
   "outputs": [
    {
     "name": "stdout",
     "output_type": "stream",
     "text": [
      "# of rows in 'v_dup' is equal to the # of unique values for 'index' is False\n",
      "v_dups has 177358 rows\n"
     ]
    }
   ],
   "source": [
    "print(\"# of rows in 'v_dup' is equal to the # of unique values for 'index' is\", len(v_dups)  == len(v_dups.index.unique()))\n",
    "print('v_dups has', len(v_dups), 'rows')"
   ]
  },
  {
   "cell_type": "markdown",
   "metadata": {},
   "source": [
    "####    2.  With the 'v_dup' DataFrame, form new 'index' values by concatenating 'v_dup.index' with 'v_dup.v_reference' values."
   ]
  },
  {
   "cell_type": "code",
   "execution_count": 32,
   "metadata": {
    "collapsed": true
   },
   "outputs": [],
   "source": [
    "#v_dups['index'] = v_dups['index'] + v_dups['v_reference'].astype('str')"
   ]
  },
  {
   "cell_type": "code",
   "execution_count": 33,
   "metadata": {
    "collapsed": false
   },
   "outputs": [
    {
     "ename": "ValueError",
     "evalue": "cannot reindex from a duplicate axis",
     "output_type": "error",
     "traceback": [
      "\u001b[1;31m---------------------------------------------------------------------------\u001b[0m",
      "\u001b[1;31mValueError\u001b[0m                                Traceback (most recent call last)",
      "\u001b[1;32m<ipython-input-33-73fbaf98ab7e>\u001b[0m in \u001b[0;36m<module>\u001b[1;34m()\u001b[0m\n\u001b[1;32m----> 1\u001b[1;33m \u001b[0mv_dups\u001b[0m\u001b[1;33m.\u001b[0m\u001b[0mloc\u001b[0m\u001b[1;33m[\u001b[0m\u001b[1;34m'index'\u001b[0m\u001b[1;33m]\u001b[0m \u001b[1;33m=\u001b[0m \u001b[1;33m(\u001b[0m\u001b[0mv_dups\u001b[0m\u001b[1;33m[\u001b[0m\u001b[1;34m'index'\u001b[0m\u001b[1;33m]\u001b[0m \u001b[1;33m+\u001b[0m \u001b[0mv_dups\u001b[0m\u001b[1;33m[\u001b[0m\u001b[1;34m'v_reference'\u001b[0m\u001b[1;33m]\u001b[0m\u001b[1;33m.\u001b[0m\u001b[0mastype\u001b[0m\u001b[1;33m(\u001b[0m\u001b[1;34m'str'\u001b[0m\u001b[1;33m)\u001b[0m\u001b[1;33m)\u001b[0m\u001b[1;33m\u001b[0m\u001b[0m\n\u001b[0m",
      "\u001b[1;32mC:\\Users\\randy\\Anaconda3\\lib\\site-packages\\pandas\\core\\indexing.py\u001b[0m in \u001b[0;36m__setitem__\u001b[1;34m(self, key, value)\u001b[0m\n\u001b[0;32m    130\u001b[0m             \u001b[0mkey\u001b[0m \u001b[1;33m=\u001b[0m \u001b[0mcom\u001b[0m\u001b[1;33m.\u001b[0m\u001b[0m_apply_if_callable\u001b[0m\u001b[1;33m(\u001b[0m\u001b[0mkey\u001b[0m\u001b[1;33m,\u001b[0m \u001b[0mself\u001b[0m\u001b[1;33m.\u001b[0m\u001b[0mobj\u001b[0m\u001b[1;33m)\u001b[0m\u001b[1;33m\u001b[0m\u001b[0m\n\u001b[0;32m    131\u001b[0m         \u001b[0mindexer\u001b[0m \u001b[1;33m=\u001b[0m \u001b[0mself\u001b[0m\u001b[1;33m.\u001b[0m\u001b[0m_get_setitem_indexer\u001b[0m\u001b[1;33m(\u001b[0m\u001b[0mkey\u001b[0m\u001b[1;33m)\u001b[0m\u001b[1;33m\u001b[0m\u001b[0m\n\u001b[1;32m--> 132\u001b[1;33m         \u001b[0mself\u001b[0m\u001b[1;33m.\u001b[0m\u001b[0m_setitem_with_indexer\u001b[0m\u001b[1;33m(\u001b[0m\u001b[0mindexer\u001b[0m\u001b[1;33m,\u001b[0m \u001b[0mvalue\u001b[0m\u001b[1;33m)\u001b[0m\u001b[1;33m\u001b[0m\u001b[0m\n\u001b[0m\u001b[0;32m    133\u001b[0m \u001b[1;33m\u001b[0m\u001b[0m\n\u001b[0;32m    134\u001b[0m     \u001b[1;32mdef\u001b[0m \u001b[0m_has_valid_type\u001b[0m\u001b[1;33m(\u001b[0m\u001b[0mself\u001b[0m\u001b[1;33m,\u001b[0m \u001b[0mk\u001b[0m\u001b[1;33m,\u001b[0m \u001b[0maxis\u001b[0m\u001b[1;33m)\u001b[0m\u001b[1;33m:\u001b[0m\u001b[1;33m\u001b[0m\u001b[0m\n",
      "\u001b[1;32mC:\\Users\\randy\\Anaconda3\\lib\\site-packages\\pandas\\core\\indexing.py\u001b[0m in \u001b[0;36m_setitem_with_indexer\u001b[1;34m(self, indexer, value)\u001b[0m\n\u001b[0;32m    356\u001b[0m \u001b[1;33m\u001b[0m\u001b[0m\n\u001b[0;32m    357\u001b[0m                         value = value.reindex(index=self.obj.columns,\n\u001b[1;32m--> 358\u001b[1;33m                                               copy=True)\n\u001b[0m\u001b[0;32m    359\u001b[0m                         \u001b[0mvalue\u001b[0m\u001b[1;33m.\u001b[0m\u001b[0mname\u001b[0m \u001b[1;33m=\u001b[0m \u001b[0mindexer\u001b[0m\u001b[1;33m\u001b[0m\u001b[0m\n\u001b[0;32m    360\u001b[0m \u001b[1;33m\u001b[0m\u001b[0m\n",
      "\u001b[1;32mC:\\Users\\randy\\Anaconda3\\lib\\site-packages\\pandas\\core\\series.py\u001b[0m in \u001b[0;36mreindex\u001b[1;34m(self, index, **kwargs)\u001b[0m\n\u001b[0;32m   2285\u001b[0m     \u001b[1;33m@\u001b[0m\u001b[0mAppender\u001b[0m\u001b[1;33m(\u001b[0m\u001b[0mgeneric\u001b[0m\u001b[1;33m.\u001b[0m\u001b[0m_shared_docs\u001b[0m\u001b[1;33m[\u001b[0m\u001b[1;34m'reindex'\u001b[0m\u001b[1;33m]\u001b[0m \u001b[1;33m%\u001b[0m \u001b[0m_shared_doc_kwargs\u001b[0m\u001b[1;33m)\u001b[0m\u001b[1;33m\u001b[0m\u001b[0m\n\u001b[0;32m   2286\u001b[0m     \u001b[1;32mdef\u001b[0m \u001b[0mreindex\u001b[0m\u001b[1;33m(\u001b[0m\u001b[0mself\u001b[0m\u001b[1;33m,\u001b[0m \u001b[0mindex\u001b[0m\u001b[1;33m=\u001b[0m\u001b[1;32mNone\u001b[0m\u001b[1;33m,\u001b[0m \u001b[1;33m**\u001b[0m\u001b[0mkwargs\u001b[0m\u001b[1;33m)\u001b[0m\u001b[1;33m:\u001b[0m\u001b[1;33m\u001b[0m\u001b[0m\n\u001b[1;32m-> 2287\u001b[1;33m         \u001b[1;32mreturn\u001b[0m \u001b[0msuper\u001b[0m\u001b[1;33m(\u001b[0m\u001b[0mSeries\u001b[0m\u001b[1;33m,\u001b[0m \u001b[0mself\u001b[0m\u001b[1;33m)\u001b[0m\u001b[1;33m.\u001b[0m\u001b[0mreindex\u001b[0m\u001b[1;33m(\u001b[0m\u001b[0mindex\u001b[0m\u001b[1;33m=\u001b[0m\u001b[0mindex\u001b[0m\u001b[1;33m,\u001b[0m \u001b[1;33m**\u001b[0m\u001b[0mkwargs\u001b[0m\u001b[1;33m)\u001b[0m\u001b[1;33m\u001b[0m\u001b[0m\n\u001b[0m\u001b[0;32m   2288\u001b[0m \u001b[1;33m\u001b[0m\u001b[0m\n\u001b[0;32m   2289\u001b[0m     \u001b[1;33m@\u001b[0m\u001b[0mAppender\u001b[0m\u001b[1;33m(\u001b[0m\u001b[0mgeneric\u001b[0m\u001b[1;33m.\u001b[0m\u001b[0m_shared_docs\u001b[0m\u001b[1;33m[\u001b[0m\u001b[1;34m'fillna'\u001b[0m\u001b[1;33m]\u001b[0m \u001b[1;33m%\u001b[0m \u001b[0m_shared_doc_kwargs\u001b[0m\u001b[1;33m)\u001b[0m\u001b[1;33m\u001b[0m\u001b[0m\n",
      "\u001b[1;32mC:\\Users\\randy\\Anaconda3\\lib\\site-packages\\pandas\\core\\generic.py\u001b[0m in \u001b[0;36mreindex\u001b[1;34m(self, *args, **kwargs)\u001b[0m\n\u001b[0;32m   2227\u001b[0m         \u001b[1;31m# perform the reindex on the axes\u001b[0m\u001b[1;33m\u001b[0m\u001b[1;33m\u001b[0m\u001b[0m\n\u001b[0;32m   2228\u001b[0m         return self._reindex_axes(axes, level, limit, tolerance, method,\n\u001b[1;32m-> 2229\u001b[1;33m                                   fill_value, copy).__finalize__(self)\n\u001b[0m\u001b[0;32m   2230\u001b[0m \u001b[1;33m\u001b[0m\u001b[0m\n\u001b[0;32m   2231\u001b[0m     def _reindex_axes(self, axes, level, limit, tolerance, method, fill_value,\n",
      "\u001b[1;32mC:\\Users\\randy\\Anaconda3\\lib\\site-packages\\pandas\\core\\generic.py\u001b[0m in \u001b[0;36m_reindex_axes\u001b[1;34m(self, axes, level, limit, tolerance, method, fill_value, copy)\u001b[0m\n\u001b[0;32m   2245\u001b[0m             obj = obj._reindex_with_indexers({axis: [new_index, indexer]},\n\u001b[0;32m   2246\u001b[0m                                              \u001b[0mfill_value\u001b[0m\u001b[1;33m=\u001b[0m\u001b[0mfill_value\u001b[0m\u001b[1;33m,\u001b[0m\u001b[1;33m\u001b[0m\u001b[0m\n\u001b[1;32m-> 2247\u001b[1;33m                                              copy=copy, allow_dups=False)\n\u001b[0m\u001b[0;32m   2248\u001b[0m \u001b[1;33m\u001b[0m\u001b[0m\n\u001b[0;32m   2249\u001b[0m         \u001b[1;32mreturn\u001b[0m \u001b[0mobj\u001b[0m\u001b[1;33m\u001b[0m\u001b[0m\n",
      "\u001b[1;32mC:\\Users\\randy\\Anaconda3\\lib\\site-packages\\pandas\\core\\generic.py\u001b[0m in \u001b[0;36m_reindex_with_indexers\u001b[1;34m(self, reindexers, fill_value, copy, allow_dups)\u001b[0m\n\u001b[0;32m   2339\u001b[0m                                                 \u001b[0mfill_value\u001b[0m\u001b[1;33m=\u001b[0m\u001b[0mfill_value\u001b[0m\u001b[1;33m,\u001b[0m\u001b[1;33m\u001b[0m\u001b[0m\n\u001b[0;32m   2340\u001b[0m                                                 \u001b[0mallow_dups\u001b[0m\u001b[1;33m=\u001b[0m\u001b[0mallow_dups\u001b[0m\u001b[1;33m,\u001b[0m\u001b[1;33m\u001b[0m\u001b[0m\n\u001b[1;32m-> 2341\u001b[1;33m                                                 copy=copy)\n\u001b[0m\u001b[0;32m   2342\u001b[0m \u001b[1;33m\u001b[0m\u001b[0m\n\u001b[0;32m   2343\u001b[0m         \u001b[1;32mif\u001b[0m \u001b[0mcopy\u001b[0m \u001b[1;32mand\u001b[0m \u001b[0mnew_data\u001b[0m \u001b[1;32mis\u001b[0m \u001b[0mself\u001b[0m\u001b[1;33m.\u001b[0m\u001b[0m_data\u001b[0m\u001b[1;33m:\u001b[0m\u001b[1;33m\u001b[0m\u001b[0m\n",
      "\u001b[1;32mC:\\Users\\randy\\Anaconda3\\lib\\site-packages\\pandas\\core\\internals.py\u001b[0m in \u001b[0;36mreindex_indexer\u001b[1;34m(self, new_axis, indexer, axis, fill_value, allow_dups, copy)\u001b[0m\n\u001b[0;32m   3584\u001b[0m         \u001b[1;31m# some axes don't allow reindexing with dups\u001b[0m\u001b[1;33m\u001b[0m\u001b[1;33m\u001b[0m\u001b[0m\n\u001b[0;32m   3585\u001b[0m         \u001b[1;32mif\u001b[0m \u001b[1;32mnot\u001b[0m \u001b[0mallow_dups\u001b[0m\u001b[1;33m:\u001b[0m\u001b[1;33m\u001b[0m\u001b[0m\n\u001b[1;32m-> 3586\u001b[1;33m             \u001b[0mself\u001b[0m\u001b[1;33m.\u001b[0m\u001b[0maxes\u001b[0m\u001b[1;33m[\u001b[0m\u001b[0maxis\u001b[0m\u001b[1;33m]\u001b[0m\u001b[1;33m.\u001b[0m\u001b[0m_can_reindex\u001b[0m\u001b[1;33m(\u001b[0m\u001b[0mindexer\u001b[0m\u001b[1;33m)\u001b[0m\u001b[1;33m\u001b[0m\u001b[0m\n\u001b[0m\u001b[0;32m   3587\u001b[0m \u001b[1;33m\u001b[0m\u001b[0m\n\u001b[0;32m   3588\u001b[0m         \u001b[1;32mif\u001b[0m \u001b[0maxis\u001b[0m \u001b[1;33m>=\u001b[0m \u001b[0mself\u001b[0m\u001b[1;33m.\u001b[0m\u001b[0mndim\u001b[0m\u001b[1;33m:\u001b[0m\u001b[1;33m\u001b[0m\u001b[0m\n",
      "\u001b[1;32mC:\\Users\\randy\\Anaconda3\\lib\\site-packages\\pandas\\indexes\\base.py\u001b[0m in \u001b[0;36m_can_reindex\u001b[1;34m(self, indexer)\u001b[0m\n\u001b[0;32m   2291\u001b[0m         \u001b[1;31m# trying to reindex on an axis with duplicates\u001b[0m\u001b[1;33m\u001b[0m\u001b[1;33m\u001b[0m\u001b[0m\n\u001b[0;32m   2292\u001b[0m         \u001b[1;32mif\u001b[0m \u001b[1;32mnot\u001b[0m \u001b[0mself\u001b[0m\u001b[1;33m.\u001b[0m\u001b[0mis_unique\u001b[0m \u001b[1;32mand\u001b[0m \u001b[0mlen\u001b[0m\u001b[1;33m(\u001b[0m\u001b[0mindexer\u001b[0m\u001b[1;33m)\u001b[0m\u001b[1;33m:\u001b[0m\u001b[1;33m\u001b[0m\u001b[0m\n\u001b[1;32m-> 2293\u001b[1;33m             \u001b[1;32mraise\u001b[0m \u001b[0mValueError\u001b[0m\u001b[1;33m(\u001b[0m\u001b[1;34m\"cannot reindex from a duplicate axis\"\u001b[0m\u001b[1;33m)\u001b[0m\u001b[1;33m\u001b[0m\u001b[0m\n\u001b[0m\u001b[0;32m   2294\u001b[0m \u001b[1;33m\u001b[0m\u001b[0m\n\u001b[0;32m   2295\u001b[0m     def reindex(self, target, method=None, level=None, limit=None,\n",
      "\u001b[1;31mValueError\u001b[0m: cannot reindex from a duplicate axis"
     ]
    }
   ],
   "source": [
    "v_dups.loc['index'] = (v_dups['index'] + v_dups['v_reference'].astype('str'))"
   ]
  },
  {
   "cell_type": "markdown",
   "metadata": {},
   "source": [
    "  "
   ]
  },
  {
   "cell_type": "markdown",
   "metadata": {},
   "source": [
    "####   3.  Extract the non-duplicate rows from the 'vehicle' DataFrame into the 'v_no_dups' DataFrame"
   ]
  },
  {
   "cell_type": "markdown",
   "metadata": {},
   "source": [
    "Use the logical NOT form of the dup_mask to extract the non-duplicate rows."
   ]
  },
  {
   "cell_type": "code",
   "execution_count": null,
   "metadata": {
    "collapsed": false
   },
   "outputs": [],
   "source": [
    "v_no_dups = vehicle.loc[~dup_mask]"
   ]
  },
  {
   "cell_type": "markdown",
   "metadata": {},
   "source": [
    " "
   ]
  },
  {
   "cell_type": "markdown",
   "metadata": {},
   "source": [
    "Test to determine if the combined lengths of the 'v_no_dups' and 'v_dups' DataFrame are equal to the length of the original 'accident' DataFrame. "
   ]
  },
  {
   "cell_type": "code",
   "execution_count": null,
   "metadata": {
    "collapsed": false
   },
   "outputs": [],
   "source": [
    "len(v_no_dups) + len(v_dups)  == len(vehicle)"
   ]
  },
  {
   "cell_type": "markdown",
   "metadata": {},
   "source": [
    "## Appending Rows"
   ]
  },
  {
   "cell_type": "markdown",
   "metadata": {},
   "source": [
    "#### 4.  Append the rows with modified 'v_dup.index' values to the 'v_no_dupes' DataFrame "
   ]
  },
  {
   "cell_type": "code",
   "execution_count": null,
   "metadata": {
    "collapsed": false
   },
   "outputs": [],
   "source": [
    "frames = [v_no_dups, v_dups]\n",
    "acc2 = pd.concat(frames, axis=1)\n",
    "acc2.shape"
   ]
  },
  {
   "cell_type": "code",
   "execution_count": null,
   "metadata": {
    "collapsed": true
   },
   "outputs": [],
   "source": [
    "#Concatenation of 2 columns from two DataFrames example:\n",
    "#compare = pd.DataFrame({'df_us':df_us.date_idx, 'df_states':df_states.date_idx})"
   ]
  },
  {
   "cell_type": "markdown",
   "metadata": {},
   "source": [
    "## Groupby "
   ]
  },
  {
   "cell_type": "markdown",
   "metadata": {
    "collapsed": true
   },
   "source": [
    "## Navigation\n",
    "\n",
    "<a href=\"http://nbviewer.jupyter.org/github/RandyBetancourt/PythonForSASUsers/tree/master/\"> Return to Chapter List </a>    "
   ]
  }
 ],
 "metadata": {
  "anaconda-cloud": {},
  "kernelspec": {
   "display_name": "Python [Root]",
   "language": "python",
   "name": "Python [Root]"
  },
  "language_info": {
   "codemirror_mode": {
    "name": "ipython",
    "version": 3
   },
   "file_extension": ".py",
   "mimetype": "text/x-python",
   "name": "python",
   "nbconvert_exporter": "python",
   "pygments_lexer": "ipython3",
   "version": "3.5.2"
  }
 },
 "nbformat": 4,
 "nbformat_minor": 0
}
