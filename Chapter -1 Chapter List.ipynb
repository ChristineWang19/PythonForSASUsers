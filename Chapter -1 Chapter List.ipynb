{
 "cells": [
  {
   "cell_type": "markdown",
   "metadata": {},
   "source": [
    "# Chapter -1 List"
   ]
  },
  {
   "cell_type": "markdown",
   "metadata": {},
   "source": [
    "Chapter #0\n",
    "Title:  Chapter 0 -- Motivation\n",
    "https://github.com/RandyBetancourt/PythonForSASUsers/blob/master/Chapter%200%20--%20Frontispiece.ipynb\n",
    "\n",
    "Chapter #1\n",
    "Title:  Chapter 1 -- Introduction\n",
    "https://github.com/RandyBetancourt/PythonForSASUsers/blob/master/Chapter%201%20--%20Introduction.ipynb\n",
    "\n",
    "Chapter #2\n",
    "Title:  Chapter 2 -- Data Structures\n",
    "http://nbviewer.jupyter.org/github/RandyBetancourt/PythonForSASUsers/blob/master/Chapter%202%20--%20Python%20Data%20Structures.ipynb\n",
    "\n",
    "Chapter #3\n",
    "Title:  Chapter 3 -- Data Types and Formatting\n",
    "http://nbviewer.jupyter.org/github/RandyBetancourt/PythonForSASUsers/blob/master/Chapter%203%20%20--%20Data%20Types%20and%20Formatting.ipynb\n",
    "\n",
    "Chapter #4\n",
    "Title:  Chapter 4 -- Pandas, Part1\n",
    "Sub-Title:           DateFrame Introduction\n",
    "                     .csv reader\n",
    "                     Inspection\n",
    "                     Missing Data Detection\n",
    "                     Missing Data Replacement\n",
    "                     \n",
    "Chapter #6 \n",
    "Title:  Chapter 6-- Understanding Indexes\n",
    "http://nbviewer.jupyter.org/github/RandyBetancourt/PythonForSASUsers/blob/master/Chapter%206%20--%20Understanding%20Indexes.ipynb\n",
    "\n",
    "                     \n",
    "                     "
   ]
  },
  {
   "cell_type": "code",
   "execution_count": null,
   "metadata": {
    "collapsed": true
   },
   "outputs": [],
   "source": []
  }
 ],
 "metadata": {
  "anaconda-cloud": {},
  "kernelspec": {
   "display_name": "Python [Root]",
   "language": "python",
   "name": "Python [Root]"
  },
  "language_info": {
   "codemirror_mode": {
    "name": "ipython",
    "version": 3
   },
   "file_extension": ".py",
   "mimetype": "text/x-python",
   "name": "python",
   "nbconvert_exporter": "python",
   "pygments_lexer": "ipython3",
   "version": "3.5.2"
  }
 },
 "nbformat": 4,
 "nbformat_minor": 0
}
