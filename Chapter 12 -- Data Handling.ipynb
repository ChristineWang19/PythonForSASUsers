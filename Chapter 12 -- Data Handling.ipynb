{
 "cells": [
  {
   "cell_type": "markdown",
   "metadata": {},
   "source": [
    "## Chapter 12 -- Data Handling -- DRAFT"
   ]
  },
  {
   "cell_type": "code",
   "execution_count": 1,
   "metadata": {
    "collapsed": true
   },
   "outputs": [],
   "source": [
    "import numpy as np\n",
    "import pandas as pd\n",
    "from numpy.random import randn\n",
    "from pandas import Series, DataFrame, Index"
   ]
  },
  {
   "cell_type": "raw",
   "metadata": {},
   "source": [
    "Use the example data from SAS' Step-by-Step Programming with Base SAS software doc located <a href=\"https://support.sas.com/documentation/cdl/en/basess/58133/HTML/default/viewer.htm#a001304305.htm\"> here</a> .  \n",
    "\n",
    "The DataFrame 'company' contains demographic information for employees and the 'finance' DataFrame contains salary information."
   ]
  },
  {
   "cell_type": "code",
   "execution_count": 3,
   "metadata": {
    "collapsed": false
   },
   "outputs": [],
   "source": []
  },
  {
   "cell_type": "markdown",
   "metadata": {},
   "source": [
    "## pandas merge analogy for SAS match-merge\n",
    "\n",
    "panda DataFrames can use either the concat() method or the merge() method to join multiple DataFrames together.  "
   ]
  },
  {
   "cell_type": "markdown",
   "metadata": {},
   "source": [
    "Use the display() method is used to present a side-by-side comparison of the sythetically generated DataFrames, 'company' and 'finance'."
   ]
  },
  {
   "cell_type": "code",
   "execution_count": null,
   "metadata": {
    "collapsed": false
   },
   "outputs": [],
   "source": [
    "display(\"company\", \"finance\")"
   ]
  },
  {
   "cell_type": "markdown",
   "metadata": {},
   "source": [
    "The details for the merge() method are found <a href=\"http://pandas.pydata.org/pandas-docs/stable/merging.html#brief-primer-on-merge-methods-relational-algebra\"> here </a>.  \n",
    "\n",
    "The example below uses the pd.merge() method for a one-to-one join operation.  The 'finance' DataFrame lacks a row for Michael Morrison, which is found in the 'company' DataFrame.  Specifying the how='outer' option uses the the union of values from both key columns.  (how='left') will produce the same results in this case."
   ]
  },
  {
   "cell_type": "code",
   "execution_count": null,
   "metadata": {
    "collapsed": false
   },
   "outputs": [],
   "source": [
    "merged = pd.merge(company, finance, on='employee', how='outer')\n",
    "display(\"company\", \"finance\", \"merged\")"
   ]
  },
  {
   "cell_type": "markdown",
   "metadata": {},
   "source": [
    "Unlike SAS' match-merge, the resulting DataFrame from the merge() method is not sorted.  You can use the sort_values() method to sort, in this case, on the key column, 'employee'. "
   ]
  },
  {
   "cell_type": "code",
   "execution_count": null,
   "metadata": {
    "collapsed": false
   },
   "outputs": [],
   "source": [
    "merged.sort_values(\"employee\", inplace=True)\n",
    "merged.info()"
   ]
  },
  {
   "cell_type": "markdown",
   "metadata": {},
   "source": [
    "Also realize that the sort.values() method does not set an index. "
   ]
  },
  {
   "cell_type": "code",
   "execution_count": null,
   "metadata": {
    "collapsed": false
   },
   "outputs": [],
   "source": [
    "merged.index"
   ]
  },
  {
   "cell_type": "markdown",
   "metadata": {},
   "source": [
    "To reproduce the results from the merge() method above with SAS, you perform example a match-merge.  The SAS example is illustrated below.  \n",
    "\n",
    "The 'company' and 'finance' data sets are sorted by the 'name' key which is common to both.  To complete the one-to-one merge a new SAS data set is created using MERGE with the by-group 'name'.  The sorts are required, otherwise you produce an error.\n",
    "\n",
    "Notice with the merge() method, no sorting of the input DataFrames is required and that no explict reference to a sort key was made.   "
   ]
  },
  {
   "cell_type": "markdown",
   "metadata": {},
   "source": [
    "````\n",
    "    79       proc sort data=company;\n",
    "    80          by name;\n",
    "    NOTE: 8 observations were read from \"WORK.company\"\n",
    "    NOTE: Data set \"WORK.company\" has 8 observation(s) and 3 variable(s)\n",
    "    81       \n",
    "    82       proc sort data=finance;\n",
    "    83          by name;\n",
    "    NOTE: 7 observations were read from \"WORK.finance\"\n",
    "    NOTE: Data set \"WORK.finance\" has 7 observation(s) and 3 variable(s)\n",
    "    84       \n",
    "    85       data merge_info;\n",
    "    86          merge company finance;\n",
    "    87          by name;\n",
    "\n",
    "    NOTE: 8 observations were read from \"WORK.company\"\n",
    "    NOTE: 7 observations were read from \"WORK.finance\"\n",
    "    NOTE: Data set \"WORK.merge_info\" has 8 observation(s) and 5 variable(s)\n",
    "````"
   ]
  },
  {
   "cell_type": "markdown",
   "metadata": {},
   "source": [
    "The pandas merge() method is similiar to the concat() method.  The example below illustrates a column-wise concatenation using an axis=1 argument.  Unlike, the merge() method, the concat() method returns the key column, 'employee' from both input DataFrames, resulting in duplicated columns."
   ]
  },
  {
   "cell_type": "code",
   "execution_count": null,
   "metadata": {
    "collapsed": false
   },
   "outputs": [],
   "source": [
    "frames=(company,finance)\n",
    "merge_info = pd.concat(frames, axis=1)\n",
    "display(\"company\", \"finance\", \"merge_info\")"
   ]
  },
  {
   "cell_type": "raw",
   "metadata": {},
   "source": []
  },
  {
   "cell_type": "code",
   "execution_count": 1,
   "metadata": {
    "collapsed": true
   },
   "outputs": [],
   "source": []
  },
  {
   "cell_type": "code",
   "execution_count": 22,
   "metadata": {
    "collapsed": false
   },
   "outputs": [],
   "source": [
    "fruit = pd.DataFrame({'type':     ['banana', 'apple', 'grapes', 'oranges', 'cherries', \\\n",
    "                                    'cranberry', 'mango', 'gooseberry'],\n",
    "                      'id':        [11, 12, 13, 16, 15, 14, 18, 17],\n",
    "                      'country':    ['US', 'Canada', 'France', 'Spain', 'US', 'Canada', 'US', 'New Zealand']})\n",
    "\n",
    "amount = pd.DataFrame({'id':        [17, 11, 12, 18, 14, 13, 15, 16, 21, 18, 20, 19],\n",
    "                       'quantity':  [1700, 9700, 2750, 3900, 8000, 5000, 2200, 5500, 4000, 3200, 1200, 9900]})"
   ]
  },
  {
   "cell_type": "code",
   "execution_count": 23,
   "metadata": {
    "collapsed": false
   },
   "outputs": [
    {
     "data": {
      "text/html": [
       "<div style=\"float: left; padding: 10px;\">\n",
       "    <p style='font-family:\"Courier New\", Courier, monospace'>fruit</p><div>\n",
       "<table border=\"1\" class=\"dataframe\">\n",
       "  <thead>\n",
       "    <tr style=\"text-align: right;\">\n",
       "      <th></th>\n",
       "      <th>country</th>\n",
       "      <th>id</th>\n",
       "      <th>type</th>\n",
       "    </tr>\n",
       "  </thead>\n",
       "  <tbody>\n",
       "    <tr>\n",
       "      <th>0</th>\n",
       "      <td>US</td>\n",
       "      <td>11</td>\n",
       "      <td>banana</td>\n",
       "    </tr>\n",
       "    <tr>\n",
       "      <th>1</th>\n",
       "      <td>Canada</td>\n",
       "      <td>12</td>\n",
       "      <td>apple</td>\n",
       "    </tr>\n",
       "    <tr>\n",
       "      <th>2</th>\n",
       "      <td>France</td>\n",
       "      <td>13</td>\n",
       "      <td>grapes</td>\n",
       "    </tr>\n",
       "    <tr>\n",
       "      <th>3</th>\n",
       "      <td>Spain</td>\n",
       "      <td>16</td>\n",
       "      <td>oranges</td>\n",
       "    </tr>\n",
       "    <tr>\n",
       "      <th>4</th>\n",
       "      <td>US</td>\n",
       "      <td>15</td>\n",
       "      <td>cherries</td>\n",
       "    </tr>\n",
       "    <tr>\n",
       "      <th>5</th>\n",
       "      <td>Canada</td>\n",
       "      <td>14</td>\n",
       "      <td>cranberry</td>\n",
       "    </tr>\n",
       "    <tr>\n",
       "      <th>6</th>\n",
       "      <td>US</td>\n",
       "      <td>18</td>\n",
       "      <td>mango</td>\n",
       "    </tr>\n",
       "    <tr>\n",
       "      <th>7</th>\n",
       "      <td>New Zealand</td>\n",
       "      <td>17</td>\n",
       "      <td>gooseberry</td>\n",
       "    </tr>\n",
       "  </tbody>\n",
       "</table>\n",
       "</div>\n",
       "    </div>\n",
       "<div style=\"float: left; padding: 10px;\">\n",
       "    <p style='font-family:\"Courier New\", Courier, monospace'>amount</p><div>\n",
       "<table border=\"1\" class=\"dataframe\">\n",
       "  <thead>\n",
       "    <tr style=\"text-align: right;\">\n",
       "      <th></th>\n",
       "      <th>id</th>\n",
       "      <th>quantity</th>\n",
       "    </tr>\n",
       "  </thead>\n",
       "  <tbody>\n",
       "    <tr>\n",
       "      <th>0</th>\n",
       "      <td>17</td>\n",
       "      <td>1700</td>\n",
       "    </tr>\n",
       "    <tr>\n",
       "      <th>1</th>\n",
       "      <td>11</td>\n",
       "      <td>9700</td>\n",
       "    </tr>\n",
       "    <tr>\n",
       "      <th>2</th>\n",
       "      <td>12</td>\n",
       "      <td>2750</td>\n",
       "    </tr>\n",
       "    <tr>\n",
       "      <th>3</th>\n",
       "      <td>18</td>\n",
       "      <td>3900</td>\n",
       "    </tr>\n",
       "    <tr>\n",
       "      <th>4</th>\n",
       "      <td>14</td>\n",
       "      <td>8000</td>\n",
       "    </tr>\n",
       "    <tr>\n",
       "      <th>5</th>\n",
       "      <td>13</td>\n",
       "      <td>5000</td>\n",
       "    </tr>\n",
       "    <tr>\n",
       "      <th>6</th>\n",
       "      <td>15</td>\n",
       "      <td>2200</td>\n",
       "    </tr>\n",
       "    <tr>\n",
       "      <th>7</th>\n",
       "      <td>16</td>\n",
       "      <td>5500</td>\n",
       "    </tr>\n",
       "    <tr>\n",
       "      <th>8</th>\n",
       "      <td>21</td>\n",
       "      <td>4000</td>\n",
       "    </tr>\n",
       "    <tr>\n",
       "      <th>9</th>\n",
       "      <td>18</td>\n",
       "      <td>3200</td>\n",
       "    </tr>\n",
       "    <tr>\n",
       "      <th>10</th>\n",
       "      <td>20</td>\n",
       "      <td>1200</td>\n",
       "    </tr>\n",
       "    <tr>\n",
       "      <th>11</th>\n",
       "      <td>19</td>\n",
       "      <td>9900</td>\n",
       "    </tr>\n",
       "  </tbody>\n",
       "</table>\n",
       "</div>\n",
       "    </div>"
      ],
      "text/plain": [
       "fruit\n",
       "       country  id        type\n",
       "0           US  11      banana\n",
       "1       Canada  12       apple\n",
       "2       France  13      grapes\n",
       "3        Spain  16     oranges\n",
       "4           US  15    cherries\n",
       "5       Canada  14   cranberry\n",
       "6           US  18       mango\n",
       "7  New Zealand  17  gooseberry\n",
       "\n",
       "amount\n",
       "    id  quantity\n",
       "0   17      1700\n",
       "1   11      9700\n",
       "2   12      2750\n",
       "3   18      3900\n",
       "4   14      8000\n",
       "5   13      5000\n",
       "6   15      2200\n",
       "7   16      5500\n",
       "8   21      4000\n",
       "9   18      3200\n",
       "10  20      1200\n",
       "11  19      9900"
      ]
     },
     "execution_count": 23,
     "metadata": {},
     "output_type": "execute_result"
    }
   ],
   "source": [
    "display(\"fruit\", \"amount\")"
   ]
  },
  {
   "cell_type": "code",
   "execution_count": null,
   "metadata": {
    "collapsed": true
   },
   "outputs": [],
   "source": []
  }
 ],
 "metadata": {
  "kernelspec": {
   "display_name": "Python [Root]",
   "language": "python",
   "name": "Python [Root]"
  },
  "language_info": {
   "codemirror_mode": {
    "name": "ipython",
    "version": 3
   },
   "file_extension": ".py",
   "mimetype": "text/x-python",
   "name": "python",
   "nbconvert_exporter": "python",
   "pygments_lexer": "ipython3",
   "version": "3.5.2"
  }
 },
 "nbformat": 4,
 "nbformat_minor": 0
}
